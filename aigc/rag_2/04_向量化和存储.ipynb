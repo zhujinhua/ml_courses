{
 "cells": [
  {
   "cell_type": "markdown",
   "id": "ceb50d55-82ed-4b2b-af20-d2f4639dcb7e",
   "metadata": {},
   "source": [
    "### 1. 引入大模型"
   ]
  },
  {
   "cell_type": "code",
   "execution_count": 179,
   "id": "d0bee152-f734-4bc9-9f2d-ef09bfa2f9b2",
   "metadata": {},
   "outputs": [],
   "source": [
    "from utils import get_ernie_models\n",
    "from utils import get_qwen_models"
   ]
  },
  {
   "cell_type": "code",
   "execution_count": 4,
   "id": "481a76a5-ed9e-43bf-bc5a-f5935323cc58",
   "metadata": {},
   "outputs": [],
   "source": [
    "llm_qwen, chat_qwen, embed_qwen = get_qwen_models()\n",
    "llm_ernie, chat_ernie, embed_ernie = get_ernie_models()"
   ]
  },
  {
   "cell_type": "markdown",
   "id": "8e116e90-13a9-4623-ba2f-0fdca5428485",
   "metadata": {},
   "source": [
    "### 2. 引入一段文本"
   ]
  },
  {
   "cell_type": "code",
   "execution_count": 5,
   "id": "b5c5d61a-235e-4e6c-8617-58265d154725",
   "metadata": {},
   "outputs": [],
   "source": [
    "from langchain_community.document_loaders import TextLoader"
   ]
  },
  {
   "cell_type": "code",
   "execution_count": 8,
   "id": "7b91cc0b-ae08-4ef9-acd6-97c43806764d",
   "metadata": {},
   "outputs": [],
   "source": [
    "text_loader = TextLoader(file_path=\"./大语言模型.txt\", encoding=\"utf8\")"
   ]
  },
  {
   "cell_type": "code",
   "execution_count": 9,
   "id": "d0717cca-146d-4e44-86c0-015f764b4f2f",
   "metadata": {},
   "outputs": [],
   "source": [
    "docs = text_loader.load()"
   ]
  },
  {
   "cell_type": "markdown",
   "id": "9d6edffb-007d-4dc5-af06-b8ca5ff2742d",
   "metadata": {},
   "source": [
    "### 3. 切分文本"
   ]
  },
  {
   "cell_type": "code",
   "execution_count": 10,
   "id": "65015486-5f37-41f0-8197-246e7a5c746c",
   "metadata": {},
   "outputs": [],
   "source": [
    "from langchain_text_splitters import RecursiveCharacterTextSplitter"
   ]
  },
  {
   "cell_type": "code",
   "execution_count": 11,
   "id": "c574450d-2c59-4b06-a1b8-920e591aca91",
   "metadata": {},
   "outputs": [],
   "source": [
    "spliter = RecursiveCharacterTextSplitter(chunk_size=128, chunk_overlap=64)"
   ]
  },
  {
   "cell_type": "code",
   "execution_count": 13,
   "id": "48696e0c-4101-47da-9356-a212bdf769a5",
   "metadata": {},
   "outputs": [],
   "source": [
    "docs = spliter.split_documents(documents=docs)"
   ]
  },
  {
   "cell_type": "markdown",
   "id": "cd19f584-a5a1-462b-b572-2a1917d7829b",
   "metadata": {},
   "source": [
    "### 4. 向量化"
   ]
  },
  {
   "cell_type": "code",
   "execution_count": 16,
   "id": "d580c515-450e-4c0e-8236-6615f08697d6",
   "metadata": {},
   "outputs": [
    {
     "name": "stdout",
     "output_type": "stream",
     "text": [
      "0 50\n",
      "1 124\n",
      "2 13\n",
      "3 117\n",
      "4 125\n",
      "5 106\n",
      "6 121\n",
      "7 94\n",
      "8 116\n",
      "9 93\n",
      "10 104\n",
      "11 121\n",
      "12 80\n"
     ]
    }
   ],
   "source": [
    "for idx, doc in enumerate(docs):\n",
    "    print(idx, len(doc.page_content))"
   ]
  },
  {
   "cell_type": "code",
   "execution_count": 18,
   "id": "ccd208b1-dd69-4f33-81a2-b8fa34594800",
   "metadata": {},
   "outputs": [
    {
     "data": {
      "text/plain": [
       "'大语言模型作为人工智能领域的重要技术之一，具有广泛的应用场景。以下是十个方面的应用场景及其详细描述：'"
      ]
     },
     "execution_count": 18,
     "metadata": {},
     "output_type": "execute_result"
    }
   ],
   "source": [
    "docs[0].page_content"
   ]
  },
  {
   "cell_type": "code",
   "execution_count": 25,
   "id": "c98ce8c2-e543-4344-b320-6c9ec0ba16bb",
   "metadata": {},
   "outputs": [],
   "source": [
    "from langchain_chroma import Chroma"
   ]
  },
  {
   "cell_type": "code",
   "execution_count": 26,
   "id": "eb90ae6b-657a-4684-b127-1f77c5d58074",
   "metadata": {},
   "outputs": [],
   "source": [
    "# Chroma 基于 sqlite存储数据 "
   ]
  },
  {
   "cell_type": "code",
   "execution_count": 28,
   "id": "88f30264-4a63-443f-b514-863486b2e912",
   "metadata": {},
   "outputs": [],
   "source": [
    "store = Chroma.from_documents(documents=docs, \n",
    "                              embedding=embed_ernie, \n",
    "                              persist_directory=\"chroma_data\")"
   ]
  },
  {
   "cell_type": "code",
   "execution_count": 32,
   "id": "49ca9471-7571-47d8-aadd-4e8807afea61",
   "metadata": {},
   "outputs": [
    {
     "data": {
      "text/plain": [
       "[Document(metadata={'source': './大语言模型.txt'}, page_content='2. 智能客服与聊天机器人'),\n",
       " Document(metadata={'source': './大语言模型.txt'}, page_content='大语言模型作为人工智能领域的重要技术之一，具有广泛的应用场景。以下是十个方面的应用场景及其详细描述：')]"
      ]
     },
     "execution_count": 32,
     "metadata": {},
     "output_type": "execute_result"
    }
   ],
   "source": [
    "store.similarity_search(query=\"小米估值多少？\", k=2)"
   ]
  },
  {
   "cell_type": "code",
   "execution_count": 33,
   "id": "b4b14f6b-d0bf-494d-8f36-b4bf47cb7ae7",
   "metadata": {},
   "outputs": [
    {
     "data": {
      "text/plain": [
       "[Document(metadata={'source': './大语言模型.txt'}, page_content='2. 智能客服与聊天机器人'),\n",
       " Document(metadata={'source': './大语言模型.txt'}, page_content='大语言模型作为人工智能领域的重要技术之一，具有广泛的应用场景。以下是十个方面的应用场景及其详细描述：')]"
      ]
     },
     "execution_count": 33,
     "metadata": {},
     "output_type": "execute_result"
    }
   ],
   "source": [
    "store.similarity_search_by_vector(embedding=embed_ernie.embed_query(text=\"小米估值多少？\"), k=2)"
   ]
  },
  {
   "cell_type": "code",
   "execution_count": 39,
   "id": "e0f66f66-5d4e-4742-a665-2aa0d244e750",
   "metadata": {},
   "outputs": [
    {
     "data": {
      "text/plain": [
       "[(Document(metadata={'source': './大语言模型.txt'}, page_content='2. 智能客服与聊天机器人'),\n",
       "  0.6204638204734216),\n",
       " (Document(metadata={'source': './大语言模型.txt'}, page_content='大语言模型作为人工智能领域的重要技术之一，具有广泛的应用场景。以下是十个方面的应用场景及其详细描述：'),\n",
       "  0.811250308581407)]"
      ]
     },
     "execution_count": 39,
     "metadata": {},
     "output_type": "execute_result"
    }
   ],
   "source": [
    "# 欧式距离度量（没有开方）\n",
    "store.similarity_search_with_score(query=\"小米估值多少？\", k=2)"
   ]
  },
  {
   "cell_type": "code",
   "execution_count": 40,
   "id": "912b80e7-f504-43af-974c-f5e4c9a9f59f",
   "metadata": {},
   "outputs": [
    {
     "data": {
      "text/plain": [
       "[(Document(metadata={'source': './大语言模型.txt'}, page_content='2. 智能客服与聊天机器人'),\n",
       "  0.561265825062331),\n",
       " (Document(metadata={'source': './大语言模型.txt'}, page_content='大语言模型作为人工智能领域的重要技术之一，具有广泛的应用场景。以下是十个方面的应用场景及其详细描述：'),\n",
       "  0.4263594055624079)]"
      ]
     },
     "execution_count": 40,
     "metadata": {},
     "output_type": "execute_result"
    }
   ],
   "source": [
    "# 相关性转换\n",
    "store.similarity_search_with_relevance_scores(query=\"小米估值多少？\", k=2)"
   ]
  },
  {
   "cell_type": "code",
   "execution_count": 41,
   "id": "6f1aa932-8bed-4c4c-8a49-6bd543bc21b2",
   "metadata": {},
   "outputs": [],
   "source": [
    "import numpy as np"
   ]
  },
  {
   "cell_type": "code",
   "execution_count": 46,
   "id": "34b0b2d7-a839-45cf-b93e-f9ca42abd6a4",
   "metadata": {},
   "outputs": [],
   "source": [
    "query = np.array(embed_ernie.embed_query(text=\"小米估值多少？\"))\n",
    "doc1 = np.array(embed_ernie.embed_query(text=\"2. 智能客服与聊天机器人\"))\n",
    "doc2 = np.array(embed_ernie.embed_query(text=\"大语言模型作为人工智能领域的重要技术之一，具有广泛的应用场景。以下是十个方面的应用场景及其详细描述：\"))"
   ]
  },
  {
   "cell_type": "code",
   "execution_count": 48,
   "id": "9a0731d4-17d7-47ae-b9e9-04f2c29ca652",
   "metadata": {},
   "outputs": [
    {
     "data": {
      "text/plain": [
       "0.6204636182956037"
      ]
     },
     "execution_count": 48,
     "metadata": {},
     "output_type": "execute_result"
    }
   ],
   "source": [
    "# 欧式距离\n",
    "((query - doc1) ** 2).sum()"
   ]
  },
  {
   "cell_type": "code",
   "execution_count": 49,
   "id": "156ca05a-22c1-48c2-8ff1-fd9ed400614f",
   "metadata": {},
   "outputs": [
    {
     "data": {
      "text/plain": [
       "0.8112505547683875"
      ]
     },
     "execution_count": 49,
     "metadata": {},
     "output_type": "execute_result"
    }
   ],
   "source": [
    "# 欧式距离\n",
    "((query - doc2) ** 2).sum()"
   ]
  },
  {
   "cell_type": "code",
   "execution_count": 50,
   "id": "a0f5a089-efc2-442c-8e5c-ebe3790c4c09",
   "metadata": {},
   "outputs": [
    {
     "data": {
      "text/plain": [
       "0.561265968023637"
      ]
     },
     "execution_count": 50,
     "metadata": {},
     "output_type": "execute_result"
    }
   ],
   "source": [
    "# 相关系数\n",
    "1 - 0.6204636182956037 / 2 ** 0.5"
   ]
  },
  {
   "cell_type": "code",
   "execution_count": 51,
   "id": "64c3d7e3-37fc-40e4-9134-6ebfad35e5be",
   "metadata": {},
   "outputs": [
    {
     "data": {
      "text/plain": [
       "0.42635923148192456"
      ]
     },
     "execution_count": 51,
     "metadata": {},
     "output_type": "execute_result"
    }
   ],
   "source": [
    "# 相关系数\n",
    "1 - 0.8112505547683875 / 2 ** 0.5"
   ]
  },
  {
   "cell_type": "markdown",
   "id": "febb1568-e9ea-4e98-8a00-222e04652e3d",
   "metadata": {},
   "source": [
    "$ relevance = 1 - \\frac{distance}{\\sqrt{2}}$"
   ]
  },
  {
   "cell_type": "code",
   "execution_count": 53,
   "id": "b20d0bbb-8118-4900-8267-d6b995aa9812",
   "metadata": {},
   "outputs": [
    {
     "data": {
      "text/plain": [
       "[Document(metadata={'source': './大语言模型.txt'}, page_content='2. 智能客服与聊天机器人'),\n",
       " Document(metadata={'source': './大语言模型.txt'}, page_content='大语言模型作为人工智能领域的重要技术之一，具有广泛的应用场景。以下是十个方面的应用场景及其详细描述：'),\n",
       " Document(metadata={'source': './大语言模型.txt'}, page_content='综上所述，大语言模型在多个领域都具有广泛的应用前景和巨大的价值潜力。随着技术的不断进步和完善，我们有理由相信大语言模型将在未来的人工智能领域发挥更加重要的作用。'),\n",
       " Document(metadata={'source': './大语言模型.txt'}, page_content='4. 情感分析\\n描述：大语言模型通过分析文本中的情感倾向和情感表达，帮助企业了解客户反馈和情感状态，从而制定更精准的营销策略或优化客户服务。这种技术还可用于社交媒体监控，实时分析公众对某一主题或事件的情绪和反应。')]"
      ]
     },
     "execution_count": 53,
     "metadata": {},
     "output_type": "execute_result"
    }
   ],
   "source": [
    "store.search(query=\"你好\", search_type=\"similarity\")"
   ]
  },
  {
   "cell_type": "code",
   "execution_count": 54,
   "id": "c43cba4c-c7f7-4475-a072-f36e84973529",
   "metadata": {},
   "outputs": [],
   "source": [
    "import uuid"
   ]
  },
  {
   "cell_type": "code",
   "execution_count": 60,
   "id": "0d39d9c0-3266-4841-938e-57e7f40415fe",
   "metadata": {},
   "outputs": [],
   "source": [
    "def get_doc_id():\n",
    "    return str(uuid.uuid4()).replace(\"-\", \"\")"
   ]
  },
  {
   "cell_type": "code",
   "execution_count": 135,
   "id": "70712a8e-9f71-4e4a-8a3c-d241f75adf93",
   "metadata": {},
   "outputs": [],
   "source": [
    "ids = [get_doc_id() for _ in range(len(docs))]"
   ]
  },
  {
   "cell_type": "code",
   "execution_count": 136,
   "id": "c5653a08-bf8d-4213-bd2c-9791570bd4b7",
   "metadata": {},
   "outputs": [
    {
     "data": {
      "text/plain": [
       "[Document(metadata={'source': './大语言模型.txt'}, page_content='大语言模型作为人工智能领域的重要技术之一，具有广泛的应用场景。以下是十个方面的应用场景及其详细描述：'),\n",
       " Document(metadata={'source': './大语言模型.txt'}, page_content='1. 机器翻译\\n描述：大语言模型通过训练可以学习不同语言之间的语法和语义规则，实现自动翻译。这种技术已广泛应用于跨国企业沟通、国际合作等领域，如谷歌翻译等产品。尽管在处理长句子和歧义消解等方面仍面临挑战，但随着技术的发展，其准确性和流畅度不断提升。'),\n",
       " Document(metadata={'source': './大语言模型.txt'}, page_content='2. 智能客服与聊天机器人'),\n",
       " Document(metadata={'source': './大语言模型.txt'}, page_content='描述：大语言模型被用于开发智能客服助手和聊天机器人，能够理解用户的问题并提供相应的解决方案或转达给相关部门。这不仅提高了客服效率，还提升了用户体验。例如，通过自然语言处理技术，智能客服助手可以分析用户情感状态，及时发现问题并优化服务。'),\n",
       " Document(metadata={'source': './大语言模型.txt'}, page_content='3. 文本生成与创作\\n描述：大语言模型能够生成符合语法规则的文章、新闻、小说等文本内容。通过学习大量文本数据，模型可以生成具有创造性和相关性的内容，广泛应用于新闻报道、广告营销等领域。此外，它还能根据给定主题或关键词生成文章，为创作者提供灵感和辅助。'),\n",
       " Document(metadata={'source': './大语言模型.txt'}, page_content='4. 情感分析\\n描述：大语言模型通过分析文本中的情感倾向和情感表达，帮助企业了解客户反馈和情感状态，从而制定更精准的营销策略或优化客户服务。这种技术还可用于社交媒体监控，实时分析公众对某一主题或事件的情绪和反应。'),\n",
       " Document(metadata={'source': './大语言模型.txt'}, page_content='5. 自动问答系统\\n描述：通过学习大量问题和答案，大语言模型能够自动生成符合语法规则的问题和答案。这种自动问答系统可应用于智能助手、搜索引擎等领域，为用户提供高效、准确的信息服务。结合知识图谱技术，问答系统的知识检索和推理能力得到进一步增强。'),\n",
       " Document(metadata={'source': './大语言模型.txt'}, page_content='6. 自动摘要与总结\\n描述：大语言模型能够自动对文本进行摘要和总结，提取关键信息，帮助用户快速了解文本主旨和重点。这种技术在学术论文、新闻报道等领域具有重要应用价值，提高了信息获取的效率。'),\n",
       " Document(metadata={'source': './大语言模型.txt'}, page_content='7. 代码生成与自动化编程\\n描述：大语言模型通过学习大量代码数据，可以理解编程语言的语法和逻辑规则，实现代码的自动生成。这有助于非技术用户生成基本代码，同时为专业编程人员提供辅助，加快开发进程。然而，在复杂任务中仍需人工审核和调整。'),\n",
       " Document(metadata={'source': './大语言模型.txt'}, page_content='8. 信息检索与推荐系统\\n描述：大语言模型可应用于改善搜索引擎结果和内容推荐算法。通过分析用户查询意图和上下文信息，模型能够提供更准确、个性化的搜索结果和内容推荐，提升用户体验和满意度。'),\n",
       " Document(metadata={'source': './大语言模型.txt'}, page_content='9. 生物医学研究\\n描述：在生物医学领域，大语言模型可用于分析基因组数据、蛋白质相互作用等，加速药物发现和新疗法的研究。例如，通过预测基因变异的功能影响，研究者能够更全面地分析人类基因组的潜在风险和治疗靶点。'),\n",
       " Document(metadata={'source': './大语言模型.txt'}, page_content='10. 语音识别与生成\\n描述：大语言模型在语音识别和语音生成方面也展现出巨大潜力。通过将语音转录为文本或将文本转化为语音，该技术使得人们与计算机的交互更加自然和便捷。这对于有听力或视觉障碍的人群尤为重要，有助于他们更好地理解和享受音视频内容。'),\n",
       " Document(metadata={'source': './大语言模型.txt'}, page_content='综上所述，大语言模型在多个领域都具有广泛的应用前景和巨大的价值潜力。随着技术的不断进步和完善，我们有理由相信大语言模型将在未来的人工智能领域发挥更加重要的作用。')]"
      ]
     },
     "execution_count": 136,
     "metadata": {},
     "output_type": "execute_result"
    }
   ],
   "source": [
    "docs"
   ]
  },
  {
   "cell_type": "code",
   "execution_count": 137,
   "id": "ce636116-a593-4aa9-8af6-162f7835d5a9",
   "metadata": {},
   "outputs": [
    {
     "data": {
      "text/plain": [
       "['812ddb6f17a14feb92727554a696067d',\n",
       " '3e9919bdba414cc5a63f78c011496b6d',\n",
       " 'c920dde13480490daed97f77fdcbee43',\n",
       " 'bd1b46d882c2483ea0ae703b40a282c9',\n",
       " 'bae884e811794044afe0452da0f01008',\n",
       " '0bf8fda8ffca415e90cf1db04fbfdc51',\n",
       " '315803c708644833bdd0a908da184272',\n",
       " 'c49698344d3a4b91b7bc3e9194ce17af',\n",
       " '36b94fcf040e4acd941e3528a01b8b39',\n",
       " '765e259e53714b568eaffc4dc9a23f47',\n",
       " '3e52b0de77a849d599eb4560506016b9',\n",
       " '207b82a9dcec4def8148653d183c3d16',\n",
       " '556bf536127e415287c3d9492ecd6944']"
      ]
     },
     "execution_count": 137,
     "metadata": {},
     "output_type": "execute_result"
    }
   ],
   "source": [
    "ids"
   ]
  },
  {
   "cell_type": "code",
   "execution_count": 138,
   "id": "e119ba23-0a63-4a86-8552-879c902dedfe",
   "metadata": {},
   "outputs": [
    {
     "data": {
      "text/plain": [
       "QianfanEmbeddingsEndpoint(qianfan_ak=SecretStr('**********'), qianfan_sk=SecretStr('**********'), chunk_size=16, model='bge-large-zh', endpoint='', client=<qianfan.resources.llm.embedding.Embedding object at 0x000002D5C30FFDA0>, init_kwargs={}, model_kwargs={})"
      ]
     },
     "execution_count": 138,
     "metadata": {},
     "output_type": "execute_result"
    }
   ],
   "source": [
    "embed_ernie"
   ]
  },
  {
   "cell_type": "code",
   "execution_count": 139,
   "id": "09d1c482-2b8f-4e3b-9a7f-9d8995142fbe",
   "metadata": {},
   "outputs": [],
   "source": [
    "store1 = Chroma.from_documents(documents=docs, embedding=embed_ernie, ids=ids, persist_directory=\"chroma_data1\")"
   ]
  },
  {
   "cell_type": "code",
   "execution_count": 140,
   "id": "ae8279ca-0861-4d2b-8123-2fa3c3bb033d",
   "metadata": {},
   "outputs": [
    {
     "data": {
      "text/plain": [
       "[(Document(metadata={'source': './大语言模型.txt'}, page_content='2. 智能客服与聊天机器人'),\n",
       "  0.579608274172212),\n",
       " (Document(metadata={'source': './大语言模型.txt'}, page_content='大语言模型作为人工智能领域的重要技术之一，具有广泛的应用场景。以下是十个方面的应用场景及其详细描述：'),\n",
       "  0.44239139980210307),\n",
       " (Document(metadata={'source': './大语言模型.txt'}, page_content='5. 自动问答系统\\n描述：通过学习大量问题和答案，大语言模型能够自动生成符合语法规则的问题和答案。这种自动问答系统可应用于智能助手、搜索引擎等领域，为用户提供高效、准确的信息服务。结合知识图谱技术，问答系统的知识检索和推理能力得到进一步增强。'),\n",
       "  0.4118836648456027),\n",
       " (Document(metadata={'source': './大语言模型.txt'}, page_content='综上所述，大语言模型在多个领域都具有广泛的应用前景和巨大的价值潜力。随着技术的不断进步和完善，我们有理由相信大语言模型将在未来的人工智能领域发挥更加重要的作用。'),\n",
       "  0.4073137869770076)]"
      ]
     },
     "execution_count": 140,
     "metadata": {},
     "output_type": "execute_result"
    }
   ],
   "source": [
    "store1.similarity_search_with_relevance_scores(query=\"你好吗？\")"
   ]
  },
  {
   "cell_type": "code",
   "execution_count": 141,
   "id": "ba372d80-24ea-4cb9-a68f-4a700bf25bee",
   "metadata": {},
   "outputs": [
    {
     "data": {
      "text/plain": [
       "[Document(metadata={'source': './大语言模型.txt'}, page_content='2. 智能客服与聊天机器人'),\n",
       " Document(metadata={'source': './大语言模型.txt'}, page_content='大语言模型作为人工智能领域的重要技术之一，具有广泛的应用场景。以下是十个方面的应用场景及其详细描述：'),\n",
       " Document(metadata={'source': './大语言模型.txt'}, page_content='综上所述，大语言模型在多个领域都具有广泛的应用前景和巨大的价值潜力。随着技术的不断进步和完善，我们有理由相信大语言模型将在未来的人工智能领域发挥更加重要的作用。'),\n",
       " Document(metadata={'source': './大语言模型.txt'}, page_content='4. 情感分析\\n描述：大语言模型通过分析文本中的情感倾向和情感表达，帮助企业了解客户反馈和情感状态，从而制定更精准的营销策略或优化客户服务。这种技术还可用于社交媒体监控，实时分析公众对某一主题或事件的情绪和反应。')]"
      ]
     },
     "execution_count": 141,
     "metadata": {},
     "output_type": "execute_result"
    }
   ],
   "source": [
    "store1.search(query=\"你好\", search_type=\"similarity\")"
   ]
  },
  {
   "cell_type": "code",
   "execution_count": 153,
   "id": "bc5f47d8-8b80-4818-a249-9285a5d958b9",
   "metadata": {},
   "outputs": [],
   "source": [
    "import chromadb\n",
    "from chromadb import Settings"
   ]
  },
  {
   "cell_type": "code",
   "execution_count": 167,
   "id": "6425c74e-66f8-4fc3-ae3f-61ac54686dea",
   "metadata": {},
   "outputs": [],
   "source": [
    "# 内存中 ./chroma\n",
    "chroma_client = chromadb.Client()"
   ]
  },
  {
   "cell_type": "code",
   "execution_count": 168,
   "id": "df0a7109-1a97-459c-8147-46baa6d492b9",
   "metadata": {},
   "outputs": [],
   "source": [
    "collection = chroma_client.get_or_create_collection(name=\"my_collection\")"
   ]
  },
  {
   "cell_type": "code",
   "execution_count": 161,
   "id": "a5f9c9de-417f-4d8e-abd2-0725bc7f24d7",
   "metadata": {},
   "outputs": [],
   "source": [
    "collection.add(\n",
    "    documents=[\"This is a document about engineer\", \"This is a document about steak\"],\n",
    "    metadatas=[{\"source\": \"doc1\"}, {\"source\": \"doc2\"}],\n",
    "    ids=[get_doc_id(), get_doc_id()]\n",
    ")"
   ]
  },
  {
   "cell_type": "code",
   "execution_count": 170,
   "id": "461a8ac2-00cc-461e-a05a-b1b06fa56753",
   "metadata": {},
   "outputs": [
    {
     "data": {
      "text/plain": [
       "4"
      ]
     },
     "execution_count": 170,
     "metadata": {},
     "output_type": "execute_result"
    }
   ],
   "source": [
    "collection.count()"
   ]
  },
  {
   "cell_type": "code",
   "execution_count": 175,
   "id": "9b5f6d2a-49aa-423e-94ab-06972d0a5251",
   "metadata": {},
   "outputs": [
    {
     "data": {
      "text/plain": [
       "{'ids': [['437f7dfe8cbc407b8e212120afc2329b']],\n",
       " 'distances': [[1.2798278331756592]],\n",
       " 'metadatas': [[{'source': 'doc1'}]],\n",
       " 'embeddings': None,\n",
       " 'documents': [['This is a document about engineer']],\n",
       " 'uris': None,\n",
       " 'data': None,\n",
       " 'included': ['metadatas', 'documents', 'distances']}"
      ]
     },
     "execution_count": 175,
     "metadata": {},
     "output_type": "execute_result"
    }
   ],
   "source": [
    "collection.query(query_texts=[\"scientist\"], n_results=1)"
   ]
  },
  {
   "cell_type": "code",
   "execution_count": 177,
   "id": "17a5804e-0af9-4d07-92f4-d907e313cd7c",
   "metadata": {},
   "outputs": [],
   "source": [
    "collection.delete(ids=['437f7dfe8cbc407b8e212120afc2329b'])"
   ]
  },
  {
   "cell_type": "code",
   "execution_count": 178,
   "id": "ee974656-2cad-4ea3-bd92-bf1cb640b827",
   "metadata": {},
   "outputs": [
    {
     "data": {
      "text/plain": [
       "3"
      ]
     },
     "execution_count": 178,
     "metadata": {},
     "output_type": "execute_result"
    }
   ],
   "source": [
    "collection.count()"
   ]
  },
  {
   "cell_type": "code",
   "execution_count": null,
   "id": "8cce9bef-3cce-4960-a418-a90fd656e6b6",
   "metadata": {},
   "outputs": [],
   "source": []
  }
 ],
 "metadata": {
  "kernelspec": {
   "display_name": "Python 3 (ipykernel)",
   "language": "python",
   "name": "python3"
  },
  "language_info": {
   "codemirror_mode": {
    "name": "ipython",
    "version": 3
   },
   "file_extension": ".py",
   "mimetype": "text/x-python",
   "name": "python",
   "nbconvert_exporter": "python",
   "pygments_lexer": "ipython3",
   "version": "3.12.4"
  }
 },
 "nbformat": 4,
 "nbformat_minor": 5
}
