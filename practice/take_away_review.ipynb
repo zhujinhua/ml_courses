{
 "cells": [
  {
   "cell_type": "code",
   "execution_count": null,
   "metadata": {
    "ExecuteTime": {
     "end_time": "2024-06-05T08:24:55.958745Z",
     "start_time": "2024-06-05T08:24:55.951500Z"
    }
   },
   "outputs": [],
   "source": []
  },
  {
   "cell_type": "code",
   "execution_count": null,
   "metadata": {
    "ExecuteTime": {
     "start_time": "2024-06-05T08:24:55.953248Z"
    },
    "collapsed": false,
    "is_executing": true,
    "jupyter": {
     "outputs_hidden": false
    }
   },
   "outputs": [],
   "source": [
    "# 1. split the sentences\n",
    "#  remove the pause words?\n",
    "# 2. vector the segment\n",
    "# 3. Choose training model: gaussian, train the model and get the accuracy\n",
    "# 4. predict with the trained model\n",
    "import logging\n",
    "\n",
    "import jieba\n",
    "import numpy as np\n",
    "import pandas as pd\n",
    "from sklearn.ensemble import RandomForestClassifier, VotingClassifier\n",
    "from sklearn.linear_model import LogisticRegression\n",
    "from sklearn.model_selection import train_test_split\n",
    "from sklearn.naive_bayes import GaussianNB\n",
    "\n",
    "REVIEW_DICT = {1: 'good', 0: 'bad'}\n",
    "\n",
    "\n",
    "def load_stopwords(filepath):\n",
    "    with open(filepath, 'r', encoding='utf-8') as f:\n",
    "        stopwords = set(f.read().splitlines())\n",
    "    return stopwords\n",
    "\n",
    "\n",
    "def get_vocabulary_list(msgs, stopwords_set):\n",
    "    vocab_set = set()\n",
    "    for i in msgs:\n",
    "        vocab_set |= set(i)\n",
    "    return sorted(list(vocab_set))\n",
    "\n",
    "\n",
    "# every row is a message vector\n",
    "def messages_2_vectors(vocab_list, msgs):\n",
    "    msgs_len = len(msgs)\n",
    "    shape = (msgs_len, len(vocab_list))\n",
    "    matrix = np.zeros(shape)\n",
    "\n",
    "    for i in range(msgs_len):\n",
    "        for word in msgs[i]:\n",
    "            if word in vocab_list:\n",
    "                matrix[i, vocab_list.index(word)] = 1\n",
    "    return matrix\n",
    "\n",
    "\n",
    "logging.basicConfig(level=logging.INFO)\n",
    "stopwords = load_stopwords('cn_stopwords.txt')\n",
    "take_away_df = pd.read_csv('中文外卖评论数据集.csv')\n",
    "take_away_df['words'] = take_away_df['review'].apply(lambda x: jieba.lcut(x.replace(' ', ''), cut_all=False))\n",
    "vocabulary_set = get_vocabulary_list(take_away_df['words'], stopwords)\n",
    "take_away_vecs = messages_2_vectors(vocabulary_set, take_away_df['words'])\n",
    "X_train, X_test, y_train, y_test = train_test_split(take_away_vecs, take_away_df.loc[:, 'label'], test_size=0.3,\n",
    "                                                    random_state=42, shuffle=True)"
   ]
  },
  {
   "cell_type": "code",
   "execution_count": 9,
   "metadata": {
    "ExecuteTime": {
     "start_time": "2024-06-05T08:24:55.953248Z"
    },
    "collapsed": false,
    "is_executing": true,
    "jupyter": {
     "outputs_hidden": false
    }
   },
   "outputs": [
    {
     "name": "stderr",
     "output_type": "stream",
     "text": [
      "INFO:root:Gaussian Accuracy: 0.685\n"
     ]
    }
   ],
   "source": [
    "gaussian = GaussianNB()\n",
    "gaussian.fit(X_train, y_train)\n",
    "gaussian_pred = gaussian.predict(X_test)\n",
    "logging.info(f'Gaussian Accuracy: {round((gaussian_pred == y_test).mean(), 3)}')"
   ]
  },
  {
   "cell_type": "code",
   "execution_count": 10,
   "metadata": {
    "ExecuteTime": {
     "start_time": "2024-06-05T08:24:55.953248Z"
    },
    "collapsed": false,
    "is_executing": true,
    "jupyter": {
     "outputs_hidden": false
    }
   },
   "outputs": [
    {
     "name": "stderr",
     "output_type": "stream",
     "text": [
      "INFO:root:Logistic regression Accuracy: 0.902\n"
     ]
    }
   ],
   "source": [
    "logistic = LogisticRegression(random_state=42)\n",
    "logistic.fit(X_train, y_train)\n",
    "logistic_pred = logistic.predict(X_test)\n",
    "logging.info(f'Logistic regression Accuracy: {round((logistic_pred == y_test).mean(), 3)}')"
   ]
  },
  {
   "cell_type": "code",
   "execution_count": 11,
   "metadata": {
    "ExecuteTime": {
     "start_time": "2024-06-05T08:24:55.953248Z"
    },
    "collapsed": false,
    "is_executing": true,
    "jupyter": {
     "outputs_hidden": false
    }
   },
   "outputs": [
    {
     "name": "stderr",
     "output_type": "stream",
     "text": [
      "INFO:root:Random Forest Accuracy: 0.884\n"
     ]
    }
   ],
   "source": [
    "rf = RandomForestClassifier(random_state=42)\n",
    "rf.fit(X_train, y_train)\n",
    "rf_pred = rf.predict(X_test)\n",
    "logging.info(f'Random Forest Accuracy: {round((rf_pred == y_test).mean(), 3)}')"
   ]
  },
  {
   "cell_type": "code",
   "execution_count": 12,
   "metadata": {
    "ExecuteTime": {
     "start_time": "2024-06-05T08:24:55.953248Z"
    },
    "collapsed": false,
    "is_executing": true,
    "jupyter": {
     "outputs_hidden": false
    }
   },
   "outputs": [
    {
     "name": "stderr",
     "output_type": "stream",
     "text": [
      "INFO:root:Voting Ensemble Accuracy: 0.903\n"
     ]
    }
   ],
   "source": [
    "# ensemble\n",
    "estimator = []\n",
    "estimator.append(('Gaussian', GaussianNB()))\n",
    "estimator.append(('LogisticRegression', LogisticRegression(random_state=42)))\n",
    "estimator.append(('RF', RandomForestClassifier(random_state=42)))\n",
    "\n",
    "# Voting Classifier with hard voting\n",
    "vot_hard = VotingClassifier(estimators=estimator)\n",
    "vot_hard.fit(X_train, y_train)\n",
    "voting_pred = vot_hard.predict(X_test)\n",
    "logging.info(f'Voting Ensemble Accuracy: {round((voting_pred == y_test).mean(), 3)}')"
   ]
  },
  {
   "cell_type": "code",
   "execution_count": 13,
   "metadata": {
    "ExecuteTime": {
     "start_time": "2024-06-05T08:24:55.953248Z"
    },
    "collapsed": false,
    "is_executing": true,
    "jupyter": {
     "outputs_hidden": false
    }
   },
   "outputs": [
    {
     "name": "stderr",
     "output_type": "stream",
     "text": [
      "INFO:root:gaussian: ['good', 'good', 'good', 'good']\n",
      "INFO:root:Logistic regression predict: ['good', 'bad', 'bad', 'bad']\n",
      "INFO:root:Random Forest predict: ['good', 'bad', 'good', 'bad']\n",
      "INFO:root:Voting predict: ['good', 'bad', 'good', 'bad']\n"
     ]
    }
   ],
   "source": [
    "# test on other review\n",
    "X_test_review = ['口感不错', '口感不错，但送地太慢了', '不太好吃', '味道一般']\n",
    "X_test_seg = [jieba.lcut(x, cut_all=False) for x in X_test_review]\n",
    "X_test_vectors = messages_2_vectors(vocabulary_set, X_test_seg)\n",
    "y_gassian = gaussian.predict(X_test_vectors)\n",
    "logging.info(f'gaussian: {[REVIEW_DICT[i] for i in y_gassian]}')\n",
    "\n",
    "y_logistic = logistic.predict(X_test_vectors)\n",
    "logging.info(f'Logistic regression predict: {[REVIEW_DICT[i] for i in y_logistic]}')\n",
    "\n",
    "y_rf = rf.predict(X_test_vectors)\n",
    "logging.info(f'Random Forest predict: {[REVIEW_DICT[i] for i in y_rf]}')\n",
    "\n",
    "y_voting = vot_hard.predict(X_test_vectors)\n",
    "logging.info(f'Voting predict: {[REVIEW_DICT[i] for i in y_voting]}')"
   ]
  },
  {
   "cell_type": "code",
   "execution_count": null,
   "metadata": {},
   "outputs": [],
   "source": []
  }
 ],
 "metadata": {
  "kernelspec": {
   "display_name": "Python 3 (ipykernel)",
   "language": "python",
   "name": "python3"
  },
  "language_info": {
   "codemirror_mode": {
    "name": "ipython",
    "version": 3
   },
   "file_extension": ".py",
   "mimetype": "text/x-python",
   "name": "python",
   "nbconvert_exporter": "python",
   "pygments_lexer": "ipython3",
   "version": "3.8.18"
  }
 },
 "nbformat": 4,
 "nbformat_minor": 4
}
