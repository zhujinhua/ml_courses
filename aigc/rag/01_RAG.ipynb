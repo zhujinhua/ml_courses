{
 "cells": [
  {
   "cell_type": "markdown",
   "id": "ce818124-e2c0-4caa-bf17-655e72253261",
   "metadata": {},
   "source": [
    "### 1. 连接大模型"
   ]
  },
  {
   "cell_type": "code",
   "execution_count": 1,
   "id": "267fd360-2214-4acb-a707-cbe772c62a5a",
   "metadata": {},
   "outputs": [],
   "source": [
    "from utils import get_ernie_models\n",
    "from utils import get_qwen_models"
   ]
  },
  {
   "cell_type": "code",
   "execution_count": 2,
   "id": "93b7e2c3-3d07-4ab6-b2ee-86a8a5893cf4",
   "metadata": {
    "scrolled": true
   },
   "outputs": [],
   "source": [
    "llm, chat, embed = get_qwen_models()"
   ]
  },
  {
   "cell_type": "markdown",
   "id": "2663434c-1476-4fa7-96f6-56339aa112ae",
   "metadata": {},
   "source": [
    "### 2. 基本RAG系统的构成"
   ]
  },
  {
   "cell_type": "markdown",
   "id": "00d68ea7-8ec6-4283-9eb0-37157cca3343",
   "metadata": {},
   "source": [
    "### 2.1. 引入必要的库和包"
   ]
  },
  {
   "cell_type": "code",
   "execution_count": 4,
   "id": "44040d90-e9db-45bc-82b9-e5e1f5c37e50",
   "metadata": {},
   "outputs": [
    {
     "name": "stderr",
     "output_type": "stream",
     "text": [
      "D:\\software\\anaconda3\\Lib\\site-packages\\onnxruntime\\capi\\onnxruntime_validation.py:26: UserWarning: Unsupported Windows version (11). ONNX Runtime supports Windows 10 and above, only.\n",
      "  warnings.warn(\n",
      "USER_AGENT environment variable not set, consider setting it to identify your requests.\n"
     ]
    }
   ],
   "source": [
    "# 解析 Web 页面的库（用面向对象的方式来封装 HTML 页面）\n",
    "import bs4\n",
    "# hub 生态中心\n",
    "from langchain import hub\n",
    "# 引入 Chroma 向量库\n",
    "from langchain_chroma import Chroma\n",
    "# 在线加载网页\n",
    "from langchain_community.document_loaders import WebBaseLoader\n",
    "# 输出解析器\n",
    "from langchain_core.output_parsers import StrOutputParser\n",
    "# 可执行的占位符\n",
    "from langchain_core.runnables import RunnablePassthrough\n",
    "# 文档切分器\n",
    "from langchain_text_splitters import RecursiveCharacterTextSplitter"
   ]
  },
  {
   "cell_type": "markdown",
   "id": "2e7bae3c-3947-48f8-af96-12811e9dd17e",
   "metadata": {},
   "source": [
    "### 2.2 加载页面"
   ]
  },
  {
   "cell_type": "code",
   "execution_count": 5,
   "id": "00f9cf37-0328-489b-8e7e-e86cd863acf8",
   "metadata": {},
   "outputs": [],
   "source": [
    "# Load, chunk and index the contents of the blog.\n",
    "loader = WebBaseLoader(\n",
    "    web_paths=(\"https://lilianweng.github.io/posts/2023-06-23-agent/\",),\n",
    "    bs_kwargs=dict(\n",
    "        parse_only=bs4.SoupStrainer(\n",
    "            class_=(\"post-content\", \"post-title\", \"post-header\")\n",
    "        )\n",
    "    ),\n",
    ")"
   ]
  },
  {
   "cell_type": "code",
   "execution_count": 6,
   "id": "e501d1ef-39fe-49b5-bf1f-f90fc82689ee",
   "metadata": {},
   "outputs": [],
   "source": [
    "# 加载数据\n",
    "docs = loader.load()"
   ]
  },
  {
   "cell_type": "markdown",
   "id": "688d32ab-8d89-4075-906d-1e8ed0230dfb",
   "metadata": {},
   "source": [
    "### 2.3 文本分割"
   ]
  },
  {
   "cell_type": "code",
   "execution_count": 35,
   "id": "6a7e4a44-97bd-4da0-97ab-cb22c175f189",
   "metadata": {},
   "outputs": [],
   "source": [
    "# 递归式 字符级 文本 切分器\n",
    "\"\"\"\n",
    "    chunk_size: 建议段落大小\n",
    "\"\"\"\n",
    "text_splitter = RecursiveCharacterTextSplitter(chunk_size=500, chunk_overlap=200)\n",
    "splits = text_splitter.split_documents(docs)"
   ]
  },
  {
   "cell_type": "markdown",
   "id": "a7037f3d-b688-449d-842f-bcd640c848dc",
   "metadata": {},
   "source": [
    "### 2.4 向量化并入库"
   ]
  },
  {
   "cell_type": "code",
   "execution_count": 40,
   "id": "bc34df16-87eb-4ea0-82de-4683edefe6d4",
   "metadata": {},
   "outputs": [
    {
     "data": {
      "text/plain": [
       "142"
      ]
     },
     "execution_count": 40,
     "metadata": {},
     "output_type": "execute_result"
    }
   ],
   "source": [
    "len(splits)"
   ]
  },
  {
   "cell_type": "code",
   "execution_count": 41,
   "id": "9f786b9e-463b-4263-a5f3-b44898a09d94",
   "metadata": {},
   "outputs": [],
   "source": [
    "# 底层存储使用的 SQLite，没有指定存储位置的话，则在内存中建立临时库\n",
    "vectorstore = Chroma.from_documents(documents=splits[:6], embedding=embed)"
   ]
  },
  {
   "cell_type": "code",
   "execution_count": 45,
   "id": "f83642be-95dc-4b7b-91fd-972b559d36f1",
   "metadata": {},
   "outputs": [],
   "source": [
    "my_splits = splits[6:]"
   ]
  },
  {
   "cell_type": "code",
   "execution_count": 46,
   "id": "ebbd2684-4186-4407-a686-87bd50b968f9",
   "metadata": {},
   "outputs": [
    {
     "data": {
      "text/plain": [
       "136"
      ]
     },
     "execution_count": 46,
     "metadata": {},
     "output_type": "execute_result"
    }
   ],
   "source": [
    "len(my_splits)"
   ]
  },
  {
   "cell_type": "code",
   "execution_count": 51,
   "id": "d7f5a5c4-9822-40da-92b2-0fffc4635094",
   "metadata": {},
   "outputs": [],
   "source": [
    "for idx in range(23):\n",
    "    my_docs = my_splits[idx * 6: (idx + 1) * 6]\n",
    "    vectorstore.add_documents(documents=my_docs)"
   ]
  },
  {
   "cell_type": "code",
   "execution_count": 52,
   "id": "7b967d20-0548-4b98-a10a-c09e7d3d344b",
   "metadata": {},
   "outputs": [
    {
     "data": {
      "text/plain": [
       "<langchain_chroma.vectorstores.Chroma at 0x1c7b5e35310>"
      ]
     },
     "execution_count": 52,
     "metadata": {},
     "output_type": "execute_result"
    }
   ],
   "source": [
    "vectorstore"
   ]
  },
  {
   "cell_type": "markdown",
   "id": "02f9b247-074c-469e-9ca7-3ac235282c39",
   "metadata": {},
   "source": [
    "### 2.5 RAG系统搭建"
   ]
  },
  {
   "cell_type": "code",
   "execution_count": 56,
   "id": "6e786e93-7c41-453a-97ec-692b7c3efcef",
   "metadata": {},
   "outputs": [],
   "source": [
    "# 把向量操作封装为一个基本检索器\n",
    "retriever = vectorstore.as_retriever()"
   ]
  },
  {
   "cell_type": "code",
   "execution_count": 59,
   "id": "9c9373ca-b99f-43b5-bb25-3d81fa46aba8",
   "metadata": {},
   "outputs": [
    {
     "ename": "LangSmithUserError",
     "evalue": "API key must be provided when using hosted LangSmith API",
     "output_type": "error",
     "traceback": [
      "\u001b[1;31m---------------------------------------------------------------------------\u001b[0m",
      "\u001b[1;31mLangSmithUserError\u001b[0m                        Traceback (most recent call last)",
      "Cell \u001b[1;32mIn[59], line 1\u001b[0m\n\u001b[1;32m----> 1\u001b[0m prompt \u001b[38;5;241m=\u001b[39m hub\u001b[38;5;241m.\u001b[39mpull(\u001b[38;5;124m\"\u001b[39m\u001b[38;5;124mrlm/rag-prompt\u001b[39m\u001b[38;5;124m\"\u001b[39m)\n",
      "File \u001b[1;32mD:\\software\\anaconda3\\Lib\\site-packages\\langchain\\hub.py:110\u001b[0m, in \u001b[0;36mpull\u001b[1;34m(owner_repo_commit, include_model, api_url, api_key)\u001b[0m\n\u001b[0;32m     93\u001b[0m \u001b[38;5;28;01mdef\u001b[39;00m \u001b[38;5;21mpull\u001b[39m(\n\u001b[0;32m     94\u001b[0m     owner_repo_commit: \u001b[38;5;28mstr\u001b[39m,\n\u001b[0;32m     95\u001b[0m     \u001b[38;5;241m*\u001b[39m,\n\u001b[1;32m   (...)\u001b[0m\n\u001b[0;32m     98\u001b[0m     api_key: Optional[\u001b[38;5;28mstr\u001b[39m] \u001b[38;5;241m=\u001b[39m \u001b[38;5;28;01mNone\u001b[39;00m,\n\u001b[0;32m     99\u001b[0m ) \u001b[38;5;241m-\u001b[39m\u001b[38;5;241m>\u001b[39m Any:\n\u001b[0;32m    100\u001b[0m \u001b[38;5;250m    \u001b[39m\u001b[38;5;124;03m\"\"\"\u001b[39;00m\n\u001b[0;32m    101\u001b[0m \u001b[38;5;124;03m    Pull an object from the hub and returns it as a LangChain object.\u001b[39;00m\n\u001b[0;32m    102\u001b[0m \n\u001b[1;32m   (...)\u001b[0m\n\u001b[0;32m    108\u001b[0m \u001b[38;5;124;03m    :param api_key: The API key to use to authenticate with the LangChain Hub API.\u001b[39;00m\n\u001b[0;32m    109\u001b[0m \u001b[38;5;124;03m    \"\"\"\u001b[39;00m\n\u001b[1;32m--> 110\u001b[0m     client \u001b[38;5;241m=\u001b[39m _get_client(api_key\u001b[38;5;241m=\u001b[39mapi_key, api_url\u001b[38;5;241m=\u001b[39mapi_url)\n\u001b[0;32m    112\u001b[0m     \u001b[38;5;66;03m# Then it's langsmith\u001b[39;00m\n\u001b[0;32m    113\u001b[0m     \u001b[38;5;28;01mif\u001b[39;00m \u001b[38;5;28mhasattr\u001b[39m(client, \u001b[38;5;124m\"\u001b[39m\u001b[38;5;124mpull_prompt\u001b[39m\u001b[38;5;124m\"\u001b[39m):\n",
      "File \u001b[1;32mD:\\software\\anaconda3\\Lib\\site-packages\\langchain\\hub.py:20\u001b[0m, in \u001b[0;36m_get_client\u001b[1;34m(api_key, api_url)\u001b[0m\n\u001b[0;32m     17\u001b[0m \u001b[38;5;28;01mtry\u001b[39;00m:\n\u001b[0;32m     18\u001b[0m     \u001b[38;5;28;01mfrom\u001b[39;00m \u001b[38;5;21;01mlangsmith\u001b[39;00m \u001b[38;5;28;01mimport\u001b[39;00m Client \u001b[38;5;28;01mas\u001b[39;00m LangSmithClient\n\u001b[1;32m---> 20\u001b[0m     ls_client \u001b[38;5;241m=\u001b[39m LangSmithClient(api_url, api_key\u001b[38;5;241m=\u001b[39mapi_key)\n\u001b[0;32m     21\u001b[0m     \u001b[38;5;28;01mif\u001b[39;00m \u001b[38;5;28mhasattr\u001b[39m(ls_client, \u001b[38;5;124m\"\u001b[39m\u001b[38;5;124mpush_prompt\u001b[39m\u001b[38;5;124m\"\u001b[39m) \u001b[38;5;129;01mand\u001b[39;00m \u001b[38;5;28mhasattr\u001b[39m(ls_client, \u001b[38;5;124m\"\u001b[39m\u001b[38;5;124mpull_prompt\u001b[39m\u001b[38;5;124m\"\u001b[39m):\n\u001b[0;32m     22\u001b[0m         \u001b[38;5;28;01mreturn\u001b[39;00m ls_client\n",
      "File \u001b[1;32mD:\\software\\anaconda3\\Lib\\site-packages\\langsmith\\client.py:567\u001b[0m, in \u001b[0;36mClient.__init__\u001b[1;34m(self, api_url, api_key, retry_config, timeout_ms, web_url, session, auto_batch_tracing, anonymizer, hide_inputs, hide_outputs, info, api_urls)\u001b[0m\n\u001b[0;32m    565\u001b[0m     \u001b[38;5;28mself\u001b[39m\u001b[38;5;241m.\u001b[39mapi_url \u001b[38;5;241m=\u001b[39m _get_api_url(api_url)\n\u001b[0;32m    566\u001b[0m     \u001b[38;5;28mself\u001b[39m\u001b[38;5;241m.\u001b[39mapi_key \u001b[38;5;241m=\u001b[39m _get_api_key(api_key)\n\u001b[1;32m--> 567\u001b[0m     _validate_api_key_if_hosted(\u001b[38;5;28mself\u001b[39m\u001b[38;5;241m.\u001b[39mapi_url, \u001b[38;5;28mself\u001b[39m\u001b[38;5;241m.\u001b[39mapi_key)\n\u001b[0;32m    568\u001b[0m     \u001b[38;5;28mself\u001b[39m\u001b[38;5;241m.\u001b[39m_write_api_urls \u001b[38;5;241m=\u001b[39m {\u001b[38;5;28mself\u001b[39m\u001b[38;5;241m.\u001b[39mapi_url: \u001b[38;5;28mself\u001b[39m\u001b[38;5;241m.\u001b[39mapi_key}\n\u001b[0;32m    569\u001b[0m \u001b[38;5;28mself\u001b[39m\u001b[38;5;241m.\u001b[39mretry_config \u001b[38;5;241m=\u001b[39m retry_config \u001b[38;5;129;01mor\u001b[39;00m _default_retry_config()\n",
      "File \u001b[1;32mD:\\software\\anaconda3\\Lib\\site-packages\\langsmith\\client.py:332\u001b[0m, in \u001b[0;36m_validate_api_key_if_hosted\u001b[1;34m(api_url, api_key)\u001b[0m\n\u001b[0;32m    330\u001b[0m \u001b[38;5;28;01mif\u001b[39;00m \u001b[38;5;129;01mnot\u001b[39;00m api_key:\n\u001b[0;32m    331\u001b[0m     \u001b[38;5;28;01mif\u001b[39;00m _is_langchain_hosted(api_url):\n\u001b[1;32m--> 332\u001b[0m         \u001b[38;5;28;01mraise\u001b[39;00m ls_utils\u001b[38;5;241m.\u001b[39mLangSmithUserError(\n\u001b[0;32m    333\u001b[0m             \u001b[38;5;124m\"\u001b[39m\u001b[38;5;124mAPI key must be provided when using hosted LangSmith API\u001b[39m\u001b[38;5;124m\"\u001b[39m\n\u001b[0;32m    334\u001b[0m         )\n",
      "\u001b[1;31mLangSmithUserError\u001b[0m: API key must be provided when using hosted LangSmith API"
     ]
    }
   ],
   "source": [
    "# prompt = hub.pull(\"rlm/rag-prompt\")"
   ]
  },
  {
   "cell_type": "code",
   "execution_count": 78,
   "id": "9c851c08-f193-4106-896d-64bd102cdb62",
   "metadata": {},
   "outputs": [],
   "source": [
    "from langchain_core.prompts import ChatPromptTemplate\n",
    "\n",
    "# RAG系统经典的 Prompt (A 增强的过程)\n",
    "prompt = ChatPromptTemplate.from_messages([\n",
    "  (\"human\", \"\"\"You are an assistant for question-answering tasks. Use the following pieces \n",
    "  of retrieved context to answer the question. \n",
    "  If you don't know the answer, just say that you don't know. \n",
    "  Use three sentences maximum and keep the answer concise.\n",
    "  Question: {question} \n",
    "  Context: {context} \n",
    "  Answer:\"\"\")\n",
    "])"
   ]
  },
  {
   "cell_type": "code",
   "execution_count": 79,
   "id": "91103473-b1bd-4119-91df-a35f44464a89",
   "metadata": {},
   "outputs": [],
   "source": [
    "# 把检索到的4条上下文的文本使用 \\n\\n 练成一个大的字符串\n",
    "def format_docs(docs):\n",
    "    return \"\\n\\n\".join(doc.page_content for doc in docs)"
   ]
  },
  {
   "cell_type": "code",
   "execution_count": 80,
   "id": "8a1feb3c-9f04-4df6-9973-3e2d4d089cd6",
   "metadata": {},
   "outputs": [],
   "source": [
    "# RAG 链\n",
    "rag_chain = (\n",
    "    {\"context\": retriever | format_docs, \n",
    "     \"question\": RunnablePassthrough()}\n",
    "    | prompt\n",
    "    | chat\n",
    "    | StrOutputParser()\n",
    ")"
   ]
  },
  {
   "cell_type": "code",
   "execution_count": 81,
   "id": "7694855c-405f-4172-9e03-b67334d91e1f",
   "metadata": {},
   "outputs": [
    {
     "data": {
      "text/plain": [
       "'Task Decomposition is a method of breaking down complex tasks into simpler, manageable subgoals. This can be achieved through various approaches, including prompting a language model, using task-specific instructions, or incorporating human input. It enhances problem-solving by allowing step-by-step processing, facilitating efficient task management, and enabling reflection and refinement for improved outcomes.'"
      ]
     },
     "execution_count": 81,
     "metadata": {},
     "output_type": "execute_result"
    }
   ],
   "source": [
    "rag_chain.invoke(input=\"What is Task Decomposition?\")"
   ]
  },
  {
   "cell_type": "code",
   "execution_count": 82,
   "id": "e78b99cd-d895-42a2-83c9-6a1e032da02f",
   "metadata": {},
   "outputs": [
    {
     "data": {
      "text/plain": [
       "'中国的人口比美国多。'"
      ]
     },
     "execution_count": 82,
     "metadata": {},
     "output_type": "execute_result"
    }
   ],
   "source": [
    "rag_chain.invoke(input=\"中国和美国哪个人口更多？\")"
   ]
  },
  {
   "cell_type": "code",
   "execution_count": 77,
   "id": "159eb0df-209a-47eb-b1bc-064611ec4580",
   "metadata": {},
   "outputs": [
    {
     "data": {
      "text/plain": [
       "AIMessage(content='中国的人口比美国多。根据2022年的数据，中国的人口约为14.1亿，而美国的人口约为3.3亿。', response_metadata={'model_name': 'qwen-max', 'finish_reason': 'stop', 'request_id': 'fba6f5c2-193f-9a66-8088-b2635222a65d', 'token_usage': {'input_tokens': 16, 'output_tokens': 35, 'total_tokens': 51}}, id='run-bc56b2a0-f300-4b5c-95e7-d8309f3b7c5f-0')"
      ]
     },
     "execution_count": 77,
     "metadata": {},
     "output_type": "execute_result"
    }
   ],
   "source": [
    "chat.invoke(input=\"中国和美国哪个人口更多？\")"
   ]
  },
  {
   "cell_type": "code",
   "execution_count": null,
   "id": "a40e2bad-8a84-411a-9a7f-d6d348b0a035",
   "metadata": {},
   "outputs": [],
   "source": []
  }
 ],
 "metadata": {
  "kernelspec": {
   "display_name": "Python 3 (ipykernel)",
   "language": "python",
   "name": "python3"
  },
  "language_info": {
   "codemirror_mode": {
    "name": "ipython",
    "version": 3
   },
   "file_extension": ".py",
   "mimetype": "text/x-python",
   "name": "python",
   "nbconvert_exporter": "python",
   "pygments_lexer": "ipython3",
   "version": "3.12.3"
  }
 },
 "nbformat": 4,
 "nbformat_minor": 5
}
