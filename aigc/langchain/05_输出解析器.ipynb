{
 "cells": [
  {
   "cell_type": "markdown",
   "id": "1474b7a4-9212-41dc-b091-f64d08143dff",
   "metadata": {},
   "source": [
    "### 1.  连接大模型"
   ]
  },
  {
   "cell_type": "code",
   "execution_count": 3,
   "id": "1b2f6bf8-677f-432c-a454-2f179ec3e6cd",
   "metadata": {},
   "outputs": [],
   "source": [
    "from utils import get_qwen_models\n",
    "llm, chat, embed = get_qwen_models()"
   ]
  },
  {
   "cell_type": "markdown",
   "id": "4e3de656-1929-4fd1-9232-e688f2117bea",
   "metadata": {},
   "source": [
    "### 2. 输出解析器\n",
    "- 规范化大模型的输出\n",
    "- 方便下游任务的处理"
   ]
  },
  {
   "cell_type": "markdown",
   "id": "06afdbdb-17e3-476b-9ddc-190ad94132bd",
   "metadata": {},
   "source": [
    "### 3. StrOutputParser"
   ]
  },
  {
   "cell_type": "code",
   "execution_count": 4,
   "id": "0fc99924-b0e6-4185-b55f-35948437f0b9",
   "metadata": {},
   "outputs": [],
   "source": [
    "from langchain_core.output_parsers import StrOutputParser"
   ]
  },
  {
   "cell_type": "code",
   "execution_count": 6,
   "id": "d9c072f8-3cce-418a-8086-f2c9ab83d0f5",
   "metadata": {},
   "outputs": [],
   "source": [
    "parser = StrOutputParser()"
   ]
  },
  {
   "cell_type": "code",
   "execution_count": 11,
   "id": "64c4caca-bda2-4e2a-9dd1-10d406492736",
   "metadata": {},
   "outputs": [],
   "source": [
    "result = chat.invoke(\"你是谁？\")"
   ]
  },
  {
   "cell_type": "code",
   "execution_count": 13,
   "id": "16310d33-ee3d-44b0-8625-ce66b6d6e7cf",
   "metadata": {},
   "outputs": [
    {
     "data": {
      "text/plain": [
       "'我是来自阿里云的超大规模语言模型，我叫通义千问。'"
      ]
     },
     "execution_count": 13,
     "metadata": {},
     "output_type": "execute_result"
    }
   ],
   "source": [
    "result.content"
   ]
  },
  {
   "cell_type": "code",
   "execution_count": 18,
   "id": "3d8d357f-8754-4636-9085-d8d4cfe27008",
   "metadata": {},
   "outputs": [
    {
     "data": {
      "text/plain": [
       "'我是来自阿里云的超大规模语言模型，我叫通义千问。'"
      ]
     },
     "execution_count": 18,
     "metadata": {},
     "output_type": "execute_result"
    }
   ],
   "source": [
    "parser.invoke(result)"
   ]
  },
  {
   "cell_type": "code",
   "execution_count": 16,
   "id": "062d5786-6924-4e05-982f-bad2b4283357",
   "metadata": {},
   "outputs": [],
   "source": [
    "chain = chat | parser"
   ]
  },
  {
   "cell_type": "code",
   "execution_count": 17,
   "id": "db21c25f-4bca-4873-9c82-ab130742ae77",
   "metadata": {},
   "outputs": [
    {
     "data": {
      "text/plain": [
       "'Hello there! How can I assist you today?'"
      ]
     },
     "execution_count": 17,
     "metadata": {},
     "output_type": "execute_result"
    }
   ],
   "source": [
    "chain.invoke(input=\"hello\")"
   ]
  },
  {
   "cell_type": "code",
   "execution_count": null,
   "id": "0821c17b-3f83-4a1c-bf26-8467d20359c6",
   "metadata": {},
   "outputs": [],
   "source": []
  },
  {
   "cell_type": "markdown",
   "id": "1bb83036-6b60-4539-ae93-9ac0eff67b80",
   "metadata": {},
   "source": [
    "### 3. CommaSeparatedListOutputParser"
   ]
  },
  {
   "cell_type": "code",
   "execution_count": 21,
   "id": "2a558f0f-8490-49e2-8862-5c9efa34d6b8",
   "metadata": {},
   "outputs": [],
   "source": [
    "from langchain_core.output_parsers import CommaSeparatedListOutputParser"
   ]
  },
  {
   "cell_type": "code",
   "execution_count": 20,
   "id": "e5131e7d-305a-4a50-b7b5-a61d00c18c57",
   "metadata": {},
   "outputs": [
    {
     "data": {
      "text/plain": [
       "'好的，这里有三种健康的生活习惯： \\n\\n1. 保持充足的睡眠：每晚至少7-8小时的睡眠可以帮助身体恢复活力，并有助于提高记忆力和注意力。 \\n\\n2. 均衡饮食：多吃蔬菜、水果、全谷物等食物，少吃油腻、油炸、甜食等不健康的食品。 \\n\\n3. 锻炼身体：每天坚持进行有氧运动，如慢跑、游泳、骑自行车等，以增强肌肉力量和耐力。'"
      ]
     },
     "execution_count": 20,
     "metadata": {},
     "output_type": "execute_result"
    }
   ],
   "source": [
    "llm.invoke(\"请列出3种健康的生活习惯\")"
   ]
  },
  {
   "cell_type": "code",
   "execution_count": 22,
   "id": "2d98380a-ce1a-4a18-860f-b18f354d9050",
   "metadata": {},
   "outputs": [],
   "source": [
    "parser = CommaSeparatedListOutputParser()"
   ]
  },
  {
   "cell_type": "code",
   "execution_count": 24,
   "id": "b78c700e-bc45-4d6a-909f-ad6760abe90f",
   "metadata": {},
   "outputs": [
    {
     "data": {
      "text/plain": [
       "'Your response should be a list of comma separated values, eg: `foo, bar, baz` or `foo,bar,baz`'"
      ]
     },
     "execution_count": 24,
     "metadata": {},
     "output_type": "execute_result"
    }
   ],
   "source": [
    "parser.get_format_instructions()"
   ]
  },
  {
   "cell_type": "code",
   "execution_count": 25,
   "id": "7f194126-1604-44c3-947e-bd795bcef9cd",
   "metadata": {},
   "outputs": [],
   "source": [
    "from langchain_core.prompts import PromptTemplate\n",
    "from langchain_core.prompts import ChatPromptTemplate"
   ]
  },
  {
   "cell_type": "code",
   "execution_count": 34,
   "id": "8c175ecb-2219-4fa0-a53f-789e9baeeccc",
   "metadata": {},
   "outputs": [],
   "source": [
    "prompt = PromptTemplate.from_template(template=\"请列出{num}种健康的生活习惯！请使用中文输出\\n{format_instruction}\",\n",
    "                                     partial_variables={\"format_instruction\": parser.get_format_instructions()})"
   ]
  },
  {
   "cell_type": "code",
   "execution_count": 35,
   "id": "51f1eb2c-f8b3-49b6-9855-7d0e31747d20",
   "metadata": {},
   "outputs": [
    {
     "data": {
      "text/plain": [
       "PromptTemplate(input_variables=['num'], partial_variables={'format_instruction': 'Your response should be a list of comma separated values, eg: `foo, bar, baz` or `foo,bar,baz`'}, template='请列出{num}种健康的生活习惯！请使用中文输出\\n{format_instruction}')"
      ]
     },
     "execution_count": 35,
     "metadata": {},
     "output_type": "execute_result"
    }
   ],
   "source": [
    "prompt"
   ]
  },
  {
   "cell_type": "code",
   "execution_count": 36,
   "id": "3ba2b406-3ca4-4c90-8888-1ebc5769c9d0",
   "metadata": {},
   "outputs": [
    {
     "name": "stdout",
     "output_type": "stream",
     "text": [
      "请列出2种健康的生活习惯！请使用中文输出\n",
      "Your response should be a list of comma separated values, eg: `foo, bar, baz` or `foo,bar,baz`\n"
     ]
    }
   ],
   "source": [
    "print(prompt.invoke(input={\"num\": 2}).text)"
   ]
  },
  {
   "cell_type": "code",
   "execution_count": 37,
   "id": "dc7c90a0-ea0e-4376-a8bf-34cc50f6d4c3",
   "metadata": {},
   "outputs": [],
   "source": [
    "chain = prompt | llm"
   ]
  },
  {
   "cell_type": "code",
   "execution_count": 44,
   "id": "d5ed4394-7332-4c31-b423-f7c0667c014a",
   "metadata": {},
   "outputs": [],
   "source": [
    "result= chain.invoke(input={\"num\": 10})"
   ]
  },
  {
   "cell_type": "code",
   "execution_count": 45,
   "id": "0f62c4f0-8ff5-4520-8e0d-78d0376dc7b0",
   "metadata": {},
   "outputs": [
    {
     "data": {
      "text/plain": [
       "['早睡早起',\n",
       " '均衡饮食',\n",
       " '定期运动',\n",
       " '保持乐观',\n",
       " '戒烟限酒',\n",
       " '充足水分',\n",
       " '定期体检',\n",
       " '适当休息',\n",
       " '个人卫生',\n",
       " '心理健康']"
      ]
     },
     "execution_count": 45,
     "metadata": {},
     "output_type": "execute_result"
    }
   ],
   "source": [
    "parser.parse(result)"
   ]
  },
  {
   "cell_type": "code",
   "execution_count": 46,
   "id": "4b18994a-c2c1-46ec-bb6b-7f5ca2bc3341",
   "metadata": {},
   "outputs": [],
   "source": [
    "from langchain_core.prompts import SystemMessagePromptTemplate\n",
    "from langchain_core.prompts import HumanMessagePromptTemplate"
   ]
  },
  {
   "cell_type": "code",
   "execution_count": 84,
   "id": "cf45596e-780a-470a-b791-5cf23e70c8f9",
   "metadata": {},
   "outputs": [],
   "source": [
    "prompt = ChatPromptTemplate.from_messages(messages=[\n",
    "    SystemMessagePromptTemplate.from_template(template=\"你是一个养生专家！\"),\n",
    "    HumanMessagePromptTemplate.from_template(template=\"请列出{num}种健康的生活习惯！\\n请返回用逗号分开的一些列结果，比如：`苹果, 香蕉, 西瓜`\")\n",
    "])"
   ]
  },
  {
   "cell_type": "code",
   "execution_count": 85,
   "id": "41734f81-e6c4-4ad9-984c-467c70615dd0",
   "metadata": {},
   "outputs": [
    {
     "data": {
      "text/plain": [
       "ChatPromptTemplate(input_variables=['num'], messages=[SystemMessagePromptTemplate(prompt=PromptTemplate(input_variables=[], template='你是一个养生专家！')), HumanMessagePromptTemplate(prompt=PromptTemplate(input_variables=['num'], template='请列出{num}种健康的生活习惯！\\n请返回用逗号分开的一些列结果，比如：`苹果, 香蕉, 西瓜`'))])"
      ]
     },
     "execution_count": 85,
     "metadata": {},
     "output_type": "execute_result"
    }
   ],
   "source": [
    "prompt"
   ]
  },
  {
   "cell_type": "code",
   "execution_count": 86,
   "id": "f23d7b58-0e30-4cd4-a6e0-b8db9faf440c",
   "metadata": {},
   "outputs": [],
   "source": [
    "chain = prompt | chat | StrOutputParser()"
   ]
  },
  {
   "cell_type": "code",
   "execution_count": 94,
   "id": "aeb68c07-6c29-4b74-85d9-5af4a961d0ee",
   "metadata": {},
   "outputs": [],
   "source": [
    "result = chain.invoke(input=dict(num=2))"
   ]
  },
  {
   "cell_type": "code",
   "execution_count": 95,
   "id": "e6c6f88a-9042-4f45-a60c-ad6a3e7e30be",
   "metadata": {},
   "outputs": [
    {
     "data": {
      "text/plain": [
       "'定期锻炼, 均衡饮食'"
      ]
     },
     "execution_count": 95,
     "metadata": {},
     "output_type": "execute_result"
    }
   ],
   "source": [
    "result"
   ]
  },
  {
   "cell_type": "code",
   "execution_count": 96,
   "id": "5377938f-4c5d-433b-b766-b0a04a2eda8d",
   "metadata": {},
   "outputs": [
    {
     "data": {
      "text/plain": [
       "['定期锻炼', '均衡饮食']"
      ]
     },
     "execution_count": 96,
     "metadata": {},
     "output_type": "execute_result"
    }
   ],
   "source": [
    "parser.parse(result)"
   ]
  },
  {
   "cell_type": "markdown",
   "id": "47e8bb1b-f204-4e89-9a2f-ad270a0e829e",
   "metadata": {},
   "source": [
    "### 5. DatetimeOutputParser"
   ]
  },
  {
   "cell_type": "code",
   "execution_count": 97,
   "id": "ca85fb9e-f1b1-405e-b63c-1f3a3ba5947b",
   "metadata": {},
   "outputs": [],
   "source": [
    "from langchain.output_parsers import DatetimeOutputParser"
   ]
  },
  {
   "cell_type": "code",
   "execution_count": 131,
   "id": "d25f87d4-ecd4-4424-a0d8-36272fcda6ff",
   "metadata": {},
   "outputs": [],
   "source": [
    "parser = DatetimeOutputParser(format='%Y-%m-%d %H:%M:%S')"
   ]
  },
  {
   "cell_type": "code",
   "execution_count": 132,
   "id": "b7d4d1df-4770-4787-a76a-3e1888c3b468",
   "metadata": {},
   "outputs": [
    {
     "name": "stdout",
     "output_type": "stream",
     "text": [
      "Write a datetime string that matches the following pattern: '%Y-%m-%d %H:%M:%S'.\n",
      "\n",
      "Examples: 1504-10-15 16:31:04, 0770-07-07 02:21:51, 0193-08-22 03:34:37\n",
      "\n",
      "Return ONLY this string, no other words!\n"
     ]
    }
   ],
   "source": [
    "print(parser.get_format_instructions())"
   ]
  },
  {
   "cell_type": "code",
   "execution_count": 133,
   "id": "885e1317-4b8c-4467-8a42-8cf947690395",
   "metadata": {},
   "outputs": [],
   "source": [
    "from langchain_core.prompts import PromptTemplate"
   ]
  },
  {
   "cell_type": "code",
   "execution_count": 134,
   "id": "3cc2f3b0-052c-497d-8eef-49c497985cdd",
   "metadata": {},
   "outputs": [],
   "source": [
    "prompt = PromptTemplate.from_template(template=\"{question}\\n{format}\",\n",
    "                                      partial_variables={\"format\": parser.get_format_instructions()})"
   ]
  },
  {
   "cell_type": "code",
   "execution_count": 135,
   "id": "f33a0ed3-9bee-46b0-b0cd-dba6e2bf63f5",
   "metadata": {},
   "outputs": [
    {
     "data": {
      "text/plain": [
       "PromptTemplate(input_variables=['question'], partial_variables={'format': \"Write a datetime string that matches the following pattern: '%Y-%m-%d %H:%M:%S'.\\n\\nExamples: 0018-08-16 13:46:02, 1646-01-20 23:53:22, 0141-10-07 09:45:43\\n\\nReturn ONLY this string, no other words!\"}, template='{question}\\n{format}')"
      ]
     },
     "execution_count": 135,
     "metadata": {},
     "output_type": "execute_result"
    }
   ],
   "source": [
    "prompt"
   ]
  },
  {
   "cell_type": "code",
   "execution_count": 136,
   "id": "81f380cd-7f7b-4a73-9899-4ae87bc326b6",
   "metadata": {},
   "outputs": [],
   "source": [
    "chain = prompt | llm"
   ]
  },
  {
   "cell_type": "code",
   "execution_count": 137,
   "id": "cdab1ff8-08a1-478f-9207-cd281c01fdf0",
   "metadata": {},
   "outputs": [
    {
     "data": {
      "text/plain": [
       "'1949-10-01 00:00:00'"
      ]
     },
     "execution_count": 137,
     "metadata": {},
     "output_type": "execute_result"
    }
   ],
   "source": [
    "result = chain.invoke(input={\"question\": \"新中国成立是什么时间？\"})\n",
    "result"
   ]
  },
  {
   "cell_type": "code",
   "execution_count": 138,
   "id": "80f79f5b-025c-465e-9e16-e2adf4c065ba",
   "metadata": {},
   "outputs": [
    {
     "data": {
      "text/plain": [
       "datetime.datetime(1949, 10, 1, 0, 0)"
      ]
     },
     "execution_count": 138,
     "metadata": {},
     "output_type": "execute_result"
    }
   ],
   "source": [
    "parser.parse(result)"
   ]
  },
  {
   "cell_type": "code",
   "execution_count": 139,
   "id": "70ed64b6-121c-4df8-9c0c-6f83be6643fd",
   "metadata": {},
   "outputs": [],
   "source": [
    "result = chain.invoke(input={\"question\": \"2008年中秋节是什么时间？\"})"
   ]
  },
  {
   "cell_type": "code",
   "execution_count": 140,
   "id": "7fc4a882-eeb3-4eb4-b748-9d12636cd89e",
   "metadata": {},
   "outputs": [
    {
     "data": {
      "text/plain": [
       "'2008-09-14 00:00:00'"
      ]
     },
     "execution_count": 140,
     "metadata": {},
     "output_type": "execute_result"
    }
   ],
   "source": [
    "result"
   ]
  },
  {
   "cell_type": "code",
   "execution_count": 141,
   "id": "b0e66d40-9c4d-4ffb-b0f6-4bb4a4022b33",
   "metadata": {},
   "outputs": [
    {
     "data": {
      "text/plain": [
       "datetime.datetime(2008, 9, 14, 0, 0)"
      ]
     },
     "execution_count": 141,
     "metadata": {},
     "output_type": "execute_result"
    }
   ],
   "source": [
    "parser.parse(result)"
   ]
  },
  {
   "cell_type": "code",
   "execution_count": 142,
   "id": "41640a30-46a1-4e3c-98bd-5a3f6a6b5c10",
   "metadata": {},
   "outputs": [],
   "source": [
    "result = chain.invoke(input={\"question\": \"北京奥运会开幕式是什么几点？\"})"
   ]
  },
  {
   "cell_type": "code",
   "execution_count": 143,
   "id": "d8faff99-e492-4a07-8650-7546b8d87b3e",
   "metadata": {},
   "outputs": [
    {
     "data": {
      "text/plain": [
       "'2008-08-08 20:00:00'"
      ]
     },
     "execution_count": 143,
     "metadata": {},
     "output_type": "execute_result"
    }
   ],
   "source": [
    "result"
   ]
  },
  {
   "cell_type": "code",
   "execution_count": 144,
   "id": "b9080204-ddd1-4470-9cbc-00ca80faaf8f",
   "metadata": {},
   "outputs": [
    {
     "data": {
      "text/plain": [
       "datetime.datetime(2008, 8, 8, 20, 0)"
      ]
     },
     "execution_count": 144,
     "metadata": {},
     "output_type": "execute_result"
    }
   ],
   "source": [
    "parser.parse(result)"
   ]
  },
  {
   "cell_type": "markdown",
   "id": "f7702644-0ff6-45ca-a871-580e411f40a2",
   "metadata": {},
   "source": [
    "### 6. 枚举输出"
   ]
  },
  {
   "cell_type": "code",
   "execution_count": 146,
   "id": "ba827bc2-aa9f-4c22-90c1-884389e220a0",
   "metadata": {},
   "outputs": [],
   "source": [
    "from langchain.output_parsers import EnumOutputParser"
   ]
  },
  {
   "cell_type": "code",
   "execution_count": 147,
   "id": "f2f51bcb-2c21-469e-9bc8-d0eee7615f1f",
   "metadata": {},
   "outputs": [],
   "source": [
    "from enum import Enum"
   ]
  },
  {
   "cell_type": "code",
   "execution_count": 166,
   "id": "456c650c-050e-4978-b89b-76e82dabcd5b",
   "metadata": {},
   "outputs": [],
   "source": [
    "class Color(Enum):\n",
    "    BLUE = \"blue\"\n",
    "    RED = \"red\"\n",
    "    GREEN = \"green\""
   ]
  },
  {
   "cell_type": "code",
   "execution_count": 150,
   "id": "8e3e9462-a369-41ac-b58b-02ffb78d9c0d",
   "metadata": {},
   "outputs": [
    {
     "data": {
      "text/plain": [
       "<Color.BLUE: 'blue'>"
      ]
     },
     "execution_count": 150,
     "metadata": {},
     "output_type": "execute_result"
    }
   ],
   "source": [
    "Color.BLUE"
   ]
  },
  {
   "cell_type": "code",
   "execution_count": 151,
   "id": "8e4d2407-98c1-40a0-a49d-62ad452eea3e",
   "metadata": {},
   "outputs": [],
   "source": [
    "parser = EnumOutputParser(enum=Color)"
   ]
  },
  {
   "cell_type": "code",
   "execution_count": 153,
   "id": "e689a26d-484c-43ec-bc57-734d92748870",
   "metadata": {},
   "outputs": [
    {
     "data": {
      "text/plain": [
       "'Select one of the following options: blue, red, green'"
      ]
     },
     "execution_count": 153,
     "metadata": {},
     "output_type": "execute_result"
    }
   ],
   "source": [
    "parser.get_format_instructions()"
   ]
  },
  {
   "cell_type": "code",
   "execution_count": 169,
   "id": "14a9616e-cc7f-4404-8e9a-f0be2bebebc3",
   "metadata": {},
   "outputs": [],
   "source": [
    "prompt = PromptTemplate.from_template(template=\"{item}是什么颜色的？\\n{format}！Return ONLY your option, no other words!\",\n",
    "                                    partial_variables={\"format\": parser.get_format_instructions()})"
   ]
  },
  {
   "cell_type": "code",
   "execution_count": 170,
   "id": "382eab2b-9d26-40b5-8d0d-e1547daa66fc",
   "metadata": {},
   "outputs": [
    {
     "data": {
      "text/plain": [
       "PromptTemplate(input_variables=['item'], partial_variables={'format': 'Select one of the following options: blue, red, green'}, template='{item}是什么颜色的？\\n{format}！Return ONLY your option, no other words!')"
      ]
     },
     "execution_count": 170,
     "metadata": {},
     "output_type": "execute_result"
    }
   ],
   "source": [
    "prompt"
   ]
  },
  {
   "cell_type": "code",
   "execution_count": 171,
   "id": "a3cd0a2f-557a-4f52-88e1-126706abc84c",
   "metadata": {},
   "outputs": [],
   "source": [
    "chain = prompt | llm"
   ]
  },
  {
   "cell_type": "code",
   "execution_count": 175,
   "id": "099b768d-15b6-4d01-8f77-cb7b2f0aba23",
   "metadata": {},
   "outputs": [],
   "source": [
    "result= chain.invoke(input={\"item\":\"中国国旗\"})"
   ]
  },
  {
   "cell_type": "code",
   "execution_count": 176,
   "id": "f901f9d7-4363-445a-b0ad-74b11f137cd1",
   "metadata": {},
   "outputs": [
    {
     "data": {
      "text/plain": [
       "'red'"
      ]
     },
     "execution_count": 176,
     "metadata": {},
     "output_type": "execute_result"
    }
   ],
   "source": [
    "result"
   ]
  },
  {
   "cell_type": "code",
   "execution_count": 177,
   "id": "eb25b0d9-187a-436b-931c-c8be6de02904",
   "metadata": {},
   "outputs": [
    {
     "data": {
      "text/plain": [
       "<Color.RED: 'red'>"
      ]
     },
     "execution_count": 177,
     "metadata": {},
     "output_type": "execute_result"
    }
   ],
   "source": [
    "parser.parse(result)"
   ]
  },
  {
   "cell_type": "markdown",
   "id": "e2638516-3b09-4c80-b727-4a90d610c8fe",
   "metadata": {},
   "source": [
    "### 7. StructuredOuputParser\n",
    "- 可以用于转换JSON"
   ]
  },
  {
   "cell_type": "code",
   "execution_count": 180,
   "id": "1c4dbad5-69d5-4763-a730-be726c1ed7ef",
   "metadata": {},
   "outputs": [],
   "source": [
    "from langchain.output_parsers import StructuredOutputParser\n",
    "from langchain_core.prompts import PromptTemplate\n",
    "from langchain.output_parsers import ResponseSchema"
   ]
  },
  {
   "cell_type": "code",
   "execution_count": 182,
   "id": "94536bb5-3b78-4823-af1c-6cc61eddcb7b",
   "metadata": {},
   "outputs": [],
   "source": [
    "response_schemas = [\n",
    "    ResponseSchema(name=\"country\", description=\"国家\"),\n",
    "    ResponseSchema(name=\"population\", description=\"这个国家对应的人口数量\")\n",
    "]"
   ]
  },
  {
   "cell_type": "code",
   "execution_count": 184,
   "id": "c6fdc3c5-c249-4efb-9537-c7f22deec596",
   "metadata": {},
   "outputs": [],
   "source": [
    "parser = StructuredOutputParser(response_schemas=response_schemas)"
   ]
  },
  {
   "cell_type": "code",
   "execution_count": 186,
   "id": "d1f2da6a-0895-4ad1-a3fa-e5b4f498349a",
   "metadata": {},
   "outputs": [
    {
     "name": "stdout",
     "output_type": "stream",
     "text": [
      "The output should be a markdown code snippet formatted in the following schema, including the leading and trailing \"```json\" and \"```\":\n",
      "\n",
      "```json\n",
      "{\n",
      "\t\"country\": string  // 国家\n",
      "\t\"population\": string  // 这个国家对应的人口数量\n",
      "}\n",
      "```\n"
     ]
    }
   ],
   "source": [
    "print(parser.get_format_instructions())"
   ]
  },
  {
   "cell_type": "markdown",
   "id": "d2d79353-96a5-4367-ae2d-56c84257a981",
   "metadata": {},
   "source": [
    "```json\n",
    "{\n",
    "\t\"country\": string  // 国家\n",
    "\t\"population\": string  // 这个国家对应的人口数量\n",
    "}\n",
    "```"
   ]
  },
  {
   "cell_type": "code",
   "execution_count": 255,
   "id": "300cb787-550b-4c4d-b2f4-3db5a1d991ba",
   "metadata": {},
   "outputs": [],
   "source": [
    "format = '''The output should be a list containing many JSON objects, just like the following:\n",
    "[{\n",
    "\t\"Country\": string  // 国家\n",
    "\t\"GDP\": string  // 这个国家对应的人口数量\n",
    "}]\n",
    "Remeber: ONLY OUTPUT this list, NO other words! 请用中文输出！\n",
    "'''"
   ]
  },
  {
   "cell_type": "code",
   "execution_count": 256,
   "id": "fb739477-19c3-4ddc-804d-45a43a7ffe99",
   "metadata": {},
   "outputs": [],
   "source": [
    "prompt = PromptTemplate.from_template(template=\"请列出世界上GPD排名前5的国家及其GDP。\\n{format}\",\n",
    "                                     partial_variables={\"format\": format})"
   ]
  },
  {
   "cell_type": "code",
   "execution_count": 257,
   "id": "9da2fa47-55a1-4855-903e-61b6c44d1fce",
   "metadata": {},
   "outputs": [
    {
     "data": {
      "text/plain": [
       "PromptTemplate(input_variables=[], partial_variables={'format': 'The output should be a list containing many JSON objects, just like the following:\\n[{\\n\\t\"Country\": string  // 国家\\n\\t\"GDP\": string  // 这个国家对应的人口数量\\n}]\\nRemeber: ONLY OUTPUT this list, NO other words! 请用中文输出！\\n'}, template='请列出世界上GPD排名前5的国家及其GDP。\\n{format}')"
      ]
     },
     "execution_count": 257,
     "metadata": {},
     "output_type": "execute_result"
    }
   ],
   "source": [
    "prompt"
   ]
  },
  {
   "cell_type": "code",
   "execution_count": 258,
   "id": "dbcea314-24f7-41a1-b9cd-5722e66c807a",
   "metadata": {},
   "outputs": [],
   "source": [
    "chain = prompt | llm"
   ]
  },
  {
   "cell_type": "code",
   "execution_count": 259,
   "id": "eb6ab868-10a9-42b1-abaa-da03abdbac0a",
   "metadata": {},
   "outputs": [],
   "source": [
    "result = chain.invoke(input = {})"
   ]
  },
  {
   "cell_type": "code",
   "execution_count": 260,
   "id": "0ac455b4-6788-4508-85a8-4a1469927ee9",
   "metadata": {},
   "outputs": [
    {
     "data": {
      "text/plain": [
       "'[{\\n\\t\"Country\": \"美国\",\\n\\t\"GDP\": \"21.43万亿美元\"\\n}, {\\n\\t\"Country\": \"中国\",\\n\\t\"GDP\": \"14.14万亿美元\"\\n}, {\\n\\t\"Country\": \"日本\",\\n\\t\"GDP\": \"5.15万亿美元\"\\n}, {\\n\\t\"Country\": \"德国\",\\n\\t\"GDP\": \"4.16万亿美元\"\\n}, {\\n\\t\"Country\": \"英国\",\\n\\t\"GDP\": \"2.62万亿美元\"\\n}]'"
      ]
     },
     "execution_count": 260,
     "metadata": {},
     "output_type": "execute_result"
    }
   ],
   "source": [
    "result"
   ]
  },
  {
   "cell_type": "code",
   "execution_count": 261,
   "id": "670c5083-745e-44ca-a978-9062b108d897",
   "metadata": {},
   "outputs": [],
   "source": [
    "import json"
   ]
  },
  {
   "cell_type": "code",
   "execution_count": 262,
   "id": "1a9d4e27-83c0-42a6-923b-6e56d507aae5",
   "metadata": {},
   "outputs": [
    {
     "data": {
      "text/plain": [
       "[{'Country': '美国', 'GDP': '21.43万亿美元'},\n",
       " {'Country': '中国', 'GDP': '14.14万亿美元'},\n",
       " {'Country': '日本', 'GDP': '5.15万亿美元'},\n",
       " {'Country': '德国', 'GDP': '4.16万亿美元'},\n",
       " {'Country': '英国', 'GDP': '2.62万亿美元'}]"
      ]
     },
     "execution_count": 262,
     "metadata": {},
     "output_type": "execute_result"
    }
   ],
   "source": [
    "json.loads(s=result)"
   ]
  },
  {
   "cell_type": "markdown",
   "id": "689288f2-3f34-4f66-95a6-af2d10f8c9e9",
   "metadata": {},
   "source": [
    "### 8. PydanticOutParser\n",
    "- 类似于 JavaScript中的 TypeScript\n",
    "- 对动态语言中的数据类型，进行约束\n",
    "- 增强代码的鲁棒性，把问题发现在开发阶段，而不是在运行时阶段"
   ]
  },
  {
   "cell_type": "code",
   "execution_count": 263,
   "id": "dcd17d4c-5768-4901-b50b-b824e65b8ac7",
   "metadata": {},
   "outputs": [],
   "source": [
    "from langchain.output_parsers import PydanticOutputParser"
   ]
  },
  {
   "cell_type": "code",
   "execution_count": 293,
   "id": "67b01c5f-a246-4d3c-9cbf-898563fd655f",
   "metadata": {},
   "outputs": [],
   "source": [
    "from langchain.pydantic_v1 import BaseModel\n",
    "from langchain.pydantic_v1 import Field"
   ]
  },
  {
   "cell_type": "code",
   "execution_count": 313,
   "id": "1dd6785f-4af8-4edc-b023-50fb5ebf6d2b",
   "metadata": {},
   "outputs": [],
   "source": [
    "# 把属性定义为类变量\n",
    "class ResultEntity(BaseModel):\n",
    "    \"\"\"\n",
    "    自定义结果输出\n",
    "    \"\"\"\n",
    "    country: str | list  = Field(description=\"这个国家的名字\")\n",
    "    population: str | list = Field(description=\" 这个国家对应的人口\")"
   ]
  },
  {
   "cell_type": "code",
   "execution_count": 299,
   "id": "bc21a1cb-ab10-40e2-a1a6-b9fa988d4f68",
   "metadata": {},
   "outputs": [],
   "source": [
    "parser = PydanticOutputParser(pydantic_object=ResultEntity)"
   ]
  },
  {
   "cell_type": "code",
   "execution_count": 300,
   "id": "38f63f0e-b3d4-44d3-a1e1-98f422efba9f",
   "metadata": {},
   "outputs": [
    {
     "name": "stdout",
     "output_type": "stream",
     "text": [
      "The output should be formatted as a JSON instance that conforms to the JSON schema below.\n",
      "\n",
      "As an example, for the schema {\"properties\": {\"foo\": {\"title\": \"Foo\", \"description\": \"a list of strings\", \"type\": \"array\", \"items\": {\"type\": \"string\"}}}, \"required\": [\"foo\"]}\n",
      "the object {\"foo\": [\"bar\", \"baz\"]} is a well-formatted instance of the schema. The object {\"properties\": {\"foo\": [\"bar\", \"baz\"]}} is not well-formatted.\n",
      "\n",
      "Here is the output schema:\n",
      "```\n",
      "{\"properties\": {\"country\": {\"title\": \"Country\", \"description\": \"\\u8fd9\\u4e2a\\u56fd\\u5bb6\\u7684\\u540d\\u5b57\", \"anyOf\": [{\"type\": \"string\"}, {\"type\": \"array\", \"items\": {}}]}, \"population\": {\"title\": \"Population\", \"description\": \" \\u8fd9\\u4e2a\\u56fd\\u5bb6\\u5bf9\\u5e94\\u7684\\u4eba\\u53e3\", \"anyOf\": [{\"type\": \"string\"}, {\"type\": \"array\", \"items\": {}}]}}, \"required\": [\"country\", \"population\"]}\n",
      "```\n"
     ]
    }
   ],
   "source": [
    "print(parser.get_format_instructions())"
   ]
  },
  {
   "cell_type": "code",
   "execution_count": 301,
   "id": "77874b38-6332-4437-89d0-fa4183b51286",
   "metadata": {},
   "outputs": [],
   "source": [
    "format_instructions = parser.get_format_instructions()"
   ]
  },
  {
   "cell_type": "code",
   "execution_count": 302,
   "id": "f5771e08-e9e9-43d6-bf59-f1dda018f088",
   "metadata": {},
   "outputs": [],
   "source": [
    "prompt = PromptTemplate.from_template(template=\"请列出世界上人口数量排名前5的国家及其人口。\\n{format}\",\n",
    "                                     partial_variables={\"format\": format_instructions})"
   ]
  },
  {
   "cell_type": "code",
   "execution_count": 303,
   "id": "8b8c2cee-0013-4943-b949-80f0ae023e5d",
   "metadata": {},
   "outputs": [
    {
     "data": {
      "text/plain": [
       "PromptTemplate(input_variables=[], partial_variables={'format': 'The output should be formatted as a JSON instance that conforms to the JSON schema below.\\n\\nAs an example, for the schema {\"properties\": {\"foo\": {\"title\": \"Foo\", \"description\": \"a list of strings\", \"type\": \"array\", \"items\": {\"type\": \"string\"}}}, \"required\": [\"foo\"]}\\nthe object {\"foo\": [\"bar\", \"baz\"]} is a well-formatted instance of the schema. The object {\"properties\": {\"foo\": [\"bar\", \"baz\"]}} is not well-formatted.\\n\\nHere is the output schema:\\n```\\n{\"properties\": {\"country\": {\"title\": \"Country\", \"description\": \"\\\\u8fd9\\\\u4e2a\\\\u56fd\\\\u5bb6\\\\u7684\\\\u540d\\\\u5b57\", \"anyOf\": [{\"type\": \"string\"}, {\"type\": \"array\", \"items\": {}}]}, \"population\": {\"title\": \"Population\", \"description\": \" \\\\u8fd9\\\\u4e2a\\\\u56fd\\\\u5bb6\\\\u5bf9\\\\u5e94\\\\u7684\\\\u4eba\\\\u53e3\", \"anyOf\": [{\"type\": \"string\"}, {\"type\": \"array\", \"items\": {}}]}}, \"required\": [\"country\", \"population\"]}\\n```'}, template='请列出世界上人口数量排名前5的国家及其人口。\\n{format}')"
      ]
     },
     "execution_count": 303,
     "metadata": {},
     "output_type": "execute_result"
    }
   ],
   "source": [
    "prompt"
   ]
  },
  {
   "cell_type": "code",
   "execution_count": 304,
   "id": "2a90724e-3167-4278-a73b-b43453215ffe",
   "metadata": {},
   "outputs": [],
   "source": [
    "chain = prompt | llm"
   ]
  },
  {
   "cell_type": "code",
   "execution_count": 305,
   "id": "1f17da37-786a-4c99-9c67-e84ee56cc2d5",
   "metadata": {},
   "outputs": [],
   "source": [
    "result = chain.invoke(input={})"
   ]
  },
  {
   "cell_type": "code",
   "execution_count": 306,
   "id": "0e56c44a-c0d7-45f8-a32b-f521453e024c",
   "metadata": {},
   "outputs": [
    {
     "data": {
      "text/plain": [
       "{'country': ['China', 'India', 'United States', 'Indonesia', 'Pakistan'],\n",
       " 'population': ['1,444,216,107',\n",
       "  '1,393,409,038',\n",
       "  '332,556,431',\n",
       "  '276,361,783',\n",
       "  '225,199,937']}"
      ]
     },
     "execution_count": 306,
     "metadata": {},
     "output_type": "execute_result"
    }
   ],
   "source": [
    "json.loads(s=result)"
   ]
  },
  {
   "cell_type": "code",
   "execution_count": 307,
   "id": "e320bafb-35db-4063-99db-1826c218e210",
   "metadata": {},
   "outputs": [
    {
     "data": {
      "text/plain": [
       "'{\\n  \"country\": [\"China\", \"India\", \"United States\", \"Indonesia\", \"Pakistan\"],\\n  \"population\": [\"1,444,216,107\", \"1,393,409,038\", \"332,556,431\", \"276,361,783\", \"225,199,937\"]\\n}'"
      ]
     },
     "execution_count": 307,
     "metadata": {},
     "output_type": "execute_result"
    }
   ],
   "source": [
    "result"
   ]
  },
  {
   "cell_type": "code",
   "execution_count": 308,
   "id": "98631a8b-4523-4b38-a940-94f82880c569",
   "metadata": {},
   "outputs": [
    {
     "data": {
      "text/plain": [
       "ResultEntity(country=['China', 'India', 'United States', 'Indonesia', 'Pakistan'], population=['1,444,216,107', '1,393,409,038', '332,556,431', '276,361,783', '225,199,937'])"
      ]
     },
     "execution_count": 308,
     "metadata": {},
     "output_type": "execute_result"
    }
   ],
   "source": [
    "parser.parse(result)"
   ]
  },
  {
   "cell_type": "code",
   "execution_count": 311,
   "id": "cec5499f-c045-4f90-b2b0-5ff27cd7e52d",
   "metadata": {},
   "outputs": [],
   "source": [
    "final_result = parser.parse(result).dict()"
   ]
  },
  {
   "cell_type": "code",
   "execution_count": 312,
   "id": "208dd6c8-6509-42af-a18d-6fe14df32d4a",
   "metadata": {},
   "outputs": [
    {
     "data": {
      "text/plain": [
       "{'country': ['China', 'India', 'United States', 'Indonesia', 'Pakistan'],\n",
       " 'population': ['1,444,216,107',\n",
       "  '1,393,409,038',\n",
       "  '332,556,431',\n",
       "  '276,361,783',\n",
       "  '225,199,937']}"
      ]
     },
     "execution_count": 312,
     "metadata": {},
     "output_type": "execute_result"
    }
   ],
   "source": [
    "final_result"
   ]
  },
  {
   "cell_type": "code",
   "execution_count": null,
   "id": "5121f4c9-dd6c-4e48-901b-1eea613514c9",
   "metadata": {},
   "outputs": [],
   "source": []
  }
 ],
 "metadata": {
  "kernelspec": {
   "display_name": "Python 3 (ipykernel)",
   "language": "python",
   "name": "python3"
  },
  "language_info": {
   "codemirror_mode": {
    "name": "ipython",
    "version": 3
   },
   "file_extension": ".py",
   "mimetype": "text/x-python",
   "name": "python",
   "nbconvert_exporter": "python",
   "pygments_lexer": "ipython3",
   "version": "3.12.4"
  }
 },
 "nbformat": 4,
 "nbformat_minor": 5
}
