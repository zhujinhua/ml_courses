{
 "cells": [
  {
   "cell_type": "code",
   "execution_count": 1,
   "id": "b7339ad0-fa50-4df8-9fee-0d6e79f595e8",
   "metadata": {},
   "outputs": [
    {
     "data": {
      "text/plain": [
       "True"
      ]
     },
     "execution_count": 1,
     "metadata": {},
     "output_type": "execute_result"
    }
   ],
   "source": [
    "import os\n",
    "from dotenv import load_dotenv\n",
    "load_dotenv()"
   ]
  },
  {
   "cell_type": "code",
   "execution_count": 2,
   "id": "7a02291e-c2f3-434e-9a1d-4787f5b4f034",
   "metadata": {},
   "outputs": [],
   "source": [
    "from langchain_community.chat_models import ChatTongyi"
   ]
  },
  {
   "cell_type": "code",
   "execution_count": 3,
   "id": "78ca91b0-ec3e-42f9-8b4c-5cfca19729e6",
   "metadata": {},
   "outputs": [],
   "source": [
    "chat = ChatTongyi(temperature=0.01, top_p=0.01)"
   ]
  },
  {
   "cell_type": "markdown",
   "id": "77c58b2f-ee00-427d-a97e-0b04347ba093",
   "metadata": {},
   "source": [
    "### 1. 工具的定义\n",
    "- 查询当前日期的工具\n",
    "- 科学计算的工具\n",
    "- 实时业务信息的查询"
   ]
  },
  {
   "cell_type": "code",
   "execution_count": 4,
   "id": "509a8927-d5a0-4cd4-adcb-8a9d3dd76fc8",
   "metadata": {},
   "outputs": [],
   "source": [
    "# chat.invoke(input=\"今年是哪一年？\")"
   ]
  },
  {
   "cell_type": "code",
   "execution_count": 5,
   "id": "3ae9468a-4ddb-4de2-a8a8-3eeb0b7b862e",
   "metadata": {},
   "outputs": [],
   "source": [
    "# chat.invoke(input=\"0.2的平方根是多少？\")"
   ]
  },
  {
   "cell_type": "code",
   "execution_count": 6,
   "id": "d8076198-a795-4f95-9360-a56cf2d8e83d",
   "metadata": {},
   "outputs": [],
   "source": [
    "from langchain.tools import tool"
   ]
  },
  {
   "cell_type": "code",
   "execution_count": 7,
   "id": "52def05b-358a-4f7f-a620-3ad3b81adbd4",
   "metadata": {},
   "outputs": [],
   "source": [
    "@tool\n",
    "def get_current_datetime() -> str:\n",
    "    \"\"\"\n",
    "        当需要查询现在的日期或时间时，请使用此工具!\n",
    "    \"\"\"\n",
    "    import datetime\n",
    "    now = datetime.datetime.now()\n",
    "    formatted_date = now.strftime(\"%Y-%m-%d %H:%M:%S\")\n",
    "    return formatted_date"
   ]
  },
  {
   "cell_type": "code",
   "execution_count": 52,
   "id": "4adac8c3-2278-486d-a600-7efe26b819c2",
   "metadata": {},
   "outputs": [],
   "source": [
    "@tool\n",
    "def get_vegetable_price(item:str) -> str:\n",
    "    \"\"\"\n",
    "        当查询 **蔬菜** 价格的时候，请调用这个工具！\n",
    "        注意：\n",
    "            1，如果查询的商品不属于蔬菜，请不要使用调用这个工具！\n",
    "            2，返回的价格是按千克计算的，每千克等于两斤！\n",
    "        \n",
    "        \n",
    "        入参：item为蔬菜的名称，只能是[\"胡萝卜\", \"白菜\", \"其它蔬菜\"]中的一种！\n",
    "              注意：除了 \"胡萝卜\" 和 \"白菜\" 之外的蔬菜，都属于 \"其它蔬菜\"！\n",
    "        返参：返回该种蔬菜每千克(1千克等于2斤)的价格，用浮点数形式表达\n",
    "    \"\"\"\n",
    "    if item == \"胡萝卜\":\n",
    "        return \"12.3元/千克\"\n",
    "    elif item == \"白菜\":\n",
    "        return \"8.8元/千克\"\n",
    "    elif item == \"其它蔬菜\":\n",
    "        return \"3.3元/千克\"\n",
    "    else:\n",
    "        raise ValueError('入参有误，参数只能是[\"胡萝卜\", \"白菜\", \"其它蔬菜\"]中的一种！注意：除了 \"胡萝卜\" 和 \"白菜\" 之外的蔬菜，都属于 \"其它蔬菜\"！')"
   ]
  },
  {
   "cell_type": "code",
   "execution_count": 56,
   "id": "3fa91916-a1e1-485c-8b34-6783252ed301",
   "metadata": {},
   "outputs": [],
   "source": [
    "@tool\n",
    "def calculator(expression: str) -> str:\n",
    "    \"\"\"\n",
    "    当涉及到数学计算时，请调用此工具！！\n",
    "\n",
    "    注意：\n",
    "        本工具使用 numexpr 库来实现计算！\n",
    "        入参表达式必须是单行的 数学表达式！不支持其它格式！\n",
    "\n",
    "    举例:\n",
    "        \"37593 * 67\" for \"37593 times 67\"\n",
    "        \"37593**(1/5)\" for \"37593^(1/5)\"\n",
    "    \"\"\"\n",
    "    import math\n",
    "    import numexpr\n",
    "    local_dict = {\"pi\": math.pi, \"e\": math.e}\n",
    "    return str(\n",
    "        numexpr.evaluate(\n",
    "            expression.strip(),\n",
    "            global_dict={},  # restrict access to globals\n",
    "            local_dict=local_dict,  # add common mathematical functions\n",
    "        )\n",
    "    )"
   ]
  },
  {
   "cell_type": "code",
   "execution_count": 57,
   "id": "51505c45-841f-4e20-8712-db674fcdedb8",
   "metadata": {},
   "outputs": [],
   "source": [
    "# 工具集\n",
    "tools = [get_current_datetime, get_vegetable_price, calculator]"
   ]
  },
  {
   "cell_type": "code",
   "execution_count": 58,
   "id": "1ccac404-2a6a-4f47-9076-b0165dc02be0",
   "metadata": {},
   "outputs": [],
   "source": [
    "from langgraph.prebuilt import create_react_agent\n",
    "from langchain_core.messages import HumanMessage"
   ]
  },
  {
   "cell_type": "code",
   "execution_count": 59,
   "id": "35d36876-219f-46f9-8f78-ff88c8ec3179",
   "metadata": {},
   "outputs": [],
   "source": [
    "# 创建一个 代理 agent\n",
    "agent = create_react_agent(model=chat, tools=tools)"
   ]
  },
  {
   "cell_type": "code",
   "execution_count": 60,
   "id": "59143ba9-573c-41e7-9a00-f251719081a7",
   "metadata": {},
   "outputs": [],
   "source": [
    "# chat.invoke(input=\"今年是哪一年？\")"
   ]
  },
  {
   "cell_type": "code",
   "execution_count": 61,
   "id": "905b9860-3b2a-4282-8288-3b9184e9054a",
   "metadata": {},
   "outputs": [],
   "source": [
    "# agent.invoke(input={\"messages\": [HumanMessage(content=\"今年是哪一年？\")]})"
   ]
  },
  {
   "cell_type": "code",
   "execution_count": 62,
   "id": "a694e1cd-d72e-4310-a0a9-19c9a31955fd",
   "metadata": {},
   "outputs": [],
   "source": [
    "# results = agent.invoke(input={\"messages\": [HumanMessage(content=\"我有一个2000年的女朋友，她比我大3岁，我的年龄的平方是多少？\")]})"
   ]
  },
  {
   "cell_type": "code",
   "execution_count": 63,
   "id": "1c56afc6-94e0-4c77-b2cf-89f4ce94a902",
   "metadata": {},
   "outputs": [],
   "source": [
    "# chat.invoke(input=\"土豆多少钱一斤？\")"
   ]
  },
  {
   "cell_type": "code",
   "execution_count": 64,
   "id": "a596ab80-b866-4884-b645-04ace840a764",
   "metadata": {},
   "outputs": [
    {
     "data": {
      "text/plain": [
       "{'messages': [HumanMessage(content='0.25斤白菜多少钱？', additional_kwargs={}, response_metadata={}, id='8fc17033-f4af-4f46-bbeb-ae0bc1ee54d2'),\n",
       "  AIMessage(content='', additional_kwargs={'tool_calls': [{'function': {'name': 'get_vegetable_price', 'arguments': '{\"item\": \"白菜\"}'}, 'index': 0, 'id': 'call_b696c6fc018b4fcf93b51b', 'type': 'function'}]}, response_metadata={'model_name': 'qwen-turbo', 'finish_reason': 'tool_calls', 'request_id': 'f90d1ff0-f76d-9907-a2d1-3c15eeedafe8', 'token_usage': {'input_tokens': 488, 'output_tokens': 20, 'total_tokens': 508}}, id='run-3c27a0b7-f375-4038-8e18-8527f529e908-0', tool_calls=[{'name': 'get_vegetable_price', 'args': {'item': '白菜'}, 'id': 'call_b696c6fc018b4fcf93b51b', 'type': 'tool_call'}]),\n",
       "  ToolMessage(content='8.8元/千克', name='get_vegetable_price', id='55d4a22e-f591-4a12-b289-d05f1e91a2ce', tool_call_id='call_b696c6fc018b4fcf93b51b'),\n",
       "  AIMessage(content='白菜的价格是8.8元每千克，因此0.25斤（即0.125千克）白菜的价格是8.8元 * 0.125 = 1.1元。', additional_kwargs={}, response_metadata={'model_name': 'qwen-turbo', 'finish_reason': 'stop', 'request_id': 'd29662fe-e018-9338-9709-1c870d72df52', 'token_usage': {'input_tokens': 522, 'output_tokens': 49, 'total_tokens': 571}}, id='run-b255ad25-132e-4716-868f-569099e49132-0')]}"
      ]
     },
     "execution_count": 64,
     "metadata": {},
     "output_type": "execute_result"
    }
   ],
   "source": [
    "agent.invoke(input={\"messages\": [HumanMessage(content=\"0.25斤白菜多少钱？\")]})"
   ]
  },
  {
   "cell_type": "code",
   "execution_count": 65,
   "id": "d35ea021-d752-4dda-8173-f9a74c271b63",
   "metadata": {},
   "outputs": [
    {
     "data": {
      "text/plain": [
       "{'messages': [HumanMessage(content='皮鞋多少钱一斤？', additional_kwargs={}, response_metadata={}, id='05d84519-f39f-43ee-8e07-b3c8cfa6be34'),\n",
       "  AIMessage(content='这个问题涉及到的商品并不是蔬菜，因此无法通过`get_vegetable_price`工具查询。皮鞋的价格会根据品牌、材质、制作工艺等多种因素变化，通常不会以“斤”作为计量单位。建议您在具体的商店或者电商平台查找对应款式和品牌的皮鞋价格。如果您是在寻找某种特定类型的皮鞋（比如某种材质的皮鞋），请提供更详细的信息，这样我可以为您提供更准确的指导。', additional_kwargs={}, response_metadata={'model_name': 'qwen-turbo', 'finish_reason': 'stop', 'request_id': 'c145365d-a4b8-9fff-96cd-e9b97fe12510', 'token_usage': {'input_tokens': 486, 'output_tokens': 90, 'total_tokens': 576}}, id='run-8ad52bae-4fcf-49a2-862b-0c85839dfb11-0')]}"
      ]
     },
     "execution_count": 65,
     "metadata": {},
     "output_type": "execute_result"
    }
   ],
   "source": [
    "agent.invoke(input={\"messages\": [HumanMessage(content=\"皮鞋多少钱一斤？\")]})"
   ]
  },
  {
   "cell_type": "code",
   "execution_count": null,
   "id": "5dc265b7-3ad9-4880-b939-d6b368483ccc",
   "metadata": {},
   "outputs": [],
   "source": []
  },
  {
   "cell_type": "code",
   "execution_count": 70,
   "id": "ae751aed-a7ee-4531-a359-994b62a0895c",
   "metadata": {},
   "outputs": [],
   "source": [
    "results = agent.invoke(input={\"messages\": [HumanMessage(content=\"假如新中国成立多少年我就买多少斤胡萝卜，那么我得准备多少钱呢？\")]})"
   ]
  },
  {
   "cell_type": "code",
   "execution_count": 71,
   "id": "0df32ecb-e414-459a-9d2f-5e2e0086cffc",
   "metadata": {},
   "outputs": [
    {
     "data": {
      "text/plain": [
       "{'messages': [HumanMessage(content='假如新中国成立多少年我就买多少斤胡萝卜，那么我得准备多少钱呢？', additional_kwargs={}, response_metadata={}, id='80afb7de-eedf-4da9-b18f-fa81d051922b'),\n",
       "  AIMessage(content='', additional_kwargs={'tool_calls': [{'function': {'name': 'get_vegetable_price', 'arguments': '{\"item\": \"胡萝卜\"}'}, 'index': 0, 'id': 'call_fb98157df7c44d5c92f3bb', 'type': 'function'}]}, response_metadata={'model_name': 'qwen-turbo', 'finish_reason': 'tool_calls', 'request_id': '8e1a1d82-8353-9afc-a43b-49c1aff28b44', 'token_usage': {'input_tokens': 498, 'output_tokens': 20, 'total_tokens': 518}}, id='run-525793a6-5a35-4d22-b1e6-6b131bf3ef1b-0', tool_calls=[{'name': 'get_vegetable_price', 'args': {'item': '胡萝卜'}, 'id': 'call_fb98157df7c44d5c92f3bb', 'type': 'tool_call'}]),\n",
       "  ToolMessage(content='12.3元/千克', name='get_vegetable_price', id='e5aad34c-e8a9-4bab-a1a2-ce0460feae89', tool_call_id='call_fb98157df7c44d5c92f3bb'),\n",
       "  AIMessage(content='', additional_kwargs={'tool_calls': [{'function': {'name': 'get_current_datetime', 'arguments': '{}'}, 'index': 0, 'id': 'call_75442cf0d9354b47830106', 'type': 'function'}]}, response_metadata={'model_name': 'qwen-turbo', 'finish_reason': 'tool_calls', 'request_id': '6f3aae99-52e2-98b4-9e62-fc2cf741b385', 'token_usage': {'input_tokens': 534, 'output_tokens': 15, 'total_tokens': 549}}, id='run-06598529-cb03-435c-bd04-b5409a6adcfc-0', tool_calls=[{'name': 'get_current_datetime', 'args': {}, 'id': 'call_75442cf0d9354b47830106', 'type': 'tool_call'}]),\n",
       "  ToolMessage(content='2024-09-21 22:11:34', name='get_current_datetime', id='060c73d7-3110-4f94-80b0-3db8f3a30cd8', tool_call_id='call_75442cf0d9354b47830106'),\n",
       "  AIMessage(content='', additional_kwargs={'tool_calls': [{'function': {'name': 'calculator', 'arguments': '{\"expression\": \"12.3 * (2024 - 1949)\"}'}, 'index': 0, 'id': 'call_45ed458354e9409486feb4', 'type': 'function'}]}, response_metadata={'model_name': 'qwen-turbo', 'finish_reason': 'tool_calls', 'request_id': '71e8e774-7479-9220-a9e4-e504abe65277', 'token_usage': {'input_tokens': 576, 'output_tokens': 34, 'total_tokens': 610}}, id='run-3e42ce83-78c8-4c59-8985-9deea6213146-0', tool_calls=[{'name': 'calculator', 'args': {'expression': '12.3 * (2024 - 1949)'}, 'id': 'call_45ed458354e9409486feb4', 'type': 'tool_call'}]),\n",
       "  ToolMessage(content='922.5', name='calculator', id='91f008e4-6d43-4846-9ee4-ec08e3e6ad05', tool_call_id='call_45ed458354e9409486feb4'),\n",
       "  AIMessage(content='如果您从新中国成立之日起，每年购买等同于当年成立年份的胡萝卜数量（以斤为单位），那么截至今天（2024年9月21日），您需要准备大约922.5元来购买胡萝卜。', additional_kwargs={}, response_metadata={'model_name': 'qwen-turbo', 'finish_reason': 'stop', 'request_id': 'c5598077-27fc-9269-a92d-355ae5ff7247', 'token_usage': {'input_tokens': 625, 'output_tokens': 55, 'total_tokens': 680}}, id='run-3a626e15-c70c-48bf-b1f8-c3aeb2275673-0')]}"
      ]
     },
     "execution_count": 71,
     "metadata": {},
     "output_type": "execute_result"
    }
   ],
   "source": [
    "results"
   ]
  },
  {
   "cell_type": "code",
   "execution_count": null,
   "id": "7ff1e2f1-ab5e-4b6b-99e6-c0db9fbfe0ae",
   "metadata": {},
   "outputs": [],
   "source": []
  }
 ],
 "metadata": {
  "kernelspec": {
   "display_name": "Python 3 (ipykernel)",
   "language": "python",
   "name": "python3"
  },
  "language_info": {
   "codemirror_mode": {
    "name": "ipython",
    "version": 3
   },
   "file_extension": ".py",
   "mimetype": "text/x-python",
   "name": "python",
   "nbconvert_exporter": "python",
   "pygments_lexer": "ipython3",
   "version": "3.12.4"
  }
 },
 "nbformat": 4,
 "nbformat_minor": 5
}
