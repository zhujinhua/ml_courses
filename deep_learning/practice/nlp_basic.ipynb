{
 "cells": [
  {
   "cell_type": "code",
   "execution_count": 2,
   "id": "3bf47e0b",
   "metadata": {
    "ExecuteTime": {
     "end_time": "2024-07-13T06:59:06.036641Z",
     "start_time": "2024-07-13T06:59:05.210315Z"
    }
   },
   "outputs": [],
   "source": [
    "import jieba\n",
    "import torch\n",
    "from torch import nn"
   ]
  },
  {
   "cell_type": "code",
   "execution_count": 3,
   "id": "283aca0e",
   "metadata": {
    "ExecuteTime": {
     "end_time": "2024-07-13T06:59:06.039488Z",
     "start_time": "2024-07-13T06:59:06.037531Z"
    }
   },
   "outputs": [],
   "source": [
    "s1 = \"我吃饭了！\"\n",
    "s2 = \"今天天气很好！\"\n",
    "s3 = \"这辆车很好看！\""
   ]
  },
  {
   "cell_type": "code",
   "execution_count": 4,
   "id": "7da9764e",
   "metadata": {
    "ExecuteTime": {
     "end_time": "2024-07-13T06:59:06.423193Z",
     "start_time": "2024-07-13T06:59:06.039911Z"
    }
   },
   "outputs": [
    {
     "name": "stderr",
     "output_type": "stream",
     "text": [
      "Building prefix dict from the default dictionary ...\n",
      "Loading model from cache /var/folders/mc/t06t7bmj32zflsscnj8kphfwjl80v8/T/jieba.cache\n",
      "Loading model cost 0.377 seconds.\n",
      "Prefix dict has been built successfully.\n"
     ]
    },
    {
     "data": {
      "text/plain": "['这辆', '车', '很', '好看', '！']"
     },
     "execution_count": 4,
     "metadata": {},
     "output_type": "execute_result"
    }
   ],
   "source": [
    "jieba.lcut(s3)"
   ]
  },
  {
   "cell_type": "code",
   "execution_count": 5,
   "id": "af34d2b2",
   "metadata": {
    "ExecuteTime": {
     "end_time": "2024-07-13T06:59:06.425342Z",
     "start_time": "2024-07-13T06:59:06.423447Z"
    }
   },
   "outputs": [],
   "source": [
    "words = {word for sentence in [s1, s2, s3] for word in jieba.lcut(sentence)}"
   ]
  },
  {
   "cell_type": "code",
   "execution_count": 6,
   "id": "92b5ed80",
   "metadata": {
    "ExecuteTime": {
     "end_time": "2024-07-13T06:59:06.428246Z",
     "start_time": "2024-07-13T06:59:06.426831Z"
    }
   },
   "outputs": [],
   "source": [
    "words.add(\"<UNK>\")"
   ]
  },
  {
   "cell_type": "code",
   "execution_count": 7,
   "id": "3c4a3bb1",
   "metadata": {
    "ExecuteTime": {
     "end_time": "2024-07-13T06:59:06.431074Z",
     "start_time": "2024-07-13T06:59:06.429011Z"
    }
   },
   "outputs": [],
   "source": [
    "words.add(\"<PAD>\")"
   ]
  },
  {
   "cell_type": "code",
   "execution_count": 8,
   "id": "85fbe064",
   "metadata": {
    "ExecuteTime": {
     "end_time": "2024-07-13T06:59:06.435199Z",
     "start_time": "2024-07-13T06:59:06.431517Z"
    }
   },
   "outputs": [
    {
     "data": {
      "text/plain": "{'<PAD>', '<UNK>', '了', '今天天气', '吃饭', '好', '好看', '很', '我', '车', '这辆', '！'}"
     },
     "execution_count": 8,
     "metadata": {},
     "output_type": "execute_result"
    }
   ],
   "source": [
    "words"
   ]
  },
  {
   "cell_type": "code",
   "execution_count": 9,
   "id": "20c11b2b",
   "metadata": {
    "ExecuteTime": {
     "end_time": "2024-07-13T06:59:06.437224Z",
     "start_time": "2024-07-13T06:59:06.435351Z"
    }
   },
   "outputs": [],
   "source": [
    "word2idx = {word: idx for idx, word in enumerate(words)}\n",
    "idx2word = {idx: word for word, idx in word2idx.items()}"
   ]
  },
  {
   "cell_type": "code",
   "execution_count": 10,
   "id": "6ec49ca1",
   "metadata": {
    "ExecuteTime": {
     "end_time": "2024-07-13T06:59:06.468284Z",
     "start_time": "2024-07-13T06:59:06.437679Z"
    }
   },
   "outputs": [
    {
     "data": {
      "text/plain": "{'！': 0,\n '了': 1,\n '今天天气': 2,\n '我': 3,\n '这辆': 4,\n '好看': 5,\n '<UNK>': 6,\n '<PAD>': 7,\n '很': 8,\n '车': 9,\n '吃饭': 10,\n '好': 11}"
     },
     "execution_count": 10,
     "metadata": {},
     "output_type": "execute_result"
    }
   ],
   "source": [
    "word2idx"
   ]
  },
  {
   "cell_type": "code",
   "execution_count": 11,
   "id": "facda31d",
   "metadata": {
    "ExecuteTime": {
     "end_time": "2024-07-13T06:59:06.476561Z",
     "start_time": "2024-07-13T06:59:06.441404Z"
    }
   },
   "outputs": [
    {
     "data": {
      "text/plain": "{0: '！',\n 1: '了',\n 2: '今天天气',\n 3: '我',\n 4: '这辆',\n 5: '好看',\n 6: '<UNK>',\n 7: '<PAD>',\n 8: '很',\n 9: '车',\n 10: '吃饭',\n 11: '好'}"
     },
     "execution_count": 11,
     "metadata": {},
     "output_type": "execute_result"
    }
   ],
   "source": [
    "idx2word"
   ]
  },
  {
   "cell_type": "code",
   "execution_count": 12,
   "id": "bc781c40",
   "metadata": {
    "ExecuteTime": {
     "end_time": "2024-07-13T06:59:06.476893Z",
     "start_time": "2024-07-13T06:59:06.443966Z"
    }
   },
   "outputs": [],
   "source": [
    "s1 = \"我吃饭了！\"\n",
    "s2 = \"今天天气很好！\"\n",
    "s3 = \"这辆车很好看！\""
   ]
  },
  {
   "cell_type": "code",
   "execution_count": 13,
   "id": "9283dbf7",
   "metadata": {
    "ExecuteTime": {
     "end_time": "2024-07-13T06:59:06.477270Z",
     "start_time": "2024-07-13T06:59:06.446801Z"
    }
   },
   "outputs": [
    {
     "data": {
      "text/plain": "[3, 10, 1, 0]"
     },
     "execution_count": 13,
     "metadata": {},
     "output_type": "execute_result"
    }
   ],
   "source": [
    "idx1 = [word2idx.get(word, word2idx.get(\"<UNK>\")) for word in jieba.lcut(s1)]\n",
    "idx1"
   ]
  },
  {
   "cell_type": "code",
   "execution_count": 14,
   "id": "0ee579b8",
   "metadata": {
    "ExecuteTime": {
     "end_time": "2024-07-13T06:59:06.477566Z",
     "start_time": "2024-07-13T06:59:06.450742Z"
    }
   },
   "outputs": [
    {
     "data": {
      "text/plain": "[2, 8, 11, 0]"
     },
     "execution_count": 14,
     "metadata": {},
     "output_type": "execute_result"
    }
   ],
   "source": [
    "idx2 = [word2idx.get(word, word2idx.get(\"<UNK>\")) for word in jieba.lcut(s2)]\n",
    "idx2"
   ]
  },
  {
   "cell_type": "code",
   "execution_count": 15,
   "id": "95780942",
   "metadata": {
    "ExecuteTime": {
     "end_time": "2024-07-13T06:59:06.477738Z",
     "start_time": "2024-07-13T06:59:06.456502Z"
    }
   },
   "outputs": [
    {
     "data": {
      "text/plain": "[4, 9, 8, 5, 0]"
     },
     "execution_count": 15,
     "metadata": {},
     "output_type": "execute_result"
    }
   ],
   "source": [
    "idx3 = [word2idx.get(word, word2idx.get(\"<UNK>\")) for word in jieba.lcut(s3)]\n",
    "idx3"
   ]
  },
  {
   "cell_type": "code",
   "execution_count": 16,
   "id": "d180ad66",
   "metadata": {
    "ExecuteTime": {
     "end_time": "2024-07-13T06:59:06.477815Z",
     "start_time": "2024-07-13T06:59:06.468510Z"
    }
   },
   "outputs": [],
   "source": [
    "# 补 1 个 pad\n",
    "idx1 += [word2idx.get(\"<PAD>\")]"
   ]
  },
  {
   "cell_type": "code",
   "execution_count": 17,
   "id": "53ed92d5",
   "metadata": {
    "ExecuteTime": {
     "end_time": "2024-07-13T06:59:06.477874Z",
     "start_time": "2024-07-13T06:59:06.468651Z"
    }
   },
   "outputs": [],
   "source": [
    "idx2 += [word2idx.get(\"<PAD>\")]"
   ]
  },
  {
   "cell_type": "code",
   "execution_count": 18,
   "id": "02483e3f",
   "metadata": {
    "ExecuteTime": {
     "end_time": "2024-07-13T06:59:06.477979Z",
     "start_time": "2024-07-13T06:59:06.468683Z"
    }
   },
   "outputs": [
    {
     "data": {
      "text/plain": "[3, 10, 1, 0, 7]"
     },
     "execution_count": 18,
     "metadata": {},
     "output_type": "execute_result"
    }
   ],
   "source": [
    "idx1"
   ]
  },
  {
   "cell_type": "code",
   "execution_count": 19,
   "id": "20b2d27e",
   "metadata": {
    "ExecuteTime": {
     "end_time": "2024-07-13T06:59:06.478078Z",
     "start_time": "2024-07-13T06:59:06.468717Z"
    }
   },
   "outputs": [
    {
     "data": {
      "text/plain": "[2, 8, 11, 0, 7]"
     },
     "execution_count": 19,
     "metadata": {},
     "output_type": "execute_result"
    }
   ],
   "source": [
    "idx2"
   ]
  },
  {
   "cell_type": "code",
   "execution_count": 20,
   "id": "276dbde4",
   "metadata": {
    "ExecuteTime": {
     "end_time": "2024-07-13T06:59:06.478259Z",
     "start_time": "2024-07-13T06:59:06.469896Z"
    }
   },
   "outputs": [
    {
     "data": {
      "text/plain": "[4, 9, 8, 5, 0]"
     },
     "execution_count": 20,
     "metadata": {},
     "output_type": "execute_result"
    }
   ],
   "source": [
    "idx3"
   ]
  },
  {
   "cell_type": "code",
   "execution_count": 21,
   "id": "29cbcfd8",
   "metadata": {
    "ExecuteTime": {
     "end_time": "2024-07-13T06:59:06.478364Z",
     "start_time": "2024-07-13T06:59:06.472931Z"
    }
   },
   "outputs": [
    {
     "data": {
      "text/plain": "[[3, 10, 1, 0, 7], [2, 8, 11, 0, 7], [4, 9, 8, 5, 0]]"
     },
     "execution_count": 21,
     "metadata": {},
     "output_type": "execute_result"
    }
   ],
   "source": [
    "[idx1, idx2, idx3]"
   ]
  },
  {
   "cell_type": "code",
   "execution_count": 22,
   "id": "a3d00c01",
   "metadata": {
    "ExecuteTime": {
     "end_time": "2024-07-13T06:59:06.478476Z",
     "start_time": "2024-07-13T06:59:06.476147Z"
    }
   },
   "outputs": [],
   "source": [
    "X = torch.tensor(data=[idx1, idx2, idx3], dtype=torch.long).T"
   ]
  },
  {
   "cell_type": "code",
   "execution_count": 23,
   "id": "f8feae24",
   "metadata": {
    "ExecuteTime": {
     "end_time": "2024-07-13T06:59:06.485242Z",
     "start_time": "2024-07-13T06:59:06.478799Z"
    }
   },
   "outputs": [
    {
     "data": {
      "text/plain": "torch.Size([5, 3])"
     },
     "execution_count": 23,
     "metadata": {},
     "output_type": "execute_result"
    }
   ],
   "source": [
    "# [seq_len, batch_size]\n",
    "X.shape"
   ]
  },
  {
   "cell_type": "code",
   "execution_count": 24,
   "id": "fe1c7437",
   "metadata": {
    "ExecuteTime": {
     "end_time": "2024-07-13T06:59:06.485396Z",
     "start_time": "2024-07-13T06:59:06.481351Z"
    }
   },
   "outputs": [],
   "source": [
    "# word embedding\n",
    "embed = nn.Embedding(num_embeddings=len(word2idx), embedding_dim=6)"
   ]
  },
  {
   "cell_type": "code",
   "execution_count": 25,
   "id": "35f77778",
   "metadata": {
    "ExecuteTime": {
     "end_time": "2024-07-13T06:59:06.491010Z",
     "start_time": "2024-07-13T06:59:06.484500Z"
    }
   },
   "outputs": [
    {
     "data": {
      "text/plain": "12"
     },
     "execution_count": 25,
     "metadata": {},
     "output_type": "execute_result"
    }
   ],
   "source": [
    "len(word2idx)"
   ]
  },
  {
   "cell_type": "code",
   "execution_count": 26,
   "id": "c203db6f",
   "metadata": {
    "ExecuteTime": {
     "end_time": "2024-07-13T06:59:06.552309Z",
     "start_time": "2024-07-13T06:59:06.487047Z"
    }
   },
   "outputs": [],
   "source": [
    "# [3, 5, 12] --> [3, 5, 6]"
   ]
  },
  {
   "cell_type": "code",
   "execution_count": 27,
   "id": "4de47a4e",
   "metadata": {
    "ExecuteTime": {
     "end_time": "2024-07-13T06:59:06.560916Z",
     "start_time": "2024-07-13T06:59:06.490045Z"
    }
   },
   "outputs": [
    {
     "data": {
      "text/plain": "torch.Size([5, 3, 6])"
     },
     "execution_count": 27,
     "metadata": {},
     "output_type": "execute_result"
    }
   ],
   "source": [
    "# [batch_size, seq_len, embedding_dim]\n",
    "embed(X).shape"
   ]
  },
  {
   "cell_type": "code",
   "execution_count": 28,
   "id": "e7eb5489",
   "metadata": {
    "ExecuteTime": {
     "end_time": "2024-07-13T06:59:06.561108Z",
     "start_time": "2024-07-13T06:59:06.492758Z"
    }
   },
   "outputs": [],
   "source": [
    "# [N, C, H, W]\n",
    "# [N, Seq_len, Embedding_dim]"
   ]
  },
  {
   "cell_type": "code",
   "execution_count": 29,
   "id": "745a1ad7",
   "metadata": {
    "ExecuteTime": {
     "end_time": "2024-07-13T06:59:06.561261Z",
     "start_time": "2024-07-13T06:59:06.495141Z"
    }
   },
   "outputs": [
    {
     "data": {
      "text/plain": "torch.nn.modules.rnn.RNN"
     },
     "execution_count": 29,
     "metadata": {},
     "output_type": "execute_result"
    }
   ],
   "source": [
    "nn.RNN"
   ]
  },
  {
   "cell_type": "markdown",
   "source": [
    "$h_t = \\tanh(x_t W_{ih}^T + b_{ih} + h_{t-1}W_{hh}^T + b_{hh})\n",
    "$"
   ],
   "metadata": {
    "collapsed": false
   }
  },
  {
   "cell_type": "code",
   "execution_count": 43,
   "id": "22d75abf",
   "metadata": {
    "ExecuteTime": {
     "end_time": "2024-07-13T06:59:33.640375Z",
     "start_time": "2024-07-13T06:59:33.637073Z"
    }
   },
   "outputs": [],
   "source": [
    "rnn = nn.RNN(input_size=6, hidden_size=7, batch_first=False)"
   ]
  },
  {
   "cell_type": "code",
   "execution_count": 31,
   "id": "ea005c47",
   "metadata": {
    "ExecuteTime": {
     "end_time": "2024-07-13T06:59:06.561450Z",
     "start_time": "2024-07-13T06:59:06.501518Z"
    }
   },
   "outputs": [],
   "source": [
    "X1 = embed(X)"
   ]
  },
  {
   "cell_type": "code",
   "execution_count": 32,
   "id": "7cb08016",
   "metadata": {
    "ExecuteTime": {
     "end_time": "2024-07-13T06:59:06.561526Z",
     "start_time": "2024-07-13T06:59:06.504066Z"
    }
   },
   "outputs": [],
   "source": [
    "out, hn = rnn(X1)"
   ]
  },
  {
   "cell_type": "code",
   "execution_count": 33,
   "id": "758fe493",
   "metadata": {
    "ExecuteTime": {
     "end_time": "2024-07-13T06:59:06.561661Z",
     "start_time": "2024-07-13T06:59:06.507436Z"
    }
   },
   "outputs": [
    {
     "data": {
      "text/plain": "torch.Size([5, 3, 7])"
     },
     "execution_count": 33,
     "metadata": {},
     "output_type": "execute_result"
    }
   ],
   "source": [
    "# 每一步的输出\n",
    "out.shape"
   ]
  },
  {
   "cell_type": "code",
   "execution_count": 34,
   "id": "911da849",
   "metadata": {
    "ExecuteTime": {
     "end_time": "2024-07-13T06:59:06.561778Z",
     "start_time": "2024-07-13T06:59:06.510496Z"
    }
   },
   "outputs": [
    {
     "data": {
      "text/plain": "torch.Size([1, 3, 7])"
     },
     "execution_count": 34,
     "metadata": {},
     "output_type": "execute_result"
    }
   ],
   "source": [
    "# 最后一步的输出\n",
    "hn.shape"
   ]
  },
  {
   "cell_type": "code",
   "execution_count": 35,
   "id": "f0df71f9",
   "metadata": {
    "ExecuteTime": {
     "end_time": "2024-07-13T06:59:06.561902Z",
     "start_time": "2024-07-13T06:59:06.513741Z"
    }
   },
   "outputs": [
    {
     "data": {
      "text/plain": "tensor([[ 0.4206, -0.8645,  0.1780, -0.9479, -0.5214,  0.2152,  0.2334],\n        [ 0.5270, -0.8427,  0.1379, -0.9600, -0.5147,  0.1860,  0.2059],\n        [ 0.1640,  0.2288, -0.9124,  0.0523, -0.2982, -0.6744, -0.7821]],\n       grad_fn=<SliceBackward0>)"
     },
     "execution_count": 35,
     "metadata": {},
     "output_type": "execute_result"
    }
   ],
   "source": [
    "out[-1, :, :]"
   ]
  },
  {
   "cell_type": "code",
   "execution_count": 36,
   "id": "d47ecc14",
   "metadata": {
    "ExecuteTime": {
     "end_time": "2024-07-13T06:59:06.562025Z",
     "start_time": "2024-07-13T06:59:06.517640Z"
    }
   },
   "outputs": [
    {
     "data": {
      "text/plain": "tensor([[[ 0.4206, -0.8645,  0.1780, -0.9479, -0.5214,  0.2152,  0.2334],\n         [ 0.5270, -0.8427,  0.1379, -0.9600, -0.5147,  0.1860,  0.2059],\n         [ 0.1640,  0.2288, -0.9124,  0.0523, -0.2982, -0.6744, -0.7821]]],\n       grad_fn=<StackBackward0>)"
     },
     "execution_count": 36,
     "metadata": {},
     "output_type": "execute_result"
    }
   ],
   "source": [
    "hn"
   ]
  },
  {
   "cell_type": "code",
   "execution_count": null,
   "outputs": [],
   "source": [
    "nn.RNNCell(input_size=128, hidden_size=256)"
   ],
   "metadata": {
    "collapsed": false
   }
  },
  {
   "cell_type": "code",
   "execution_count": 37,
   "id": "3d7be890",
   "metadata": {
    "ExecuteTime": {
     "end_time": "2024-07-13T06:59:06.562108Z",
     "start_time": "2024-07-13T06:59:06.522793Z"
    }
   },
   "outputs": [],
   "source": [
    "class Model(nn.Module):\n",
    "    def __init__(self, dict_len=5000, embedding_dim=256, n_classes=2):\n",
    "        super().__init__()\n",
    "        # 嵌入：词向量\n",
    "        self.embed = nn.Embedding(num_embeddings=dict_len, \n",
    "                                  embedding_dim=embedding_dim)\n",
    "        # 循环神经网络提取特征\n",
    "        self.rnn = nn.RNN(input_size=embedding_dim,\n",
    "                         hidden_size=embedding_dim)\n",
    "        # 转换输出\n",
    "        self.out = nn.Linear(in_features=embedding_dim, \n",
    "                            out_features=n_classes)\n",
    "        \n",
    "    def forward(self, x):\n",
    "        # [seq_len, batch_size] --> [seq_len, batch_size, embedding_dim]\n",
    "        x = self.embed(x)\n",
    "        # out: [seq_len, batch_size, embedding_dim]\n",
    "        # hn: [1, batch_size, embedding_dim]\n",
    "        out, hn = self.rnn(x)\n",
    "        # [1, batch_size, embedding_dim] --> [batch_size, embedding_dim]\n",
    "        x = torch.squeeze(input=hn, dim=0)\n",
    "        # [batch_size, embedding_dim] --> [batch_size, n_classes]\n",
    "        x = self.out(x)\n",
    "        return x"
   ]
  },
  {
   "cell_type": "code",
   "execution_count": 38,
   "id": "922ac3a4",
   "metadata": {
    "ExecuteTime": {
     "end_time": "2024-07-13T06:59:06.562204Z",
     "start_time": "2024-07-13T06:59:06.525359Z"
    }
   },
   "outputs": [],
   "source": [
    "model = Model(dict_len=5000, embedding_dim=256, n_classes=2)"
   ]
  },
  {
   "cell_type": "code",
   "execution_count": 39,
   "id": "6230ded0",
   "metadata": {
    "ExecuteTime": {
     "end_time": "2024-07-13T06:59:06.562473Z",
     "start_time": "2024-07-13T06:59:06.552548Z"
    }
   },
   "outputs": [
    {
     "data": {
      "text/plain": "Model(\n  (embed): Embedding(5000, 256)\n  (rnn): RNN(256, 256)\n  (out): Linear(in_features=256, out_features=2, bias=True)\n)"
     },
     "execution_count": 39,
     "metadata": {},
     "output_type": "execute_result"
    }
   ],
   "source": [
    "model"
   ]
  },
  {
   "cell_type": "code",
   "execution_count": 40,
   "id": "0e463b26",
   "metadata": {
    "ExecuteTime": {
     "end_time": "2024-07-13T06:59:06.562532Z",
     "start_time": "2024-07-13T06:59:06.552722Z"
    }
   },
   "outputs": [],
   "source": [
    "X = torch.randint(low=0, high=5000, size=(26, 3), dtype=torch.long)"
   ]
  },
  {
   "cell_type": "code",
   "execution_count": 41,
   "id": "1c349cc2",
   "metadata": {
    "ExecuteTime": {
     "end_time": "2024-07-13T06:59:06.562637Z",
     "start_time": "2024-07-13T06:59:06.552752Z"
    }
   },
   "outputs": [
    {
     "data": {
      "text/plain": "torch.Size([26, 3])"
     },
     "execution_count": 41,
     "metadata": {},
     "output_type": "execute_result"
    }
   ],
   "source": [
    "# [seq_len, batch_size]\n",
    "X.shape"
   ]
  },
  {
   "cell_type": "code",
   "execution_count": 42,
   "id": "35cfd55f",
   "metadata": {
    "ExecuteTime": {
     "end_time": "2024-07-13T06:59:06.562738Z",
     "start_time": "2024-07-13T06:59:06.553901Z"
    }
   },
   "outputs": [
    {
     "data": {
      "text/plain": "torch.Size([3, 2])"
     },
     "execution_count": 42,
     "metadata": {},
     "output_type": "execute_result"
    }
   ],
   "source": [
    "# [batch_size, n_classes]\n",
    "model(X).shape"
   ]
  },
  {
   "cell_type": "code",
   "execution_count": 46,
   "id": "9ef4e66c",
   "metadata": {
    "ExecuteTime": {
     "end_time": "2024-07-13T07:30:04.712774Z",
     "start_time": "2024-07-13T07:30:04.678283Z"
    }
   },
   "outputs": [],
   "source": [
    "lstm = nn.LSTM(input_size=128, hidden_size=256)"
   ]
  },
  {
   "cell_type": "code",
   "execution_count": 49,
   "outputs": [],
   "source": [
    "X = torch.randn(13, 2, 128)\n",
    "c0 = torch.zeros(1, 2, 256, dtype=torch.float32) # 长期状态\n",
    "h0 = torch.zeros(1, 2, 256, dtype=torch.float32) # 短期状态\n",
    "# out, (hn, cn) = lstm(X, (c0, h0))"
   ],
   "metadata": {
    "collapsed": false,
    "ExecuteTime": {
     "end_time": "2024-07-13T07:32:38.283205Z",
     "start_time": "2024-07-13T07:32:38.276816Z"
    }
   }
  },
  {
   "cell_type": "code",
   "execution_count": 50,
   "outputs": [
    {
     "data": {
      "text/plain": "torch.Size([13, 2, 256])"
     },
     "execution_count": 50,
     "metadata": {},
     "output_type": "execute_result"
    }
   ],
   "source": [
    "out.shape"
   ],
   "metadata": {
    "collapsed": false,
    "ExecuteTime": {
     "end_time": "2024-07-13T07:32:47.951214Z",
     "start_time": "2024-07-13T07:32:47.937882Z"
    }
   }
  },
  {
   "cell_type": "code",
   "execution_count": 52,
   "outputs": [],
   "source": [
    "X = torch.randn(13, 2, 128)\n",
    "c0 = torch.zeros(2, 256, dtype=torch.float32) # 长期状态\n",
    "h0 = torch.zeros(2, 256, dtype=torch.float32) # 短期状态\n",
    "lstm_cell = nn.LSTMCell(input_size=128, hidden_size=256)\n",
    "out = []\n",
    "for x in X:\n",
    "    h0, c0 = lstm_cell(x, (h0, c0))\n",
    "    out.append(h0)"
   ],
   "metadata": {
    "collapsed": false,
    "ExecuteTime": {
     "end_time": "2024-07-13T07:38:27.026872Z",
     "start_time": "2024-07-13T07:38:27.017909Z"
    }
   }
  },
  {
   "cell_type": "code",
   "execution_count": 53,
   "outputs": [
    {
     "data": {
      "text/plain": "tensor([[[ 0.1675, -0.0614,  0.0169,  ..., -0.0652,  0.0325, -0.1295],\n         [ 0.1012, -0.0077, -0.0210,  ...,  0.0178, -0.0410, -0.0682]],\n\n        [[-0.0122,  0.0945, -0.0944,  ...,  0.0014,  0.0194, -0.0010],\n         [ 0.0690, -0.1371, -0.0003,  ...,  0.3057, -0.1202, -0.0566]],\n\n        [[-0.0432,  0.2013, -0.1296,  ...,  0.0198, -0.0545,  0.0972],\n         [ 0.0515, -0.0417, -0.0244,  ...,  0.1871, -0.0542, -0.0828]],\n\n        ...,\n\n        [[ 0.1728,  0.0268,  0.0503,  ..., -0.1391, -0.0713, -0.1325],\n         [ 0.0502,  0.1082,  0.0370,  ..., -0.0046, -0.0384,  0.0046]],\n\n        [[-0.0275,  0.0179,  0.0947,  ..., -0.0690, -0.1117, -0.0279],\n         [ 0.0234,  0.0409, -0.0797,  ..., -0.0004, -0.0634, -0.1005]],\n\n        [[-0.0243, -0.0414,  0.0169,  ...,  0.0033, -0.0872, -0.0816],\n         [-0.1455,  0.1672,  0.0130,  ..., -0.0905,  0.1045, -0.0446]]],\n       grad_fn=<StackBackward0>)"
     },
     "execution_count": 53,
     "metadata": {},
     "output_type": "execute_result"
    }
   ],
   "source": [
    "hn = h0.unsqueeze(dim=0)\n",
    "cn = c0.unsqueeze(dim=0)\n",
    "torch.stack(tensors=out, dim=0)"
   ],
   "metadata": {
    "collapsed": false,
    "ExecuteTime": {
     "end_time": "2024-07-13T07:38:33.041881Z",
     "start_time": "2024-07-13T07:38:33.029391Z"
    }
   }
  },
  {
   "cell_type": "code",
   "execution_count": 55,
   "outputs": [
    {
     "data": {
      "text/plain": "(tensor([[[ 0.5625, -0.4521, -0.2904,  ..., -0.4018, -0.0016,  0.6812],\n          [-0.8867, -0.3558, -0.6299,  ..., -0.5218,  0.7341, -0.6390]],\n \n         [[-0.2211, -0.4959, -0.1156,  ..., -0.2546, -0.1646,  0.2154],\n          [-0.6964, -0.3545, -0.3515,  ..., -0.3695,  0.4752,  0.0509]],\n \n         [[-0.0044, -0.2836, -0.0336,  ..., -0.4338, -0.0371,  0.2066],\n          [-0.6791, -0.1804, -0.4110,  ..., -0.4786,  0.2913, -0.1178]],\n \n         ...,\n \n         [[ 0.2340, -0.1078,  0.2161,  ..., -0.1712, -0.0820,  0.3054],\n          [ 0.3108, -0.0156,  0.1005,  ...,  0.5452,  0.1688,  0.2013]],\n \n         [[ 0.2055, -0.0862,  0.3331,  ..., -0.3964,  0.0330,  0.1954],\n          [ 0.3720, -0.2097,  0.0400,  ...,  0.5283,  0.1772,  0.3714]],\n \n         [[ 0.1953,  0.0301,  0.1913,  ..., -0.0159, -0.0060,  0.2923],\n          [ 0.6132, -0.0329,  0.0219,  ...,  0.3170,  0.2292,  0.2638]]],\n        grad_fn=<StackBackward0>),\n tensor([[[ 1.9533e-01,  3.0062e-02,  1.9127e-01, -3.2366e-02, -8.4780e-02,\n           -1.4244e-01,  2.1188e-02,  3.3328e-01, -2.7531e-01,  9.1916e-03,\n           -1.3487e-01, -7.9867e-02, -6.1355e-02,  6.7016e-03,  2.9998e-02,\n           -1.2581e-01,  1.4098e-01,  1.3066e-01, -4.1822e-01, -9.0942e-02,\n            2.1529e-01, -1.7555e-01,  3.5235e-01, -4.8957e-01,  3.2175e-01,\n           -1.5309e-02,  3.3853e-01, -1.0878e-01,  2.5136e-01,  2.2548e-04,\n            3.6553e-01,  1.5166e-01, -5.5237e-02, -2.1575e-01, -1.9157e-01,\n            1.5087e-01,  2.9494e-01,  1.1612e-01,  1.4429e-01,  4.4397e-02,\n            2.8528e-01, -2.6540e-01,  1.2535e-01, -1.7105e-01,  3.7222e-02,\n           -9.0139e-02, -4.4960e-01,  1.7271e-02,  1.2263e-02, -2.2245e-01,\n            1.5446e-01,  2.8349e-01, -2.7579e-01, -5.6299e-02, -2.2138e-01,\n            7.6828e-02, -2.2025e-02,  9.1501e-02,  2.9361e-01, -1.9660e-01,\n           -3.1049e-01, -1.8664e-01, -2.7372e-01, -2.7611e-01,  1.0159e-01,\n           -8.7390e-02, -1.1335e-01, -2.5267e-02,  4.1139e-02,  2.4021e-03,\n            1.7878e-01,  1.1796e-01,  1.3336e-01,  2.1191e-01, -1.5834e-01,\n           -4.5683e-02,  1.5208e-02, -1.7892e-01, -1.7752e-01,  5.3062e-02,\n            1.8770e-01,  1.8936e-01,  6.7770e-02, -7.4943e-03, -1.4189e-01,\n            3.7564e-02, -6.6450e-02,  2.0286e-01,  2.7858e-01,  1.6199e-01,\n           -1.1912e-02,  3.5913e-01, -5.9601e-01, -3.1434e-01,  2.1467e-01,\n            5.4876e-02, -2.8582e-01,  2.0266e-02, -1.1647e-01, -1.8601e-01,\n           -2.2864e-01,  2.0734e-01, -6.1595e-02, -2.6851e-02,  1.4692e-01,\n            4.0589e-01,  1.5048e-01,  1.9023e-01,  2.0705e-01, -1.3871e-01,\n            7.4945e-02,  1.7595e-01, -2.9813e-01, -1.1670e-01,  1.6215e-01,\n            3.2361e-01,  1.2651e-01,  2.5327e-02, -2.2926e-01,  1.0739e-01,\n            1.3905e-01, -2.5912e-03, -1.0224e-01,  3.7822e-01, -7.2525e-03,\n            3.2926e-01, -4.4870e-02,  1.7119e-03,  2.7249e-01,  3.7524e-02,\n           -1.6731e-01, -7.6205e-02,  2.3310e-01,  2.7646e-01,  1.6992e-01,\n            1.6269e-01,  1.2501e-01,  3.4133e-01, -2.1599e-01,  7.2497e-02,\n           -2.0804e-01,  8.6531e-02,  9.5974e-02, -1.0551e-01,  3.6110e-01,\n            2.9803e-01, -1.7352e-01, -1.6546e-01, -4.3161e-01,  1.7655e-01,\n           -2.2906e-01, -5.4085e-02,  3.1839e-01,  1.0226e-01,  3.0910e-02,\n           -2.9415e-02,  4.9517e-02, -1.6503e-01,  2.0212e-01, -6.6147e-02,\n            5.7840e-02,  1.9601e-03, -2.0618e-01, -3.4266e-01, -2.1042e-01,\n           -8.8691e-02, -4.1915e-01, -3.0557e-01, -1.7714e-01,  9.1535e-02,\n            2.6091e-02, -2.1675e-02,  8.2155e-02,  2.5525e-01,  1.9130e-01,\n            1.2100e-01, -7.6311e-02,  1.6531e-01,  9.9944e-02,  1.0429e-03,\n            5.2655e-02, -3.7564e-01,  1.3013e-01,  1.9514e-01, -5.5206e-02,\n            1.4966e-01, -2.2057e-01,  3.4152e-01,  1.4018e-01, -1.9869e-01,\n           -1.7771e-01, -8.8960e-02, -1.2412e-01,  8.4982e-02, -1.2151e-02,\n            3.9833e-01,  1.0680e-01,  1.8646e-01, -2.9000e-03,  1.4371e-01,\n            1.3923e-01, -4.5189e-01, -2.1024e-02,  2.4710e-01,  1.5022e-03,\n            1.5159e-02,  1.8828e-01,  3.5289e-02, -3.8709e-02, -3.8106e-02,\n           -2.6545e-01,  2.8541e-01,  1.8578e-01,  1.5683e-01,  2.2872e-01,\n            8.5620e-02, -4.4664e-02, -4.1134e-01, -1.9859e-02, -2.5578e-01,\n           -6.6916e-02, -3.6570e-02, -1.8133e-01,  1.6282e-01,  3.0098e-01,\n           -2.0368e-01, -1.4499e-01, -2.2626e-01,  1.3502e-02,  4.3604e-02,\n            5.0404e-02,  3.8651e-02, -2.7412e-01,  1.7134e-01,  2.1735e-01,\n            5.0484e-02,  1.6425e-02,  1.7944e-02, -1.3288e-01, -1.5726e-01,\n            4.3458e-01, -2.8516e-01,  9.4863e-02,  8.5662e-02, -8.4414e-02,\n            1.6932e-01, -1.3514e-01, -1.8100e-01,  1.4643e-01, -2.1187e-01,\n            5.7258e-02, -1.5088e-01, -3.2189e-01, -1.5879e-02, -6.0468e-03,\n            2.9225e-01],\n          [ 6.1323e-01, -3.2880e-02,  2.1917e-02,  1.2267e-01,  4.7338e-02,\n            3.9316e-01, -1.7927e-01,  1.9552e-01, -1.0180e-01, -2.7518e-01,\n            3.3914e-01, -1.4233e-01,  1.1708e-01, -2.4735e-01, -2.4148e-01,\n            2.6274e-01,  2.6121e-01, -2.0407e-01,  2.9924e-01, -9.5054e-02,\n            5.4968e-02, -6.7678e-02, -2.9751e-01, -2.7920e-01, -3.3297e-01,\n           -1.0441e-02, -5.2404e-02, -3.4562e-01,  1.2484e-01, -1.6360e-02,\n           -3.0005e-01, -8.2589e-02, -1.2747e-01, -8.3317e-02,  4.2912e-02,\n           -1.8277e-01, -8.6862e-02,  2.0571e-01, -3.2153e-01,  3.0904e-01,\n           -8.0069e-03, -2.4511e-01,  1.4952e-01, -6.5283e-03, -1.2958e-01,\n           -4.7521e-01,  2.2095e-01, -1.4731e-01, -2.5419e-03, -1.1323e-01,\n            2.6312e-01, -1.9437e-02,  1.7395e-02,  1.8141e-01,  6.7328e-02,\n            1.9575e-02, -3.4140e-01, -6.2458e-02,  1.1748e-02, -2.6186e-02,\n            1.4517e-01,  3.2985e-01, -3.2072e-01, -1.9279e-01,  4.0575e-01,\n            1.4448e-01,  1.3249e-01,  3.5295e-01,  3.1592e-01,  3.1458e-01,\n           -2.2582e-01,  3.0315e-03,  1.9582e-01,  1.8538e-01, -3.7889e-01,\n           -3.1313e-01,  1.2950e-01, -3.7231e-02, -1.2211e-01, -1.6923e-01,\n            5.6830e-02,  2.0921e-01,  1.3472e-01, -4.0002e-01,  3.0931e-01,\n            1.4987e-01, -7.6841e-02,  9.7475e-02,  8.6365e-02, -3.4015e-01,\n            1.3197e-01,  3.1216e-02, -8.3764e-02, -1.2986e-01, -1.5071e-02,\n           -3.9636e-01, -2.2125e-01,  3.5478e-01,  4.9172e-02,  1.4319e-01,\n           -4.4757e-01,  1.2275e-01, -1.6336e-01, -8.5239e-02,  1.7568e-01,\n            2.5362e-02,  2.0836e-01,  5.7655e-02,  2.7887e-02,  2.3908e-01,\n            2.0443e-01, -2.6036e-01,  5.3142e-02,  3.6790e-01, -1.7128e-01,\n            1.3490e-01, -1.8185e-01,  3.5150e-01, -2.1110e-01, -1.5014e-01,\n            3.1071e-02,  2.0851e-01,  7.9911e-02,  4.8273e-02, -3.9960e-01,\n            1.1258e-01, -1.0506e-01, -2.9918e-01,  4.1597e-02,  1.0959e-01,\n           -1.7411e-01, -2.4639e-01,  4.6389e-01,  2.8575e-02, -1.8869e-01,\n            1.1095e-02,  3.4173e-01, -1.9689e-01, -1.0521e-01, -4.7589e-01,\n           -1.4174e-01,  2.7788e-02,  2.5369e-01, -4.2986e-02, -2.2187e-01,\n           -1.8528e-03,  3.7175e-01, -1.0302e-01, -1.9757e-02,  1.3027e-01,\n            1.3862e-01, -4.1683e-03, -7.8813e-03,  2.7004e-01, -1.3218e-01,\n           -1.1272e-01, -4.5447e-01, -6.7295e-03, -1.7467e-02,  1.1000e-01,\n            2.5066e-01, -2.0203e-01, -1.7337e-01, -9.8092e-02, -7.1650e-02,\n            1.1439e-01, -4.3444e-01,  1.1274e-01, -4.3149e-01, -2.7763e-01,\n            6.0055e-03, -1.6970e-01, -4.2566e-02,  1.0233e-02,  2.4848e-01,\n            1.9454e-01,  8.6298e-02, -1.4068e-02, -1.2721e-02, -1.2191e-03,\n            1.4384e-01, -2.3230e-01,  3.2034e-01,  3.2800e-01, -7.8336e-02,\n           -1.1281e-01, -1.4337e-01, -1.9374e-01, -1.8540e-01, -1.2864e-01,\n            7.4400e-02,  3.9634e-01, -1.8355e-01,  1.7762e-01, -1.1197e-01,\n           -1.0599e-01,  1.2286e-01,  1.4516e-01, -3.6064e-01,  1.0581e-01,\n            8.1602e-02,  4.7539e-01,  4.8771e-02,  7.0724e-02,  5.6359e-03,\n            3.0755e-02,  4.1315e-01, -5.6720e-02,  3.4050e-01, -2.6658e-01,\n            1.2224e-02, -2.6830e-01, -6.0866e-02, -3.6010e-01,  2.4251e-01,\n            4.8084e-02, -6.0212e-02,  9.9608e-02, -6.5741e-02,  2.0421e-01,\n            1.4277e-02,  2.6199e-01,  2.3531e-01, -4.0840e-02, -2.8493e-01,\n            1.2917e-01,  1.5501e-01,  1.3944e-01, -1.6342e-01,  4.6056e-01,\n            3.8621e-01,  2.8722e-01,  1.4678e-01, -5.6144e-01,  6.8329e-02,\n           -1.9839e-02,  8.9613e-02,  9.2457e-02, -1.5987e-01,  2.3587e-01,\n           -2.2546e-01,  2.9465e-01, -2.3946e-01, -1.2466e-02, -1.6115e-01,\n            1.2843e-01,  2.6075e-02,  5.0016e-02, -2.4480e-01,  1.0536e-01,\n            2.2200e-01, -2.3855e-02, -1.6394e-01,  3.1700e-01,  2.2922e-01,\n            2.6376e-01]]], grad_fn=<StackBackward0>))"
     },
     "execution_count": 55,
     "metadata": {},
     "output_type": "execute_result"
    }
   ],
   "source": [
    "gru = nn.GRU(input_size=128, hidden_size=256)\n",
    "X = torch.randn(13, 2, 128)\n",
    "h0 = torch.randn(1, 2, 256, dtype=torch.float32)\n",
    "out, hn = gru(X, h0)"
   ],
   "metadata": {
    "collapsed": false,
    "ExecuteTime": {
     "end_time": "2024-07-13T07:40:44.242370Z",
     "start_time": "2024-07-13T07:40:44.233899Z"
    }
   }
  },
  {
   "cell_type": "code",
   "execution_count": null,
   "outputs": [],
   "source": [],
   "metadata": {
    "collapsed": false
   }
  }
 ],
 "metadata": {
  "kernelspec": {
   "display_name": "Python 3 (ipykernel)",
   "language": "python",
   "name": "python3"
  },
  "language_info": {
   "codemirror_mode": {
    "name": "ipython",
    "version": 3
   },
   "file_extension": ".py",
   "mimetype": "text/x-python",
   "name": "python",
   "nbconvert_exporter": "python",
   "pygments_lexer": "ipython3",
   "version": "3.10.9"
  }
 },
 "nbformat": 4,
 "nbformat_minor": 5
}
