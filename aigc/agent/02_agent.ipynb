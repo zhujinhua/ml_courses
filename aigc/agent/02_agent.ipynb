{
 "cells": [
  {
   "cell_type": "code",
   "execution_count": 1,
   "id": "2a2612a8-6ad3-4646-a9f2-b57ffeaff9db",
   "metadata": {},
   "outputs": [],
   "source": [
    "from utils import get_qwen_models"
   ]
  },
  {
   "cell_type": "code",
   "execution_count": 3,
   "id": "e7fa2afc-2871-4857-b72b-9719e12789af",
   "metadata": {},
   "outputs": [],
   "source": [
    "_, chat, _ = get_qwen_models()"
   ]
  },
  {
   "cell_type": "code",
   "execution_count": 32,
   "id": "046a6f42-e49a-4a46-8abd-455ac783274a",
   "metadata": {},
   "outputs": [
    {
     "data": {
      "text/plain": [
       "AIMessage(content='我是一个AI模型，无法实时获取当前时间。请您查看您的设备或询问语音助手获取准确时间。', response_metadata={'model_name': 'qwen-max', 'finish_reason': 'stop', 'request_id': 'dc23f29f-4e49-98ac-9a26-e70e9d86d070', 'token_usage': {'input_tokens': 12, 'output_tokens': 23, 'total_tokens': 35}}, id='run-a68b3413-a2c5-43cc-a118-50de5e9d0f18-0')"
      ]
     },
     "execution_count": 32,
     "metadata": {},
     "output_type": "execute_result"
    }
   ],
   "source": [
    "chat.invoke(input=\"现在几点了？\")"
   ]
  },
  {
   "cell_type": "code",
   "execution_count": 38,
   "id": "bf9a23b5-e6ba-4cf6-9d91-5d9dc8d30638",
   "metadata": {},
   "outputs": [],
   "source": [
    "from langchain.agents import tool"
   ]
  },
  {
   "cell_type": "code",
   "execution_count": 63,
   "id": "f4b65cbe-f66c-45f3-89b9-8fef0720e8ec",
   "metadata": {},
   "outputs": [],
   "source": [
    "def get_datetime() -> str:\n",
    "    \"\"\"\n",
    "        跟日期或时间查询相关的问题，请调用此方法\n",
    "        注意：\n",
    "            - 此方法没有入参\n",
    "            - 返参是字符串形式的日期和时间，格式为：%Y-%m-%d %H:%M:%S\n",
    "    \"\"\"\n",
    "    \n",
    "    import datetime\n",
    "    now = datetime.datetime.now()\n",
    "    formatted_time = now.strftime(\"%Y-%m-%d %H:%M:%S\")\n",
    "    return formatted_time"
   ]
  },
  {
   "cell_type": "code",
   "execution_count": 64,
   "id": "3e19baca-afc5-4399-8b89-9d4814d37c60",
   "metadata": {},
   "outputs": [],
   "source": [
    "binded_chat = chat.bind_tools(tools=[get_datetime])"
   ]
  },
  {
   "cell_type": "code",
   "execution_count": 65,
   "id": "2fa34f25-6bbb-4c7a-9f45-f44d4c84d4ae",
   "metadata": {},
   "outputs": [
    {
     "data": {
      "text/plain": [
       "AIMessage(content='', additional_kwargs={'tool_calls': [{'function': {'name': 'get_datetime', 'arguments': '{}'}, 'index': 0, 'id': 'call_87bf316b5d0c49179b2dab', 'type': 'function'}]}, response_metadata={'model_name': 'qwen-max', 'finish_reason': 'tool_calls', 'request_id': '882ddcdb-a1ef-9b8c-833e-03ae1b87960e', 'token_usage': {'input_tokens': 197, 'output_tokens': 12, 'total_tokens': 209}}, id='run-a4656330-9049-4158-a88e-64df4643cc73-0', tool_calls=[{'name': 'get_datetime', 'args': {}, 'id': 'call_87bf316b5d0c49179b2dab', 'type': 'tool_call'}])"
      ]
     },
     "execution_count": 65,
     "metadata": {},
     "output_type": "execute_result"
    }
   ],
   "source": [
    "binded_chat.invoke(\"现在几点了？\")"
   ]
  },
  {
   "cell_type": "code",
   "execution_count": 66,
   "id": "2465255f-efea-44e3-b2e2-4033f8921811",
   "metadata": {},
   "outputs": [],
   "source": [
    "# from langchain.agents import create_react_agent"
   ]
  },
  {
   "cell_type": "code",
   "execution_count": 67,
   "id": "c8d19bd0-d7ec-4e9e-9f2f-669427016967",
   "metadata": {},
   "outputs": [],
   "source": [
    "from langchain_core.prompts import PromptTemplate\n",
    "\n",
    "prompt = PromptTemplate.from_template(\"Answer the following questions as best you can. You have access to the following tools:\\n\\n{tools}\\n\\nUse the following format:\\n\\nQuestion: the input question you must answer\\nThought: you should always think about what to do\\nAction: the action to take, should be one of [{tool_names}]\\nAction Input: the input to the action\\nObservation: the result of the action\\n... (this Thought/Action/Action Input/Observation can repeat N times)\\nThought: I now know the final answer\\nFinal Answer: the final answer to the original input question\\n\\nBegin!\\n\\nQuestion: {input}\\nThought:{agent_scratchpad}\")"
   ]
  },
  {
   "cell_type": "code",
   "execution_count": 68,
   "id": "cdd1354d-6cd0-4fdd-8451-c92a33ad26a5",
   "metadata": {},
   "outputs": [],
   "source": [
    "# agent = create_react_agent(llm=chat, tools=[get_datetime], prompt=prompt)"
   ]
  },
  {
   "cell_type": "code",
   "execution_count": 69,
   "id": "b8116984-fbd6-4f05-8cd5-3693111696d8",
   "metadata": {},
   "outputs": [],
   "source": [
    "# from langchain_core.messages import HumanMessage"
   ]
  },
  {
   "cell_type": "code",
   "execution_count": 70,
   "id": "f412f748-fb4c-477e-b052-dbd2deda0b16",
   "metadata": {},
   "outputs": [],
   "source": [
    "# agent.invoke({\"input\": [HumanMessage(content=\"现在几点了？\")]})"
   ]
  },
  {
   "cell_type": "code",
   "execution_count": 71,
   "id": "9d1935df-4d59-41f1-a366-dde8b6d731b2",
   "metadata": {},
   "outputs": [],
   "source": [
    "from langgraph.prebuilt import create_react_agent"
   ]
  },
  {
   "cell_type": "code",
   "execution_count": 72,
   "id": "4cc5d0f0-8453-4659-af62-04ae38e12933",
   "metadata": {},
   "outputs": [],
   "source": [
    "agent = create_react_agent(model=chat, tools=[get_datetime])"
   ]
  },
  {
   "cell_type": "code",
   "execution_count": 73,
   "id": "c7153ef2-26a4-4a8f-9120-92bacabcb3a1",
   "metadata": {},
   "outputs": [],
   "source": [
    "results = agent.invoke(input={\"messages\": [HumanMessage(content=\"现在几点了？\")]})"
   ]
  },
  {
   "cell_type": "code",
   "execution_count": 74,
   "id": "0abc4221-7cbc-4cf6-8949-f3319f844001",
   "metadata": {},
   "outputs": [],
   "source": [
    "messages = results[\"messages\"]"
   ]
  },
  {
   "cell_type": "code",
   "execution_count": 75,
   "id": "b95a4aa2-1afd-429b-8dd4-aa29ae4bf885",
   "metadata": {},
   "outputs": [
    {
     "data": {
      "text/plain": [
       "4"
      ]
     },
     "execution_count": 75,
     "metadata": {},
     "output_type": "execute_result"
    }
   ],
   "source": [
    "len(messages)"
   ]
  },
  {
   "cell_type": "code",
   "execution_count": 76,
   "id": "0e96f294-2461-4c79-a90d-c5d043219072",
   "metadata": {},
   "outputs": [
    {
     "data": {
      "text/plain": [
       "HumanMessage(content='现在几点了？', id='d1cfa261-3f1a-49db-a99b-c11a5e4174e2')"
      ]
     },
     "execution_count": 76,
     "metadata": {},
     "output_type": "execute_result"
    }
   ],
   "source": [
    "messages[0]"
   ]
  },
  {
   "cell_type": "code",
   "execution_count": 77,
   "id": "f96c3d0d-20e5-4f32-935f-bd51cf846f1e",
   "metadata": {},
   "outputs": [
    {
     "data": {
      "text/plain": [
       "AIMessage(content='', additional_kwargs={'tool_calls': [{'function': {'name': 'get_datetime', 'arguments': '{}'}, 'index': 0, 'id': 'call_58341d83ddbf43f4a626b7', 'type': 'function'}]}, response_metadata={'model_name': 'qwen-max', 'finish_reason': 'tool_calls', 'request_id': '8aaefdda-58c8-90f9-9bcc-52f976c0505e', 'token_usage': {'input_tokens': 197, 'output_tokens': 12, 'total_tokens': 209}}, id='run-fe56081a-c76b-48ad-ab71-846b5fab9efc-0', tool_calls=[{'name': 'get_datetime', 'args': {}, 'id': 'call_58341d83ddbf43f4a626b7', 'type': 'tool_call'}])"
      ]
     },
     "execution_count": 77,
     "metadata": {},
     "output_type": "execute_result"
    }
   ],
   "source": [
    "messages[1]"
   ]
  },
  {
   "cell_type": "code",
   "execution_count": 78,
   "id": "3f182cb2-62ef-4cd3-9bfe-cf82f9d9c0cc",
   "metadata": {},
   "outputs": [
    {
     "data": {
      "text/plain": [
       "ToolMessage(content='2024-08-27 22:04:17', name='get_datetime', id='0930e661-dde3-40db-b66a-aef429f263ff', tool_call_id='call_58341d83ddbf43f4a626b7')"
      ]
     },
     "execution_count": 78,
     "metadata": {},
     "output_type": "execute_result"
    }
   ],
   "source": [
    "messages[2]"
   ]
  },
  {
   "cell_type": "code",
   "execution_count": 79,
   "id": "12517772-111c-4f86-be30-9b6a1f1f6d98",
   "metadata": {},
   "outputs": [
    {
     "data": {
      "text/plain": [
       "'2024-08-27 22:04:27'"
      ]
     },
     "execution_count": 79,
     "metadata": {},
     "output_type": "execute_result"
    }
   ],
   "source": [
    "get_datetime()"
   ]
  },
  {
   "cell_type": "code",
   "execution_count": 80,
   "id": "50594346-b8b3-4bdd-a4a6-3cbf02de9add",
   "metadata": {},
   "outputs": [
    {
     "data": {
      "text/plain": [
       "AIMessage(content='现在的时间是22:04:17。', response_metadata={'model_name': 'qwen-max', 'finish_reason': 'stop', 'request_id': '26e6beb9-2d38-9a12-853e-6e2d07d737c5', 'token_usage': {'input_tokens': 237, 'output_tokens': 16, 'total_tokens': 253}}, id='run-df11c734-3725-419c-b319-9baf1bcecd31-0')"
      ]
     },
     "execution_count": 80,
     "metadata": {},
     "output_type": "execute_result"
    }
   ],
   "source": [
    "messages[3]"
   ]
  },
  {
   "cell_type": "code",
   "execution_count": 83,
   "id": "1417ad44-0625-4562-bfb1-f04863f274b4",
   "metadata": {},
   "outputs": [],
   "source": [
    "results = agent.invoke(input={\"messages\": [HumanMessage(content=\"北京大还是上海大？\")]})"
   ]
  },
  {
   "cell_type": "code",
   "execution_count": 84,
   "id": "f658e3b9-ba7e-49b3-ba71-dccfb562b068",
   "metadata": {},
   "outputs": [
    {
     "data": {
      "text/plain": [
       "{'messages': [HumanMessage(content='北京大还是上海大？', id='50db733a-55f8-4076-9024-2d4e01972d0e'),\n",
       "  AIMessage(content='北京和上海都是中国的大都市，但就行政区域面积而言，北京比上海大。北京市的面积约为16,410.54平方千米，而上海市的面积约为6,340.5平方千米。然而，如果从城市人口或建成区规模来看，上海可能在某些方面显得更为繁华密集。所以，回答这个问题时需要考虑比较的具体维度。', response_metadata={'model_name': 'qwen-max', 'finish_reason': 'stop', 'request_id': 'e8602b03-3dee-9b93-bf9e-d6565c344216', 'token_usage': {'input_tokens': 199, 'output_tokens': 84, 'total_tokens': 283}}, id='run-1dda6383-4056-48de-a2c0-9a44e267845d-0')]}"
      ]
     },
     "execution_count": 84,
     "metadata": {},
     "output_type": "execute_result"
    }
   ],
   "source": [
    "results"
   ]
  },
  {
   "cell_type": "code",
   "execution_count": null,
   "id": "48a372de-493b-48e7-b53a-df0ee0fd6855",
   "metadata": {},
   "outputs": [],
   "source": []
  }
 ],
 "metadata": {
  "kernelspec": {
   "display_name": "Python 3 (ipykernel)",
   "language": "python",
   "name": "python3"
  },
  "language_info": {
   "codemirror_mode": {
    "name": "ipython",
    "version": 3
   },
   "file_extension": ".py",
   "mimetype": "text/x-python",
   "name": "python",
   "nbconvert_exporter": "python",
   "pygments_lexer": "ipython3",
   "version": "3.12.3"
  }
 },
 "nbformat": 4,
 "nbformat_minor": 5
}
