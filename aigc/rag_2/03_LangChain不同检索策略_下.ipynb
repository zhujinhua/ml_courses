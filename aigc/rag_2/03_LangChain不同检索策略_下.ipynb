{
 "cells": [
  {
   "cell_type": "markdown",
   "id": "22d294b5-eb20-455a-8b72-8abbb35892c2",
   "metadata": {},
   "source": [
    "### 0. 基础环境"
   ]
  },
  {
   "cell_type": "code",
   "execution_count": 1,
   "id": "4e7c4567-832d-4fdb-acb9-f5e1623401ee",
   "metadata": {},
   "outputs": [],
   "source": [
    "# 环境变量\n",
    "from dotenv import load_dotenv\n",
    "load_dotenv(dotenv_path=\".baidu_env\")\n",
    "# LLM\n",
    "from langchain_community.llms.baidu_qianfan_endpoint import QianfanLLMEndpoint\n",
    "# 千帆大模型\n",
    "from langchain_community.chat_models.baidu_qianfan_endpoint import QianfanChatEndpoint\n",
    "# 嵌入模型\n",
    "from langchain_community.embeddings import QianfanEmbeddingsEndpoint\n",
    "# LLM\n",
    "llm = QianfanLLMEndpoint(model=\"ERNIE-4.0-8K\")\n",
    "# 模型构建\n",
    "chat = QianfanChatEndpoint(model=\"ERNIE-4.0-8K\")\n",
    "\n",
    "embed = QianfanEmbeddingsEndpoint(model='bge-large-zh')"
   ]
  },
  {
   "cell_type": "markdown",
   "id": "337ffef7-aad6-4258-8357-36c49c50e864",
   "metadata": {},
   "source": [
    "### 1.  基础检索器"
   ]
  },
  {
   "cell_type": "code",
   "execution_count": 2,
   "id": "e85679d5-2d41-425c-b574-17cf9c0787b9",
   "metadata": {},
   "outputs": [
    {
     "name": "stderr",
     "output_type": "stream",
     "text": [
      "D:\\software\\anaconda3\\Lib\\site-packages\\onnxruntime\\capi\\onnxruntime_validation.py:26: UserWarning: Unsupported Windows version (11). ONNX Runtime supports Windows 10 and above, only.\n",
      "  warnings.warn(\n",
      "USER_AGENT environment variable not set, consider setting it to identify your requests.\n"
     ]
    }
   ],
   "source": [
    "from langchain_chroma import Chroma\n",
    "from langchain_community.document_loaders import WebBaseLoader\n",
    "from langchain_text_splitters.character import RecursiveCharacterTextSplitter"
   ]
  },
  {
   "cell_type": "code",
   "execution_count": 3,
   "id": "7ceaa4b4-8846-4aec-947b-beea514cc2bf",
   "metadata": {},
   "outputs": [],
   "source": [
    "# 实例化在线资源加载\n",
    "web_loader = WebBaseLoader(web_path=\"https://baike.baidu.com/item/%E6%AF%9B%E6%B3%BD%E4%B8%9C\")"
   ]
  },
  {
   "cell_type": "code",
   "execution_count": 4,
   "id": "919029ee-ee0c-4beb-a78f-c54455c80ff9",
   "metadata": {},
   "outputs": [],
   "source": [
    "# 加载资源\n",
    "web_docs = web_loader.load()"
   ]
  },
  {
   "cell_type": "code",
   "execution_count": 5,
   "id": "558754b4-3321-420a-8360-0e75e7837b93",
   "metadata": {},
   "outputs": [],
   "source": [
    "# 初始化 spliter\n",
    "spliter = RecursiveCharacterTextSplitter(chunk_size=512, chunk_overlap=128)"
   ]
  },
  {
   "cell_type": "code",
   "execution_count": 6,
   "id": "4c60e3b1-2fec-446b-8304-b75c364ef1d7",
   "metadata": {
    "scrolled": true
   },
   "outputs": [],
   "source": [
    "# 切分文档\n",
    "docs = spliter.split_documents(documents=web_docs)"
   ]
  },
  {
   "cell_type": "code",
   "execution_count": 7,
   "id": "b82cf393-2624-4558-a1d2-1d28496ec0e8",
   "metadata": {},
   "outputs": [
    {
     "name": "stderr",
     "output_type": "stream",
     "text": [
      "[INFO][2024-08-29 21:34:31.094] oauth.py:228 [t:8352]: trying to refresh access_token for ak `i4ba2u***`\n",
      "[INFO][2024-08-29 21:34:31.320] oauth.py:243 [t:8352]: sucessfully refresh access_token\n"
     ]
    }
   ],
   "source": [
    "db = Chroma.from_documents(documents=docs, embedding=embed, persist_directory=\"./chroma_data3\")"
   ]
  },
  {
   "cell_type": "markdown",
   "id": "ac97d35b-4290-455f-9af0-4bc6636f5293",
   "metadata": {},
   "source": [
    "### 基本检索"
   ]
  },
  {
   "cell_type": "code",
   "execution_count": 8,
   "id": "6d5c0422-b109-4994-8bc0-ef64b9780e06",
   "metadata": {},
   "outputs": [],
   "source": [
    "# 注意传参数 带阈值参数\n",
    "retriever = db.as_retriever(\n",
    "    # 距离度量标准，similarity 默认：欧式距离\n",
    "    search_type =\"similarity_score_threshold\",\n",
    "    # 搜索参数\n",
    "    search_kwargs={\"k\": 4, \"score_threshold\": 0.50}\n",
    ")"
   ]
  },
  {
   "cell_type": "code",
   "execution_count": 9,
   "id": "e6e673f2-7563-4fd3-b0c2-4b4ca811ba6d",
   "metadata": {},
   "outputs": [],
   "source": [
    "results = retriever.invoke(\"毛主席是谁？\")"
   ]
  },
  {
   "cell_type": "markdown",
   "id": "5ea82ca8-616d-4b9b-9353-a5de880457cb",
   "metadata": {},
   "source": [
    "### 集成检索器\n",
    "- 思想：类似与集成学习\n",
    "- 首先：使用多个检索器对向量数据库进行内容检索\n",
    "- 然后：基于倒数排序融合算法(RRF)对结果进行融合和排序"
   ]
  },
  {
   "cell_type": "code",
   "execution_count": 10,
   "id": "30bfe566-baa1-4a52-9287-e187789d20af",
   "metadata": {},
   "outputs": [],
   "source": [
    "from langchain.retrievers import BM25Retriever, EnsembleRetriever"
   ]
  },
  {
   "cell_type": "code",
   "execution_count": 12,
   "id": "3ec4a6fb-0d2d-4163-bea6-146eca7752e7",
   "metadata": {},
   "outputs": [
    {
     "name": "stdout",
     "output_type": "stream",
     "text": [
      "Collecting rank_bm25\n",
      "  Downloading rank_bm25-0.2.2-py3-none-any.whl.metadata (3.2 kB)\n",
      "Requirement already satisfied: numpy in d:\\software\\anaconda3\\lib\\site-packages (from rank_bm25) (1.26.4)\n",
      "Downloading rank_bm25-0.2.2-py3-none-any.whl (8.6 kB)\n",
      "Installing collected packages: rank_bm25\n",
      "Successfully installed rank_bm25-0.2.2\n"
     ]
    }
   ],
   "source": [
    "! pip install rank_bm25"
   ]
  },
  {
   "cell_type": "code",
   "execution_count": 14,
   "id": "f0feb2f8-ca18-4f72-9612-7a8c74d0e663",
   "metadata": {},
   "outputs": [],
   "source": [
    "# 初始化一个 BM25 检索器\n",
    "bm25_retriever = BM25Retriever.from_documents(documents=docs)\n",
    "bm25_retriever.k = 2"
   ]
  },
  {
   "cell_type": "code",
   "execution_count": 15,
   "id": "047954b5-3013-4810-bf2c-9ad241a0cd89",
   "metadata": {},
   "outputs": [
    {
     "data": {
      "text/plain": [
       "2"
      ]
     },
     "execution_count": 15,
     "metadata": {},
     "output_type": "execute_result"
    }
   ],
   "source": [
    "# 1. bm25检索\n",
    "result1 = bm25_retriever.invoke(input=\"毛主席是谁？\")\n",
    "len(result1)"
   ]
  },
  {
   "cell_type": "code",
   "execution_count": 16,
   "id": "38e56503-35fb-4d81-b399-6d8381fe5703",
   "metadata": {},
   "outputs": [
    {
     "data": {
      "text/plain": [
       "4"
      ]
     },
     "execution_count": 16,
     "metadata": {},
     "output_type": "execute_result"
    }
   ],
   "source": [
    "# 2. 基础检索器\n",
    "result2 = retriever.invoke(input=\"毛主席是谁？\")\n",
    "len(result2)"
   ]
  },
  {
   "cell_type": "code",
   "execution_count": 17,
   "id": "b4abc422-6d26-4a8b-832c-8f47d85ae4b9",
   "metadata": {},
   "outputs": [],
   "source": [
    "ensemble_retriever = EnsembleRetriever(retrievers=[bm25_retriever, retriever], \n",
    "                                       weights=[0.2, 0.8])"
   ]
  },
  {
   "cell_type": "code",
   "execution_count": 18,
   "id": "15c9d5be-f784-4df2-b164-024760ca7d8a",
   "metadata": {},
   "outputs": [
    {
     "data": {
      "text/plain": [
       "6"
      ]
     },
     "execution_count": 18,
     "metadata": {},
     "output_type": "execute_result"
    }
   ],
   "source": [
    "# 3. 集成检索\n",
    "results = ensemble_retriever.invoke(input=\"毛主席是谁？\")\n",
    "len(results)"
   ]
  },
  {
   "cell_type": "code",
   "execution_count": 52,
   "id": "0d19f58c-040e-405b-86b2-1b84fb8c2612",
   "metadata": {},
   "outputs": [],
   "source": [
    "# results"
   ]
  },
  {
   "cell_type": "code",
   "execution_count": 51,
   "id": "99fba3b0-93ca-41f3-9a4d-6cc6d1107927",
   "metadata": {},
   "outputs": [
    {
     "name": "stdout",
     "output_type": "stream",
     "text": [
      "毛泽东_百度百科 网页新闻贴吧知道网盘图片视频地图文库资讯采购百科百度首页登录注册进入词条全站搜索帮助首页秒懂百科特色百科知识专题加入百科百科团队权威合作个人中心收藏查看我的收藏0有用+10毛泽东[máo zé dōng]播报上传视频伟大的无产阶级革命家毛泽东（1893年12月26日-1976年9月9日），字润之（原作咏芝，后改润芝）， [33]笔名子任。湖南湘潭人。中国人民的领袖，伟大的马克思主义者，伟大的无产阶级革命家 [23]、战略家、理论家，中国共产党、中国人民解放军和中华人民共和国的主要缔造者和领导人，马克思主义中国化的伟大开拓者，近代以来中国伟大的爱国者和民族英雄，中国共产党第一代中央领导集体的核心，领导中国人民彻底改变自己命运和国家面貌的一代伟人 [16] [23]。1949至1976年，毛泽东担任中华人民共和国最高领导人。他对马克思列宁主义的发展、军事理论的贡献以及对共产党的理论贡献被称为毛泽东思想。 \n",
      "\n",
      "\n",
      "\n",
      "[16] [23]。1949至1976年，毛泽东担任中华人民共和国最高领导人。他对马克思列宁主义的发展、军事理论的贡献以及对共产党的理论贡献被称为毛泽东思想。 [34-35]因毛泽东担任过的主要职务几乎全部称为主席，所以也被人们尊称为“毛主席”。毛泽东被视为现代世界历史中最重要的人物之一，《时代》杂志也将他评为20世纪最具影响100人之一。中文名毛泽东别    名石三伢子、二十八画生 等国    籍中国民    族汉族出生地湖南省长沙府湘潭县韶山冲出生日期1893年12月26日逝世日期1976年09月09日毕业院校湖南省立第一师范学校代表作品矛盾论、实践论、论持久战、沁园春·雪主要成就领导夺取中国新民主主义革命的胜利在中国确立社会主义基本制度 [23]毛泽东思想的主要创立者信    仰马克思主义目录1人物生平2大事年表▪1893-1910年▪1911-1920年▪1921-1930年▪1931-1940年▪1941-1950年▪1951-1960年▪1961-1970年▪1971-1976年3主要作品4历史贡献5人物评价人物生平播报编辑毛泽东，1893年12月26日生于湖南韶山 \n",
      "\n",
      "\n",
      "\n",
      "[1]毛泽东像集（一）大事年表播报编辑1893-1910年1893年12月26日，诞生在湖南省湘潭县韶山冲一个农民家庭。1902年-1909年在家乡韶山六所私塾读书，接受中国传统的启蒙教育。与湘潭学友会合影(二排左三)1910年秋季，考入湖南湘乡县立东山高等小学堂读书。此期间受康有为、梁启超改良主义思想的影响。 [21]1911-1920年1911年春季，到长沙，考入湘乡驻省中学读书。期间，读到同盟会办的《民立报》，受其影响，撰文表示拥护孙中山及同盟会的纲领。10月，响应辛亥革命，投笔从戎，在湖南新军当列兵。半年后退出。 \n",
      "\n",
      "\n",
      "\n",
      "[15]）历史贡献播报编辑一、毛泽东带领中国人民经过了长期的革命斗争，终于赢得民族独立和人民解放，创建了新中国。二、毛泽东带领中国人民走上了社会主义建设的道路 [23]。 [17]三、开创了人民当家作主的新时代，开始了实现社会主义民主的艰辛而曲折的探索。 [18]四、奠定了中国共产党的执政地位，对保持马克思主义政党的先进性和执政地位作了不懈的探索。 [19]五、奠定了新中国在国际上的大国地位，为开创独立自主的和平外交作了不懈的努力。 \n",
      "\n",
      "\n",
      "\n",
      "[36]毛泽东在他的晚年虽然犯了严重的错误，但是就他的一生来看，他对中国革命的不可争论的功绩远大于他的过失，他的功绩是第一位的，错误是第二位的，他仍然受到中国人民的崇敬。中国共产党在他逝世5年以后，对他的全部革命活动和革命思想以中央委员会决议的形式作出了全面的评价。毛泽东思想作为马克思主义在中国的发展，仍然是中国共产党的指导思想。 [1]新手上路成长任务编辑入门编辑规则本人编辑我有疑问内容质疑在线客服官方贴吧意见反馈投诉建议举报不良信息未通过词条申诉投诉侵权信息封禁查询与解封©2024 Baidu 使用百度前必读 | 百科协议 | 隐私政策 | 百度百科合作平台 | 京ICP证030173号 京公网安备11000002000001号 \n",
      "\n",
      "\n",
      "\n",
      "[21]1926年1月，出席中国国民党第二次全国代表大会，继续当选候补中央执行委员。3月18日，在广州国民党政治讲习班纪念巴黎公社五十五周年集会上发表讲演，题为《纪念巴黎公社的重要意义》。3月，蒋介石在广州制造中山舰事件，同周恩来等力主反击。5月至9月，主办国民党第六届农民运动讲习所，任所长。11月，到上海任中共中央农民运动委员会书记。不久到武汉，创办国民党中央农民运动讲习所。12月，在长沙出席湖南全省第一次工人代表大会和第一次农民代表大会。 \n",
      "\n",
      "\n",
      "\n"
     ]
    }
   ],
   "source": [
    "# 最终结果展现\n",
    "for result in results:\n",
    "    print(result.page_content, \"\\n\\n\\n\")"
   ]
  },
  {
   "cell_type": "markdown",
   "id": "91f1a6e9-39a9-4933-b13c-cf852958cd57",
   "metadata": {},
   "source": [
    "### 父文档检索\n",
    "- 检索时：向量化处理，希望文档小一些，可以更精准的比较语义（细粒度）\n",
    "- 生成时：上下文参考，希望文档大一些，保留更多的参考上下文（粗粒度）\n",
    "- 折中办法：\n",
    "    - 一个文档，先分个几个大块\n",
    "    - 每个大块，再拆分为几个小块\n",
    "    - 向量化比较的是小块，最后返回的是大块"
   ]
  },
  {
   "cell_type": "code",
   "execution_count": 20,
   "id": "43bb68d7-18c1-4177-b0cf-e987bb30b982",
   "metadata": {},
   "outputs": [],
   "source": [
    "from langchain.retrievers import ParentDocumentRetriever\n",
    "from langchain.storage import InMemoryStore"
   ]
  },
  {
   "cell_type": "code",
   "execution_count": 21,
   "id": "7c28ba9e-c133-4941-acf1-280c85659ea8",
   "metadata": {
    "scrolled": true
   },
   "outputs": [],
   "source": [
    "# 父切分器(大段切分器)\n",
    "parent_spliter = RecursiveCharacterTextSplitter(chunk_size=2000, chunk_overlap=200)"
   ]
  },
  {
   "cell_type": "code",
   "execution_count": 22,
   "id": "e5896495-fa66-4409-be74-556a5d622bf7",
   "metadata": {},
   "outputs": [],
   "source": [
    "# 子切分器(小段切分器)\n",
    "child_spliter = RecursiveCharacterTextSplitter(chunk_size=400, chunk_overlap=100)"
   ]
  },
  {
   "cell_type": "code",
   "execution_count": 23,
   "id": "69d44044-c498-4bf5-aa67-74c005ec1afc",
   "metadata": {},
   "outputs": [],
   "source": [
    "# 存储小块的向量库 （没有指定持久化地址，那么默认存储在内存中）\n",
    "child_chroma = Chroma(embedding_function=embed)"
   ]
  },
  {
   "cell_type": "code",
   "execution_count": 24,
   "id": "fcf48d5e-f116-455a-a4c3-0bb916dafeaf",
   "metadata": {},
   "outputs": [],
   "source": [
    "# 创建一个存储大块的内存型存储器（类似于Redis）\n",
    "parent_store = InMemoryStore()"
   ]
  },
  {
   "cell_type": "code",
   "execution_count": 25,
   "id": "b492616d-b095-4b60-9dbc-05e2aee10954",
   "metadata": {},
   "outputs": [],
   "source": [
    "final_retriever = ParentDocumentRetriever(vectorstore=child_chroma, \n",
    "                        docstore=parent_store,\n",
    "                        child_splitter=child_spliter,\n",
    "                        parent_splitter=parent_spliter)"
   ]
  },
  {
   "cell_type": "code",
   "execution_count": 26,
   "id": "22880fcc-88d7-4461-baf9-46da3dbbeed6",
   "metadata": {},
   "outputs": [],
   "source": [
    "final_retriever.add_documents(documents=web_docs)"
   ]
  },
  {
   "cell_type": "code",
   "execution_count": 27,
   "id": "75aa5486-2de2-4e39-b7c7-654132474640",
   "metadata": {},
   "outputs": [],
   "source": [
    "results = final_retriever.invoke(input=\"毛主席是谁？\")"
   ]
  },
  {
   "cell_type": "code",
   "execution_count": 28,
   "id": "9c80edda-76ed-4369-ae94-67b8733cb96c",
   "metadata": {},
   "outputs": [
    {
     "data": {
      "text/plain": [
       "2"
      ]
     },
     "execution_count": 28,
     "metadata": {},
     "output_type": "execute_result"
    }
   ],
   "source": [
    "len(results)"
   ]
  },
  {
   "cell_type": "code",
   "execution_count": 29,
   "id": "b0b87092-b5ff-4af9-8430-5cdff8a01f98",
   "metadata": {},
   "outputs": [
    {
     "name": "stdout",
     "output_type": "stream",
     "text": [
      "1808\n",
      "2000\n"
     ]
    }
   ],
   "source": [
    "for result in results:\n",
    "    print(len(result.page_content))"
   ]
  },
  {
   "cell_type": "code",
   "execution_count": 75,
   "id": "4b65646d-944f-41b8-a1a2-2b565fc159ac",
   "metadata": {},
   "outputs": [],
   "source": [
    "child_results = child_chroma.similarity_search_with_relevance_scores(query=\"毛主席是谁？\")"
   ]
  },
  {
   "cell_type": "code",
   "execution_count": 76,
   "id": "651c476f-00c3-4551-8261-36e94e17e651",
   "metadata": {},
   "outputs": [
    {
     "data": {
      "text/plain": [
       "4"
      ]
     },
     "execution_count": 76,
     "metadata": {},
     "output_type": "execute_result"
    }
   ],
   "source": [
    "len(child_results)"
   ]
  },
  {
   "cell_type": "code",
   "execution_count": 81,
   "id": "176fea47-0876-4aa2-8ae2-eb27bfab6314",
   "metadata": {},
   "outputs": [
    {
     "name": "stdout",
     "output_type": "stream",
     "text": [
      "74e3f568-52f3-4cdf-a2c6-a911f7af4c84 \n",
      "\n",
      "\n",
      "\n",
      "74e3f568-52f3-4cdf-a2c6-a911f7af4c84 \n",
      "\n",
      "\n",
      "\n",
      "74e3f568-52f3-4cdf-a2c6-a911f7af4c84 \n",
      "\n",
      "\n",
      "\n",
      "3f7a75ef-2d94-4ac0-be22-e55a29665d51 \n",
      "\n",
      "\n",
      "\n"
     ]
    }
   ],
   "source": [
    "parent_ids = set()\n",
    "for child_result in child_results:\n",
    "    print(child_result[0].metadata[\"doc_id\"], \"\\n\\n\\n\")\n",
    "    parent_ids.add(child_result[0].metadata[\"doc_id\"])"
   ]
  },
  {
   "cell_type": "code",
   "execution_count": 82,
   "id": "d09bc4dd-6a5b-4cdc-97fc-724bf449a5b4",
   "metadata": {},
   "outputs": [
    {
     "data": {
      "text/plain": [
       "{'3f7a75ef-2d94-4ac0-be22-e55a29665d51',\n",
       " '74e3f568-52f3-4cdf-a2c6-a911f7af4c84'}"
      ]
     },
     "execution_count": 82,
     "metadata": {},
     "output_type": "execute_result"
    }
   ],
   "source": [
    "parent_ids"
   ]
  },
  {
   "cell_type": "code",
   "execution_count": 84,
   "id": "74c2fdfe-17f8-482d-b750-373efd60e8f7",
   "metadata": {},
   "outputs": [
    {
     "name": "stdout",
     "output_type": "stream",
     "text": [
      "2000\n",
      "1763\n"
     ]
    }
   ],
   "source": [
    "for doc in parent_store.mget(keys=list(parent_ids)):\n",
    "    print(len(doc.page_content))"
   ]
  },
  {
   "cell_type": "markdown",
   "id": "582f5127-4f1b-4695-a357-a641a8cc0fe5",
   "metadata": {},
   "source": [
    "### 多向量检索\n",
    "- 通过摘要检索文档"
   ]
  },
  {
   "cell_type": "code",
   "execution_count": 30,
   "id": "7d4e9ab6-b11a-4b5f-9c3f-d81f90cee669",
   "metadata": {},
   "outputs": [],
   "source": [
    "from langchain.retrievers import MultiVectorRetriever"
   ]
  },
  {
   "cell_type": "code",
   "execution_count": 31,
   "id": "ab142b0c-13f5-4795-9cca-6a31508dec83",
   "metadata": {},
   "outputs": [],
   "source": [
    "# 大块切分\n",
    "text_spliter = RecursiveCharacterTextSplitter(chunk_size=2000, chunk_overlap=200)"
   ]
  },
  {
   "cell_type": "code",
   "execution_count": 32,
   "id": "265f9d36-1ce0-4f13-9c9c-dbe386a63526",
   "metadata": {
    "scrolled": true
   },
   "outputs": [
    {
     "data": {
      "text/plain": [
       "17"
      ]
     },
     "execution_count": 32,
     "metadata": {},
     "output_type": "execute_result"
    }
   ],
   "source": [
    "# 执行大块切分操作\n",
    "docs = text_spliter.split_documents(documents=web_docs)\n",
    "len(docs)"
   ]
  },
  {
   "cell_type": "code",
   "execution_count": 33,
   "id": "60153170-ead0-4118-8367-45afc122d5b5",
   "metadata": {},
   "outputs": [],
   "source": [
    "# 自定定义一个文档摘要 Prompt\n",
    "from langchain_core.prompts import PromptTemplate"
   ]
  },
  {
   "cell_type": "code",
   "execution_count": 34,
   "id": "5737124a-3395-420d-aadc-14c3b17f0311",
   "metadata": {},
   "outputs": [],
   "source": [
    "# 自定义一个文档总结 Prompt\n",
    "summary_prompt = PromptTemplate.from_template(template=\"请使用200个以内的字来归纳总结下面的文档！\\n\\n文档为: {doc}\")"
   ]
  },
  {
   "cell_type": "code",
   "execution_count": 35,
   "id": "7317acb9-45b1-4c45-a29d-29bd30a3cef7",
   "metadata": {},
   "outputs": [
    {
     "data": {
      "text/plain": [
       "PromptTemplate(input_variables=['doc'], template='请使用200个以内的字来归纳总结下面的文档！\\n\\n文档为: {doc}')"
      ]
     },
     "execution_count": 35,
     "metadata": {},
     "output_type": "execute_result"
    }
   ],
   "source": [
    "summary_prompt"
   ]
  },
  {
   "cell_type": "code",
   "execution_count": 111,
   "id": "05104d8d-9005-4cc5-941b-8327a78909a4",
   "metadata": {},
   "outputs": [],
   "source": [
    "# 把 文档进行总结的 链 chain\n",
    "chain = (\n",
    "    {\"doc\": lambda x : x.page_content}\n",
    "    | summary_prompt \n",
    "    | llm\n",
    ")"
   ]
  },
  {
   "cell_type": "code",
   "execution_count": 112,
   "id": "72b72463-8569-45d5-a56d-342e0a733092",
   "metadata": {},
   "outputs": [],
   "source": [
    "summaries = chain.batch(inputs=docs,config={\"max_concurrency\": 5})"
   ]
  },
  {
   "cell_type": "code",
   "execution_count": 113,
   "id": "0640a5fe-639f-45a8-a0d7-2a5e31fb59f7",
   "metadata": {},
   "outputs": [
    {
     "name": "stdout",
     "output_type": "stream",
     "text": [
      "91\n",
      "107\n",
      "106\n",
      "137\n",
      "523\n",
      "291\n",
      "81\n",
      "142\n",
      "480\n",
      "156\n",
      "151\n",
      "100\n",
      "523\n",
      "115\n",
      "84\n",
      "91\n",
      "71\n"
     ]
    }
   ],
   "source": [
    "for summary in summaries:\n",
    "    print(len(summary))"
   ]
  },
  {
   "cell_type": "code",
   "execution_count": 114,
   "id": "39d6aca8-8622-445b-97f2-e31bc364cf92",
   "metadata": {},
   "outputs": [
    {
     "name": "stdout",
     "output_type": "stream",
     "text": [
      "毛泽东是中国人民的领袖，伟大的无产阶级革命家，中国共产党第一代领导集体核心，领导中国人民改变自己命运和国家面貌的一代伟人，他对马列主义、军事及共产党理论有重大贡献，被誉为毛泽东思想。 \n",
      "\n",
      "\n",
      "毛泽东是中国共产党的核心领导人，他在各个历史时期都有重大贡献。他参与了中共的重要会议和行动，对抗日战争、解放战争等中国近现代史的重要事件有深远影响。他的思想和理论被确立为中共的指导思想，对中国的发展产生了巨大影响。 \n",
      "\n",
      "\n",
      "该文档概述了毛泽东从建国初期到逝世的主要政治活动和历史事件，包括开国大典、抗美援朝、土地改革、主持制定宪法、提出过渡时期总路线、探索社会主义建设道路、反右倾斗争、主持庐山会议、领导国民经济调整、发动文化大革命等。 \n",
      "\n",
      "\n",
      "该文主要讲述了从1911年到1930年毛泽东的革命历程和思想转变过程。他在求学期间开始接触革命思想，并积极参与革命活动，逐渐成长为一名坚定的马克思主义者和无产阶级革命家。在长沙，他参与了多次革命实践活动，推动了湖南的革命运动的发展，并为中国共产党的创立和发展做出了重要贡献。 \n",
      "\n",
      "\n",
      "毛泽东是中国人民的领袖，伟大的马克思主义者，伟大的无产阶级革命家、战略家、理论家，中国共产党、中国人民解放军和中华人民共和国的主要缔造者和领导人，马克思主义中国化的伟大开拓者，近代以来中国伟大的爱国者和民族英雄，中国共产党第一代中央领导集体的核心，领导中国人民彻底改变自己命运和国家面貌的一代伟人。\n",
      "毛泽东被视为现代世界历史中最重要的人物之一，《时代》杂志也将他评为20世纪最具影响100人之一。他对马克思列宁主义的发展、军事理论的贡献以及对共产党的理论贡献被称为毛泽东思想。因毛泽东担任过的主要职务几乎全部称为主席，所以也被人们尊称为“毛主席”。\n",
      "毛泽东被视为现代世界历史中最重要的人物之一，《时代》杂志也将他评为20世纪最具影响100人之一。他对马克思列宁主义的发展、军事理论的贡献以及对共产党的理论贡献被称为毛泽东思想。因毛泽东担任过的主要职务几乎全部称为主席，所以也被人们尊称为“毛主席”。毛泽东被视为现代世界历史中最重要的人物之一，《时代》杂志也将他评为20世纪最具影响100人之一。他对马克思列宁主义的发展、军事理论的贡献以及对共产党的理论贡献被称为毛泽东思想。因毛泽东担任过的主要职务几乎全部称为主席，所以也被人们尊称为“毛主席”。 \n",
      "\n",
      "\n",
      "毛泽东在中共临时中央全面推行“进攻路线”期间，同项英等发布宣言和训令，致力于苏区建设，划分农村阶级，提出“六大”讲话，推行经济革命，粉碎五次“围剿”，领导红军长征，为抗日民族统一战线奠定基础，促成西安事变和平解决，进驻延安，提出抗日方针，领导抗日，坚持统一战线中的独立自主原则，指导八路军开赴抗日前线，为抗日战争的胜利作出巨大贡献。\n",
      "以上为对原文档的归纳内容，由于信息较多，需根据实际情况筛选，并加工为完整的文字内容，希望能在实际的文书写作中对您有所帮助。对于结构复杂的文书，需根据其内部逻辑关系采用层层推进的方法。请在撰写时，根据实际情况调整措辞和逻辑顺序，以达到最佳的表达效果。 \n",
      "\n",
      "\n",
      "该文档概述了毛泽东在1938年至1941年间的重要活动和决策，包括领导抗日战争、发表重要著作、应对国民党顽固派的反共高潮、提出新民主主义革命理论和应对皖南事变等。 \n",
      "\n",
      "\n",
      "在抗战期间，为解决当时的经济问题，提出了“发展经济，保障供给”的方针。此外，为了推动抗战胜利后的民主政治，与各方会谈，最终签署了《双十协定》。然而，全面内战在1946年爆发，虽然作出了诸多战略决策，但最终通过人民解放战争的名称来定义这场战争，展现了坚定的革命信念和为人民谋幸福的初心。 \n",
      "\n",
      "\n",
      "毛泽东在1947年撤离延安后，在陕北转战期间领导了多次战役，取得了胜利，并提出了对蒋介石的斗争设想。他部署三路大军渡过黄河，转入战略进攻，并起草了《中国人民解放军宣言》。在转战过程中，他还召开了多次中央会议，提出了军事原则和经济纲领，并结束了陕北转战，前往华北解放区。在华北，他发表了重要讲话，阐明了党的新民主主义革命总路线，并提出了把战争引向国民党统治区等意见。随后，他主持了中共七届二中全会，提出了党的工作重心转移和新中国建设的指导方针。在南京政府拒绝接受和平协定的情况下，他和朱德联名发布进军命令，成功占领南京。在新中国成立前后，他主持了多项重要会议，参与了新政协筹备会议和中国人民政治协商会议第一届全体会议，当选为中央人民政府主席。在新中国成立后，他领导了多项重大决策，包括抗美援朝、土地改革等，并亲自指导了抗美援朝战争的前三次战役。同时，他还推动了农村农业生产互助合作等改革，参与了《毛泽东选集》的编辑出版工作，并倡导开展“三反”等运动。在晚年，他仍然坚持工作，不断为党的事业和人民福祉做出贡献。\n",
      "上述内容字数在200字以内，对文档进行了归纳和总结。 \n",
      "\n",
      "\n",
      "该文档概述了毛泽东在1952年至1957年间的重要活动和决策，包括主持政协常委会、开展思想改造和学习运动、制定五反运动指示、起草西藏工作方针指示、发布民族区域自治实施纲要等，同时涉及宪法起草、反对大汉族主义、党在过渡时期的总路线、农村互助合作、社会主义改造等，并在中共第八次全国代表大会上强调了经济建设的重要性。 \n",
      "\n",
      "\n",
      "该文档概括了毛泽东在1958年至1961年间的重要活动和决策，包括主持中共中央会议、制定经济指标、拒绝苏联侵犯中国主权的建议、部署炮击金门、建立人民公社、纠正“大跃进”中的错误、为右派分子摘帽、赦免战犯、组织读书小组、审定《毛泽东选集》第四卷、反对官僚主义、研究社会主义革命和建设规律、调整国内经济等。 \n",
      "\n",
      "\n",
      "该文档概述了毛泽东在1962年至1969年期间的重要活动和决策，包括召开各种会议、发表讲话、进行视察和批示等，涉及政治、经济、军事、教育、文艺等多个领域。其中，也标志着“文化大革命”的发动和全面开展。 \n",
      "\n",
      "\n",
      "1969年主持召开中国共产党第九次全国代表大会，批准“文化大革命”的错误理论和实践，并当选中央委员会主席。在主持召开中共九届二中全会期间，揭露挫败林彪、陈伯达企图抢班夺权的阴谋。期间中国第一颗人造地球卫星发射成功，发表相关声明。同年，会见美国友人，表示欢迎美国总统尼克松来华访问。在南方巡视期间，揭露林彪的阴谋，粉碎林彪集团的反革命武装政变阴谋。同年处理林彪叛逃事件，恢复中华人民共和国在联合国的一切合法权利，把蒋介石集团的代表驱逐出去。后与来访美国总统尼克松会谈，决定实现中美两国关系正常化，中日邦交正常化，正式建立外交关系，结束了中美长期以来的敌对状态，使两国关系走向正常化，对国际形势产生了巨大影响，促进了中国与世界的交往，对中国经济、科技、文化等方面的发展起到了积极的作用，也为中国改革开放创造了良好的外部环境，提高了中国的国际地位，开辟了世界外交的新局面，促进了多极化的趋势的发展，为世界的和平与发展做出了巨大的贡献。之后，又进行了多项工作，为国家的现代化建设和外交事业发展作出了重大贡献，他的一系列历史性决策与举措对中国社会的各个领域都产生了深远的影响。他的工作方式和外交手段也为世界了解中国提供了宝贵的经验，永远值得我们学习和缅怀。 \n",
      "\n",
      "\n",
      "毛泽东同志是伟大的马克思主义革命家、战略家，他为国家富强、民族振兴不懈奋斗，带领中国人民彻底改变自己命运。他开创了马克思主义中国化，创立了毛泽东思想，并用此指导实践，锻造了伟大光荣的中国共产党，为推进中国社会主义事业作出杰出贡献。 \n",
      "\n",
      "\n",
      "该文档概括了毛泽东同志在党的建设、人民民主制度建设、社会主义制度确立以及人民军队缔造方面的重大贡献，强调了其以人民为中心的思想和领导才能，以及为后世留下的崇高精神风范。 \n",
      "\n",
      "\n",
      "毛泽东同志缔造了忠诚于党、为人民奋斗的人民军队，是保障国家独立和人民幸福的坚强后盾。他展现出的政治远见、革命信念和领导才能等崇高风范，深受全党全国各族人民敬仰，是激励我们前进的动力。 \n",
      "\n",
      "\n",
      "毛泽东虽有晚年错误，但他的革命功绩远大于过失，受到中国人民崇敬。中国共产党在他逝世后全面评价了他的革命活动和思想。毛泽东思想仍是党的指导思想。 \n",
      "\n",
      "\n"
     ]
    }
   ],
   "source": [
    "for summary in summaries:\n",
    "    print(summary, \"\\n\\n\")"
   ]
  },
  {
   "cell_type": "code",
   "execution_count": 115,
   "id": "2b2f6a6e-e092-4d4d-ac8e-11aa6c575d7e",
   "metadata": {},
   "outputs": [],
   "source": [
    "# 存摘要的，向量化存储\n",
    "vectorstore = Chroma(collection_name=\"summaries\", \n",
    "                    embedding_function=embed)"
   ]
  },
  {
   "cell_type": "code",
   "execution_count": 117,
   "id": "c585362e-aeb1-45a0-9293-d8b33d226e73",
   "metadata": {},
   "outputs": [],
   "source": [
    "# 存大段文本的，原始存储\n",
    "store = InMemoryStore()"
   ]
  },
  {
   "cell_type": "code",
   "execution_count": 118,
   "id": "2b2ef595-52e9-41b3-a71e-12d17cb8abd4",
   "metadata": {},
   "outputs": [],
   "source": [
    "id_key = \"doc_id\""
   ]
  },
  {
   "cell_type": "code",
   "execution_count": 119,
   "id": "5fa5177e-894a-40a1-b0ed-c453bb7a6471",
   "metadata": {},
   "outputs": [],
   "source": [
    "mv_retirever = MultiVectorRetriever(vectorstore=vectorstore, \n",
    "                                    docstore=store,\n",
    "                                    id_key=id_key,\n",
    "                                    search_kwargs={\"k\": 4})"
   ]
  },
  {
   "cell_type": "code",
   "execution_count": 120,
   "id": "f0a42ada-c336-4ff0-9ec4-11132d0a2203",
   "metadata": {},
   "outputs": [],
   "source": [
    "import uuid"
   ]
  },
  {
   "cell_type": "code",
   "execution_count": 121,
   "id": "23db4346-bf5f-40e2-8ac8-e95c5ba35a77",
   "metadata": {},
   "outputs": [],
   "source": [
    "# 批量生成 文档 id\n",
    "doc_ids = [str(uuid.uuid1()) for _ in docs]"
   ]
  },
  {
   "cell_type": "code",
   "execution_count": 125,
   "id": "2ba2af7e-b88a-463b-8ca3-fb241340aec0",
   "metadata": {},
   "outputs": [
    {
     "data": {
      "text/plain": [
       "['97af8f64-562c-11ef-8590-6c02e044efe2',\n",
       " '97af8f65-562c-11ef-8e62-6c02e044efe2',\n",
       " '97af8f66-562c-11ef-b9f9-6c02e044efe2',\n",
       " '97af8f67-562c-11ef-b558-6c02e044efe2',\n",
       " '97af8f68-562c-11ef-b6fd-6c02e044efe2',\n",
       " '97af8f69-562c-11ef-b0de-6c02e044efe2',\n",
       " '97af8f6a-562c-11ef-973e-6c02e044efe2',\n",
       " '97af8f6b-562c-11ef-bae3-6c02e044efe2',\n",
       " '97af8f6c-562c-11ef-8632-6c02e044efe2',\n",
       " '97af8f6d-562c-11ef-886f-6c02e044efe2',\n",
       " '97af8f6e-562c-11ef-b973-6c02e044efe2',\n",
       " '97af8f6f-562c-11ef-a29b-6c02e044efe2',\n",
       " '97af8f70-562c-11ef-ac23-6c02e044efe2',\n",
       " '97af8f71-562c-11ef-962b-6c02e044efe2',\n",
       " '97af8f72-562c-11ef-98e0-6c02e044efe2',\n",
       " '97af8f73-562c-11ef-97fc-6c02e044efe2',\n",
       " '97af8f74-562c-11ef-a563-6c02e044efe2']"
      ]
     },
     "execution_count": 125,
     "metadata": {},
     "output_type": "execute_result"
    }
   ],
   "source": [
    "doc_ids"
   ]
  },
  {
   "cell_type": "code",
   "execution_count": 126,
   "id": "445face6-98ae-4deb-8ae9-e32390052fde",
   "metadata": {},
   "outputs": [],
   "source": [
    "from langchain_core.documents import Document"
   ]
  },
  {
   "cell_type": "code",
   "execution_count": 127,
   "id": "10c8aab2-26c2-414b-b1e3-95601dc10a4f",
   "metadata": {},
   "outputs": [],
   "source": [
    "summary_docs = [Document(page_content=s, metadata={id_key: doc_ids[i]}) for i, s in enumerate(summaries)]"
   ]
  },
  {
   "cell_type": "code",
   "execution_count": 128,
   "id": "62f75f05-dd7c-46e5-9fca-df4a09af9707",
   "metadata": {},
   "outputs": [
    {
     "data": {
      "text/plain": [
       "[Document(metadata={'doc_id': '97af8f64-562c-11ef-8590-6c02e044efe2'}, page_content='毛泽东是中国人民的领袖，伟大的无产阶级革命家，中国共产党第一代领导集体核心，领导中国人民改变自己命运和国家面貌的一代伟人，他对马列主义、军事及共产党理论有重大贡献，被誉为毛泽东思想。'),\n",
       " Document(metadata={'doc_id': '97af8f65-562c-11ef-8e62-6c02e044efe2'}, page_content='毛泽东是中国共产党的核心领导人，他在各个历史时期都有重大贡献。他参与了中共的重要会议和行动，对抗日战争、解放战争等中国近现代史的重要事件有深远影响。他的思想和理论被确立为中共的指导思想，对中国的发展产生了巨大影响。'),\n",
       " Document(metadata={'doc_id': '97af8f66-562c-11ef-b9f9-6c02e044efe2'}, page_content='该文档概述了毛泽东从建国初期到逝世的主要政治活动和历史事件，包括开国大典、抗美援朝、土地改革、主持制定宪法、提出过渡时期总路线、探索社会主义建设道路、反右倾斗争、主持庐山会议、领导国民经济调整、发动文化大革命等。'),\n",
       " Document(metadata={'doc_id': '97af8f67-562c-11ef-b558-6c02e044efe2'}, page_content='该文主要讲述了从1911年到1930年毛泽东的革命历程和思想转变过程。他在求学期间开始接触革命思想，并积极参与革命活动，逐渐成长为一名坚定的马克思主义者和无产阶级革命家。在长沙，他参与了多次革命实践活动，推动了湖南的革命运动的发展，并为中国共产党的创立和发展做出了重要贡献。'),\n",
       " Document(metadata={'doc_id': '97af8f68-562c-11ef-b6fd-6c02e044efe2'}, page_content='毛泽东是中国人民的领袖，伟大的马克思主义者，伟大的无产阶级革命家、战略家、理论家，中国共产党、中国人民解放军和中华人民共和国的主要缔造者和领导人，马克思主义中国化的伟大开拓者，近代以来中国伟大的爱国者和民族英雄，中国共产党第一代中央领导集体的核心，领导中国人民彻底改变自己命运和国家面貌的一代伟人。\\n毛泽东被视为现代世界历史中最重要的人物之一，《时代》杂志也将他评为20世纪最具影响100人之一。他对马克思列宁主义的发展、军事理论的贡献以及对共产党的理论贡献被称为毛泽东思想。因毛泽东担任过的主要职务几乎全部称为主席，所以也被人们尊称为“毛主席”。\\n毛泽东被视为现代世界历史中最重要的人物之一，《时代》杂志也将他评为20世纪最具影响100人之一。他对马克思列宁主义的发展、军事理论的贡献以及对共产党的理论贡献被称为毛泽东思想。因毛泽东担任过的主要职务几乎全部称为主席，所以也被人们尊称为“毛主席”。毛泽东被视为现代世界历史中最重要的人物之一，《时代》杂志也将他评为20世纪最具影响100人之一。他对马克思列宁主义的发展、军事理论的贡献以及对共产党的理论贡献被称为毛泽东思想。因毛泽东担任过的主要职务几乎全部称为主席，所以也被人们尊称为“毛主席”。'),\n",
       " Document(metadata={'doc_id': '97af8f69-562c-11ef-b0de-6c02e044efe2'}, page_content='毛泽东在中共临时中央全面推行“进攻路线”期间，同项英等发布宣言和训令，致力于苏区建设，划分农村阶级，提出“六大”讲话，推行经济革命，粉碎五次“围剿”，领导红军长征，为抗日民族统一战线奠定基础，促成西安事变和平解决，进驻延安，提出抗日方针，领导抗日，坚持统一战线中的独立自主原则，指导八路军开赴抗日前线，为抗日战争的胜利作出巨大贡献。\\n以上为对原文档的归纳内容，由于信息较多，需根据实际情况筛选，并加工为完整的文字内容，希望能在实际的文书写作中对您有所帮助。对于结构复杂的文书，需根据其内部逻辑关系采用层层推进的方法。请在撰写时，根据实际情况调整措辞和逻辑顺序，以达到最佳的表达效果。'),\n",
       " Document(metadata={'doc_id': '97af8f6a-562c-11ef-973e-6c02e044efe2'}, page_content='该文档概述了毛泽东在1938年至1941年间的重要活动和决策，包括领导抗日战争、发表重要著作、应对国民党顽固派的反共高潮、提出新民主主义革命理论和应对皖南事变等。'),\n",
       " Document(metadata={'doc_id': '97af8f6b-562c-11ef-bae3-6c02e044efe2'}, page_content='在抗战期间，为解决当时的经济问题，提出了“发展经济，保障供给”的方针。此外，为了推动抗战胜利后的民主政治，与各方会谈，最终签署了《双十协定》。然而，全面内战在1946年爆发，虽然作出了诸多战略决策，但最终通过人民解放战争的名称来定义这场战争，展现了坚定的革命信念和为人民谋幸福的初心。'),\n",
       " Document(metadata={'doc_id': '97af8f6c-562c-11ef-8632-6c02e044efe2'}, page_content='毛泽东在1947年撤离延安后，在陕北转战期间领导了多次战役，取得了胜利，并提出了对蒋介石的斗争设想。他部署三路大军渡过黄河，转入战略进攻，并起草了《中国人民解放军宣言》。在转战过程中，他还召开了多次中央会议，提出了军事原则和经济纲领，并结束了陕北转战，前往华北解放区。在华北，他发表了重要讲话，阐明了党的新民主主义革命总路线，并提出了把战争引向国民党统治区等意见。随后，他主持了中共七届二中全会，提出了党的工作重心转移和新中国建设的指导方针。在南京政府拒绝接受和平协定的情况下，他和朱德联名发布进军命令，成功占领南京。在新中国成立前后，他主持了多项重要会议，参与了新政协筹备会议和中国人民政治协商会议第一届全体会议，当选为中央人民政府主席。在新中国成立后，他领导了多项重大决策，包括抗美援朝、土地改革等，并亲自指导了抗美援朝战争的前三次战役。同时，他还推动了农村农业生产互助合作等改革，参与了《毛泽东选集》的编辑出版工作，并倡导开展“三反”等运动。在晚年，他仍然坚持工作，不断为党的事业和人民福祉做出贡献。\\n上述内容字数在200字以内，对文档进行了归纳和总结。'),\n",
       " Document(metadata={'doc_id': '97af8f6d-562c-11ef-886f-6c02e044efe2'}, page_content='该文档概述了毛泽东在1952年至1957年间的重要活动和决策，包括主持政协常委会、开展思想改造和学习运动、制定五反运动指示、起草西藏工作方针指示、发布民族区域自治实施纲要等，同时涉及宪法起草、反对大汉族主义、党在过渡时期的总路线、农村互助合作、社会主义改造等，并在中共第八次全国代表大会上强调了经济建设的重要性。'),\n",
       " Document(metadata={'doc_id': '97af8f6e-562c-11ef-b973-6c02e044efe2'}, page_content='该文档概括了毛泽东在1958年至1961年间的重要活动和决策，包括主持中共中央会议、制定经济指标、拒绝苏联侵犯中国主权的建议、部署炮击金门、建立人民公社、纠正“大跃进”中的错误、为右派分子摘帽、赦免战犯、组织读书小组、审定《毛泽东选集》第四卷、反对官僚主义、研究社会主义革命和建设规律、调整国内经济等。'),\n",
       " Document(metadata={'doc_id': '97af8f6f-562c-11ef-a29b-6c02e044efe2'}, page_content='该文档概述了毛泽东在1962年至1969年期间的重要活动和决策，包括召开各种会议、发表讲话、进行视察和批示等，涉及政治、经济、军事、教育、文艺等多个领域。其中，也标志着“文化大革命”的发动和全面开展。'),\n",
       " Document(metadata={'doc_id': '97af8f70-562c-11ef-ac23-6c02e044efe2'}, page_content='1969年主持召开中国共产党第九次全国代表大会，批准“文化大革命”的错误理论和实践，并当选中央委员会主席。在主持召开中共九届二中全会期间，揭露挫败林彪、陈伯达企图抢班夺权的阴谋。期间中国第一颗人造地球卫星发射成功，发表相关声明。同年，会见美国友人，表示欢迎美国总统尼克松来华访问。在南方巡视期间，揭露林彪的阴谋，粉碎林彪集团的反革命武装政变阴谋。同年处理林彪叛逃事件，恢复中华人民共和国在联合国的一切合法权利，把蒋介石集团的代表驱逐出去。后与来访美国总统尼克松会谈，决定实现中美两国关系正常化，中日邦交正常化，正式建立外交关系，结束了中美长期以来的敌对状态，使两国关系走向正常化，对国际形势产生了巨大影响，促进了中国与世界的交往，对中国经济、科技、文化等方面的发展起到了积极的作用，也为中国改革开放创造了良好的外部环境，提高了中国的国际地位，开辟了世界外交的新局面，促进了多极化的趋势的发展，为世界的和平与发展做出了巨大的贡献。之后，又进行了多项工作，为国家的现代化建设和外交事业发展作出了重大贡献，他的一系列历史性决策与举措对中国社会的各个领域都产生了深远的影响。他的工作方式和外交手段也为世界了解中国提供了宝贵的经验，永远值得我们学习和缅怀。'),\n",
       " Document(metadata={'doc_id': '97af8f71-562c-11ef-962b-6c02e044efe2'}, page_content='毛泽东同志是伟大的马克思主义革命家、战略家，他为国家富强、民族振兴不懈奋斗，带领中国人民彻底改变自己命运。他开创了马克思主义中国化，创立了毛泽东思想，并用此指导实践，锻造了伟大光荣的中国共产党，为推进中国社会主义事业作出杰出贡献。'),\n",
       " Document(metadata={'doc_id': '97af8f72-562c-11ef-98e0-6c02e044efe2'}, page_content='该文档概括了毛泽东同志在党的建设、人民民主制度建设、社会主义制度确立以及人民军队缔造方面的重大贡献，强调了其以人民为中心的思想和领导才能，以及为后世留下的崇高精神风范。'),\n",
       " Document(metadata={'doc_id': '97af8f73-562c-11ef-97fc-6c02e044efe2'}, page_content='毛泽东同志缔造了忠诚于党、为人民奋斗的人民军队，是保障国家独立和人民幸福的坚强后盾。他展现出的政治远见、革命信念和领导才能等崇高风范，深受全党全国各族人民敬仰，是激励我们前进的动力。'),\n",
       " Document(metadata={'doc_id': '97af8f74-562c-11ef-a563-6c02e044efe2'}, page_content='毛泽东虽有晚年错误，但他的革命功绩远大于过失，受到中国人民崇敬。中国共产党在他逝世后全面评价了他的革命活动和思想。毛泽东思想仍是党的指导思想。')]"
      ]
     },
     "execution_count": 128,
     "metadata": {},
     "output_type": "execute_result"
    }
   ],
   "source": [
    "summary_docs"
   ]
  },
  {
   "cell_type": "code",
   "execution_count": 129,
   "id": "a1284bdb-8698-4ac1-8345-69ef4d18f653",
   "metadata": {},
   "outputs": [
    {
     "data": {
      "text/plain": [
       "['e8f8da81-2f45-40eb-b714-2f32a5020f5b',\n",
       " '6681794a-558c-4c99-9554-497cf707e9d2',\n",
       " '90af89a6-7cc7-4168-86fc-70512b7bb228',\n",
       " '5a824a93-cef3-419c-8b81-2e39c4ff3e67',\n",
       " 'c766f34a-e918-4aeb-bb05-92678fc9a936',\n",
       " '8c62d1a9-5dea-4e5d-9213-0dc57226a891',\n",
       " '019b60fd-cf98-4b2f-80f7-0253f52411ba',\n",
       " '5c6c6240-98dd-4fc1-a49b-e48eca6cd9a2',\n",
       " 'e075103c-6e94-4ee9-9b71-a58c62a0a057',\n",
       " 'f13770d4-5335-421c-9aab-169a60ae0374',\n",
       " 'ad727be5-f96f-4285-84e1-876cfc629f5c',\n",
       " '579a40bf-019d-46c3-a975-63d3ee6af09a',\n",
       " '830d36e7-a738-4d0b-a6e7-b06808ba0ff9',\n",
       " '59c21d5d-99f2-40e6-a0ed-d1ac2c17ae77',\n",
       " 'cf64d25c-4fc1-42d2-97a7-2e226e1508b8',\n",
       " 'f20052e4-59f8-4880-b698-61261b915d9f',\n",
       " '6c2bb104-078a-4dfe-bf73-13545ce234cf']"
      ]
     },
     "execution_count": 129,
     "metadata": {},
     "output_type": "execute_result"
    }
   ],
   "source": [
    "# 将摘要存入向量库\n",
    "mv_retirever.vectorstore.add_documents(documents=summary_docs)"
   ]
  },
  {
   "cell_type": "code",
   "execution_count": 130,
   "id": "5249082e-4b2f-4990-8aa8-ec2ee078daf9",
   "metadata": {},
   "outputs": [],
   "source": [
    "# 文本存储\n",
    "mv_retirever.docstore.mset(list(zip(doc_ids, docs)))"
   ]
  },
  {
   "cell_type": "code",
   "execution_count": 132,
   "id": "938c86e3-88bc-4e4d-a170-2a8cee863bdd",
   "metadata": {},
   "outputs": [],
   "source": [
    "# 进行检索\n",
    "results= mv_retirever.invoke(input=\"毛主席是谁？\")"
   ]
  },
  {
   "cell_type": "code",
   "execution_count": 133,
   "id": "b4a3f6b0-c359-4e3d-9ccc-876882328a2b",
   "metadata": {},
   "outputs": [
    {
     "name": "stdout",
     "output_type": "stream",
     "text": [
      "1763\n",
      "1999\n",
      "262\n",
      "1688\n"
     ]
    }
   ],
   "source": [
    "for result in results:\n",
    "    print(len(result.page_content))"
   ]
  },
  {
   "cell_type": "code",
   "execution_count": 135,
   "id": "1d63dee8-a0b1-4253-baa8-6c204ebfcaf1",
   "metadata": {},
   "outputs": [],
   "source": [
    "summary_results = mv_retirever.vectorstore.similarity_search_with_relevance_scores(query=\"毛主席是谁？\")"
   ]
  },
  {
   "cell_type": "code",
   "execution_count": 137,
   "id": "5052341a-fba0-4fb0-804d-a03b448df5c3",
   "metadata": {},
   "outputs": [
    {
     "data": {
      "text/plain": [
       "[(Document(metadata={'doc_id': '97af8f64-562c-11ef-8590-6c02e044efe2'}, page_content='毛泽东是中国人民的领袖，伟大的无产阶级革命家，中国共产党第一代领导集体核心，领导中国人民改变自己命运和国家面貌的一代伟人，他对马列主义、军事及共产党理论有重大贡献，被誉为毛泽东思想。'),\n",
       "  0.6633318170319487),\n",
       " (Document(metadata={'doc_id': '97af8f71-562c-11ef-962b-6c02e044efe2'}, page_content='毛泽东同志是伟大的马克思主义革命家、战略家，他为国家富强、民族振兴不懈奋斗，带领中国人民彻底改变自己命运。他开创了马克思主义中国化，创立了毛泽东思想，并用此指导实践，锻造了伟大光荣的中国共产党，为推进中国社会主义事业作出杰出贡献。'),\n",
       "  0.6453979115220783),\n",
       " (Document(metadata={'doc_id': '97af8f73-562c-11ef-97fc-6c02e044efe2'}, page_content='毛泽东同志缔造了忠诚于党、为人民奋斗的人民军队，是保障国家独立和人民幸福的坚强后盾。他展现出的政治远见、革命信念和领导才能等崇高风范，深受全党全国各族人民敬仰，是激励我们前进的动力。'),\n",
       "  0.6380640227063945),\n",
       " (Document(metadata={'doc_id': '97af8f68-562c-11ef-b6fd-6c02e044efe2'}, page_content='毛泽东是中国人民的领袖，伟大的马克思主义者，伟大的无产阶级革命家、战略家、理论家，中国共产党、中国人民解放军和中华人民共和国的主要缔造者和领导人，马克思主义中国化的伟大开拓者，近代以来中国伟大的爱国者和民族英雄，中国共产党第一代中央领导集体的核心，领导中国人民彻底改变自己命运和国家面貌的一代伟人。\\n毛泽东被视为现代世界历史中最重要的人物之一，《时代》杂志也将他评为20世纪最具影响100人之一。他对马克思列宁主义的发展、军事理论的贡献以及对共产党的理论贡献被称为毛泽东思想。因毛泽东担任过的主要职务几乎全部称为主席，所以也被人们尊称为“毛主席”。\\n毛泽东被视为现代世界历史中最重要的人物之一，《时代》杂志也将他评为20世纪最具影响100人之一。他对马克思列宁主义的发展、军事理论的贡献以及对共产党的理论贡献被称为毛泽东思想。因毛泽东担任过的主要职务几乎全部称为主席，所以也被人们尊称为“毛主席”。毛泽东被视为现代世界历史中最重要的人物之一，《时代》杂志也将他评为20世纪最具影响100人之一。他对马克思列宁主义的发展、军事理论的贡献以及对共产党的理论贡献被称为毛泽东思想。因毛泽东担任过的主要职务几乎全部称为主席，所以也被人们尊称为“毛主席”。'),\n",
       "  0.6162116825436177)]"
      ]
     },
     "execution_count": 137,
     "metadata": {},
     "output_type": "execute_result"
    }
   ],
   "source": [
    "summary_results"
   ]
  },
  {
   "cell_type": "code",
   "execution_count": 139,
   "id": "ee02f669-0f76-4737-91ed-2dd2ea3e6d53",
   "metadata": {},
   "outputs": [
    {
     "name": "stdout",
     "output_type": "stream",
     "text": [
      "{'doc_id': '97af8f64-562c-11ef-8590-6c02e044efe2'}\n",
      "{'doc_id': '97af8f71-562c-11ef-962b-6c02e044efe2'}\n",
      "{'doc_id': '97af8f73-562c-11ef-97fc-6c02e044efe2'}\n",
      "{'doc_id': '97af8f68-562c-11ef-b6fd-6c02e044efe2'}\n"
     ]
    }
   ],
   "source": [
    "for sr in summary_results:\n",
    "    print(sr[0].metadata)"
   ]
  },
  {
   "cell_type": "code",
   "execution_count": 140,
   "id": "5fd2fce7-387c-462b-9c1d-1bcba69c451c",
   "metadata": {},
   "outputs": [
    {
     "name": "stdout",
     "output_type": "stream",
     "text": [
      "{'source': 'https://baike.baidu.com/item/%E6%AF%9B%E6%B3%BD%E4%B8%9C', 'title': '毛泽东_百度百科', 'description': '毛泽东（1893年12月26日-1976年9月9日），字润之（原作咏芝，后改润芝），笔名子任。湖南湘潭人。中国人民的领袖，伟大的马克思主义者，伟大的无产阶级革命家、战略家、理论家，中国共产党、中国人民解放军和中华人民共和国的主要缔造者和领导人，马克思主义中国化的伟大开拓者，近代以来中国伟大的爱国者和民族英雄，中国共产党第一代中央领导集体的核心，领导中国人民彻底改变自己命运和国家面貌的一代伟人。1949至1976年，毛泽东担任中华人民共和国最高领导人。他对马克思列宁主义的发展、军事理论的贡献以及对共产党的理论贡献被称为毛泽东思想。因毛泽东担任过的主要职务几乎全部称为主席，所以也被人们尊称为“毛主席”。毛泽东被视为现代世界历史中最重要的人物之一，《时代》杂志也将他评为20世纪最具影响100人之一。', 'language': 'No language found.'}\n",
      "{'source': 'https://baike.baidu.com/item/%E6%AF%9B%E6%B3%BD%E4%B8%9C', 'title': '毛泽东_百度百科', 'description': '毛泽东（1893年12月26日-1976年9月9日），字润之（原作咏芝，后改润芝），笔名子任。湖南湘潭人。中国人民的领袖，伟大的马克思主义者，伟大的无产阶级革命家、战略家、理论家，中国共产党、中国人民解放军和中华人民共和国的主要缔造者和领导人，马克思主义中国化的伟大开拓者，近代以来中国伟大的爱国者和民族英雄，中国共产党第一代中央领导集体的核心，领导中国人民彻底改变自己命运和国家面貌的一代伟人。1949至1976年，毛泽东担任中华人民共和国最高领导人。他对马克思列宁主义的发展、军事理论的贡献以及对共产党的理论贡献被称为毛泽东思想。因毛泽东担任过的主要职务几乎全部称为主席，所以也被人们尊称为“毛主席”。毛泽东被视为现代世界历史中最重要的人物之一，《时代》杂志也将他评为20世纪最具影响100人之一。', 'language': 'No language found.'}\n",
      "{'source': 'https://baike.baidu.com/item/%E6%AF%9B%E6%B3%BD%E4%B8%9C', 'title': '毛泽东_百度百科', 'description': '毛泽东（1893年12月26日-1976年9月9日），字润之（原作咏芝，后改润芝），笔名子任。湖南湘潭人。中国人民的领袖，伟大的马克思主义者，伟大的无产阶级革命家、战略家、理论家，中国共产党、中国人民解放军和中华人民共和国的主要缔造者和领导人，马克思主义中国化的伟大开拓者，近代以来中国伟大的爱国者和民族英雄，中国共产党第一代中央领导集体的核心，领导中国人民彻底改变自己命运和国家面貌的一代伟人。1949至1976年，毛泽东担任中华人民共和国最高领导人。他对马克思列宁主义的发展、军事理论的贡献以及对共产党的理论贡献被称为毛泽东思想。因毛泽东担任过的主要职务几乎全部称为主席，所以也被人们尊称为“毛主席”。毛泽东被视为现代世界历史中最重要的人物之一，《时代》杂志也将他评为20世纪最具影响100人之一。', 'language': 'No language found.'}\n",
      "{'source': 'https://baike.baidu.com/item/%E6%AF%9B%E6%B3%BD%E4%B8%9C', 'title': '毛泽东_百度百科', 'description': '毛泽东（1893年12月26日-1976年9月9日），字润之（原作咏芝，后改润芝），笔名子任。湖南湘潭人。中国人民的领袖，伟大的马克思主义者，伟大的无产阶级革命家、战略家、理论家，中国共产党、中国人民解放军和中华人民共和国的主要缔造者和领导人，马克思主义中国化的伟大开拓者，近代以来中国伟大的爱国者和民族英雄，中国共产党第一代中央领导集体的核心，领导中国人民彻底改变自己命运和国家面貌的一代伟人。1949至1976年，毛泽东担任中华人民共和国最高领导人。他对马克思列宁主义的发展、军事理论的贡献以及对共产党的理论贡献被称为毛泽东思想。因毛泽东担任过的主要职务几乎全部称为主席，所以也被人们尊称为“毛主席”。毛泽东被视为现代世界历史中最重要的人物之一，《时代》杂志也将他评为20世纪最具影响100人之一。', 'language': 'No language found.'}\n"
     ]
    }
   ],
   "source": [
    "for result in results:\n",
    "    print(result.metadata)"
   ]
  },
  {
   "cell_type": "code",
   "execution_count": null,
   "id": "85013ffa-d0de-4e15-b9bd-1eb6dea8ef1e",
   "metadata": {},
   "outputs": [],
   "source": []
  }
 ],
 "metadata": {
  "kernelspec": {
   "display_name": "Python 3 (ipykernel)",
   "language": "python",
   "name": "python3"
  },
  "language_info": {
   "codemirror_mode": {
    "name": "ipython",
    "version": 3
   },
   "file_extension": ".py",
   "mimetype": "text/x-python",
   "name": "python",
   "nbconvert_exporter": "python",
   "pygments_lexer": "ipython3",
   "version": "3.12.3"
  }
 },
 "nbformat": 4,
 "nbformat_minor": 5
}
