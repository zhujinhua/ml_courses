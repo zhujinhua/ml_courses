{
 "cells": [
  {
   "cell_type": "code",
   "execution_count": 2,
   "id": "b6399d63",
   "metadata": {
    "ExecuteTime": {
     "end_time": "2024-09-30T05:35:36.138286Z",
     "start_time": "2024-09-30T05:35:34.071033Z"
    }
   },
   "outputs": [],
   "source": [
    "import torch\n",
    "from torch import nn\n",
    "from torch.nn import functional as F\n",
    "\n",
    "from torchvision import datasets\n",
    "from torchvision import transforms\n",
    "from torch.utils.data import DataLoader\n",
    "\n",
    "from matplotlib import pyplot as plt\n",
    "\n",
    "from matplotlib import gridspec\n",
    "\n",
    "import numpy as np\n",
    "\n",
    "import os\n",
    "# os.environ[\"KMP_DUPLICATE_LIB_OK\"]=\"TRUE\"\n",
    "\n",
    "from IPython import display"
   ]
  },
  {
   "cell_type": "code",
   "execution_count": 3,
   "id": "d9eb0c00",
   "metadata": {
    "ExecuteTime": {
     "end_time": "2024-09-30T05:35:38.156830Z",
     "start_time": "2024-09-30T05:35:38.145109Z"
    }
   },
   "outputs": [],
   "source": [
    "# 判断是否有GPU\n",
    "\n",
    "device = \"cuda:0\" if torch.cuda.is_available() else \"cpu\""
   ]
  },
  {
   "cell_type": "code",
   "execution_count": 4,
   "id": "3adb1aca",
   "metadata": {
    "ExecuteTime": {
     "end_time": "2024-09-30T05:35:39.082930Z",
     "start_time": "2024-09-30T05:35:39.045913Z"
    }
   },
   "outputs": [],
   "source": [
    "\"\"\"\n",
    "    加载数据\n",
    "    - 模仿的对象\n",
    "    - 真品\n",
    "\"\"\"\n",
    "\n",
    "# 加载并预处理图像\n",
    "data = datasets.MNIST(root=\"data\", \n",
    "                      train=True, \n",
    "                      transform = transforms.Compose(transforms=[transforms.ToTensor(),\n",
    "                                                                transforms.Normalize(mean=[0.5], std=[0.5])]),\n",
    "                      download=True)\n",
    "# 封装成 DataLoader\n",
    "data_loader = DataLoader(dataset=data, batch_size=100, shuffle=True)"
   ]
  },
  {
   "cell_type": "code",
   "execution_count": 5,
   "id": "213afb54",
   "metadata": {
    "ExecuteTime": {
     "end_time": "2024-09-30T05:35:49.146868Z",
     "start_time": "2024-09-30T05:35:49.089819Z"
    }
   },
   "outputs": [
    {
     "name": "stdout",
     "output_type": "stream",
     "text": [
      "torch.Size([100, 1, 28, 28])\n",
      "torch.Size([100])\n"
     ]
    }
   ],
   "source": [
    "for image, label in data_loader:\n",
    "    print(image.shape)\n",
    "    print(label.shape)\n",
    "    break"
   ]
  },
  {
   "cell_type": "markdown",
   "id": "74ebc52b-6f41-46ea-b18f-96477584c0c7",
   "metadata": {},
   "source": [
    "#### 核心的GAN思想"
   ]
  },
  {
   "cell_type": "code",
   "execution_count": 6,
   "id": "f0662964",
   "metadata": {
    "ExecuteTime": {
     "end_time": "2024-09-30T06:01:34.224398Z",
     "start_time": "2024-09-30T06:01:34.216642Z"
    }
   },
   "outputs": [],
   "source": [
    "\"\"\"\n",
    "    定义生成器\n",
    "\"\"\"\n",
    "\n",
    "class Generator(nn.Module):\n",
    "    \"\"\"\n",
    "        定义一个图像生成\n",
    "        输入：一个向量(随机噪声，随机数)\n",
    "        输出：一个向量（代表图像，28 * 28）\n",
    "    \"\"\"\n",
    "    def __init__(self, in_features=128, out_features=28 * 28):\n",
    "        \"\"\"\n",
    "            挂载超参数\n",
    "        \"\"\"\n",
    "        # 先初始化父类，再初始化子类\n",
    "        super(Generator, self).__init__()\n",
    "        \n",
    "        self.in_features = in_features\n",
    "        self.out_features = out_features\n",
    "        \n",
    "        # 第一个隐藏层\n",
    "        self.hidden0 = nn.Linear(in_features=self.in_features, out_features=256)\n",
    "        \n",
    "        # 第二个隐藏层\n",
    "        self.hidden1 = nn.Linear(in_features=256, out_features=512)\n",
    "        \n",
    "        # 第三个隐藏层\n",
    "        self.hidden2 = nn.Linear(in_features=512, out_features=self.out_features)\n",
    "    \n",
    "    def forward(self, x):\n",
    "        \n",
    "        # 第一层 [b, 128] --> [b, 256]\n",
    "        h = self.hidden0(x)\n",
    "        h = F.leaky_relu(input=h, negative_slope=0.2)\n",
    "        \n",
    "        # 第二层 [b, 256] --> [b, 512]\n",
    "        h = self.hidden1(h)\n",
    "        h = F.leaky_relu(input=h, negative_slope=0.2)\n",
    "        \n",
    "        # 第三层 [b, 512] --> [b, 28 * 28]\n",
    "        h = self.hidden2(h)\n",
    "        \n",
    "        # 压缩数据的变化范围\n",
    "        o = torch.tanh(h)\n",
    "        \n",
    "        return o"
   ]
  },
  {
   "cell_type": "markdown",
   "source": [],
   "metadata": {
    "collapsed": false
   }
  },
  {
   "cell_type": "code",
   "execution_count": 6,
   "id": "dabdd8ed-1335-4b06-b414-7ef5cc0d88c3",
   "metadata": {
    "ExecuteTime": {
     "end_time": "2024-07-13T02:59:46.331376Z",
     "start_time": "2024-07-13T02:59:46.327115Z"
    }
   },
   "outputs": [
    {
     "data": {
      "text/plain": "784"
     },
     "execution_count": 6,
     "metadata": {},
     "output_type": "execute_result"
    }
   ],
   "source": [
    "28 * 28"
   ]
  },
  {
   "cell_type": "code",
   "execution_count": 7,
   "id": "9550e835",
   "metadata": {
    "ExecuteTime": {
     "end_time": "2024-09-30T06:05:42.543524Z",
     "start_time": "2024-09-30T06:05:42.533200Z"
    }
   },
   "outputs": [],
   "source": [
    "\"\"\"\n",
    "    定义一个鉴别器\n",
    "\"\"\"\n",
    "\n",
    "class Discriminator(nn.Module):\n",
    "    \"\"\"\n",
    "        本质：二分类分类器\n",
    "        输入：一个对象\n",
    "        输出：真品还是赝品\n",
    "    \"\"\"\n",
    "    def __init__(self, in_features=28*28, out_features=1):\n",
    "        super(Discriminator, self).__init__()\n",
    "        \n",
    "        self.in_features=in_features\n",
    "        self.out_features=out_features\n",
    "        \n",
    "        # 第一个隐藏层\n",
    "        self.hidden0= nn.Linear(in_features=self.in_features, out_features=512)\n",
    "        \n",
    "        # 第二个隐藏层\n",
    "        self.hidden1= nn.Linear(in_features=512, out_features=256)\n",
    "        \n",
    "        # 第三个隐藏层\n",
    "        self.hidden2= nn.Linear(in_features=256, out_features=32)\n",
    "        \n",
    "        # 第四个隐藏层\n",
    "        self.hidden3= nn.Linear(in_features=32, out_features=self.out_features)\n",
    "        \n",
    "    \n",
    "    def forward(self, x):\n",
    "        \n",
    "        # 第一层\n",
    "        h = self.hidden0(x)\n",
    "        h = F.leaky_relu(input=h, negative_slope=0.2)\n",
    "        h = F.dropout(input=h, p=0.2)\n",
    "        \n",
    "        # 第二层\n",
    "        h = self.hidden1(h)\n",
    "        h = F.leaky_relu(input=h, negative_slope=0.2)\n",
    "        h = F.dropout(input=h, p=0.2)\n",
    "        \n",
    "        # 第三层\n",
    "        h = self.hidden2(h)\n",
    "        h = F.leaky_relu(input=h, negative_slope=0.2)\n",
    "        h = F.dropout(input=h, p=0.2)\n",
    "        \n",
    "        # 第四层\n",
    "        h = self.hidden3(h)\n",
    "        \n",
    "        # 输出概率\n",
    "        o = torch.sigmoid(h)\n",
    "        \n",
    "        return o"
   ]
  },
  {
   "cell_type": "code",
   "execution_count": 8,
   "id": "f9acef33",
   "metadata": {
    "ExecuteTime": {
     "end_time": "2024-09-30T06:05:56.850102Z",
     "start_time": "2024-09-30T06:05:56.837509Z"
    }
   },
   "outputs": [
    {
     "data": {
      "text/plain": "Discriminator(\n  (hidden0): Linear(in_features=784, out_features=512, bias=True)\n  (hidden1): Linear(in_features=512, out_features=256, bias=True)\n  (hidden2): Linear(in_features=256, out_features=32, bias=True)\n  (hidden3): Linear(in_features=32, out_features=1, bias=True)\n)"
     },
     "execution_count": 8,
     "metadata": {},
     "output_type": "execute_result"
    }
   ],
   "source": [
    "\"\"\"\n",
    "    构建模型\n",
    "\"\"\"\n",
    "# 定义一个生成器\n",
    "generator = Generator(in_features=128, out_features=784)\n",
    "generator.to(device=device)\n",
    "\n",
    "# 定义一个鉴别器\n",
    "discriminator = Discriminator(in_features=784, out_features=1)\n",
    "discriminator.to(device=device)"
   ]
  },
  {
   "cell_type": "code",
   "execution_count": 9,
   "id": "88cb9255",
   "metadata": {
    "ExecuteTime": {
     "end_time": "2024-09-30T06:06:23.273128Z",
     "start_time": "2024-09-30T06:06:23.263025Z"
    }
   },
   "outputs": [],
   "source": [
    "\"\"\"\n",
    "    定义优化器\n",
    "\"\"\"\n",
    "\n",
    "# 定义一个生成器的优化器\n",
    "g_optimizer = torch.optim.Adam(params=generator.parameters(), lr=1e-4)\n",
    "\n",
    "# 定义一个鉴别的优化器\n",
    "d_optimizer = torch.optim.Adam(params=discriminator.parameters(), lr=1e-4)"
   ]
  },
  {
   "cell_type": "code",
   "execution_count": 10,
   "id": "1886dd52",
   "metadata": {
    "ExecuteTime": {
     "end_time": "2024-09-30T06:06:29.427945Z",
     "start_time": "2024-09-30T06:06:29.416456Z"
    }
   },
   "outputs": [],
   "source": [
    "\"\"\"\n",
    "    定义一个损失函数\n",
    "\"\"\"\n",
    "loss_fn = nn.BCELoss()"
   ]
  },
  {
   "cell_type": "code",
   "execution_count": 11,
   "id": "361ea6e4",
   "metadata": {
    "ExecuteTime": {
     "end_time": "2024-09-30T06:06:36.118547Z",
     "start_time": "2024-09-30T06:06:36.107966Z"
    }
   },
   "outputs": [],
   "source": [
    "# 定义训练轮次\n",
    "num_epochs = 1000"
   ]
  },
  {
   "cell_type": "code",
   "execution_count": 12,
   "id": "5b7af8d3",
   "metadata": {
    "ExecuteTime": {
     "end_time": "2024-09-30T06:07:17.842676Z",
     "start_time": "2024-09-30T06:07:17.832383Z"
    }
   },
   "outputs": [],
   "source": [
    "\"\"\"\n",
    "    获取数据的标签\n",
    "\"\"\"\n",
    "\n",
    "def get_real_data_labels(size):\n",
    "    \"\"\"\n",
    "        获取真实数据的标签（待模仿的数据）\n",
    "        所有的真实数据标签都是1\n",
    "    \"\"\"\n",
    "    labels = torch.ones(size, 1, device=device)\n",
    "    \n",
    "    return labels\n",
    "\n",
    "def get_fake_data_labels(size):\n",
    "    \"\"\"\n",
    "        获取虚假数据的标签（生成器生成的）\n",
    "        所有的假数据，标签都是 0\n",
    "    \"\"\"\n",
    "    labels = torch.zeros(size, 1, device=device)\n",
    "    \n",
    "    return labels"
   ]
  },
  {
   "cell_type": "code",
   "execution_count": 13,
   "id": "c8592d6c",
   "metadata": {
    "ExecuteTime": {
     "end_time": "2024-09-30T06:07:29.517426Z",
     "start_time": "2024-09-30T06:07:29.505700Z"
    }
   },
   "outputs": [],
   "source": [
    "\"\"\"\n",
    "    噪声生成器\n",
    "\"\"\"\n",
    "def get_noise(size):\n",
    "    \"\"\"\n",
    "        给生成器准备数据\n",
    "        - 128维度的向量\n",
    "    \"\"\"\n",
    "    X = torch.randn(size, 128, device=device)\n",
    "    \n",
    "    return X"
   ]
  },
  {
   "cell_type": "code",
   "execution_count": 14,
   "id": "3e86e064",
   "metadata": {
    "ExecuteTime": {
     "end_time": "2024-09-30T06:07:34.714018Z",
     "start_time": "2024-09-30T06:07:34.676386Z"
    }
   },
   "outputs": [
    {
     "data": {
      "text/plain": "tensor([[ 1.5287,  0.0292, -0.3083,  ..., -0.3031,  0.7338,  0.4723],\n        [-0.6448, -0.7657,  1.1840,  ...,  0.5558,  0.3207, -0.1947],\n        [-0.6149,  0.6310, -1.4330,  ...,  0.2612,  1.6054,  0.3347],\n        ...,\n        [-0.6282,  0.0897, -0.3656,  ..., -0.6662,  0.8075,  1.1256],\n        [-1.4849, -0.6184, -0.3626,  ...,  1.5252, -0.3384,  0.4660],\n        [-0.9670, -0.1829, -0.0036,  ..., -0.4775, -0.4381, -0.4960]])"
     },
     "execution_count": 14,
     "metadata": {},
     "output_type": "execute_result"
    }
   ],
   "source": [
    "get_noise(16)"
   ]
  },
  {
   "cell_type": "code",
   "execution_count": 15,
   "id": "0674b255",
   "metadata": {
    "ExecuteTime": {
     "end_time": "2024-09-30T06:07:49.593254Z",
     "start_time": "2024-09-30T06:07:49.577130Z"
    }
   },
   "outputs": [],
   "source": [
    "# 获取一批测试数据\n",
    "\n",
    "num_test_samples = 16\n",
    "test_noise = get_noise(num_test_samples)"
   ]
  },
  {
   "cell_type": "code",
   "execution_count": 16,
   "id": "0264a778",
   "metadata": {
    "scrolled": true,
    "ExecuteTime": {
     "end_time": "2024-09-30T06:07:50.173293Z",
     "start_time": "2024-09-30T06:07:50.161925Z"
    }
   },
   "outputs": [
    {
     "data": {
      "text/plain": "tensor([[-0.2594, -1.8688, -0.5124,  ..., -0.3810,  1.3185,  0.3974],\n        [ 0.3121,  0.8754,  0.8958,  ...,  0.4748,  0.6733,  0.9003],\n        [ 0.4279, -0.3498, -0.5662,  ..., -0.9037,  0.8012,  0.7511],\n        ...,\n        [-1.9091,  2.1905, -1.4140,  ..., -0.5929, -0.6040,  0.2143],\n        [-1.7849, -1.1662, -0.8805,  ...,  1.4776,  0.8710, -0.4186],\n        [ 1.0506,  0.6552,  0.7460,  ...,  0.2669,  0.8463,  0.3432]])"
     },
     "execution_count": 16,
     "metadata": {},
     "output_type": "execute_result"
    }
   ],
   "source": [
    "test_noise"
   ]
  },
  {
   "cell_type": "code",
   "execution_count": 17,
   "id": "d0c8c082",
   "metadata": {},
   "outputs": [
    {
     "data": {
      "text/plain": "<Figure size 1200x800 with 16 Axes>",
      "image/png": "[encoded data removed]"
     },
     "metadata": {},
     "output_type": "display_data"
    }
   ],
   "source": [
    "\"\"\"\n",
    "    训练过程\n",
    "\"\"\"\n",
    "\n",
    "g_losses = []\n",
    "d_losses = []\n",
    "\n",
    "for epoch in range(1, num_epochs+1):\n",
    "    \n",
    "    print(f\"当前正在进行 第 {epoch} 轮 ....\")\n",
    "    \n",
    "    # 设置训练模式\n",
    "    generator.train()\n",
    "    discriminator.train()\n",
    "    \n",
    "    # 遍历真实的图像\n",
    "    for batch_idx, (batch_real_data, _) in enumerate(data_loader):\n",
    "        \n",
    "               \n",
    "        \"\"\"\n",
    "        1, 先训练鉴别器\n",
    "            鉴别器就是一个二分类问题\n",
    "            - 给一批真数据，输出真\n",
    "            - 给一批假数据，输出假\n",
    "        \n",
    "        \"\"\"\n",
    "        \n",
    "        # 1.1 准备数据\n",
    "        # 图像转向量 [b, 1, 28, 28] ---> [b, 784]\n",
    "        # 从数据集中获取100个真实的手写数字图像\n",
    "        real_data = batch_real_data.view(batch_real_data.size(0), -1).to(device=device)\n",
    "        \n",
    "        # 噪声[b, 100]\n",
    "        # 随机生成100个100维度的噪声，用于生成假图像\n",
    "        noise = get_noise(real_data.size(0))\n",
    "        \n",
    "        # 根据噪声，生成假数据 \n",
    "        # [b, 100] --> [b, 784]\n",
    "        fake_data = generator(noise).detach()\n",
    "                \n",
    "        \n",
    "        # 1.2 训练过程\n",
    "        \n",
    "        # 鉴别器的优化器梯度情况\n",
    "        d_optimizer.zero_grad()\n",
    "        \n",
    "        # 对真实数据鉴别\n",
    "        real_pred = discriminator(real_data)\n",
    "        \n",
    "        # 计算真实数据的误差\n",
    "        real_loss = loss_fn(real_pred, get_real_data_labels(real_data.size(0)))\n",
    "        \n",
    "        # 真实数据的梯度回传\n",
    "        real_loss.backward()\n",
    "\n",
    "        \n",
    "        # 对假数据鉴别\n",
    "        fake_pred = discriminator(fake_data)\n",
    "        \n",
    "        # 计算假数据的误差\n",
    "        fake_loss = loss_fn(fake_pred, get_fake_data_labels(fake_data.size(0)))\n",
    "        \n",
    "        # 假数据梯度回传\n",
    "        fake_loss.backward()\n",
    "        \n",
    "        # 梯度更新\n",
    "        d_optimizer.step()\n",
    "\n",
    "        # ----------------\n",
    "        \n",
    "        d_losses.append((real_loss + fake_loss).item())\n",
    "        \n",
    "#         print(f\"鉴别器的损失:{real_loss + fake_loss}\")\n",
    "        \n",
    "        \n",
    "        \"\"\"2, 再训练生成器\"\"\"\n",
    "        \n",
    "        # 获取生成器的生成结果\n",
    "        fake_pred = generator(get_noise(real_data.size(0)))\n",
    "        \n",
    "        # 生产器梯度清空\n",
    "        g_optimizer.zero_grad()\n",
    "        \n",
    "        # 把假数据让鉴别器鉴别一下\n",
    "        # 把discriminator requires_grad = False\n",
    "        # 设置为不可学习\n",
    "        for param in discriminator.parameters():\n",
    "            param.requires_grad = False\n",
    "            \n",
    "        d_pred = discriminator(fake_pred)\n",
    "        \n",
    "        # 设置为可学习\n",
    "        for param in discriminator.parameters():\n",
    "            param.requires_grad = True\n",
    "        \n",
    "        # 计算损失\n",
    "        # 把一个假东西，给专家看，专家说是真的，这个时候，造假的水平就可以了\n",
    "        g_loss = loss_fn(d_pred, get_real_data_labels(d_pred.size(0)))\n",
    "        \n",
    "        # 梯度回传\n",
    "        g_loss.backward()\n",
    "        \n",
    "        # 参数更新\n",
    "        g_optimizer.step()\n",
    "        \n",
    "#         print(f\"生成器误差：{g_loss}\")\n",
    "        g_losses.append(g_loss.item())\n",
    "   \n",
    "    # 每轮训练之后，观察生成器的效果\n",
    "    generator.eval()\n",
    "    \n",
    "    with torch.no_grad():\n",
    "        \n",
    "        # 正向推理\n",
    "        img_pred = generator(test_noise)\n",
    "        img_pred = img_pred.view(img_pred.size(0), 28, 28).cpu().data\n",
    "        \n",
    "        # 画图\n",
    "        display.clear_output(wait=True)\n",
    "        \n",
    "        # 设置画图的大小\n",
    "        fig = plt.figure(1, figsize=(12, 8)) \n",
    "        # 划分为 4 x 4 的 网格\n",
    "        gs = gridspec.GridSpec(4, 4)\n",
    "        \n",
    "        # 遍历每一个\n",
    "        for i in range(4):\n",
    "            for j in range(4):\n",
    "                # 取每一个图\n",
    "                X = img_pred[i * 4 + j, :, :]\n",
    "                # 添加一个对应网格内的子图\n",
    "                ax = fig.add_subplot(gs[i, j])\n",
    "                # 在子图内绘制图像\n",
    "                ax.matshow(X, cmap=plt.get_cmap(\"Greys\"))\n",
    "#                 ax.set_xlabel(f\"{label}\")\n",
    "                ax.set_xticks(())\n",
    "                ax.set_yticks(())\n",
    "        plt.show()\n",
    " "
   ]
  },
  {
   "cell_type": "code",
   "execution_count": 18,
   "id": "9fda406d",
   "metadata": {
    "ExecuteTime": {
     "end_time": "2024-07-13T05:22:51.936186Z",
     "start_time": "2024-07-13T05:22:51.904488Z"
    }
   },
   "outputs": [
    {
     "data": {
      "text/plain": "Generator(\n  (hidden0): Linear(in_features=128, out_features=256, bias=True)\n  (hidden1): Linear(in_features=256, out_features=512, bias=True)\n  (hidden2): Linear(in_features=512, out_features=784, bias=True)\n)"
     },
     "execution_count": 18,
     "metadata": {},
     "output_type": "execute_result"
    }
   ],
   "source": [
    "generator"
   ]
  },
  {
   "cell_type": "code",
   "execution_count": 19,
   "id": "1d28e8d2",
   "metadata": {
    "ExecuteTime": {
     "end_time": "2024-07-13T05:22:51.939137Z",
     "start_time": "2024-07-13T05:22:51.904769Z"
    }
   },
   "outputs": [
    {
     "data": {
      "text/plain": "tensor([[-1.2961e+00,  2.1338e+00,  3.0627e+00,  6.9977e-01,  3.5969e-01,\n          1.2468e-01,  5.1510e-01, -8.5144e-01, -1.5063e+00, -2.2374e-01,\n          1.9660e+00, -1.4693e+00,  1.0253e+00,  2.4812e-01,  1.0339e+00,\n         -1.0534e+00,  3.8728e-01, -2.8982e-01, -1.4531e+00,  7.7362e-01,\n         -8.4519e-01,  1.1455e+00,  1.0441e+00, -7.8484e-01,  7.6992e-01,\n          2.6080e+00,  5.5941e-02, -3.6691e-04, -8.3243e-01,  1.3959e-01,\n          9.6574e-01, -6.2679e-01,  4.7280e-02,  2.3896e+00,  7.9715e-01,\n         -6.3444e-01, -7.2009e-02,  1.7510e+00,  1.5930e+00,  3.1718e+00,\n          4.8139e-01,  3.4657e-01, -1.5162e+00,  7.4824e-01,  1.6362e+00,\n          8.4625e-01,  2.7518e-01, -3.8411e-01,  7.1633e-01,  2.8520e-01,\n          1.4339e-01, -1.4160e-01,  2.1755e-01, -1.0147e+00,  3.3311e-01,\n          7.0503e-01,  1.4490e-01,  7.8702e-01,  9.3564e-01, -5.8967e-02,\n          1.6150e+00,  1.2677e+00, -1.2517e+00, -9.0832e-02, -8.3042e-01,\n         -6.8203e-01,  3.1575e-01, -7.1252e-01,  2.7067e+00,  2.0308e-01,\n         -1.1811e+00,  2.1441e-01,  2.9385e-01,  1.3370e+00,  3.2265e-01,\n         -2.0225e-01,  1.3279e+00, -9.0266e-03, -3.4127e+00, -6.0997e-02,\n         -2.7771e+00,  3.1437e-01, -1.6844e+00, -4.5640e-01, -9.9745e-01,\n         -7.1673e-02,  7.6630e-01,  1.4124e+00,  1.9739e+00,  6.9605e-01,\n         -6.0972e-01, -2.0169e-01,  7.4491e-01,  6.9497e-02, -9.0355e-02,\n          9.1045e-01,  1.4082e+00, -5.2163e-01,  5.6692e-01, -7.2783e-01,\n          9.1086e-01,  2.6666e-01, -2.0753e-01, -8.9917e-01, -1.4017e+00,\n          1.7446e-01,  3.8013e-01,  4.3982e-01,  3.5090e-01, -3.3347e-01,\n         -8.6922e-01,  2.1975e-01, -6.8551e-01,  3.1106e-01,  2.3051e-01,\n          4.6051e-01,  1.6805e-01, -1.8037e-01, -6.9761e-01, -1.1747e+00,\n          8.9723e-01,  1.2506e-01, -5.1272e-01, -7.5486e-01, -1.4278e+00,\n          7.1577e-01, -1.2727e+00,  1.4846e+00]])"
     },
     "execution_count": 19,
     "metadata": {},
     "output_type": "execute_result"
    }
   ],
   "source": [
    "get_noise(1)"
   ]
  },
  {
   "cell_type": "code",
   "execution_count": 20,
   "id": "b4c4c7da",
   "metadata": {
    "ExecuteTime": {
     "end_time": "2024-07-13T05:22:52.385697Z",
     "start_time": "2024-07-13T05:22:51.951343Z"
    }
   },
   "outputs": [],
   "source": [
    "img = generator(get_noise(1)).detach()"
   ]
  },
  {
   "cell_type": "code",
   "execution_count": 21,
   "id": "7ce1f605",
   "metadata": {
    "ExecuteTime": {
     "end_time": "2024-07-13T05:22:52.387625Z",
     "start_time": "2024-07-13T05:22:51.952196Z"
    }
   },
   "outputs": [
    {
     "data": {
      "text/plain": "tensor([[-1.0000, -1.0000, -1.0000, -1.0000, -1.0000, -1.0000, -0.9983, -1.0000,\n         -1.0000, -1.0000, -1.0000, -1.0000, -1.0000, -1.0000, -1.0000, -1.0000,\n         -1.0000, -1.0000, -1.0000, -1.0000, -1.0000, -1.0000, -1.0000, -1.0000,\n         -1.0000, -1.0000, -1.0000, -1.0000, -1.0000, -1.0000, -1.0000, -1.0000,\n         -1.0000, -1.0000, -1.0000, -1.0000, -1.0000, -1.0000, -1.0000, -1.0000,\n         -1.0000, -1.0000, -1.0000, -1.0000, -1.0000, -1.0000, -1.0000, -1.0000,\n         -1.0000, -1.0000, -1.0000, -1.0000, -1.0000, -1.0000, -1.0000, -1.0000,\n         -1.0000, -1.0000, -1.0000, -1.0000, -1.0000, -1.0000, -0.9999, -1.0000,\n         -1.0000, -1.0000, -1.0000, -1.0000, -1.0000, -1.0000, -1.0000, -1.0000,\n         -1.0000, -0.9745, -0.9810, -0.8726, -0.9980, -0.9995, -1.0000, -1.0000,\n         -1.0000, -1.0000, -1.0000, -1.0000, -1.0000, -1.0000, -1.0000, -1.0000,\n         -1.0000, -1.0000, -1.0000, -1.0000, -1.0000, -1.0000, -1.0000, -1.0000,\n         -1.0000, -1.0000, -1.0000, -0.9999, -0.9958,  0.2037,  0.7963, -0.6845,\n         -0.9965, -0.9994, -1.0000, -1.0000, -1.0000, -1.0000, -1.0000, -1.0000,\n         -1.0000, -1.0000, -1.0000, -1.0000, -1.0000, -1.0000, -0.9987, -1.0000,\n         -1.0000, -1.0000, -1.0000, -1.0000, -1.0000, -1.0000, -1.0000, -0.9833,\n          0.5282,  0.9907,  0.9657, -0.2584, -0.9909, -1.0000, -1.0000, -1.0000,\n         -1.0000, -1.0000, -1.0000, -1.0000, -1.0000, -1.0000, -1.0000, -1.0000,\n         -1.0000, -1.0000, -1.0000, -1.0000, -1.0000, -1.0000, -1.0000, -1.0000,\n         -1.0000, -1.0000, -0.9929, -0.3316,  0.9872,  0.9980,  0.8236, -0.9027,\n         -0.9994, -1.0000, -1.0000, -1.0000, -1.0000, -1.0000, -1.0000, -1.0000,\n         -1.0000, -1.0000, -1.0000, -1.0000, -1.0000, -1.0000, -1.0000, -1.0000,\n         -1.0000, -1.0000, -1.0000, -1.0000, -1.0000, -0.9927,  0.2080,  0.9666,\n          0.9995,  0.9907,  0.0528, -0.9319, -0.9997, -1.0000, -1.0000, -1.0000,\n         -1.0000, -1.0000, -1.0000, -1.0000, -1.0000, -1.0000, -1.0000, -1.0000,\n         -1.0000, -1.0000, -1.0000, -1.0000, -1.0000, -1.0000, -1.0000, -1.0000,\n         -0.9952,  0.4514,  0.9824,  0.9970,  0.9925,  0.9189, -0.4767, -0.8964,\n         -0.9233, -0.9933, -0.9996, -1.0000, -1.0000, -1.0000, -1.0000, -1.0000,\n         -1.0000, -1.0000, -1.0000, -1.0000, -1.0000, -1.0000, -1.0000, -1.0000,\n         -1.0000, -1.0000, -0.9989, -0.9975, -0.5449,  0.9599,  0.9987,  0.9969,\n          0.9321, -0.6532, -0.6905, -0.5649, -0.6396, -0.9881, -0.9992, -1.0000,\n         -1.0000, -1.0000, -1.0000, -1.0000, -1.0000, -1.0000, -1.0000, -1.0000,\n         -1.0000, -1.0000, -1.0000, -1.0000, -1.0000, -0.9967, -0.9864, -0.7725,\n          0.9669,  0.9975,  0.9988,  0.9838,  0.4307, -0.5366, -0.3179,  0.4583,\n          0.0226, -0.9568, -0.9991, -1.0000, -1.0000, -1.0000, -1.0000, -1.0000,\n         -1.0000, -1.0000, -1.0000, -1.0000, -1.0000, -1.0000, -1.0000, -1.0000,\n         -0.9999, -0.9598, -0.9222,  0.8895,  0.9990,  0.9904,  0.9794,  0.7289,\n          0.8541,  0.2263,  0.3379,  0.3136,  0.8991, -0.8812, -0.9951, -0.9999,\n         -1.0000, -1.0000, -1.0000, -1.0000, -1.0000, -1.0000, -1.0000, -1.0000,\n         -1.0000, -1.0000, -1.0000, -1.0000, -0.9978, -0.4406,  0.5601,  0.9969,\n          0.9972,  0.8455,  0.2052,  0.5313,  0.7895,  0.4415, -0.2042,  0.3798,\n          0.9426,  0.1457, -0.9919, -0.9997, -1.0000, -1.0000, -1.0000, -1.0000,\n         -1.0000, -1.0000, -1.0000, -1.0000, -1.0000, -1.0000, -1.0000, -0.9997,\n         -0.9396,  0.3602,  0.9903,  0.9984,  0.9482, -0.8737, -0.8763, -0.5401,\n          0.4546,  0.1919,  0.1476,  0.9529,  0.9654,  0.7158, -0.9933, -0.9879,\n         -1.0000, -1.0000, -1.0000, -1.0000, -1.0000, -1.0000, -1.0000, -1.0000,\n         -1.0000, -1.0000, -0.9999, -0.9855, -0.7078,  0.9607,  0.9948,  0.9506,\n         -0.6030, -0.9987, -0.9999, -0.9718, -0.3539,  0.3675,  0.0436,  0.6105,\n          0.9112,  0.3001, -0.9896, -0.9999, -0.9999, -1.0000, -1.0000, -1.0000,\n         -1.0000, -1.0000, -1.0000, -1.0000, -1.0000, -1.0000, -0.9985, -0.1246,\n          0.8023,  0.9963,  0.9267, -0.5415, -0.9967, -0.9999, -0.9999, -0.9988,\n         -0.7638,  0.4865,  0.2059,  0.5058,  0.9057,  0.4719, -0.9931, -1.0000,\n         -0.9998, -1.0000, -1.0000, -1.0000, -1.0000, -1.0000, -1.0000, -1.0000,\n         -0.9997, -1.0000, -0.9978,  0.8144,  0.9919,  0.9938,  0.7294, -0.9969,\n         -0.9999, -1.0000, -0.9999, -0.9992, -0.9403, -0.7764, -0.3776,  0.6002,\n          0.9833,  0.9218, -0.9761, -0.9983, -0.9997, -1.0000, -1.0000, -1.0000,\n         -1.0000, -1.0000, -1.0000, -1.0000, -0.9999, -0.9999, -0.7829,  0.9149,\n          0.9877,  0.9885, -0.7651, -0.9999, -1.0000, -1.0000, -0.9842, -0.9596,\n         -0.9866, -0.9304, -0.3316,  0.8049,  0.9575,  0.9271, -0.8953, -0.9992,\n         -1.0000, -1.0000, -1.0000, -1.0000, -1.0000, -1.0000, -1.0000, -1.0000,\n         -1.0000, -0.9950,  0.1867,  0.9967,  0.9721,  0.4338, -0.9568, -1.0000,\n         -1.0000, -0.9974,  0.1714, -0.3265, -0.9814, -0.8835,  0.5491,  0.9178,\n          0.8782, -0.0611, -0.9983, -0.9988, -1.0000, -1.0000, -1.0000, -1.0000,\n         -1.0000, -1.0000, -1.0000, -1.0000, -1.0000, -0.9850,  0.6146,  0.9932,\n          0.9326,  0.2245, -0.9353, -0.9968, -0.9614, -0.1406,  0.9206,  0.3510,\n          0.1091,  0.8460,  0.9008,  0.9044,  0.7368, -0.9887, -0.9999, -0.9999,\n         -1.0000, -1.0000, -1.0000, -1.0000, -1.0000, -1.0000, -1.0000, -1.0000,\n         -0.9999, -0.9607, -0.4762,  0.9711,  0.9394,  0.7377,  0.2528,  0.9074,\n          0.9677,  0.9896,  0.9643,  0.9771,  0.9872,  0.9946,  0.9524,  0.9402,\n          0.6408, -0.9996, -1.0000, -1.0000, -1.0000, -1.0000, -1.0000, -1.0000,\n         -1.0000, -1.0000, -1.0000, -1.0000, -0.9996, -0.9983, -0.8588,  0.8472,\n          0.8173,  0.7654,  0.9270,  0.9961,  0.9794,  0.9933,  0.9904,  0.9499,\n          0.9595,  0.9517,  0.8894, -0.5052, -0.9917, -1.0000, -1.0000, -1.0000,\n         -1.0000, -1.0000, -1.0000, -1.0000, -1.0000, -1.0000, -1.0000, -1.0000,\n         -0.9987, -0.9886, -0.8868, -0.2620, -0.2205,  0.8347,  0.9205,  0.9449,\n          0.8679,  0.8896,  0.8261,  0.1719, -0.0839, -0.5924, -0.9590, -0.9998,\n         -1.0000, -1.0000, -1.0000, -1.0000, -1.0000, -1.0000, -1.0000, -1.0000,\n         -1.0000, -1.0000, -0.9999, -1.0000, -0.9993, -0.9855, -0.9991, -0.9794,\n         -0.9298, -0.8685, -0.1391, -0.2751,  0.1133,  0.1854, -0.1809, -0.9009,\n         -0.9658, -0.9979, -0.9999, -1.0000, -1.0000, -1.0000, -1.0000, -1.0000,\n         -1.0000, -1.0000, -1.0000, -1.0000, -1.0000, -1.0000, -1.0000, -1.0000,\n         -1.0000, -0.9991, -0.9976, -0.9998, -0.9993, -0.9903, -0.9892, -0.9996,\n         -0.9981, -0.9866, -0.9543, -0.9764, -0.9875, -0.9996, -1.0000, -1.0000,\n         -1.0000, -1.0000, -1.0000, -1.0000, -1.0000, -1.0000, -1.0000, -1.0000,\n         -1.0000, -1.0000, -1.0000, -1.0000, -1.0000, -1.0000, -1.0000, -1.0000,\n         -1.0000, -1.0000, -1.0000, -1.0000, -1.0000, -1.0000, -1.0000, -1.0000,\n         -1.0000, -1.0000, -1.0000, -1.0000, -1.0000, -1.0000, -0.9995, -1.0000,\n         -1.0000, -1.0000, -1.0000, -1.0000, -1.0000, -1.0000, -1.0000, -1.0000,\n         -1.0000, -1.0000, -1.0000, -1.0000, -1.0000, -1.0000, -1.0000, -1.0000,\n         -1.0000, -1.0000, -1.0000, -1.0000, -1.0000, -1.0000, -1.0000, -1.0000,\n         -1.0000, -1.0000, -1.0000, -1.0000, -1.0000, -1.0000, -1.0000, -1.0000,\n         -1.0000, -1.0000, -1.0000, -1.0000, -1.0000, -1.0000, -1.0000, -1.0000,\n         -1.0000, -1.0000, -1.0000, -1.0000, -1.0000, -1.0000, -1.0000, -1.0000,\n         -1.0000, -1.0000, -1.0000, -1.0000, -1.0000, -1.0000, -1.0000, -1.0000,\n         -1.0000, -1.0000, -1.0000, -1.0000, -1.0000, -1.0000, -1.0000, -1.0000,\n         -1.0000, -1.0000, -1.0000, -1.0000, -1.0000, -1.0000, -1.0000, -0.9950,\n         -1.0000, -1.0000, -1.0000, -1.0000, -1.0000, -1.0000, -1.0000, -1.0000,\n         -1.0000, -1.0000, -1.0000, -1.0000, -1.0000, -1.0000, -1.0000, -1.0000]])"
     },
     "execution_count": 21,
     "metadata": {},
     "output_type": "execute_result"
    }
   ],
   "source": [
    "img"
   ]
  },
  {
   "cell_type": "code",
   "execution_count": 22,
   "id": "62df4848",
   "metadata": {
    "ExecuteTime": {
     "end_time": "2024-07-13T05:22:52.388158Z",
     "start_time": "2024-07-13T05:22:51.952679Z"
    }
   },
   "outputs": [],
   "source": [
    "img1 = ((img * 0.5 + 0.5) * 255).cpu().numpy().astype(int).reshape(28, 28)"
   ]
  },
  {
   "cell_type": "code",
   "execution_count": 23,
   "id": "f4d5ad19",
   "metadata": {
    "ExecuteTime": {
     "end_time": "2024-07-13T05:22:52.389127Z",
     "start_time": "2024-07-13T05:22:51.952859Z"
    }
   },
   "outputs": [
    {
     "data": {
      "text/plain": "<matplotlib.image.AxesImage at 0x298e5dfd0>"
     },
     "execution_count": 23,
     "metadata": {},
     "output_type": "execute_result"
    },
    {
     "data": {
      "text/plain": "<Figure size 640x480 with 1 Axes>",
      "image/png": "[encoded data removed]"
     },
     "metadata": {},
     "output_type": "display_data"
    }
   ],
   "source": [
    "plt.imshow(X=img1, cmap=\"gray\")"
   ]
  },
  {
   "cell_type": "code",
   "execution_count": 24,
   "id": "30ee1517",
   "metadata": {
    "ExecuteTime": {
     "end_time": "2024-07-13T05:22:52.389344Z",
     "start_time": "2024-07-13T05:22:51.997709Z"
    }
   },
   "outputs": [],
   "source": [
    "def generate_fake_img():\n",
    "    with torch.no_grad():\n",
    "        noise = torch.randn(1, 128).cuda()\n",
    "        img = generator(noise)\n",
    "        img = ((img * 0.5 + 0.5) * 255).cpu().numpy().astype(int).reshape(28, 28)\n",
    "        plt.imshow(X=img, cmap=\"gray\")\n",
    "        "
   ]
  },
  {
   "cell_type": "code",
   "execution_count": 25,
   "id": "fb3cc1c9",
   "metadata": {
    "ExecuteTime": {
     "end_time": "2024-07-13T05:22:52.738316Z",
     "start_time": "2024-07-13T05:22:51.998230Z"
    }
   },
   "outputs": [
    {
     "ename": "AssertionError",
     "evalue": "Torch not compiled with CUDA enabled",
     "output_type": "error",
     "traceback": [
      "\u001B[0;31m---------------------------------------------------------------------------\u001B[0m",
      "\u001B[0;31mAssertionError\u001B[0m                            Traceback (most recent call last)",
      "Cell \u001B[0;32mIn[25], line 1\u001B[0m\n\u001B[0;32m----> 1\u001B[0m \u001B[43mgenerate_fake_img\u001B[49m\u001B[43m(\u001B[49m\u001B[43m)\u001B[49m\n",
      "Cell \u001B[0;32mIn[24], line 3\u001B[0m, in \u001B[0;36mgenerate_fake_img\u001B[0;34m()\u001B[0m\n\u001B[1;32m      1\u001B[0m \u001B[38;5;28;01mdef\u001B[39;00m \u001B[38;5;21mgenerate_fake_img\u001B[39m():\n\u001B[1;32m      2\u001B[0m     \u001B[38;5;28;01mwith\u001B[39;00m torch\u001B[38;5;241m.\u001B[39mno_grad():\n\u001B[0;32m----> 3\u001B[0m         noise \u001B[38;5;241m=\u001B[39m \u001B[43mtorch\u001B[49m\u001B[38;5;241;43m.\u001B[39;49m\u001B[43mrandn\u001B[49m\u001B[43m(\u001B[49m\u001B[38;5;241;43m1\u001B[39;49m\u001B[43m,\u001B[49m\u001B[43m \u001B[49m\u001B[38;5;241;43m128\u001B[39;49m\u001B[43m)\u001B[49m\u001B[38;5;241;43m.\u001B[39;49m\u001B[43mcuda\u001B[49m\u001B[43m(\u001B[49m\u001B[43m)\u001B[49m\n\u001B[1;32m      4\u001B[0m         img \u001B[38;5;241m=\u001B[39m generator(noise)\n\u001B[1;32m      5\u001B[0m         img \u001B[38;5;241m=\u001B[39m ((img \u001B[38;5;241m*\u001B[39m \u001B[38;5;241m0.5\u001B[39m \u001B[38;5;241m+\u001B[39m \u001B[38;5;241m0.5\u001B[39m) \u001B[38;5;241m*\u001B[39m \u001B[38;5;241m255\u001B[39m)\u001B[38;5;241m.\u001B[39mcpu()\u001B[38;5;241m.\u001B[39mnumpy()\u001B[38;5;241m.\u001B[39mastype(\u001B[38;5;28mint\u001B[39m)\u001B[38;5;241m.\u001B[39mreshape(\u001B[38;5;241m28\u001B[39m, \u001B[38;5;241m28\u001B[39m)\n",
      "File \u001B[0;32m~/code_repository/git_project/ml_courses/venv/lib/python3.8/site-packages/torch/cuda/__init__.py:284\u001B[0m, in \u001B[0;36m_lazy_init\u001B[0;34m()\u001B[0m\n\u001B[1;32m    279\u001B[0m     \u001B[38;5;28;01mraise\u001B[39;00m \u001B[38;5;167;01mRuntimeError\u001B[39;00m(\n\u001B[1;32m    280\u001B[0m         \u001B[38;5;124m\"\u001B[39m\u001B[38;5;124mCannot re-initialize CUDA in forked subprocess. To use CUDA with \u001B[39m\u001B[38;5;124m\"\u001B[39m\n\u001B[1;32m    281\u001B[0m         \u001B[38;5;124m\"\u001B[39m\u001B[38;5;124mmultiprocessing, you must use the \u001B[39m\u001B[38;5;124m'\u001B[39m\u001B[38;5;124mspawn\u001B[39m\u001B[38;5;124m'\u001B[39m\u001B[38;5;124m start method\u001B[39m\u001B[38;5;124m\"\u001B[39m\n\u001B[1;32m    282\u001B[0m     )\n\u001B[1;32m    283\u001B[0m \u001B[38;5;28;01mif\u001B[39;00m \u001B[38;5;129;01mnot\u001B[39;00m \u001B[38;5;28mhasattr\u001B[39m(torch\u001B[38;5;241m.\u001B[39m_C, \u001B[38;5;124m\"\u001B[39m\u001B[38;5;124m_cuda_getDeviceCount\u001B[39m\u001B[38;5;124m\"\u001B[39m):\n\u001B[0;32m--> 284\u001B[0m     \u001B[38;5;28;01mraise\u001B[39;00m \u001B[38;5;167;01mAssertionError\u001B[39;00m(\u001B[38;5;124m\"\u001B[39m\u001B[38;5;124mTorch not compiled with CUDA enabled\u001B[39m\u001B[38;5;124m\"\u001B[39m)\n\u001B[1;32m    285\u001B[0m \u001B[38;5;28;01mif\u001B[39;00m _cudart \u001B[38;5;129;01mis\u001B[39;00m \u001B[38;5;28;01mNone\u001B[39;00m:\n\u001B[1;32m    286\u001B[0m     \u001B[38;5;28;01mraise\u001B[39;00m \u001B[38;5;167;01mAssertionError\u001B[39;00m(\n\u001B[1;32m    287\u001B[0m         \u001B[38;5;124m\"\u001B[39m\u001B[38;5;124mlibcudart functions unavailable. It looks like you have a broken build?\u001B[39m\u001B[38;5;124m\"\u001B[39m\n\u001B[1;32m    288\u001B[0m     )\n",
      "\u001B[0;31mAssertionError\u001B[0m: Torch not compiled with CUDA enabled"
     ]
    }
   ],
   "source": [
    "generate_fake_img()"
   ]
  },
  {
   "cell_type": "code",
   "execution_count": null,
   "id": "ec0768a6",
   "metadata": {
    "ExecuteTime": {
     "start_time": "2024-07-13T05:22:52.231083Z"
    }
   },
   "outputs": [],
   "source": [
    "# prompts"
   ]
  },
  {
   "cell_type": "code",
   "execution_count": null,
   "id": "ad0e5c3e-d9a7-4a14-b845-26845eaa92f8",
   "metadata": {
    "ExecuteTime": {
     "start_time": "2024-07-13T05:22:52.231275Z"
    }
   },
   "outputs": [],
   "source": []
  }
 ],
 "metadata": {
  "kernelspec": {
   "display_name": "Python 3 (ipykernel)",
   "language": "python",
   "name": "python3"
  },
  "language_info": {
   "codemirror_mode": {
    "name": "ipython",
    "version": 3
   },
   "file_extension": ".py",
   "mimetype": "text/x-python",
   "name": "python",
   "nbconvert_exporter": "python",
   "pygments_lexer": "ipython3",
   "version": "3.11.7"
  }
 },
 "nbformat": 4,
 "nbformat_minor": 5
}
