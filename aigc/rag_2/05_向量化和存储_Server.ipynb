{
 "cells": [
  {
   "cell_type": "markdown",
   "id": "ceb50d55-82ed-4b2b-af20-d2f4639dcb7e",
   "metadata": {},
   "source": [
    "### 1. 引入大模型"
   ]
  },
  {
   "cell_type": "code",
   "execution_count": 1,
   "id": "d0bee152-f734-4bc9-9f2d-ef09bfa2f9b2",
   "metadata": {},
   "outputs": [],
   "source": [
    "from utils import get_ernie_models\n",
    "from utils import get_qwen_models"
   ]
  },
  {
   "cell_type": "code",
   "execution_count": 2,
   "id": "481a76a5-ed9e-43bf-bc5a-f5935323cc58",
   "metadata": {},
   "outputs": [],
   "source": [
    "llm_qwen, chat_qwen, embed_qwen = get_qwen_models()\n",
    "llm_ernie, chat_ernie, embed_ernie = get_ernie_models()"
   ]
  },
  {
   "cell_type": "markdown",
   "id": "8e116e90-13a9-4623-ba2f-0fdca5428485",
   "metadata": {},
   "source": [
    "### 2. 引入一段文本"
   ]
  },
  {
   "cell_type": "code",
   "execution_count": 3,
   "id": "b5c5d61a-235e-4e6c-8617-58265d154725",
   "metadata": {},
   "outputs": [],
   "source": [
    "from langchain_community.document_loaders import TextLoader"
   ]
  },
  {
   "cell_type": "code",
   "execution_count": 4,
   "id": "7b91cc0b-ae08-4ef9-acd6-97c43806764d",
   "metadata": {},
   "outputs": [],
   "source": [
    "text_loader = TextLoader(file_path=\"./大语言模型.txt\", encoding=\"utf8\")"
   ]
  },
  {
   "cell_type": "code",
   "execution_count": 5,
   "id": "d0717cca-146d-4e44-86c0-015f764b4f2f",
   "metadata": {},
   "outputs": [],
   "source": [
    "docs = text_loader.load()"
   ]
  },
  {
   "cell_type": "markdown",
   "id": "9d6edffb-007d-4dc5-af06-b8ca5ff2742d",
   "metadata": {},
   "source": [
    "### 3. 切分文本"
   ]
  },
  {
   "cell_type": "code",
   "execution_count": 6,
   "id": "65015486-5f37-41f0-8197-246e7a5c746c",
   "metadata": {},
   "outputs": [],
   "source": [
    "from langchain_text_splitters import RecursiveCharacterTextSplitter"
   ]
  },
  {
   "cell_type": "code",
   "execution_count": 7,
   "id": "c574450d-2c59-4b06-a1b8-920e591aca91",
   "metadata": {},
   "outputs": [],
   "source": [
    "spliter = RecursiveCharacterTextSplitter(chunk_size=128, chunk_overlap=64)"
   ]
  },
  {
   "cell_type": "code",
   "execution_count": 8,
   "id": "48696e0c-4101-47da-9356-a212bdf769a5",
   "metadata": {},
   "outputs": [],
   "source": [
    "docs = spliter.split_documents(documents=docs)"
   ]
  },
  {
   "cell_type": "markdown",
   "id": "cd19f584-a5a1-462b-b572-2a1917d7829b",
   "metadata": {},
   "source": [
    "### 4. 向量化"
   ]
  },
  {
   "cell_type": "code",
   "execution_count": 9,
   "id": "c98ce8c2-e543-4344-b320-6c9ec0ba16bb",
   "metadata": {},
   "outputs": [],
   "source": [
    "# langchain 操控 Chroma\n",
    "from langchain_chroma import Chroma\n",
    "\n",
    "# Chroma 原生操作\n",
    "import chromadb\n",
    "from chromadb import Client\n",
    "from chromadb import Settings"
   ]
  },
  {
   "cell_type": "code",
   "execution_count": 10,
   "id": "eb90ae6b-657a-4684-b127-1f77c5d58074",
   "metadata": {},
   "outputs": [],
   "source": [
    "# 配置连接信息\n",
    "setting = Settings(chroma_server_host=\"localhost\", \n",
    "                  chroma_server_http_port=8001)"
   ]
  },
  {
   "cell_type": "code",
   "execution_count": 12,
   "id": "88f30264-4a63-443f-b514-863486b2e912",
   "metadata": {},
   "outputs": [],
   "source": [
    "client = Client(settings=setting)"
   ]
  },
  {
   "cell_type": "code",
   "execution_count": 18,
   "id": "76723d55-cde7-4faa-81cf-ee567508d72f",
   "metadata": {},
   "outputs": [],
   "source": [
    "store = Chroma(collection_name=\"langchain\", \n",
    "               embedding_function=embed_ernie,\n",
    "               client=client)"
   ]
  },
  {
   "cell_type": "code",
   "execution_count": 20,
   "id": "c29adcea-2913-4268-a4d9-3f074fd91f24",
   "metadata": {},
   "outputs": [
    {
     "name": "stderr",
     "output_type": "stream",
     "text": [
      "[INFO][2024-08-24 16:37:09.388] oauth.py:228 [t:16180]: trying to refresh access_token for ak `66Cbfz***`\n",
      "[INFO][2024-08-24 16:37:09.470] oauth.py:243 [t:16180]: sucessfully refresh access_token\n"
     ]
    },
    {
     "data": {
      "text/plain": [
       "['9f841db6-6a62-4a97-9e3e-415df6dd54c8',\n",
       " 'f851730b-6adf-4279-b359-0e64a8f556f3',\n",
       " 'c2e8d9b4-18cc-4b20-9356-b8ce60d66f1d',\n",
       " 'd77e66c6-c171-4fd8-9480-352668bebce7',\n",
       " 'e4cbaf6b-5e65-49f9-aaed-7612051e027e',\n",
       " '3d45b42f-69ac-4616-bc59-83d52355ec54',\n",
       " 'ec9f0499-8320-4760-83ef-31e3acc4c185',\n",
       " 'f739b44e-b2ac-4114-a47d-dc2e071c4e18',\n",
       " '8a3aa050-3f4b-4158-a9e1-f9ada4ed9b6b',\n",
       " '4310f7e7-a62e-4b3b-9f9c-952afb11c643',\n",
       " '42b75999-ab9e-4e95-9205-206f12e2da3a',\n",
       " '36f98cb4-9416-43ac-8512-34ac5613fe68',\n",
       " '805868b5-fcce-430e-a66b-55b37389aa87']"
      ]
     },
     "execution_count": 20,
     "metadata": {},
     "output_type": "execute_result"
    }
   ],
   "source": [
    "store.add_documents(documents=docs)"
   ]
  },
  {
   "cell_type": "code",
   "execution_count": 22,
   "id": "0b4daa6b-95fd-4348-9e2e-19421dce3984",
   "metadata": {},
   "outputs": [
    {
     "data": {
      "text/plain": [
       "{'ids': ['36f98cb4-9416-43ac-8512-34ac5613fe68',\n",
       "  '3d45b42f-69ac-4616-bc59-83d52355ec54',\n",
       "  '42b75999-ab9e-4e95-9205-206f12e2da3a'],\n",
       " 'embeddings': None,\n",
       " 'metadatas': [{'source': './大语言模型.txt'},\n",
       "  {'source': './大语言模型.txt'},\n",
       "  {'source': './大语言模型.txt'}],\n",
       " 'documents': ['10. 语音识别与生成\\n描述：大语言模型在语音识别和语音生成方面也展现出巨大潜力。通过将语音转录为文本或将文本转化为语音，该技术使得人们与计算机的交互更加自然和便捷。这对于有听力或视觉障碍的人群尤为重要，有助于他们更好地理解和享受音视频内容。',\n",
       "  '4. 情感分析\\n描述：大语言模型通过分析文本中的情感倾向和情感表达，帮助企业了解客户反馈和情感状态，从而制定更精准的营销策略或优化客户服务。这种技术还可用于社交媒体监控，实时分析公众对某一主题或事件的情绪和反应。',\n",
       "  '9. 生物医学研究\\n描述：在生物医学领域，大语言模型可用于分析基因组数据、蛋白质相互作用等，加速药物发现和新疗法的研究。例如，通过预测基因变异的功能影响，研究者能够更全面地分析人类基因组的潜在风险和治疗靶点。'],\n",
       " 'uris': None,\n",
       " 'data': None,\n",
       " 'included': ['metadatas', 'documents']}"
      ]
     },
     "execution_count": 22,
     "metadata": {},
     "output_type": "execute_result"
    }
   ],
   "source": [
    "store.get()"
   ]
  },
  {
   "cell_type": "code",
   "execution_count": 25,
   "id": "957dec3d-3121-4bc6-a928-b7b44c646a72",
   "metadata": {},
   "outputs": [
    {
     "data": {
      "text/plain": [
       "[(Document(metadata={'source': './大语言模型.txt'}, page_content='2. 智能客服与聊天机器人'),\n",
       "  0.6922509403579714),\n",
       " (Document(metadata={'source': './大语言模型.txt'}, page_content='大语言模型作为人工智能领域的重要技术之一，具有广泛的应用场景。以下是十个方面的应用场景及其详细描述：'),\n",
       "  0.5035073428496666)]"
      ]
     },
     "execution_count": 25,
     "metadata": {},
     "output_type": "execute_result"
    }
   ],
   "source": [
    "store.similarity_search_with_relevance_scores(query=\"你好\", k=2)"
   ]
  },
  {
   "cell_type": "code",
   "execution_count": 46,
   "id": "eefcc83b-8a0e-4bf5-acac-238231f9b80a",
   "metadata": {},
   "outputs": [],
   "source": [
    "# 第三个级别\n",
    "retriever = store.as_retriever(search_type=\"similarity_score_threshold\",\n",
    "                              search_kwargs={\"k\": 4, \"score_threshold\": 0.5})"
   ]
  },
  {
   "cell_type": "code",
   "execution_count": 47,
   "id": "6d9bc14c-ca16-46cb-939c-524528951238",
   "metadata": {},
   "outputs": [
    {
     "data": {
      "text/plain": [
       "[Document(metadata={'source': './大语言模型.txt'}, page_content='2. 智能客服与聊天机器人'),\n",
       " Document(metadata={'source': './大语言模型.txt'}, page_content='大语言模型作为人工智能领域的重要技术之一，具有广泛的应用场景。以下是十个方面的应用场景及其详细描述：')]"
      ]
     },
     "execution_count": 47,
     "metadata": {},
     "output_type": "execute_result"
    }
   ],
   "source": [
    "retriever.invoke(input=\"你好\")"
   ]
  },
  {
   "cell_type": "code",
   "execution_count": 45,
   "id": "e5a643d5-f02e-4591-a3f4-4ff3ac61ac78",
   "metadata": {},
   "outputs": [
    {
     "data": {
      "text/plain": [
       "[(Document(metadata={'source': './大语言模型.txt'}, page_content='2. 智能客服与聊天机器人'),\n",
       "  0.6922509403579714),\n",
       " (Document(metadata={'source': './大语言模型.txt'}, page_content='大语言模型作为人工智能领域的重要技术之一，具有广泛的应用场景。以下是十个方面的应用场景及其详细描述：'),\n",
       "  0.5035073428496666),\n",
       " (Document(metadata={'source': './大语言模型.txt'}, page_content='综上所述，大语言模型在多个领域都具有广泛的应用前景和巨大的价值潜力。随着技术的不断进步和完善，我们有理由相信大语言模型将在未来的人工智能领域发挥更加重要的作用。'),\n",
       "  0.4773380274344644),\n",
       " (Document(metadata={'source': './大语言模型.txt'}, page_content='4. 情感分析\\n描述：大语言模型通过分析文本中的情感倾向和情感表达，帮助企业了解客户反馈和情感状态，从而制定更精准的营销策略或优化客户服务。这种技术还可用于社交媒体监控，实时分析公众对某一主题或事件的情绪和反应。'),\n",
       "  0.4666226126690547)]"
      ]
     },
     "execution_count": 45,
     "metadata": {},
     "output_type": "execute_result"
    }
   ],
   "source": [
    "store.similarity_search_with_relevance_scores(query=\"你好\")"
   ]
  },
  {
   "cell_type": "code",
   "execution_count": null,
   "id": "efaf18be-2341-4a75-a246-f68a48824089",
   "metadata": {},
   "outputs": [],
   "source": []
  }
 ],
 "metadata": {
  "kernelspec": {
   "display_name": "Python 3 (ipykernel)",
   "language": "python",
   "name": "python3"
  },
  "language_info": {
   "codemirror_mode": {
    "name": "ipython",
    "version": 3
   },
   "file_extension": ".py",
   "mimetype": "text/x-python",
   "name": "python",
   "nbconvert_exporter": "python",
   "pygments_lexer": "ipython3",
   "version": "3.12.4"
  }
 },
 "nbformat": 4,
 "nbformat_minor": 5
}
