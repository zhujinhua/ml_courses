{
 "cells": [
  {
   "cell_type": "code",
   "execution_count": 28,
   "metadata": {
    "collapsed": true,
    "ExecuteTime": {
     "end_time": "2024-07-15T02:54:48.184276Z",
     "start_time": "2024-07-15T02:54:21.599714Z"
    }
   },
   "outputs": [],
   "source": [
    "\"\"\"\n",
    "Author: jhzhu\n",
    "Date: 2024/7/10\n",
    "Description:\n",
    "\"\"\"\n",
    "import jieba\n",
    "import pandas as pd\n",
    "import torch\n",
    "from sklearn.model_selection import train_test_split\n",
    "from torch.utils.data import Dataset, DataLoader\n",
    "from torch import nn\n",
    "import numpy as np\n",
    "import matplotlib.pyplot as plt\n",
    "\n",
    "from deep_learning.practice.SimpleRNN import SimpleRNN\n",
    "\n",
    "\n",
    "def get_vocabulary_list(msgs):\n",
    "    vocab_set = set()\n",
    "    for i in msgs:\n",
    "        vocab_set |= set(i)\n",
    "        # vocab_set |= set(i) - stopwords_set\n",
    "    vocab_set.add('<UNK>')\n",
    "    vocab_set.add('<PAD>')\n",
    "    return sorted(list(vocab_set))\n",
    "\n",
    "\n",
    "# every row is a message vector\n",
    "def messages_2_vectors(vocab_list, msgs, max_len=300):\n",
    "    msgs_marix = []\n",
    "    for msg in msgs:\n",
    "        msg_vector = [vocab_list.index(m) if m in vocab_list else unk_index for m in msg]\n",
    "        if len(msg) < max_len:\n",
    "            msg_vector.extend([pad_index] * (max_len - len(msg)))\n",
    "        msgs_marix.append(msg_vector)\n",
    "    return msgs_marix\n",
    "\n",
    "\n",
    "class TakeAwayDataset(Dataset):\n",
    "    def __init__(self, X, y):\n",
    "        if isinstance(X, pd.DataFrame) and isinstance(y, pd.Series):\n",
    "            self.X = X.reset_index(drop=True)\n",
    "            self.y = y.reset_index(drop=True)\n",
    "        else:\n",
    "            raise ValueError(\"X must be a pandas DataFrame and y must be a pandas Series\")\n",
    "\n",
    "    def __len__(self):\n",
    "        return len(self.X)\n",
    "\n",
    "    def __getitem__(self, item):\n",
    "        if item >= len(self.X):\n",
    "            raise IndexError(f\"Item index {item} is out of bounds\")\n",
    "        x = self.X.iloc[item]\n",
    "        y = self.y.iloc[item]\n",
    "        x = torch.tensor(data=x, dtype=torch.long)\n",
    "        y = torch.tensor(data=[y], dtype=torch.float32)\n",
    "        return x, y\n",
    "\n",
    "\n",
    "emotion_file = '../../dataset/中文外卖评论数据集.csv'\n",
    "take_away_df = pd.read_csv(emotion_file)\n",
    "take_away_df['words'] = take_away_df['review'].apply(lambda x: jieba.lcut(x.replace(' ', ''), cut_all=False))\n",
    "vocabulary_list = get_vocabulary_list(take_away_df['words'])\n",
    "max_msg_len = take_away_df['words'].str.len().max()\n",
    "pad_index = vocabulary_list.index('<PAD>')\n",
    "unk_index = vocabulary_list.index('<UNK>')\n",
    "take_away_vecs = messages_2_vectors(vocabulary_list, take_away_df['words'], max_msg_len)\n",
    "X_train, X_test, y_train, y_test = train_test_split(pd.DataFrame(take_away_vecs), take_away_df.loc[:, 'label'], test_size=0.3,\n",
    "                                                    random_state=42, shuffle=True)\n",
    "\n",
    "take_away_dataset = TakeAwayDataset(X_train, y_train)\n",
    "take_away_train_dataloader = DataLoader(dataset=take_away_dataset, batch_size=64, shuffle=True)\n",
    "test_dataset = TakeAwayDataset(X_test, y_test)\n",
    "take_away_test_dataloader = DataLoader(dataset=test_dataset, batch_size=64, shuffle=True)"
   ]
  },
  {
   "cell_type": "code",
   "execution_count": 27,
   "outputs": [
    {
     "name": "stdout",
     "output_type": "stream",
     "text": [
      "Epoch: 0: train loss: 0.0, test loss: 0.0\n",
      "Epoch: 1: train loss: 0.0, test loss: 0.0\n",
      "Epoch: 2: train loss: 0.0, test loss: 0.0\n",
      "Epoch: 3: train loss: 0.0, test loss: 0.0\n",
      "Epoch: 4: train loss: 0.0, test loss: 0.0\n",
      "Epoch: 5: train loss: 0.0, test loss: 0.0\n",
      "Epoch: 6: train loss: 0.0, test loss: 0.0\n",
      "Epoch: 7: train loss: 0.0, test loss: 0.0\n",
      "Epoch: 8: train loss: 0.0, test loss: 0.0\n",
      "Epoch: 9: train loss: 0.0, test loss: 0.0\n",
      "Epoch: 10: train loss: 0.0, test loss: 0.0\n",
      "Epoch: 11: train loss: 0.0, test loss: 0.0\n",
      "Epoch: 12: train loss: 0.0, test loss: 0.0\n",
      "Epoch: 13: train loss: 0.0, test loss: 0.0\n",
      "Epoch: 14: train loss: 0.0, test loss: 0.0\n",
      "Epoch: 15: train loss: 0.0, test loss: 0.0\n",
      "Epoch: 16: train loss: 0.0, test loss: 0.0\n",
      "Epoch: 17: train loss: 0.0, test loss: 0.0\n",
      "Epoch: 18: train loss: 0.0, test loss: 0.0\n",
      "Epoch: 19: train loss: 0.0, test loss: 0.0\n",
      "Epoch: 20: train loss: 0.0, test loss: 0.0\n",
      "Epoch: 21: train loss: 0.0, test loss: 0.0\n",
      "Epoch: 22: train loss: 0.0, test loss: 0.0\n",
      "Epoch: 23: train loss: 0.0, test loss: 0.0\n",
      "Epoch: 24: train loss: 0.0, test loss: 0.0\n",
      "Epoch: 25: train loss: 0.0, test loss: 0.0\n",
      "Epoch: 26: train loss: 0.0, test loss: 0.0\n",
      "Epoch: 27: train loss: 0.0, test loss: 0.0\n",
      "Epoch: 28: train loss: 0.0, test loss: 0.0\n",
      "Epoch: 29: train loss: 0.0, test loss: 0.0\n",
      "Epoch: 30: train loss: 0.0, test loss: 0.0\n",
      "Epoch: 31: train loss: 0.0, test loss: 0.0\n",
      "Epoch: 32: train loss: 0.0, test loss: 0.0\n",
      "Epoch: 33: train loss: 0.0, test loss: 0.0\n",
      "Epoch: 34: train loss: 0.0, test loss: 0.0\n",
      "Epoch: 35: train loss: 0.0, test loss: 0.0\n",
      "Epoch: 36: train loss: 0.0, test loss: 0.0\n",
      "Epoch: 37: train loss: 0.0, test loss: 0.0\n",
      "Epoch: 38: train loss: 0.0, test loss: 0.0\n",
      "Epoch: 39: train loss: 0.0, test loss: 0.0\n",
      "Epoch: 40: train loss: 0.0, test loss: 0.0\n",
      "Epoch: 41: train loss: 0.0, test loss: 0.0\n",
      "Epoch: 42: train loss: 0.0, test loss: 0.0\n",
      "Epoch: 43: train loss: 0.0, test loss: 0.0\n",
      "Epoch: 44: train loss: 0.0, test loss: 0.0\n",
      "Epoch: 45: train loss: 0.0, test loss: 0.0\n",
      "Epoch: 46: train loss: 0.0, test loss: 0.0\n"
     ]
    },
    {
     "ename": "KeyboardInterrupt",
     "evalue": "",
     "output_type": "error",
     "traceback": [
      "\u001B[0;31m---------------------------------------------------------------------------\u001B[0m",
      "\u001B[0;31mKeyboardInterrupt\u001B[0m                         Traceback (most recent call last)",
      "Cell \u001B[0;32mIn[27], line 30\u001B[0m\n\u001B[1;32m     28\u001B[0m     loss\u001B[38;5;241m.\u001B[39mbackward()\n\u001B[1;32m     29\u001B[0m     optimizer\u001B[38;5;241m.\u001B[39mstep()\n\u001B[0;32m---> 30\u001B[0m train_loss \u001B[38;5;241m=\u001B[39m \u001B[43mget_loss\u001B[49m\u001B[43m(\u001B[49m\u001B[43mtake_away_train_dataloader\u001B[49m\u001B[43m)\u001B[49m\n\u001B[1;32m     31\u001B[0m test_loss \u001B[38;5;241m=\u001B[39m get_loss(take_away_test_dataloader)  \u001B[38;5;66;03m# test not need train\u001B[39;00m\n\u001B[1;32m     32\u001B[0m train_losses\u001B[38;5;241m.\u001B[39mappend(train_loss)\n",
      "Cell \u001B[0;32mIn[27], line 13\u001B[0m, in \u001B[0;36mget_loss\u001B[0;34m(dataloader)\u001B[0m\n\u001B[1;32m     11\u001B[0m \u001B[38;5;28;01mwith\u001B[39;00m torch\u001B[38;5;241m.\u001B[39mno_grad():\n\u001B[1;32m     12\u001B[0m     \u001B[38;5;28;01mfor\u001B[39;00m x, y \u001B[38;5;129;01min\u001B[39;00m dataloader:\n\u001B[0;32m---> 13\u001B[0m         y_pred \u001B[38;5;241m=\u001B[39m \u001B[43mcustomized_model\u001B[49m\u001B[43m(\u001B[49m\u001B[43mx\u001B[49m\u001B[43m)\u001B[49m\n\u001B[1;32m     14\u001B[0m         loss \u001B[38;5;241m=\u001B[39m loss_fun(y_pred, y)\n\u001B[1;32m     15\u001B[0m         losses\u001B[38;5;241m.\u001B[39mappend(loss\u001B[38;5;241m.\u001B[39mitem())\n",
      "File \u001B[0;32m~/code_repository/git_project/ml_courses/venv/lib/python3.8/site-packages/torch/nn/modules/module.py:1532\u001B[0m, in \u001B[0;36mModule._wrapped_call_impl\u001B[0;34m(self, *args, **kwargs)\u001B[0m\n\u001B[1;32m   1530\u001B[0m     \u001B[38;5;28;01mreturn\u001B[39;00m \u001B[38;5;28mself\u001B[39m\u001B[38;5;241m.\u001B[39m_compiled_call_impl(\u001B[38;5;241m*\u001B[39margs, \u001B[38;5;241m*\u001B[39m\u001B[38;5;241m*\u001B[39mkwargs)  \u001B[38;5;66;03m# type: ignore[misc]\u001B[39;00m\n\u001B[1;32m   1531\u001B[0m \u001B[38;5;28;01melse\u001B[39;00m:\n\u001B[0;32m-> 1532\u001B[0m     \u001B[38;5;28;01mreturn\u001B[39;00m \u001B[38;5;28;43mself\u001B[39;49m\u001B[38;5;241;43m.\u001B[39;49m\u001B[43m_call_impl\u001B[49m\u001B[43m(\u001B[49m\u001B[38;5;241;43m*\u001B[39;49m\u001B[43margs\u001B[49m\u001B[43m,\u001B[49m\u001B[43m \u001B[49m\u001B[38;5;241;43m*\u001B[39;49m\u001B[38;5;241;43m*\u001B[39;49m\u001B[43mkwargs\u001B[49m\u001B[43m)\u001B[49m\n",
      "File \u001B[0;32m~/code_repository/git_project/ml_courses/venv/lib/python3.8/site-packages/torch/nn/modules/module.py:1541\u001B[0m, in \u001B[0;36mModule._call_impl\u001B[0;34m(self, *args, **kwargs)\u001B[0m\n\u001B[1;32m   1536\u001B[0m \u001B[38;5;66;03m# If we don't have any hooks, we want to skip the rest of the logic in\u001B[39;00m\n\u001B[1;32m   1537\u001B[0m \u001B[38;5;66;03m# this function, and just call forward.\u001B[39;00m\n\u001B[1;32m   1538\u001B[0m \u001B[38;5;28;01mif\u001B[39;00m \u001B[38;5;129;01mnot\u001B[39;00m (\u001B[38;5;28mself\u001B[39m\u001B[38;5;241m.\u001B[39m_backward_hooks \u001B[38;5;129;01mor\u001B[39;00m \u001B[38;5;28mself\u001B[39m\u001B[38;5;241m.\u001B[39m_backward_pre_hooks \u001B[38;5;129;01mor\u001B[39;00m \u001B[38;5;28mself\u001B[39m\u001B[38;5;241m.\u001B[39m_forward_hooks \u001B[38;5;129;01mor\u001B[39;00m \u001B[38;5;28mself\u001B[39m\u001B[38;5;241m.\u001B[39m_forward_pre_hooks\n\u001B[1;32m   1539\u001B[0m         \u001B[38;5;129;01mor\u001B[39;00m _global_backward_pre_hooks \u001B[38;5;129;01mor\u001B[39;00m _global_backward_hooks\n\u001B[1;32m   1540\u001B[0m         \u001B[38;5;129;01mor\u001B[39;00m _global_forward_hooks \u001B[38;5;129;01mor\u001B[39;00m _global_forward_pre_hooks):\n\u001B[0;32m-> 1541\u001B[0m     \u001B[38;5;28;01mreturn\u001B[39;00m \u001B[43mforward_call\u001B[49m\u001B[43m(\u001B[49m\u001B[38;5;241;43m*\u001B[39;49m\u001B[43margs\u001B[49m\u001B[43m,\u001B[49m\u001B[43m \u001B[49m\u001B[38;5;241;43m*\u001B[39;49m\u001B[38;5;241;43m*\u001B[39;49m\u001B[43mkwargs\u001B[49m\u001B[43m)\u001B[49m\n\u001B[1;32m   1543\u001B[0m \u001B[38;5;28;01mtry\u001B[39;00m:\n\u001B[1;32m   1544\u001B[0m     result \u001B[38;5;241m=\u001B[39m \u001B[38;5;28;01mNone\u001B[39;00m\n",
      "File \u001B[0;32m~/code_repository/git_project/ml_courses/deep_learning/practice/SimpleRNN.py:29\u001B[0m, in \u001B[0;36mforward\u001B[0;34m(self, x)\u001B[0m\n\u001B[1;32m     25\u001B[0m def forward(self, x):\n\u001B[1;32m     26\u001B[0m     # [seq_len, batch_size] --> [seq_len, batch_size, embedding_dim]\n\u001B[1;32m     27\u001B[0m     x = self.embed(x)\n\u001B[1;32m     28\u001B[0m     # out: [seq_len, batch_size, embedding_dim]\n\u001B[0;32m---> 29\u001B[0m     # hn: [1, batch_size, embedding_dim]\n\u001B[1;32m     30\u001B[0m     out, hn = self.rnn(x)\n\u001B[1;32m     31\u001B[0m     # [1, batch_size, embedding_dim] --> [batch_size, embedding_dim]\n",
      "File \u001B[0;32m~/code_repository/git_project/ml_courses/venv/lib/python3.8/site-packages/torch/nn/modules/module.py:1532\u001B[0m, in \u001B[0;36mModule._wrapped_call_impl\u001B[0;34m(self, *args, **kwargs)\u001B[0m\n\u001B[1;32m   1530\u001B[0m     \u001B[38;5;28;01mreturn\u001B[39;00m \u001B[38;5;28mself\u001B[39m\u001B[38;5;241m.\u001B[39m_compiled_call_impl(\u001B[38;5;241m*\u001B[39margs, \u001B[38;5;241m*\u001B[39m\u001B[38;5;241m*\u001B[39mkwargs)  \u001B[38;5;66;03m# type: ignore[misc]\u001B[39;00m\n\u001B[1;32m   1531\u001B[0m \u001B[38;5;28;01melse\u001B[39;00m:\n\u001B[0;32m-> 1532\u001B[0m     \u001B[38;5;28;01mreturn\u001B[39;00m \u001B[38;5;28;43mself\u001B[39;49m\u001B[38;5;241;43m.\u001B[39;49m\u001B[43m_call_impl\u001B[49m\u001B[43m(\u001B[49m\u001B[38;5;241;43m*\u001B[39;49m\u001B[43margs\u001B[49m\u001B[43m,\u001B[49m\u001B[43m \u001B[49m\u001B[38;5;241;43m*\u001B[39;49m\u001B[38;5;241;43m*\u001B[39;49m\u001B[43mkwargs\u001B[49m\u001B[43m)\u001B[49m\n",
      "File \u001B[0;32m~/code_repository/git_project/ml_courses/venv/lib/python3.8/site-packages/torch/nn/modules/module.py:1541\u001B[0m, in \u001B[0;36mModule._call_impl\u001B[0;34m(self, *args, **kwargs)\u001B[0m\n\u001B[1;32m   1536\u001B[0m \u001B[38;5;66;03m# If we don't have any hooks, we want to skip the rest of the logic in\u001B[39;00m\n\u001B[1;32m   1537\u001B[0m \u001B[38;5;66;03m# this function, and just call forward.\u001B[39;00m\n\u001B[1;32m   1538\u001B[0m \u001B[38;5;28;01mif\u001B[39;00m \u001B[38;5;129;01mnot\u001B[39;00m (\u001B[38;5;28mself\u001B[39m\u001B[38;5;241m.\u001B[39m_backward_hooks \u001B[38;5;129;01mor\u001B[39;00m \u001B[38;5;28mself\u001B[39m\u001B[38;5;241m.\u001B[39m_backward_pre_hooks \u001B[38;5;129;01mor\u001B[39;00m \u001B[38;5;28mself\u001B[39m\u001B[38;5;241m.\u001B[39m_forward_hooks \u001B[38;5;129;01mor\u001B[39;00m \u001B[38;5;28mself\u001B[39m\u001B[38;5;241m.\u001B[39m_forward_pre_hooks\n\u001B[1;32m   1539\u001B[0m         \u001B[38;5;129;01mor\u001B[39;00m _global_backward_pre_hooks \u001B[38;5;129;01mor\u001B[39;00m _global_backward_hooks\n\u001B[1;32m   1540\u001B[0m         \u001B[38;5;129;01mor\u001B[39;00m _global_forward_hooks \u001B[38;5;129;01mor\u001B[39;00m _global_forward_pre_hooks):\n\u001B[0;32m-> 1541\u001B[0m     \u001B[38;5;28;01mreturn\u001B[39;00m \u001B[43mforward_call\u001B[49m\u001B[43m(\u001B[49m\u001B[38;5;241;43m*\u001B[39;49m\u001B[43margs\u001B[49m\u001B[43m,\u001B[49m\u001B[43m \u001B[49m\u001B[38;5;241;43m*\u001B[39;49m\u001B[38;5;241;43m*\u001B[39;49m\u001B[43mkwargs\u001B[49m\u001B[43m)\u001B[49m\n\u001B[1;32m   1543\u001B[0m \u001B[38;5;28;01mtry\u001B[39;00m:\n\u001B[1;32m   1544\u001B[0m     result \u001B[38;5;241m=\u001B[39m \u001B[38;5;28;01mNone\u001B[39;00m\n",
      "File \u001B[0;32m~/code_repository/git_project/ml_courses/venv/lib/python3.8/site-packages/torch/nn/modules/rnn.py:586\u001B[0m, in \u001B[0;36mRNN.forward\u001B[0;34m(self, input, hx)\u001B[0m\n\u001B[1;32m    584\u001B[0m \u001B[38;5;28;01mif\u001B[39;00m batch_sizes \u001B[38;5;129;01mis\u001B[39;00m \u001B[38;5;28;01mNone\u001B[39;00m:\n\u001B[1;32m    585\u001B[0m     \u001B[38;5;28;01mif\u001B[39;00m \u001B[38;5;28mself\u001B[39m\u001B[38;5;241m.\u001B[39mmode \u001B[38;5;241m==\u001B[39m \u001B[38;5;124m'\u001B[39m\u001B[38;5;124mRNN_TANH\u001B[39m\u001B[38;5;124m'\u001B[39m:\n\u001B[0;32m--> 586\u001B[0m         result \u001B[38;5;241m=\u001B[39m \u001B[43m_VF\u001B[49m\u001B[38;5;241;43m.\u001B[39;49m\u001B[43mrnn_tanh\u001B[49m\u001B[43m(\u001B[49m\u001B[38;5;28;43minput\u001B[39;49m\u001B[43m,\u001B[49m\u001B[43m \u001B[49m\u001B[43mhx\u001B[49m\u001B[43m,\u001B[49m\u001B[43m \u001B[49m\u001B[38;5;28;43mself\u001B[39;49m\u001B[38;5;241;43m.\u001B[39;49m\u001B[43m_flat_weights\u001B[49m\u001B[43m,\u001B[49m\u001B[43m \u001B[49m\u001B[38;5;28;43mself\u001B[39;49m\u001B[38;5;241;43m.\u001B[39;49m\u001B[43mbias\u001B[49m\u001B[43m,\u001B[49m\u001B[43m \u001B[49m\u001B[38;5;28;43mself\u001B[39;49m\u001B[38;5;241;43m.\u001B[39;49m\u001B[43mnum_layers\u001B[49m\u001B[43m,\u001B[49m\n\u001B[1;32m    587\u001B[0m \u001B[43m                              \u001B[49m\u001B[38;5;28;43mself\u001B[39;49m\u001B[38;5;241;43m.\u001B[39;49m\u001B[43mdropout\u001B[49m\u001B[43m,\u001B[49m\u001B[43m \u001B[49m\u001B[38;5;28;43mself\u001B[39;49m\u001B[38;5;241;43m.\u001B[39;49m\u001B[43mtraining\u001B[49m\u001B[43m,\u001B[49m\u001B[43m \u001B[49m\u001B[38;5;28;43mself\u001B[39;49m\u001B[38;5;241;43m.\u001B[39;49m\u001B[43mbidirectional\u001B[49m\u001B[43m,\u001B[49m\n\u001B[1;32m    588\u001B[0m \u001B[43m                              \u001B[49m\u001B[38;5;28;43mself\u001B[39;49m\u001B[38;5;241;43m.\u001B[39;49m\u001B[43mbatch_first\u001B[49m\u001B[43m)\u001B[49m\n\u001B[1;32m    589\u001B[0m     \u001B[38;5;28;01melse\u001B[39;00m:\n\u001B[1;32m    590\u001B[0m         result \u001B[38;5;241m=\u001B[39m _VF\u001B[38;5;241m.\u001B[39mrnn_relu(\u001B[38;5;28minput\u001B[39m, hx, \u001B[38;5;28mself\u001B[39m\u001B[38;5;241m.\u001B[39m_flat_weights, \u001B[38;5;28mself\u001B[39m\u001B[38;5;241m.\u001B[39mbias, \u001B[38;5;28mself\u001B[39m\u001B[38;5;241m.\u001B[39mnum_layers,\n\u001B[1;32m    591\u001B[0m                               \u001B[38;5;28mself\u001B[39m\u001B[38;5;241m.\u001B[39mdropout, \u001B[38;5;28mself\u001B[39m\u001B[38;5;241m.\u001B[39mtraining, \u001B[38;5;28mself\u001B[39m\u001B[38;5;241m.\u001B[39mbidirectional,\n\u001B[1;32m    592\u001B[0m                               \u001B[38;5;28mself\u001B[39m\u001B[38;5;241m.\u001B[39mbatch_first)\n",
      "\u001B[0;31mKeyboardInterrupt\u001B[0m: "
     ]
    }
   ],
   "source": [
    "customized_model = SimpleRNN(dict_len=11010, embedding_dim=300, n_classes=1, pad_index=pad_index)\n",
    "epochs = 100\n",
    "learning_rate = 1e-2  # gradient explosion, need preprocess data, then lower the lr\n",
    "loss_fun = nn.BCEWithLogitsLoss()\n",
    "optimizer = torch.optim.SGD(params=customized_model.parameters(), lr=learning_rate)\n",
    "\n",
    "\n",
    "def get_loss(dataloader):\n",
    "    customized_model.eval()  # define the model the evaluate module(latchNorm, layerNorm, Dropout)????\n",
    "    losses = []\n",
    "    with torch.no_grad():\n",
    "        for x, y in dataloader:\n",
    "            y_pred = customized_model(x)\n",
    "            loss = loss_fun(y_pred, y)\n",
    "            losses.append(loss.item())\n",
    "    final_loss = round(sum(losses) / len(losses), 5)\n",
    "    return final_loss\n",
    "\n",
    "\n",
    "train_losses = []\n",
    "test_losses = []\n",
    "for epoch in range(epochs):\n",
    "    customized_model.train()\n",
    "    for x, y in take_away_train_dataloader:\n",
    "        y_pred = customized_model(x)\n",
    "        loss = loss_fun(y_pred, y)\n",
    "        optimizer.zero_grad()\n",
    "        loss.backward()\n",
    "        optimizer.step()\n",
    "    train_loss = get_loss(take_away_train_dataloader)\n",
    "    test_loss = get_loss(take_away_test_dataloader)  # test not need train\n",
    "    train_losses.append(train_loss)\n",
    "    test_losses.append(test_loss)\n",
    "    print('Epoch: %s: train loss: %s, test loss: %s' % (epoch, train_loss, test_loss))\n",
    "\n",
    "torch.save(obj=customized_model.state_dict(), f=\"./take_away.pt\")"
   ],
   "metadata": {
    "collapsed": false,
    "ExecuteTime": {
     "end_time": "2024-07-15T02:49:38.753963Z",
     "start_time": "2024-07-15T02:37:37.915583Z"
    }
   }
  },
  {
   "cell_type": "code",
   "execution_count": 22,
   "outputs": [
    {
     "data": {
      "text/plain": "<Figure size 640x480 with 1 Axes>",
      "image/png": "[encoded data removed]"
     },
     "metadata": {},
     "output_type": "display_data"
    }
   ],
   "source": [
    "plt.plot(train_losses, label=f'train loss lr {learning_rate}', c='blue')\n",
    "plt.plot(test_losses, label=f'test loss lr {learning_rate}', c='red')\n",
    "plt.title('Take-away data losses')\n",
    "plt.xlabel('epoch')\n",
    "plt.ylabel('loss')\n",
    "plt.legend()\n",
    "plt.show()"
   ],
   "metadata": {
    "collapsed": false,
    "ExecuteTime": {
     "end_time": "2024-07-13T14:26:59.740265Z",
     "start_time": "2024-07-13T14:26:59.280664Z"
    }
   }
  },
  {
   "cell_type": "code",
   "execution_count": 23,
   "outputs": [
    {
     "name": "stdout",
     "output_type": "stream",
     "text": [
      "[[2544, 4957, 5476, 3933, 10999, 2799, 9741, 8965, 10999, 5143, 2665, 759, 7011, 10999, 6158, 3912, 9674, 10999, 5143, 759, 3400, 5476, 5093, 7644, 10999, 9150, 1241, 1093, 8965, 9886, 3930, 10999, 2835, 1333, 3156, 8965, 5896, 10999, 5210, 7644, 4771, 8965, 10999, 8738, 4720, 3400, 5216, 6843, 10058, 6844, 10999, 9741, 9690, 5749, 2862, 10926, 11004, 8317, 3656, 1211, 10058, 5954, 9345, 7644, 8730, 1241, 384, 10999, 9690, 5088, 3088, 4982, 10995, 1818, 5278, 11007, 3206, 10999, 3912, 1211, 759, 10798, 1241, 10999, 5143, 4882, 6015, 5093, 7644, 9101, 10995, 2544, 5396, 1571, 5204, 9406, 10999, 8340, 6691, 719, 516, 1241, 10995, 217, 217, 217, 217, 217, 217, 217, 217, 217, 217, 217, 217, 217, 217, 217, 217, 217, 217, 217, 217, 217, 217, 217, 217, 217, 217, 217, 217, 217, 217, 217, 217, 217, 217, 217, 217, 217, 217, 217, 217, 217, 217, 217, 217, 217, 217, 217, 217, 217, 217, 217, 217, 217, 217, 217, 217, 217, 217, 217, 217, 217, 217, 217, 217, 217, 217, 217, 217, 217, 217, 217, 217, 217, 217, 217, 217, 217, 217, 217, 217, 217, 217, 217, 217, 217, 217, 217, 217, 217, 217, 217, 217, 217, 217, 217, 217, 217, 217, 217, 217, 217, 217, 217, 217, 217, 217, 217, 217, 217, 217, 217, 217, 217, 217, 217, 217, 217, 217, 217, 217, 217, 217, 217, 217, 217, 217, 217, 217, 217, 217, 217, 217, 217, 217, 217, 217, 217, 217, 217, 217, 217, 217, 217, 217, 217, 217, 217, 217, 217, 217, 217, 217, 217, 217, 217, 217, 217, 217, 217, 217, 217, 217, 217, 217, 217, 217, 217, 217, 217, 217, 217, 217, 217, 217, 217, 217, 217, 217, 217, 217, 217, 217, 217, 217, 217, 217, 217, 217, 217, 217, 217, 217, 217, 217, 217, 217, 217], [2769, 973, 10999, 1533, 9886, 4844, 3791, 1241, 217, 217, 217, 217, 217, 217, 217, 217, 217, 217, 217, 217, 217, 217, 217, 217, 217, 217, 217, 217, 217, 217, 217, 217, 217, 217, 217, 217, 217, 217, 217, 217, 217, 217, 217, 217, 217, 217, 217, 217, 217, 217, 217, 217, 217, 217, 217, 217, 217, 217, 217, 217, 217, 217, 217, 217, 217, 217, 217, 217, 217, 217, 217, 217, 217, 217, 217, 217, 217, 217, 217, 217, 217, 217, 217, 217, 217, 217, 217, 217, 217, 217, 217, 217, 217, 217, 217, 217, 217, 217, 217, 217, 217, 217, 217, 217, 217, 217, 217, 217, 217, 217, 217, 217, 217, 217, 217, 217, 217, 217, 217, 217, 217, 217, 217, 217, 217, 217, 217, 217, 217, 217, 217, 217, 217, 217, 217, 217, 217, 217, 217, 217, 217, 217, 217, 217, 217, 217, 217, 217, 217, 217, 217, 217, 217, 217, 217, 217, 217, 217, 217, 217, 217, 217, 217, 217, 217, 217, 217, 217, 217, 217, 217, 217, 217, 217, 217, 217, 217, 217, 217, 217, 217, 217, 217, 217, 217, 217, 217, 217, 217, 217, 217, 217, 217, 217, 217, 217, 217, 217, 217, 217, 217, 217, 217, 217, 217, 217, 217, 217, 217, 217, 217, 217, 217, 217, 217, 217, 217, 217, 217, 217, 217, 217, 217, 217, 217, 217, 217, 217, 217, 217, 217, 217, 217, 217, 217, 217, 217, 217, 217, 217, 217, 217, 217, 217, 217, 217, 217, 217, 217, 217, 217, 217, 217, 217, 217, 217, 217, 217, 217, 217, 217, 217, 217, 217, 217, 217, 217, 217, 217, 217, 217, 217, 217, 217, 217, 217, 217, 217, 217, 217, 217, 217, 217, 217, 217, 217, 217, 217, 217, 217, 217, 217, 217, 217, 217, 217, 217, 217, 217, 217], [819, 3959, 217, 217, 217, 217, 217, 217, 217, 217, 217, 217, 217, 217, 217, 217, 217, 217, 217, 217, 217, 217, 217, 217, 217, 217, 217, 217, 217, 217, 217, 217, 217, 217, 217, 217, 217, 217, 217, 217, 217, 217, 217, 217, 217, 217, 217, 217, 217, 217, 217, 217, 217, 217, 217, 217, 217, 217, 217, 217, 217, 217, 217, 217, 217, 217, 217, 217, 217, 217, 217, 217, 217, 217, 217, 217, 217, 217, 217, 217, 217, 217, 217, 217, 217, 217, 217, 217, 217, 217, 217, 217, 217, 217, 217, 217, 217, 217, 217, 217, 217, 217, 217, 217, 217, 217, 217, 217, 217, 217, 217, 217, 217, 217, 217, 217, 217, 217, 217, 217, 217, 217, 217, 217, 217, 217, 217, 217, 217, 217, 217, 217, 217, 217, 217, 217, 217, 217, 217, 217, 217, 217, 217, 217, 217, 217, 217, 217, 217, 217, 217, 217, 217, 217, 217, 217, 217, 217, 217, 217, 217, 217, 217, 217, 217, 217, 217, 217, 217, 217, 217, 217, 217, 217, 217, 217, 217, 217, 217, 217, 217, 217, 217, 217, 217, 217, 217, 217, 217, 217, 217, 217, 217, 217, 217, 217, 217, 217, 217, 217, 217, 217, 217, 217, 217, 217, 217, 217, 217, 217, 217, 217, 217, 217, 217, 217, 217, 217, 217, 217, 217, 217, 217, 217, 217, 217, 217, 217, 217, 217, 217, 217, 217, 217, 217, 217, 217, 217, 217, 217, 217, 217, 217, 217, 217, 217, 217, 217, 217, 217, 217, 217, 217, 217, 217, 217, 217, 217, 217, 217, 217, 217, 217, 217, 217, 217, 217, 217, 217, 217, 217, 217, 217, 217, 217, 217, 217, 217, 217, 217, 217, 217, 217, 217, 217, 217, 217, 217, 217, 217, 217, 217, 217, 217, 217, 217, 217, 217, 217, 217], [3088, 4784, 3933, 217, 217, 217, 217, 217, 217, 217, 217, 217, 217, 217, 217, 217, 217, 217, 217, 217, 217, 217, 217, 217, 217, 217, 217, 217, 217, 217, 217, 217, 217, 217, 217, 217, 217, 217, 217, 217, 217, 217, 217, 217, 217, 217, 217, 217, 217, 217, 217, 217, 217, 217, 217, 217, 217, 217, 217, 217, 217, 217, 217, 217, 217, 217, 217, 217, 217, 217, 217, 217, 217, 217, 217, 217, 217, 217, 217, 217, 217, 217, 217, 217, 217, 217, 217, 217, 217, 217, 217, 217, 217, 217, 217, 217, 217, 217, 217, 217, 217, 217, 217, 217, 217, 217, 217, 217, 217, 217, 217, 217, 217, 217, 217, 217, 217, 217, 217, 217, 217, 217, 217, 217, 217, 217, 217, 217, 217, 217, 217, 217, 217, 217, 217, 217, 217, 217, 217, 217, 217, 217, 217, 217, 217, 217, 217, 217, 217, 217, 217, 217, 217, 217, 217, 217, 217, 217, 217, 217, 217, 217, 217, 217, 217, 217, 217, 217, 217, 217, 217, 217, 217, 217, 217, 217, 217, 217, 217, 217, 217, 217, 217, 217, 217, 217, 217, 217, 217, 217, 217, 217, 217, 217, 217, 217, 217, 217, 217, 217, 217, 217, 217, 217, 217, 217, 217, 217, 217, 217, 217, 217, 217, 217, 217, 217, 217, 217, 217, 217, 217, 217, 217, 217, 217, 217, 217, 217, 217, 217, 217, 217, 217, 217, 217, 217, 217, 217, 217, 217, 217, 217, 217, 217, 217, 217, 217, 217, 217, 217, 217, 217, 217, 217, 217, 217, 217, 217, 217, 217, 217, 217, 217, 217, 217, 217, 217, 217, 217, 217, 217, 217, 217, 217, 217, 217, 217, 217, 217, 217, 217, 217, 217, 217, 217, 217, 217, 217, 217, 217, 217, 217, 217, 217, 217, 217, 217, 217, 217, 217]]\n"
     ]
    }
   ],
   "source": [
    "model = SimpleRNN(dict_len=11010, embedding_dim=300, n_classes=1)\n",
    "model.load_state_dict(state_dict=torch.load(f=f\"./take_away.pt\"),\n",
    "                      strict=False)\n",
    "model.eval()\n",
    "# test on other review\n",
    "X_test_review = ['卖家态度挺好，只是这蛋糕，我及其不满意，本来女儿过生日，我不在挺愧疚的，订了个蛋糕送她，可是亲戚朋友品尝蛋糕时，所谓的彩虹蛋糕，色素弄在手上洗都洗不掉，这还敢吃麽？结果大家也都是象征性的舔了一下，还感觉味道怪怪的！全部扔掉～唉，女儿也不高兴了，我心里更是愧疚的要命！卖家拜你所赐，绝对没有下一次了！', '口感不错，但送得太慢了', '不太好吃', '味道很好']\n",
    "result_dict = {0: '差评', 1: '好评'}\n",
    "X_test_seg = [jieba.lcut(x, cut_all=False) for x in X_test_review]\n",
    "X_test_vectors = messages_2_vectors(vocabulary_list, X_test_seg, max_msg_len)\n",
    "print(X_test_vectors)"
   ],
   "metadata": {
    "collapsed": false,
    "ExecuteTime": {
     "end_time": "2024-07-13T14:27:06.465956Z",
     "start_time": "2024-07-13T14:27:06.413875Z"
    }
   }
  },
  {
   "cell_type": "code",
   "execution_count": 17,
   "outputs": [
    {
     "name": "stdout",
     "output_type": "stream",
     "text": [
      "0.002977455034852028\n",
      "差评\n",
      "0.002977455034852028\n",
      "差评\n",
      "0.002977455034852028\n",
      "差评\n",
      "0.002977455034852028\n",
      "差评\n"
     ]
    }
   ],
   "source": [
    "for test_vector in X_test_vectors:\n",
    "    test_tensor = torch.tensor(data=test_vector, dtype=torch.long).unsqueeze(0)\n",
    "    y_pred = model(test_tensor).item()\n",
    "    print(y_pred)\n",
    "    print(result_dict[round(y_pred)])"
   ],
   "metadata": {
    "collapsed": false,
    "ExecuteTime": {
     "end_time": "2024-07-13T13:28:40.005283Z",
     "start_time": "2024-07-13T13:28:39.997034Z"
    }
   }
  },
  {
   "cell_type": "code",
   "execution_count": null,
   "outputs": [],
   "source": [],
   "metadata": {
    "collapsed": false
   }
  }
 ],
 "metadata": {
  "kernelspec": {
   "display_name": "Python 3",
   "language": "python",
   "name": "python3"
  },
  "language_info": {
   "codemirror_mode": {
    "name": "ipython",
    "version": 2
   },
   "file_extension": ".py",
   "mimetype": "text/x-python",
   "name": "python",
   "nbconvert_exporter": "python",
   "pygments_lexer": "ipython2",
   "version": "2.7.6"
  }
 },
 "nbformat": 4,
 "nbformat_minor": 0
}
