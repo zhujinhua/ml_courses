{
 "cells": [
  {
   "cell_type": "markdown",
   "id": "0ad0c613-9113-486d-8369-96303acf8859",
   "metadata": {},
   "source": [
    "### 4. 重排序\n",
    "- https://www.53ai.com/news/qianyanjishu/2072.html\n",
    "- https://luxiangdong.com/2024/02/22/advrag4/"
   ]
  },
  {
   "cell_type": "markdown",
   "id": "5ab1b96d-a417-4eee-98ed-ca66349070bc",
   "metadata": {},
   "source": [
    "### 5. RAG Prompt 设计\n",
    "- https://smith.langchain.com/hub\n",
    "- rlm/rag-prompt"
   ]
  },
  {
   "cell_type": "code",
   "execution_count": 20,
   "id": "eddc7a97-9233-4dce-9584-8aa92622f3f8",
   "metadata": {},
   "outputs": [],
   "source": [
    "# RAG中A的过程，可以在此处修改\n",
    "prompt = ChatPromptTemplate.from_messages([\n",
    "  (\"human\", \n",
    "\"\"\"\n",
    "你是一个执行问答任务的智能助手。\n",
    "请使用下面检索出来的上下文片段来回答问题。\n",
    "如果上下文中没有相关的答案，请使用你自己的知识回答问题。\n",
    "保证结果的简洁性。\n",
    "Question: {question} \n",
    "Context: {context} \n",
    "Answer:\n",
    "\"\"\"),\n",
    "])"
   ]
  },
  {
   "cell_type": "markdown",
   "id": "73394da5-fdd2-43c5-aa64-db32fec3b765",
   "metadata": {},
   "source": [
    "### 5. 搭建RAG链"
   ]
  },
  {
   "cell_type": "code",
   "execution_count": 21,
   "id": "a1f11970-a6eb-4b90-9a28-05a57ba985ba",
   "metadata": {},
   "outputs": [],
   "source": [
    "from langchain_core.runnables import RunnablePassthrough\n",
    "from langchain_core.output_parsers import StrOutputParser"
   ]
  },
  {
   "cell_type": "code",
   "execution_count": 22,
   "id": "7181d02f-ea49-46e9-a9c3-49c6dc6ea4af",
   "metadata": {},
   "outputs": [],
   "source": [
    "def format_docs(raw_docs):\n",
    "    \"\"\"\n",
    "        将所有文档的内容拼接成一个字符串\n",
    "    \"\"\"\n",
    "    # rerank 过程\n",
    "    passages = [doc.page_content for doc in raw_docs]\n",
    "    rerank_results = reranker.rerank(query=query, passages=passages)\n",
    "    idxes = rerank_results[\"rerank_ids\"][:3]\n",
    "    rerank_docs = [raw_docs[idx] for idx in idxes]\n",
    "    \n",
    "    # reorder 过程\n",
    "    final_docs = recorder.transform_documents(documents=rerank_docs)\n",
    "\n",
    "    # 拼接所有 doc 成为一个段落\n",
    "    context = \"\\n\\n\".join(doc.page_content for doc in final_docs)\n",
    "    return context"
   ]
  },
  {
   "cell_type": "code",
   "execution_count": 23,
   "id": "6e6d1833-0163-4ea9-9aa3-36c12c50b9e9",
   "metadata": {},
   "outputs": [],
   "source": [
    "rag_chain = (\n",
    "    {\"context\": retriever | format_docs, \"question\": RunnablePassthrough()}\n",
    "    | prompt\n",
    "    | chat\n",
    "    | StrOutputParser()\n",
    ")"
   ]
  },
  {
   "cell_type": "markdown",
   "id": "2049e751-f865-414d-8d4e-a5348c02d3ee",
   "metadata": {},
   "source": [
    "### 6. 结果测试"
   ]
  },
  {
   "cell_type": "code",
   "execution_count": 24,
   "id": "69d00a17-1bfe-465f-996f-2ccd7f1e6398",
   "metadata": {},
   "outputs": [
    {
     "name": "stderr",
     "output_type": "stream",
     "text": [
      "09/18/2024 15:39:44 - [INFO] -httpx->>>    HTTP Request: POST http://localhost:8080/api/v1/collections/34d9f664-86c0-4fa3-87a3-9a541c6ec437/query \"HTTP/1.1 200 OK\"\n",
      "You're using a XLMRobertaTokenizerFast tokenizer. Please note that with a fast tokenizer, using the `__call__` method is faster than using a method to encode the text followed by a call to the `pad` method to get a padded encoding.\n"
     ]
    },
    {
     "data": {
      "text/plain": [
       "'大聪明口服液'"
      ]
     },
     "execution_count": 24,
     "metadata": {},
     "output_type": "execute_result"
    }
   ],
   "source": [
    "# 提问相关问题\n",
    "rag_chain.invoke(input=\"这款口服液叫什么？\")"
   ]
  },
  {
   "cell_type": "code",
   "execution_count": 25,
   "id": "fe9431c4-d8b1-48a1-ad23-fd16b9327109",
   "metadata": {},
   "outputs": [
    {
     "name": "stderr",
     "output_type": "stream",
     "text": [
      "09/18/2024 15:39:47 - [INFO] -httpx->>>    HTTP Request: POST http://localhost:8080/api/v1/collections/34d9f664-86c0-4fa3-87a3-9a541c6ec437/query \"HTTP/1.1 200 OK\"\n"
     ]
    },
    {
     "data": {
      "text/plain": [
       "'抗日战争是1945年结束的。'"
      ]
     },
     "execution_count": 25,
     "metadata": {},
     "output_type": "execute_result"
    }
   ],
   "source": [
    "# 提问无关问题\n",
    "rag_chain.invoke(input=\"抗日战争是哪年结束的？\")"
   ]
  },
  {
   "cell_type": "code",
   "execution_count": null,
   "id": "e48159f2-20b4-431c-9b6c-70b2790c9346",
   "metadata": {},
   "outputs": [],
   "source": []
  },
  {
   "cell_type": "code",
   "execution_count": null,
   "id": "2ef5b0e8-761b-457b-b56d-c5a0b36a2198",
   "metadata": {},
   "outputs": [],
   "source": []
  },
  {
   "cell_type": "code",
   "execution_count": null,
   "id": "07093bbf-f80d-40cf-830b-990bd3a1c969",
   "metadata": {},
   "outputs": [],
   "source": []
  }
 ],
 "metadata": {
  "kernelspec": {
   "display_name": "Python 3 (ipykernel)",
   "language": "python",
   "name": "python3"
  },
  "language_info": {
   "codemirror_mode": {
    "name": "ipython",
    "version": 3
   },
   "file_extension": ".py",
   "mimetype": "text/x-python",
   "name": "python",
   "nbconvert_exporter": "python",
   "pygments_lexer": "ipython3",
   "version": "3.12.4"
  }
 },
 "nbformat": 4,
 "nbformat_minor": 5
}
