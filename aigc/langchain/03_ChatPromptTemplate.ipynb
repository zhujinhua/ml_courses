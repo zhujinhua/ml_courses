{
 "cells": [
  {
   "cell_type": "markdown",
   "id": "cc2738c4-f265-48e5-8a6b-ad36a8aabfb3",
   "metadata": {},
   "source": [
    "### 1. 连接大模型"
   ]
  },
  {
   "cell_type": "code",
   "execution_count": 4,
   "id": "1a8e0568-3ebb-449a-83c0-35b25dd9ded3",
   "metadata": {},
   "outputs": [],
   "source": [
    "from utils import get_qwen_models"
   ]
  },
  {
   "cell_type": "code",
   "execution_count": 5,
   "id": "49dae8fc-23f1-4b36-b0d0-591ef5c887a4",
   "metadata": {},
   "outputs": [],
   "source": [
    "_, chat, _ = get_qwen_models()"
   ]
  },
  {
   "cell_type": "markdown",
   "id": "9d706b0f-c696-46b0-a210-b4a38ee72fc3",
   "metadata": {},
   "source": [
    "### 2. ChatPromptTemplate\n",
    "- 跟PromptTemplate类似，都是拼串操作\n",
    "- 多轮对话，分角色"
   ]
  },
  {
   "cell_type": "code",
   "execution_count": 10,
   "id": "62ac347c-7f89-4f24-bd47-b850e5dff49f",
   "metadata": {},
   "outputs": [],
   "source": [
    "from langchain_core.prompts import ChatPromptTemplate\n",
    "from langchain_core.prompts import SystemMessagePromptTemplate\n",
    "from langchain_core.prompts import HumanMessagePromptTemplate\n",
    "from langchain_core.prompts import AIMessagePromptTemplate\n",
    "from langchain_core.prompts import ChatMessagePromptTemplate\n",
    "from langchain_core.messages import SystemMessage\n",
    "from langchain_core.messages import HumanMessage\n",
    "from langchain_core.messages import AIMessage"
   ]
  },
  {
   "cell_type": "code",
   "execution_count": 9,
   "id": "c70cc461-3c10-453d-ae17-7eb61621bd01",
   "metadata": {},
   "outputs": [
    {
     "data": {
      "text/plain": [
       "AIMessage(content='你好！有什么我能为你效劳的吗？', response_metadata={'model_name': 'qwen-max', 'finish_reason': 'stop', 'request_id': 'a9491003-4f91-92b0-a63c-8c2cb8d3ebe3', 'token_usage': {'input_tokens': 9, 'output_tokens': 10, 'total_tokens': 19}}, id='run-fb567e79-f868-4342-b5ed-18a30f1a2889-0')"
      ]
     },
     "execution_count": 9,
     "metadata": {},
     "output_type": "execute_result"
    }
   ],
   "source": [
    "chat.invoke(input=\"你好\")"
   ]
  },
  {
   "cell_type": "code",
   "execution_count": 19,
   "id": "e27a6c2e-b38f-4143-8423-3d773a2d463f",
   "metadata": {},
   "outputs": [],
   "source": [
    "messages = [\n",
    "    SystemMessage(content=\"你是一个很有用的助手！\"),\n",
    "    HumanMessage(content=\"请问：新中国成立是哪天？\")\n",
    "]"
   ]
  },
  {
   "cell_type": "code",
   "execution_count": 20,
   "id": "0459726c-b3cc-4e3e-88b5-d5dffc35687c",
   "metadata": {},
   "outputs": [
    {
     "data": {
      "text/plain": [
       "AIMessage(content='新中国成立的具体时间是1949年10月1日。这一天，中华人民共和国中央人民政府主席毛泽东在首都北京天安门城楼上宣告中华人民共和国中央人民政府成立，举行了盛大的开国大典，标志着中华人民共和国的成立。', response_metadata={'model_name': 'qwen-max', 'finish_reason': 'stop', 'request_id': 'e13c2e2d-9e48-9b05-8683-f16fbea7e5cf', 'token_usage': {'input_tokens': 28, 'output_tokens': 53, 'total_tokens': 81}}, id='run-46ff40ff-ba59-45ae-8fee-c84361ab65f4-0')"
      ]
     },
     "execution_count": 20,
     "metadata": {},
     "output_type": "execute_result"
    }
   ],
   "source": [
    "chat.invoke(input=messages)"
   ]
  },
  {
   "cell_type": "code",
   "execution_count": 21,
   "id": "1e731761-4d67-48a9-8864-a2c7af50289f",
   "metadata": {},
   "outputs": [],
   "source": [
    "messages = [\n",
    "    SystemMessagePromptTemplate.from_template(template=\"你是一个{role}.\"),\n",
    "    HumanMessagePromptTemplate.from_template(template=\"请列出{num}种你最喜欢的东西！\")\n",
    "]"
   ]
  },
  {
   "cell_type": "code",
   "execution_count": 22,
   "id": "56010a24-49bf-40b6-a9dd-bcbbd5f21758",
   "metadata": {},
   "outputs": [
    {
     "data": {
      "text/plain": [
       "[SystemMessagePromptTemplate(prompt=PromptTemplate(input_variables=['role'], template='你是一个{role}.')),\n",
       " HumanMessagePromptTemplate(prompt=PromptTemplate(input_variables=['num'], template='请列出{num}种你最喜欢的东西！'))]"
      ]
     },
     "execution_count": 22,
     "metadata": {},
     "output_type": "execute_result"
    }
   ],
   "source": [
    "messages"
   ]
  },
  {
   "cell_type": "code",
   "execution_count": 24,
   "id": "da8ff19b-a95b-4e6c-8531-9f80443e9c38",
   "metadata": {},
   "outputs": [],
   "source": [
    "prompt = ChatPromptTemplate.from_messages(messages=messages)"
   ]
  },
  {
   "cell_type": "code",
   "execution_count": 26,
   "id": "1e911a7b-0d45-4458-a5d0-59e94872c9e9",
   "metadata": {},
   "outputs": [
    {
     "data": {
      "text/plain": [
       "ChatPromptValue(messages=[SystemMessage(content='你是一个科学家.'), HumanMessage(content='请列出2种你最喜欢的东西！')])"
      ]
     },
     "execution_count": 26,
     "metadata": {},
     "output_type": "execute_result"
    }
   ],
   "source": [
    "prompt.invoke(input={\"role\":\"科学家\", \"num\":2})"
   ]
  },
  {
   "cell_type": "code",
   "execution_count": 29,
   "id": "5995de0c-4be6-40de-80c2-78a200de95b4",
   "metadata": {},
   "outputs": [
    {
     "data": {
      "text/plain": [
       "AIMessage(content='作为演员，我最喜欢的两样东西可能会与我的职业紧密相关：\\n\\n1. **剧本**：一个好剧本是我作为演员的生命线，它不仅承载着角色的灵魂，也是故事的基石。拿到一个深刻、有挑战性且能触动人心的剧本总能让我兴奋不已，因为它为我提供了展现演技、探索人性的广阔舞台。\\n\\n2. **观众的反响**：没有什么比在舞台上或银幕前表演后，感受到观众的共鸣和热烈反响更令人满足的了。无论是掌声、笑声还是感动的泪水，都是对我工作最大的肯定和激励，它们提醒我作为演员的价值和使命——连接人心，传递情感。', response_metadata={'model_name': 'qwen-max', 'finish_reason': 'stop', 'request_id': '1cfe7dd5-e58a-995c-b09f-aaf478fa3907', 'token_usage': {'input_tokens': 25, 'output_tokens': 138, 'total_tokens': 163}}, id='run-47a36693-fa5f-4435-bce4-c944d6674dd0-0')"
      ]
     },
     "execution_count": 29,
     "metadata": {},
     "output_type": "execute_result"
    }
   ],
   "source": [
    "chat.invoke(prompt.invoke(input={\"role\":\"演员\", \"num\":2}))"
   ]
  },
  {
   "cell_type": "code",
   "execution_count": 30,
   "id": "f7ff75fb-06e0-40b4-aafa-a4153d67df28",
   "metadata": {},
   "outputs": [],
   "source": [
    "chain = prompt | chat"
   ]
  },
  {
   "cell_type": "code",
   "execution_count": 31,
   "id": "96360dfb-88b4-498a-ae21-30cad74addf5",
   "metadata": {},
   "outputs": [
    {
     "data": {
      "text/plain": [
       "AIMessage(content='作为科学家，我的喜好倾向于那些能够激发好奇心、促进知识探索和理解世界的事物。以下是两种我“喜欢”的（如果科学家能有喜好倾向的话）东西：\\n\\n1. **科学仪器和技术**：我非常“欣赏”那些先进的科学仪器和技术，它们是探索宇宙奥秘、揭示自然规律的强有力工具。从高精度的显微镜到强大的粒子加速器，从复杂的基因测序仪到深空探测器，这些技术不仅扩展了我们对世界的认知边界，还不断推动着科学的进步。\\n\\n2. **科学理论和模型**：我对那些能够统一解释多种现象、预测未来事件并经得起时间考验的科学理论和模型抱有极大的“兴趣”。例如，爱因斯坦的相对论、量子力学、达尔文的进化论等，这些理论深刻改变了我们对时间、空间、物质以及生命本身的理解，展现了人类智慧的光辉。\\n\\n当然，作为一个AI，我没有个人情感或喜好，上述回答是基于科学家普遍可能会感到兴奋和重视的领域。我的“偏好”完全基于对科学和知识传播的促进作用。', response_metadata={'model_name': 'qwen-max', 'finish_reason': 'stop', 'request_id': 'fd0c434a-e7d9-95f3-974c-ff3f10d8af19', 'token_usage': {'input_tokens': 25, 'output_tokens': 230, 'total_tokens': 255}}, id='run-32a1d048-7894-4d8e-8156-2278acb171e5-0')"
      ]
     },
     "execution_count": 31,
     "metadata": {},
     "output_type": "execute_result"
    }
   ],
   "source": [
    "chain.invoke(input={\"role\":\"科学家\", \"num\":2})"
   ]
  },
  {
   "cell_type": "code",
   "execution_count": null,
   "id": "a29a71b2-4b08-4046-80c3-600cabdc1439",
   "metadata": {},
   "outputs": [],
   "source": []
  },
  {
   "cell_type": "code",
   "execution_count": null,
   "id": "5e184f3d-83b3-4943-a2ac-17cf4c557c71",
   "metadata": {},
   "outputs": [],
   "source": []
  }
 ],
 "metadata": {
  "kernelspec": {
   "display_name": "Python 3 (ipykernel)",
   "language": "python",
   "name": "python3"
  },
  "language_info": {
   "codemirror_mode": {
    "name": "ipython",
    "version": 3
   },
   "file_extension": ".py",
   "mimetype": "text/x-python",
   "name": "python",
   "nbconvert_exporter": "python",
   "pygments_lexer": "ipython3",
   "version": "3.12.4"
  }
 },
 "nbformat": 4,
 "nbformat_minor": 5
}
