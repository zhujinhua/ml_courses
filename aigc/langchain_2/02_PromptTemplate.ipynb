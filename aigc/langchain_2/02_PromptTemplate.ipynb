{
 "cells": [
  {
   "cell_type": "markdown",
   "id": "eaf32699-ebcb-4b4a-862d-a532c2f74315",
   "metadata": {},
   "source": [
    "### 0. 引入大模型"
   ]
  },
  {
   "cell_type": "code",
   "execution_count": 8,
   "id": "c3bf0844-25de-484b-b93e-b60d518f13e9",
   "metadata": {},
   "outputs": [],
   "source": [
    "from utils import get_qwen_models\n",
    "llm, chat, embed = get_qwen_models()"
   ]
  },
  {
   "cell_type": "markdown",
   "id": "37b60abb-9f1c-494d-845a-e201d524b263",
   "metadata": {},
   "source": [
    "### 1. Prompt的技术本质：\n",
    "- 拼串\n",
    "- 拼提问的串\n",
    "- 将提问参数化\n",
    "- 一切大模型上层开发的根本"
   ]
  },
  {
   "cell_type": "markdown",
   "id": "8422d1e0-9d32-469f-9b60-28fa19857317",
   "metadata": {},
   "source": [
    "### PromptTemplate\n",
    "- 适合llm大模型\n",
    "- 最基础也是最重要\n",
    "- langchain_core"
   ]
  },
  {
   "cell_type": "code",
   "execution_count": 1,
   "id": "16a8f3f6-3e9f-4713-bb91-27d5fe630755",
   "metadata": {},
   "outputs": [],
   "source": [
    "from langchain_core.prompts import PromptTemplate"
   ]
  },
  {
   "cell_type": "code",
   "execution_count": 3,
   "id": "f8819377-bae5-440a-b989-8f8d4d4780f6",
   "metadata": {},
   "outputs": [],
   "source": [
    "# 构建一个Pormpt\n",
    "# Load a prompt template from a template.\n",
    "\n",
    "prompt = PromptTemplate.from_template(template=\"请输出{num}种北京美食！\")"
   ]
  },
  {
   "cell_type": "code",
   "execution_count": 4,
   "id": "023c2dce-84d2-4902-b251-85d73f6e5005",
   "metadata": {},
   "outputs": [
    {
     "data": {
      "text/plain": [
       "PromptTemplate(input_variables=['num'], template='请输出{num}种北京美食！')"
      ]
     },
     "execution_count": 4,
     "metadata": {},
     "output_type": "execute_result"
    }
   ],
   "source": [
    "prompt"
   ]
  },
  {
   "cell_type": "code",
   "execution_count": 5,
   "id": "dfffc094-2004-48d0-90aa-f3f25629f381",
   "metadata": {},
   "outputs": [
    {
     "data": {
      "text/plain": [
       "'请输出3种北京美食！'"
      ]
     },
     "execution_count": 5,
     "metadata": {},
     "output_type": "execute_result"
    }
   ],
   "source": [
    "prompt.format(num=3)"
   ]
  },
  {
   "cell_type": "code",
   "execution_count": 11,
   "id": "c6907f27-ec00-4752-bc77-4b3d06e850a4",
   "metadata": {},
   "outputs": [
    {
     "name": "stdout",
     "output_type": "stream",
     "text": [
      "好的，北京有许多美味的食物，以下是五种非常有名的北京美食： \n",
      "\n",
      "1. 北京烤鸭：一种以脆皮烤鸭为主料的传统名菜，口感鲜美。 \n",
      "\n",
      "2. 炸酱面：一种以黄豆酱和肉末为调料的面条，味道浓郁可口。\n",
      "\n",
      "3. 酱爆鸡丁：一种以鸡肉、青椒和豆瓣酱为主要原料的传统名菜，口味鲜美。\n",
      "\n",
      "4. 豆汁儿：一种以绿豆为原料制成的饮料，口感醇厚。\n",
      "\n",
      "5. 老北京炸糕：一种以糯米粉和豆沙为原料的传统糕点，外酥里嫩。\n"
     ]
    }
   ],
   "source": [
    "result = llm.invoke(input=prompt.format(num=5))\n",
    "print(result)"
   ]
  },
  {
   "cell_type": "code",
   "execution_count": 12,
   "id": "1543565b-d8c8-40c7-85c0-8bd18bb0ff01",
   "metadata": {},
   "outputs": [
    {
     "data": {
      "text/plain": [
       "StringPromptValue(text='请输出4种北京美食！')"
      ]
     },
     "execution_count": 12,
     "metadata": {},
     "output_type": "execute_result"
    }
   ],
   "source": [
    "prompt.invoke(input=dict(num=4))"
   ]
  },
  {
   "cell_type": "code",
   "execution_count": 13,
   "id": "469f189d-8451-42c8-a26b-ef3cdd5d768b",
   "metadata": {},
   "outputs": [
    {
     "data": {
      "text/plain": [
       "'北京拥有丰富的美食文化，以下是四种著名的北京美食：\\n\\n1. **北京烤鸭**：这是北京最著名的菜肴之一。传统的北京烤鸭选用优质肉鸭，经过特殊处理后，在特制的烤炉中烤制而成。外皮酥脆、肉质鲜嫩，通常搭配薄饼、甜面酱和葱丝一起食用。\\n\\n2. **炸酱面**：这是一道具有浓郁北京风味的传统面食。主要由黄豆酱和肉末制成的炸酱与手擀面条搭配，再加上黄瓜丝、豆芽等蔬菜作为配菜，味道鲜美。\\n\\n3. **豆汁儿与焦圈**：豆汁儿是一种用绿豆发酵制成的饮品，味道独特，有些人会觉得略带酸味；焦圈则是油炸的环状食品，口感酥脆。两者通常是早餐时的搭配。\\n\\n4. **卤煮火烧**：这是一种以猪内脏和豆腐为主要原料的传统小吃。将这些材料与特制的卤水一同炖煮，味道浓郁，是许多老北京人喜爱的小吃之一。\\n\\n每一种都有其独特的风味和制作工艺，值得尝试。'"
      ]
     },
     "execution_count": 13,
     "metadata": {},
     "output_type": "execute_result"
    }
   ],
   "source": [
    "llm.invoke(input=prompt.invoke(input=dict(num=4)))"
   ]
  },
  {
   "cell_type": "code",
   "execution_count": 14,
   "id": "b3402b7f-90e5-4d45-928f-71ee86a28d90",
   "metadata": {},
   "outputs": [],
   "source": [
    "chain = prompt | llm"
   ]
  },
  {
   "cell_type": "code",
   "execution_count": 16,
   "id": "8b51a8f4-51a2-439b-ae92-8ae0294b0e7c",
   "metadata": {},
   "outputs": [
    {
     "data": {
      "text/plain": [
       "'北京拥有丰富的美食文化，这里给您介绍两种著名的北京美食：\\n\\n1. **北京烤鸭**：这是北京最著名的传统菜肴之一。选用优质肉鸭，经过特殊处理和烤制而成，皮脆肉嫩，色泽红润，味道鲜美。通常搭配薄饼、甜面酱、葱丝等一同食用。\\n\\n2. **炸酱面**：这是一种非常受欢迎的北京传统面食。主要由黄豆酱或甜面酱制成的炸酱与面条搭配，再加上黄瓜丝、豆芽等蔬菜作为配菜，口感丰富，味道独特。\\n\\n这两种美食不仅在北京非常流行，在中国乃至世界各地都有很高的知名度。'"
      ]
     },
     "execution_count": 16,
     "metadata": {},
     "output_type": "execute_result"
    }
   ],
   "source": [
    "chain.invoke(input=dict(num=2))"
   ]
  },
  {
   "cell_type": "code",
   "execution_count": 17,
   "id": "51b1e317-9f82-4715-9749-5791c67a700a",
   "metadata": {},
   "outputs": [],
   "source": [
    "prompt = PromptTemplate.from_template(template=\"请列出{num}种{location}美食！\")"
   ]
  },
  {
   "cell_type": "code",
   "execution_count": 18,
   "id": "b68d4254-63c8-4169-8881-0e022cb1f6d7",
   "metadata": {},
   "outputs": [
    {
     "data": {
      "text/plain": [
       "PromptTemplate(input_variables=['location', 'num'], template='请列出{num}种{location}美食！')"
      ]
     },
     "execution_count": 18,
     "metadata": {},
     "output_type": "execute_result"
    }
   ],
   "source": [
    "prompt"
   ]
  },
  {
   "cell_type": "code",
   "execution_count": 19,
   "id": "754ce000-f60a-4312-95e0-1291e12dc401",
   "metadata": {},
   "outputs": [],
   "source": [
    "chain = prompt | llm"
   ]
  },
  {
   "cell_type": "code",
   "execution_count": 20,
   "id": "111420a3-f34d-4a1c-8da3-a87b485faec9",
   "metadata": {},
   "outputs": [
    {
     "data": {
      "text/plain": [
       "'广东拥有丰富的美食文化，其中两种著名的美食包括：烧鹅和早茶。烧鹅是一道以烤制鹅肉为主的菜肴，通常搭配甜酱、蒜泥等调料食用，口感香脆可口；而早茶则是一系列点心的总称，其中包括虾饺、糯米鸡、蛋挞等，是广东人早餐或下午茶时常见的美食。'"
      ]
     },
     "execution_count": 20,
     "metadata": {},
     "output_type": "execute_result"
    }
   ],
   "source": [
    "chain.invoke(input=dict(num=2, location=\"广东\"))"
   ]
  },
  {
   "cell_type": "code",
   "execution_count": 21,
   "id": "db09e1d3-245c-4b3b-a2eb-49c3e9586c84",
   "metadata": {},
   "outputs": [],
   "source": [
    "from langchain_core.output_parsers import CommaSeparatedListOutputParser"
   ]
  },
  {
   "cell_type": "code",
   "execution_count": 23,
   "id": "817d410f-2c8b-4514-a58f-e612252df592",
   "metadata": {},
   "outputs": [],
   "source": [
    "output_parser = CommaSeparatedListOutputParser()"
   ]
  },
  {
   "cell_type": "code",
   "execution_count": 24,
   "id": "280be076-1a98-4222-a0b7-b5793c5bf24b",
   "metadata": {},
   "outputs": [
    {
     "data": {
      "text/plain": [
       "CommaSeparatedListOutputParser()"
      ]
     },
     "execution_count": 24,
     "metadata": {},
     "output_type": "execute_result"
    }
   ],
   "source": [
    "output_parser"
   ]
  },
  {
   "cell_type": "code",
   "execution_count": 26,
   "id": "a5538b7b-5fb3-41b8-9203-c2f5ec1b323f",
   "metadata": {},
   "outputs": [
    {
     "data": {
      "text/plain": [
       "'Your response should be a list of comma separated values, eg: `foo, bar, baz` or `foo,bar,baz`'"
      ]
     },
     "execution_count": 26,
     "metadata": {},
     "output_type": "execute_result"
    }
   ],
   "source": [
    "output_parser.get_format_instructions()"
   ]
  },
  {
   "cell_type": "code",
   "execution_count": 44,
   "id": "180eaebf-76fb-48f0-b9dc-396708b19455",
   "metadata": {},
   "outputs": [],
   "source": [
    "prompt = PromptTemplate.from_template(template=\"请列出{num}种{location}美食！使用中文输出！\\n{output_parser}\",\n",
    "                                     partial_variables={\"output_parser\": output_parser.get_format_instructions()})"
   ]
  },
  {
   "cell_type": "code",
   "execution_count": 45,
   "id": "109f32aa-2db4-4203-a7d9-ecdad2057b83",
   "metadata": {},
   "outputs": [
    {
     "data": {
      "text/plain": [
       "PromptTemplate(input_variables=['location', 'num'], partial_variables={'output_parser': 'Your response should be a list of comma separated values, eg: `foo, bar, baz` or `foo,bar,baz`'}, template='请列出{num}种{location}美食！使用中文输出！\\n{output_parser}')"
      ]
     },
     "execution_count": 45,
     "metadata": {},
     "output_type": "execute_result"
    }
   ],
   "source": [
    "prompt"
   ]
  },
  {
   "cell_type": "code",
   "execution_count": 46,
   "id": "5cff971b-9c95-497a-b17a-79cbc9d221fc",
   "metadata": {},
   "outputs": [
    {
     "name": "stdout",
     "output_type": "stream",
     "text": [
      "请列出2种上海美食！使用中文输出！\n",
      "Your response should be a list of comma separated values, eg: `foo, bar, baz` or `foo,bar,baz`\n"
     ]
    }
   ],
   "source": [
    "print(prompt.invoke(input=dict(num=2, location=\"上海\")).text)"
   ]
  },
  {
   "cell_type": "code",
   "execution_count": 47,
   "id": "709a3f92-1fb3-46ba-8ce9-c197aca02216",
   "metadata": {},
   "outputs": [],
   "source": [
    "chain = prompt | llm"
   ]
  },
  {
   "cell_type": "code",
   "execution_count": 54,
   "id": "b33c4fb8-013a-4c68-a040-ee27a67b69c1",
   "metadata": {},
   "outputs": [],
   "source": [
    "result = chain.invoke(input=dict(num=5, location=\"山西\"))"
   ]
  },
  {
   "cell_type": "code",
   "execution_count": 55,
   "id": "1aa0d13a-fbc9-4288-9320-c1934cbe0c14",
   "metadata": {},
   "outputs": [
    {
     "data": {
      "text/plain": [
       "'刀削面, 过油肉, 忻州瓦酥, 临汾牛肉丸子面, 太原酱梅肉'"
      ]
     },
     "execution_count": 55,
     "metadata": {},
     "output_type": "execute_result"
    }
   ],
   "source": [
    "result"
   ]
  },
  {
   "cell_type": "code",
   "execution_count": 56,
   "id": "138d93f3-5d7a-4386-82eb-5e4166c8dac2",
   "metadata": {},
   "outputs": [
    {
     "data": {
      "text/plain": [
       "['刀削面', '过油肉', '忻州瓦酥', '临汾牛肉丸子面', '太原酱梅肉']"
      ]
     },
     "execution_count": 56,
     "metadata": {},
     "output_type": "execute_result"
    }
   ],
   "source": [
    "output_parser.parse(result)"
   ]
  },
  {
   "cell_type": "code",
   "execution_count": 58,
   "id": "c3d164a1-9063-485b-8ea3-6dc4d1cff8c0",
   "metadata": {},
   "outputs": [],
   "source": [
    "chain = prompt | llm"
   ]
  },
  {
   "cell_type": "code",
   "execution_count": 59,
   "id": "10f05718-67b2-4eb0-b785-eec17c466613",
   "metadata": {},
   "outputs": [
    {
     "data": {
      "text/plain": [
       "'刀削面, 过油肉, 忻州瓦酥, 临汾牛肉丸子面, 太原酱梅肉'"
      ]
     },
     "execution_count": 59,
     "metadata": {},
     "output_type": "execute_result"
    }
   ],
   "source": [
    "chain.invoke(input=dict(num=5, location=\"山西\"))"
   ]
  },
  {
   "cell_type": "code",
   "execution_count": 60,
   "id": "65a84066-1490-4782-b4ca-db63c03cf483",
   "metadata": {},
   "outputs": [],
   "source": [
    "prompt = PromptTemplate.from_template(template=\"请列出{num}种{location}美食！\")                                "
   ]
  },
  {
   "cell_type": "code",
   "execution_count": 61,
   "id": "8c821ac6-e8e9-4550-ae8c-019ca2514868",
   "metadata": {},
   "outputs": [
    {
     "data": {
      "text/plain": [
       "PromptTemplate(input_variables=['location', 'num'], template='请列出{num}种{location}美食！')"
      ]
     },
     "execution_count": 61,
     "metadata": {},
     "output_type": "execute_result"
    }
   ],
   "source": [
    "prompt"
   ]
  },
  {
   "cell_type": "code",
   "execution_count": 64,
   "id": "074d3fba-57e2-47e3-af31-8ece48a40ea4",
   "metadata": {},
   "outputs": [],
   "source": [
    "chain1 = prompt | llm"
   ]
  },
  {
   "cell_type": "code",
   "execution_count": 65,
   "id": "05608910-5148-4cc3-b0d4-ff85359da000",
   "metadata": {},
   "outputs": [
    {
     "data": {
      "text/plain": [
       "'好的，这里有五种著名的山西美食：刀削面、烧麦、过油肉、羊杂碎、头脑。刀削面是山西最著名的传统面食之一，口感筋道，汤汁鲜美；烧麦则是以猪肉、虾仁等为馅料，外皮薄而透明，味道鲜美；过油肉是以猪肉为主料，搭配葱、姜、蒜等调料烹制而成，外酥里嫩；羊杂碎则是将羊肉和羊内脏等食材煮熟后切片，再用辣椒油、花椒油等调料拌匀；头脑则是一种由豆腐、木耳、鸡蛋等多种食材组成的热菜，口感丰富。'"
      ]
     },
     "execution_count": 65,
     "metadata": {},
     "output_type": "execute_result"
    }
   ],
   "source": [
    "chain1.invoke(input=dict(num=5, location=\"山西\"))"
   ]
  },
  {
   "cell_type": "code",
   "execution_count": 69,
   "id": "824f0b06-b7a5-4437-9b5d-e3f76da7b9f6",
   "metadata": {},
   "outputs": [],
   "source": [
    "chain2 = prompt | llm | output_parser"
   ]
  },
  {
   "cell_type": "code",
   "execution_count": 70,
   "id": "72f34680-65e5-44ad-a5e1-e1429afe44c9",
   "metadata": {},
   "outputs": [
    {
     "data": {
      "text/plain": [
       "['好的，这里有五种著名的山西美食：刀削面、烧麦、过油肉、羊杂碎、头脑。刀削面是山西最著名的传统面食之一，口感筋道；烧麦则是用面粉包裹着肉馅蒸制而成，外皮酥脆；过油肉是一道以猪肉为主料的传统菜肴，肉质鲜美；羊杂碎则是一种以羊肉和内脏为原料的炖菜，汤汁浓郁；头脑是一种以豆腐、豆芽等蔬菜为原料的传统炖菜，口感清爽。']"
      ]
     },
     "execution_count": 70,
     "metadata": {},
     "output_type": "execute_result"
    }
   ],
   "source": [
    "chain2.invoke(input=dict(num=5, location=\"山西\"))"
   ]
  },
  {
   "cell_type": "code",
   "execution_count": 72,
   "id": "ff81bc3b-4e3c-4d18-b329-5b439b475437",
   "metadata": {},
   "outputs": [
    {
     "data": {
      "text/plain": [
       "'Your response should be a list of comma separated values, eg: `foo, bar, baz` or `foo,bar,baz`'"
      ]
     },
     "execution_count": 72,
     "metadata": {},
     "output_type": "execute_result"
    }
   ],
   "source": [
    "output_parser.get_format_instructions()"
   ]
  },
  {
   "cell_type": "code",
   "execution_count": 75,
   "id": "37be4b7a-3905-4d05-83e0-52fada4a33aa",
   "metadata": {},
   "outputs": [],
   "source": [
    "prompt = PromptTemplate.from_template(template=\"请列出{num}本值得一读的{type}书！\\n{format}\",\n",
    "                                     partial_variables={\"format\": output_parser.get_format_instructions()})"
   ]
  },
  {
   "cell_type": "code",
   "execution_count": 76,
   "id": "c779818f-6e09-4cb9-b10c-27c477254a45",
   "metadata": {},
   "outputs": [
    {
     "data": {
      "text/plain": [
       "PromptTemplate(input_variables=['num', 'type'], partial_variables={'format': 'Your response should be a list of comma separated values, eg: `foo, bar, baz` or `foo,bar,baz`'}, template='请列出{num}本值得一读的{type}书！\\n{format}')"
      ]
     },
     "execution_count": 76,
     "metadata": {},
     "output_type": "execute_result"
    }
   ],
   "source": [
    "prompt"
   ]
  },
  {
   "cell_type": "code",
   "execution_count": 85,
   "id": "ac76c42e-aee1-4568-805e-48d7cd97d7cf",
   "metadata": {},
   "outputs": [],
   "source": [
    "prompt = PromptTemplate.from_template(template=\"请列出{num}本值得一读的{type}书！\\n你的返回应当是用逗号分开的一系列的值，比如： `苹果, 桃, 梨` 或者 `苹果,桃,梨`\")"
   ]
  },
  {
   "cell_type": "code",
   "execution_count": 86,
   "id": "0ed3a1a5-6018-46c9-94fd-bbb5271fd1cb",
   "metadata": {},
   "outputs": [
    {
     "data": {
      "text/plain": [
       "PromptTemplate(input_variables=['num', 'type'], template='请列出{num}本值得一读的{type}书！\\n你的返回应当是用逗号分开的一系列的值，比如： `苹果, 桃, 梨` 或者 `苹果,桃,梨`')"
      ]
     },
     "execution_count": 86,
     "metadata": {},
     "output_type": "execute_result"
    }
   ],
   "source": [
    "prompt"
   ]
  },
  {
   "cell_type": "code",
   "execution_count": 87,
   "id": "ff5ae569-35bd-4d0b-982b-0bcdacc727a0",
   "metadata": {},
   "outputs": [],
   "source": [
    "chain = prompt | llm"
   ]
  },
  {
   "cell_type": "code",
   "execution_count": 92,
   "id": "c6e2fc82-8394-4c22-9845-8497671f957d",
   "metadata": {},
   "outputs": [],
   "source": [
    "result = chain.invoke(input={\"num\":2, \"type\":\"爱情\"})"
   ]
  },
  {
   "cell_type": "code",
   "execution_count": 93,
   "id": "362b7c6a-9905-4b9c-ab71-05f1a071d286",
   "metadata": {},
   "outputs": [
    {
     "data": {
      "text/plain": [
       "['梦里花落知多少', '一瞬的永恒']"
      ]
     },
     "execution_count": 93,
     "metadata": {},
     "output_type": "execute_result"
    }
   ],
   "source": [
    "output_parser.parse(result)"
   ]
  },
  {
   "cell_type": "code",
   "execution_count": 95,
   "id": "38f4d077-cd4f-4c56-9cd8-d0f34f634caf",
   "metadata": {},
   "outputs": [],
   "source": [
    "def get_result(num, category):\n",
    "    question = f\"请列出{num}种值得一读的{category}书。\\n你的返回应当是用逗号分开的一系列的值，比如： `苹果, 桃, 梨` 或者 `苹果,桃,梨`\"\n",
    "    result = llm.invoke(input=question)\n",
    "    return result"
   ]
  },
  {
   "cell_type": "code",
   "execution_count": 96,
   "id": "3d3f566b-36f8-4b6d-853a-17a22674f7a1",
   "metadata": {},
   "outputs": [
    {
     "data": {
      "text/plain": [
       "'斐波那契数列,黎曼猜想,数学之美'"
      ]
     },
     "execution_count": 96,
     "metadata": {},
     "output_type": "execute_result"
    }
   ],
   "source": [
    "get_result(num=3, category=\"数学\")"
   ]
  },
  {
   "cell_type": "code",
   "execution_count": 99,
   "id": "59f84216-0679-4716-b024-9d42319a1dd4",
   "metadata": {},
   "outputs": [],
   "source": [
    "prompt = PromptTemplate(template=\"请讲{num}个关于{item}的冷笑话！\")"
   ]
  },
  {
   "cell_type": "code",
   "execution_count": 100,
   "id": "2d8b753b-4b4b-4dcb-8759-af5e5d80a6ec",
   "metadata": {},
   "outputs": [
    {
     "data": {
      "text/plain": [
       "PromptTemplate(input_variables=['item', 'num'], template='请讲{num}个关于{item}的冷笑话！')"
      ]
     },
     "execution_count": 100,
     "metadata": {},
     "output_type": "execute_result"
    }
   ],
   "source": [
    "prompt"
   ]
  },
  {
   "cell_type": "code",
   "execution_count": 102,
   "id": "93eea007-74a9-40e6-a7cc-5c5d35207f51",
   "metadata": {},
   "outputs": [],
   "source": [
    "prompt1 = prompt.partial(item=\"汽车\")"
   ]
  },
  {
   "cell_type": "code",
   "execution_count": 103,
   "id": "239921d8-70a4-4616-ad7b-73788827599e",
   "metadata": {},
   "outputs": [
    {
     "data": {
      "text/plain": [
       "StringPromptValue(text='请讲3个关于汽车的冷笑话！')"
      ]
     },
     "execution_count": 103,
     "metadata": {},
     "output_type": "execute_result"
    }
   ],
   "source": [
    "prompt1.invoke(input={\"num\":3})"
   ]
  },
  {
   "cell_type": "code",
   "execution_count": 104,
   "id": "b6f7de0f-e525-421c-96fc-37d063d86bb6",
   "metadata": {},
   "outputs": [
    {
     "data": {
      "text/plain": [
       "'当然可以，接下来是三个关于汽车的冷笑话：\\n\\n1. 为什么汽车经常去参加同学聚会？\\n   因为它想展示一下自己的马力。\\n\\n2. 你知道汽车最怕什么科目吗？\\n   是地理课，因为它们总是担心会迷路。\\n\\n3. 为什么汽车不喜欢吃快餐？\\n   因为它们害怕变成“油”腻的家伙。\\n\\n希望这些笑话能给你带来一丝欢笑！'"
      ]
     },
     "execution_count": 104,
     "metadata": {},
     "output_type": "execute_result"
    }
   ],
   "source": [
    "llm.invoke(prompt1.invoke(input={\"num\":3}))"
   ]
  },
  {
   "cell_type": "markdown",
   "id": "c94bc3a3-d98c-43f2-9d12-83f0b131b414",
   "metadata": {},
   "source": [
    "### FewShotPromptTemplate\n",
    "- 少样本学习\n",
    "- 大模型\"能力涌现\"的典型代表\n",
    "- 大模型本身没有在这个方向上做大量的训练，但是，可以通过我给定的几个少数的例子，学到背后的知识，从而快速处理相关的问题\n",
    "- 你给大模型打个样，然后大模型就可以照猫画虎来解决相关的问题！！！"
   ]
  },
  {
   "cell_type": "code",
   "execution_count": 153,
   "id": "2a6cfad7-7612-4eca-9d3d-a094d8b56a1e",
   "metadata": {},
   "outputs": [],
   "source": [
    "from langchain_core.prompts import PromptTemplate\n",
    "from langchain_core.prompts import FewShotPromptTemplate"
   ]
  },
  {
   "cell_type": "code",
   "execution_count": 154,
   "id": "a8309e11-57bd-40c9-aca8-7d8a4e82ad72",
   "metadata": {},
   "outputs": [],
   "source": [
    "# 首先，构建一个样例的模板\n",
    "example_prompt = PromptTemplate.from_template(template=\"输入：{in}\\n输出：{out}\")"
   ]
  },
  {
   "cell_type": "code",
   "execution_count": 155,
   "id": "4f7fd9fb-b0d4-4a03-8536-5854e27e430b",
   "metadata": {},
   "outputs": [
    {
     "data": {
      "text/plain": [
       "PromptTemplate(input_variables=['in', 'out'], template='输入：{in}\\n输出：{out}')"
      ]
     },
     "execution_count": 155,
     "metadata": {},
     "output_type": "execute_result"
    }
   ],
   "source": [
    "example_prompt"
   ]
  },
  {
   "cell_type": "code",
   "execution_count": 156,
   "id": "97da4026-2f0d-48a5-b2cb-5a0fa16d294c",
   "metadata": {},
   "outputs": [],
   "source": [
    "examples = [\n",
    "    {\"in\": \"深圳\", \"out\":\"华南\"},\n",
    "    {\"in\": \"阳泉\", \"out\":\"华北\"},\n",
    "    {\"in\": \"锦州\", \"out\":\"东北\"},\n",
    "    {\"in\": \"酒泉\", \"out\":\"西北\"}\n",
    "]"
   ]
  },
  {
   "cell_type": "code",
   "execution_count": 157,
   "id": "24fb58b1-38a2-46e0-b575-cf4095a0469c",
   "metadata": {},
   "outputs": [],
   "source": [
    "prompt = FewShotPromptTemplate(example_prompt=example_prompt, \n",
    "                               examples=examples,\n",
    "                               prefix='请学习我给定的样例，并据此回答我提出的问题：\\n\"\"\"',\n",
    "                               suffix='\"\"\"\\n输入：{input}\\n输出：')"
   ]
  },
  {
   "cell_type": "code",
   "execution_count": 161,
   "id": "624c2212-1599-4a62-b715-568ac8342218",
   "metadata": {},
   "outputs": [],
   "source": [
    "# result= prompt.invoke(input={\"input\": \"大庆\"})"
   ]
  },
  {
   "cell_type": "code",
   "execution_count": 165,
   "id": "d2b611c3-9e11-44f0-9961-99dc4ac8de7e",
   "metadata": {},
   "outputs": [
    {
     "name": "stdout",
     "output_type": "stream",
     "text": [
      "请学习我给定的样例，并据此回答我提出的问题：\n",
      "\"\"\"\n",
      "\n",
      "输入：深圳\n",
      "输出：华南\n",
      "\n",
      "输入：阳泉\n",
      "输出：华北\n",
      "\n",
      "输入：锦州\n",
      "输出：东北\n",
      "\n",
      "输入：酒泉\n",
      "输出：西北\n",
      "\n",
      "\"\"\"\n",
      "输入：大庆\n",
      "输出：\n"
     ]
    }
   ],
   "source": [
    "print(result.text)"
   ]
  },
  {
   "cell_type": "code",
   "execution_count": 163,
   "id": "38681dcd-30fd-4a2f-9c36-847fc7bea22a",
   "metadata": {},
   "outputs": [],
   "source": [
    "chain = prompt | llm"
   ]
  },
  {
   "cell_type": "code",
   "execution_count": 164,
   "id": "cdc2367c-80f5-4caf-bbe4-04e624dcae72",
   "metadata": {},
   "outputs": [
    {
     "data": {
      "text/plain": [
       "'华东\\n\\n根据提供的样例信息，可以推断这里指的是中国的地理区域。\"绍兴\"位于中国的东部地区，因此归类于“华东”。'"
      ]
     },
     "execution_count": 164,
     "metadata": {},
     "output_type": "execute_result"
    }
   ],
   "source": [
    "chain.invoke(input={\"input\": \"绍兴\"})"
   ]
  },
  {
   "cell_type": "code",
   "execution_count": 167,
   "id": "6f19f98e-16ff-4f7d-a38b-03206f7b3cb0",
   "metadata": {},
   "outputs": [
    {
     "data": {
      "text/plain": [
       "'东北\\n\\n根据给定的样例，我们可以看出输入的地名对应着中国的不同地理区域。大庆位于中国东北地区，因此输出应为“东北”。'"
      ]
     },
     "execution_count": 167,
     "metadata": {},
     "output_type": "execute_result"
    }
   ],
   "source": [
    "llm.invoke(result.text)"
   ]
  },
  {
   "cell_type": "markdown",
   "id": "76d9fbbd-fe12-46cf-b875-aea10b7c10c8",
   "metadata": {},
   "source": [
    "### PipelinePromptTemplate"
   ]
  },
  {
   "cell_type": "code",
   "execution_count": 168,
   "id": "26458dca-fb79-4386-865f-311516ff1013",
   "metadata": {},
   "outputs": [],
   "source": [
    "from langchain_core.prompts import PromptTemplate\n",
    "from langchain_core.prompts import PipelinePromptTemplate"
   ]
  },
  {
   "cell_type": "code",
   "execution_count": 169,
   "id": "913b4b76-f9c1-4612-98df-12532aae9d74",
   "metadata": {},
   "outputs": [],
   "source": [
    "full_template = '''\n",
    "{expect}\n",
    "{example}\n",
    "{question}\n",
    "'''"
   ]
  },
  {
   "cell_type": "code",
   "execution_count": 170,
   "id": "9823d9d8-c1cb-41bd-bf35-76bd1ed73190",
   "metadata": {},
   "outputs": [],
   "source": [
    "full_prompt = PromptTemplate.from_template(template=full_template)"
   ]
  },
  {
   "cell_type": "code",
   "execution_count": 171,
   "id": "6c7d2728-722f-42ed-b06d-4c174b03270e",
   "metadata": {},
   "outputs": [
    {
     "data": {
      "text/plain": [
       "PromptTemplate(input_variables=['example', 'expect', 'question'], template='\\n{expect}\\n{example}\\n{question}\\n')"
      ]
     },
     "execution_count": 171,
     "metadata": {},
     "output_type": "execute_result"
    }
   ],
   "source": [
    "full_prompt"
   ]
  },
  {
   "cell_type": "code",
   "execution_count": 177,
   "id": "8f32a7f7-bbc1-4076-af1c-5a3faf4ee5ab",
   "metadata": {},
   "outputs": [],
   "source": [
    "# prefix\n",
    "expect_prompt = PromptTemplate.from_template(template='请学习我给定的样例，并据此回答我提出的问题：\\n\"\"\"')"
   ]
  },
  {
   "cell_type": "code",
   "execution_count": 178,
   "id": "45986dd0-fd00-4e51-91f9-3aab69d9a4a5",
   "metadata": {},
   "outputs": [],
   "source": [
    "example_prompt = PromptTemplate.from_template(template=\"\"\"\n",
    "输入：深圳\n",
    "输出：华南\n",
    "\n",
    "输入：阳泉\n",
    "输出：华北\n",
    "\n",
    "输入：锦州\n",
    "输出：东北\n",
    "\n",
    "输入：酒泉\n",
    "输出：西北\n",
    "\"\"\")"
   ]
  },
  {
   "cell_type": "code",
   "execution_count": 190,
   "id": "0d2672ee-1742-4038-ad07-0de25c7ae34b",
   "metadata": {},
   "outputs": [],
   "source": [
    "question_prompt = PromptTemplate.from_template(template='\"\"\"\\n输入：{in}\\n输出：')"
   ]
  },
  {
   "cell_type": "code",
   "execution_count": 191,
   "id": "a430f875-9f18-4aba-a026-a4d329f4db98",
   "metadata": {},
   "outputs": [],
   "source": [
    "# List[Tuple[str, langchain_core.prompts.base.BasePromptTemplate]]\n",
    "pipeline_prompts = [(\"expect\", expect_prompt), \n",
    "                    (\"example\", example_prompt),\n",
    "                    (\"question\", question_prompt)]"
   ]
  },
  {
   "cell_type": "code",
   "execution_count": 192,
   "id": "44a7da86-50f8-4235-8a40-d958573f2bfc",
   "metadata": {},
   "outputs": [],
   "source": [
    "prompt = PipelinePromptTemplate(final_prompt=full_prompt,\n",
    "                      pipeline_prompts=pipeline_prompts)"
   ]
  },
  {
   "cell_type": "code",
   "execution_count": 193,
   "id": "f4ddb330-fa65-4083-aef5-963de5af4844",
   "metadata": {},
   "outputs": [
    {
     "data": {
      "text/plain": [
       "PipelinePromptTemplate(input_variables=['in'], final_prompt=PromptTemplate(input_variables=['example', 'expect', 'question'], template='\\n{expect}\\n{example}\\n{question}\\n'), pipeline_prompts=[('expect', PromptTemplate(input_variables=[], template='请学习我给定的样例，并据此回答我提出的问题：\\n\"\"\"')), ('example', PromptTemplate(input_variables=[], template='\\n输入：深圳\\n输出：华南\\n\\n输入：阳泉\\n输出：华北\\n\\n输入：锦州\\n输出：东北\\n\\n输入：酒泉\\n输出：西北\\n')), ('question', PromptTemplate(input_variables=['in'], template='\"\"\"\\n输入：{in}\\n输出：'))])"
      ]
     },
     "execution_count": 193,
     "metadata": {},
     "output_type": "execute_result"
    }
   ],
   "source": [
    "prompt"
   ]
  },
  {
   "cell_type": "code",
   "execution_count": 194,
   "id": "75dbf8aa-99a9-48fa-9ff0-3d88bfdb5f09",
   "metadata": {},
   "outputs": [
    {
     "name": "stdout",
     "output_type": "stream",
     "text": [
      "\n",
      "请学习我给定的样例，并据此回答我提出的问题：\n",
      "\"\"\"\n",
      "\n",
      "输入：深圳\n",
      "输出：华南\n",
      "\n",
      "输入：阳泉\n",
      "输出：华北\n",
      "\n",
      "输入：锦州\n",
      "输出：东北\n",
      "\n",
      "输入：酒泉\n",
      "输出：西北\n",
      "\n",
      "\"\"\"\n",
      "输入：大理\n",
      "输出：\n",
      "\n"
     ]
    }
   ],
   "source": [
    "print(prompt.invoke(input={\"in\":\"大理\"}).text)"
   ]
  },
  {
   "cell_type": "code",
   "execution_count": 197,
   "id": "db8fa2ef-15b1-446b-89a4-f8a800fe4ed6",
   "metadata": {},
   "outputs": [
    {
     "data": {
      "text/plain": [
       "'华南\\n\\n根据提供的样例，可以推断出这些输入的地名与其所在的中国大地理区域相对应。\"三亚\"位于中国的海南省，因此它属于“华南”地区。'"
      ]
     },
     "execution_count": 197,
     "metadata": {},
     "output_type": "execute_result"
    }
   ],
   "source": [
    "llm.invoke(prompt.invoke(input={\"in\":\"三亚\"}).text)"
   ]
  },
  {
   "cell_type": "code",
   "execution_count": null,
   "id": "92c9f901-7300-4448-a073-5be1c96c52a6",
   "metadata": {},
   "outputs": [],
   "source": []
  }
 ],
 "metadata": {
  "kernelspec": {
   "display_name": "Python 3 (ipykernel)",
   "language": "python",
   "name": "python3"
  },
  "language_info": {
   "codemirror_mode": {
    "name": "ipython",
    "version": 3
   },
   "file_extension": ".py",
   "mimetype": "text/x-python",
   "name": "python",
   "nbconvert_exporter": "python",
   "pygments_lexer": "ipython3",
   "version": "3.12.4"
  }
 },
 "nbformat": 4,
 "nbformat_minor": 5
}
