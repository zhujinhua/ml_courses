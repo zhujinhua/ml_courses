{
 "cells": [
  {
   "cell_type": "code",
   "execution_count": 1,
   "metadata": {
    "ExecuteTime": {
     "end_time": "2024-06-05T10:03:18.011541Z",
     "start_time": "2024-06-05T10:03:17.209794Z"
    }
   },
   "outputs": [
    {
     "name": "stderr",
     "output_type": "stream",
     "text": [
      "INFO:root:{' >50K', ' <=50K'}\n"
     ]
    }
   ],
   "source": [
    "import pandas as pd\n",
    "import logging\n",
    "from sklearn.compose import ColumnTransformer\n",
    "from sklearn.decomposition import PCA, TruncatedSVD\n",
    "from sklearn.ensemble import RandomForestClassifier\n",
    "from sklearn.linear_model import LogisticRegression\n",
    "from sklearn.model_selection import train_test_split\n",
    "from sklearn.preprocessing import OneHotEncoder, StandardScaler\n",
    "\n",
    "\n",
    "def get_column_transformer(encoded_columns_name):\n",
    "    return ColumnTransformer([('encoder', OneHotEncoder(drop='first'), encoded_columns_name)], remainder='passthrough')\n",
    "\n",
    "\n",
    "logging.basicConfig(level=logging.INFO)\n",
    "ENCODER_COLUMNS = ['workclass', 'education', 'marital-status', 'occupation',\n",
    "                   'relationship', 'race', 'sex', 'native-country']\n",
    "salary_df = pd.read_csv('成人收入预测数据集.csv')\n",
    "trim_columns = [col.replace(' ', '') for col in salary_df.columns]\n",
    "salary_df = salary_df.set_axis(trim_columns, axis=1)\n",
    "\n",
    "# skip fnlwgt\n",
    "use_columns = [col for col in salary_df.columns if col not in ('fnlwgt', 'salary')]\n",
    "logging.info(set(salary_df.loc[:, 'salary']))\n",
    "X_train, X_test, y_train, y_test = train_test_split(salary_df.loc[:, use_columns], salary_df.loc[:, 'salary'], test_size=0.2, random_state=42)"
   ]
  },
  {
   "cell_type": "code",
   "execution_count": 2,
   "metadata": {
    "ExecuteTime": {
     "end_time": "2024-06-05T10:03:18.196216Z",
     "start_time": "2024-06-05T10:03:18.020806Z"
    }
   },
   "outputs": [
    {
     "name": "stderr",
     "output_type": "stream",
     "text": [
      "INFO:root:Accuracy: 0.858\n"
     ]
    }
   ],
   "source": [
    "from sklearn.pipeline import Pipeline\n",
    "pipeline = Pipeline([\n",
    "            ('Preprocess', get_column_transformer(ENCODER_COLUMNS)),\n",
    "            ('Standardization', StandardScaler(with_mean=False)),\n",
    "            # ('SVD', TruncatedSVD(n_components=90)),\n",
    "            ('Estimator', LogisticRegression(max_iter=10000, random_state=42))\n",
    "        ])\n",
    "pipeline.fit(X_train, y_train)\n",
    "y_pred = pipeline.predict(X_test)\n",
    "# feature_importance = pipeline.named_steps['Estimator'].feature_importances_\n",
    "# logging.info(f'Feature Importance: {feature_importance}')\n",
    "logging.info(f'Accuracy: {round((y_pred == y_test).mean(), 3)}')"
   ]
  },
  {
   "cell_type": "code",
   "execution_count": null,
   "metadata": {
    "ExecuteTime": {
     "end_time": "2024-06-05T10:03:18.198101Z",
     "start_time": "2024-06-05T10:03:18.196642Z"
    }
   },
   "outputs": [],
   "source": []
  }
 ],
 "metadata": {
  "kernelspec": {
   "display_name": "Python 3 (ipykernel)",
   "language": "python",
   "name": "python3"
  },
  "language_info": {
   "codemirror_mode": {
    "name": "ipython",
    "version": 3
   },
   "file_extension": ".py",
   "mimetype": "text/x-python",
   "name": "python",
   "nbconvert_exporter": "python",
   "pygments_lexer": "ipython3",
   "version": "3.8.18"
  }
 },
 "nbformat": 4,
 "nbformat_minor": 4
}
