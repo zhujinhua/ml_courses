{
 "cells": [
  {
   "cell_type": "markdown",
   "id": "825a7bf5-4e65-4c97-be56-b7048aedb8c8",
   "metadata": {},
   "source": [
    "### 1. 引入大模型"
   ]
  },
  {
   "cell_type": "code",
   "execution_count": 1,
   "id": "1eaf475a-3f33-4edd-aa17-2407abb4a0c3",
   "metadata": {},
   "outputs": [],
   "source": [
    "from utils import get_qwen_models"
   ]
  },
  {
   "cell_type": "code",
   "execution_count": 2,
   "id": "bb2ba250-0599-4be6-95d6-0e1b97841e58",
   "metadata": {},
   "outputs": [],
   "source": [
    "llm, chat, embed = get_qwen_models()"
   ]
  },
  {
   "cell_type": "markdown",
   "id": "0abe39d3-5b93-424c-ad8f-4c16998aa3e2",
   "metadata": {},
   "source": [
    "### 2. 引入各种文档加载器\n",
    "- 传入相关参数，实例化加载器\n",
    "- 调用 load 方法， 真正去加载内容\n",
    "- 注意：返回一个包含 Document 对象的列表"
   ]
  },
  {
   "cell_type": "code",
   "execution_count": 3,
   "id": "5f68b98f-d50f-4a68-ba8e-c797661da7c9",
   "metadata": {},
   "outputs": [
    {
     "name": "stderr",
     "output_type": "stream",
     "text": [
      "USER_AGENT environment variable not set, consider setting it to identify your requests.\n"
     ]
    }
   ],
   "source": [
    "from langchain_community.document_loaders import CSVLoader\n",
    "from langchain_community.document_loaders import TextLoader\n",
    "from langchain_community.document_loaders import UnstructuredURLLoader\n",
    "from langchain_community.document_loaders import UnstructuredHTMLLoader\n",
    "from langchain_community.document_loaders import WebBaseLoader\n",
    "from langchain_community.document_loaders import PyMuPDFLoader\n",
    "from langchain_community.document_loaders import UnstructuredExcelLoader\n",
    "from langchain_community.document_loaders import UnstructuredPowerPointLoader\n",
    "from langchain_community.document_loaders import UnstructuredWordDocumentLoader"
   ]
  },
  {
   "cell_type": "code",
   "execution_count": 4,
   "id": "a462e710-234c-4c75-81c9-95bb871d77fd",
   "metadata": {},
   "outputs": [],
   "source": [
    "students_loader = CSVLoader(file_path=\"students.csv\")"
   ]
  },
  {
   "cell_type": "code",
   "execution_count": 5,
   "id": "4f92f5c9-4f38-4a85-85de-5a4fd23a6929",
   "metadata": {},
   "outputs": [],
   "source": [
    "docs = students_loader.load()"
   ]
  },
  {
   "cell_type": "code",
   "execution_count": 6,
   "id": "c948c798-2b3f-4819-9214-bfa48545683a",
   "metadata": {},
   "outputs": [
    {
     "data": {
      "text/plain": [
       "[Document(metadata={'source': 'students.csv', 'row': 0}, page_content='name: Tom\\nage: 12\\nscore: 77'),\n",
       " Document(metadata={'source': 'students.csv', 'row': 1}, page_content='name: Jerry\\nage: 11\\nscore: 88'),\n",
       " Document(metadata={'source': 'students.csv', 'row': 2}, page_content='name: Jim\\nage: 12\\nscore: 96')]"
      ]
     },
     "execution_count": 6,
     "metadata": {},
     "output_type": "execute_result"
    }
   ],
   "source": [
    "docs"
   ]
  },
  {
   "cell_type": "code",
   "execution_count": 7,
   "id": "91cb8965-62b7-4b6f-84a7-dbe207999451",
   "metadata": {},
   "outputs": [],
   "source": [
    "\"\"\"\n",
    "    RAG系统\n",
    "\"\"\"\n",
    "from langchain_core.output_parsers import StrOutputParser\n",
    "# 可执行的占位符\n",
    "from langchain_core.runnables import RunnablePassthrough\n",
    "\n",
    "# 递归式 字符级 文本 切分器\n",
    "\"\"\"\n",
    "    chunk_size: 建议段落大小\n",
    "\"\"\"\n",
    "# text_splitter = RecursiveCharacterTextSplitter(chunk_size=500, chunk_overlap=200)\n",
    "# splits = text_splitter.split_documents(docs)\n",
    "\n",
    "# 底层存储使用的 SQLite，没有指定存储位置的话，则在内存中建立临时库\n",
    "from langchain_chroma import Chroma\n",
    "vectorstore = Chroma.from_documents(documents=docs, embedding=embed)\n",
    "\n",
    "# 把向量操作封装为一个基本检索器\n",
    "retriever = vectorstore.as_retriever(search_kwargs={\"k\": 2})\n",
    "\n",
    "from langchain_core.prompts import ChatPromptTemplate\n",
    "\n",
    "# RAG系统经典的 Prompt (A 增强的过程)\n",
    "prompt = ChatPromptTemplate.from_messages([\n",
    "  (\"human\", \"\"\"You are an assistant for question-answering tasks. \n",
    "Use the following pieces of retrieved context to answer the question. \n",
    "If you don't know the answer, just say that you don't know. \n",
    "Use three sentences maximum and keep the answer concise.\n",
    "Question: {question} \n",
    "Context: {context} \n",
    "Answer:\"\"\")\n",
    "])\n",
    "\n",
    "# 把检索到的4条上下文的文本使用 \\n\\n 练成一个大的字符串\n",
    "def format_docs(docs):\n",
    "    return \"\\n\\n\".join(doc.page_content for doc in docs)\n",
    "\n",
    "# RAG 链\n",
    "rag_chain = (\n",
    "    {\"context\": retriever | format_docs, \n",
    "     \"question\": RunnablePassthrough()}\n",
    "    | prompt\n",
    "    | chat\n",
    "    | StrOutputParser()\n",
    ")"
   ]
  },
  {
   "cell_type": "code",
   "execution_count": 8,
   "id": "2716169b-5662-4014-9e70-d82838e1a230",
   "metadata": {},
   "outputs": [
    {
     "data": {
      "text/plain": [
       "'无法计算平均分，因为只有Tom和Jerry两个人的成绩，需要全班或更多人的成绩来计算平均分。'"
      ]
     },
     "execution_count": 8,
     "metadata": {},
     "output_type": "execute_result"
    }
   ],
   "source": [
    "rag_chain.invoke(input=\"平均分是多少？\")"
   ]
  },
  {
   "cell_type": "code",
   "execution_count": 9,
   "id": "1f7c8dca-3e25-4084-aa8d-9bf3f8622f7b",
   "metadata": {},
   "outputs": [
    {
     "data": {
      "text/plain": [
       "[Document(metadata={'row': 1, 'source': 'students.csv'}, page_content='name: Jerry\\nage: 11\\nscore: 88'),\n",
       " Document(metadata={'row': 0, 'source': 'students.csv'}, page_content='name: Tom\\nage: 12\\nscore: 77')]"
      ]
     },
     "execution_count": 9,
     "metadata": {},
     "output_type": "execute_result"
    }
   ],
   "source": [
    "retriever.invoke(input=\"谁的成绩最高？\")"
   ]
  },
  {
   "cell_type": "code",
   "execution_count": 19,
   "id": "6e86ef4d-96db-4d42-95e0-d7ba25c5019b",
   "metadata": {},
   "outputs": [],
   "source": [
    "txt_loader = TextLoader(file_path=\"大语言模型.txt\", encoding=\"utf8\")"
   ]
  },
  {
   "cell_type": "code",
   "execution_count": 20,
   "id": "a35fa566-c521-4ebf-a7ae-c7674bde3da0",
   "metadata": {},
   "outputs": [],
   "source": [
    "docs = txt_loader.load()"
   ]
  },
  {
   "cell_type": "code",
   "execution_count": 29,
   "id": "63baf7d7-cc63-4576-835e-57fb0e15c86c",
   "metadata": {},
   "outputs": [],
   "source": [
    "html_file = \"中共中央政治局常务委员会召开会议 研究部署防汛抗洪救灾工作 中共中央总书记习近平主持会议__中国政府网.html\""
   ]
  },
  {
   "cell_type": "code",
   "execution_count": 53,
   "id": "ac7343d6-e2b9-4886-bad5-0d9603c10081",
   "metadata": {},
   "outputs": [],
   "source": [
    "html_loader = UnstructuredHTMLLoader(file_path=html_file, mode=\"single\")"
   ]
  },
  {
   "cell_type": "code",
   "execution_count": 54,
   "id": "a5829ce5-cf4b-4dff-8705-23d2a613b0c7",
   "metadata": {},
   "outputs": [],
   "source": [
    "docs = html_loader.load()"
   ]
  },
  {
   "cell_type": "code",
   "execution_count": 60,
   "id": "ad898bd7-be2a-4733-921a-9c2869834fae",
   "metadata": {},
   "outputs": [],
   "source": [
    "# Load HTML pages using `urllib` and parse them with `BeautifulSoup'.\n",
    "web_loader = WebBaseLoader(web_path=\"https://www.gov.cn/yaowen/liebiao/202407/content_6964426.htm\")"
   ]
  },
  {
   "cell_type": "code",
   "execution_count": 61,
   "id": "1284fd86-4072-490c-9394-5d21dfab0564",
   "metadata": {},
   "outputs": [],
   "source": [
    "docs = web_loader.load()"
   ]
  },
  {
   "cell_type": "code",
   "execution_count": 63,
   "id": "17e525fa-1be1-410a-a18a-7c74303c384d",
   "metadata": {},
   "outputs": [
    {
     "data": {
      "text/plain": [
       "1"
      ]
     },
     "execution_count": 63,
     "metadata": {},
     "output_type": "execute_result"
    }
   ],
   "source": [
    "len(docs)"
   ]
  },
  {
   "cell_type": "code",
   "execution_count": 64,
   "id": "da903614-53eb-49e9-a1aa-7b85dca85022",
   "metadata": {},
   "outputs": [
    {
     "data": {
      "text/plain": [
       "{'source': 'https://www.gov.cn/yaowen/liebiao/202407/content_6964426.htm',\n",
       " 'title': '中共中央政治局常务委员会召开会议\\u2002研究部署防汛抗洪救灾工作\\u2002中共中央总书记习近平主持会议__中国政府网',\n",
       " 'description': '中共中央政治局常务委员会7月25日召开会议，研究部署防汛抗洪救灾工作。中共中央总书记习近平主持会议并发表重要讲话。',\n",
       " 'language': 'No language found.'}"
      ]
     },
     "execution_count": 64,
     "metadata": {},
     "output_type": "execute_result"
    }
   ],
   "source": [
    "docs[0].metadata"
   ]
  },
  {
   "cell_type": "code",
   "execution_count": 66,
   "id": "17fc1d8b-ca16-47f4-878a-7c205603e85a",
   "metadata": {},
   "outputs": [
    {
     "data": {
      "text/plain": [
       "'\\n\\n\\n\\n\\n\\n中共中央政治局常务委员会召开会议\\u2002研究部署防汛抗洪救灾工作\\u2002中共中央总书记习近平主持会议__中国政府网\\n\\n\\n\\n\\n\\n\\n\\n\\n\\n\\n\\n\\n\\n\\n\\n\\n\\n\\n\\n\\n\\n\\n\\n\\n\\n\\n\\n\\n\\n\\n\\n\\n\\n\\n\\n\\n\\n\\n\\n\\n\\n\\n\\n首页\\n|\\n简\\n|\\n繁\\n|\\nEN\\n|\\n登录\\n\\n\\n\\n个人中心\\n退出\\n\\n\\n|\\n邮箱\\n|\\n无障碍\\n\\n\\n\\n\\n\\nEN\\n\\n\\n\\n\\n\\n\\n\\n\\n\\n\\n\\n\\n\\n\\n\\nhttps://www.gov.cn/\\n\\n\\n\\n\\n\\n\\n\\n\\n\\n\\n\\n\\n                中共中央政治局常务委员会召开会议\\u2002研究部署防汛抗洪救灾工作\\u2002中共中央总书记习近平主持会议\\n            \\n\\n                2024-07-25 19:30\\n                来源： \\n                    新华社\\n                \\n\\n字号：默认\\n大\\n超大\\n\\n|\\n打印\\n|\\n\\n\\n\\n\\xa0\\n\\xa0\\n\\xa0\\n\\n\\n\\n\\n\\n中共中央政治局常务委员会召开会议研究部署防汛抗洪救灾工作中共中央总书记习近平主持会议新华社北京7月25日电\\u2002中共中央政治局常务委员会7月25日召开会议，研究部署防汛抗洪救灾工作。中共中央总书记习近平主持会议并发表重要讲话。会议指出，今年我国气候年景偏差，强降雨过程多、历时长，江河洪水发生早、发展快，一些地方反复遭受强降雨冲击，防汛抗洪形势严峻复杂。在以习近平同志为核心的党中央坚强领导下，各级党委和政府迅速行动、全力应对，国家防总、各有关部门和单位履职尽责、通力协作，解放军和武警部队、国家综合性消防救援队伍和各类专业救援力量闻令而动、冲锋在前，广大干部群众风雨同舟、众志成城，共同构筑起了守护家园的坚固防线，防汛抗洪救灾取得重要阶段性成果。会议强调，当前我国正值“七下八上”防汛关键期，长江等流域防洪峰、防决堤、排内涝压力不减，黄河、淮河、海河、松辽流域有可能发生较重汛情，叠加台风进入活跃期，防汛形势更加严峻复杂。各有关地区、部门和单位要始终绷紧防汛抗洪这根弦，牢牢把握工作主动权，坚决打赢防汛抗洪救灾这场硬仗。会议指出，要始终把保障人民生命安全放在第一位，进一步完善监测手段，提高预警精准度，强化预警和应急响应联动，提高响应速度，突出防御重点，盯紧基层末梢，提前果断转移危险区群众，最大限度减少人员伤亡。要确保重要堤防水库和基础设施安全，落实防汛巡查防守制度，突出薄弱堤段、险工险段、病险水库的重点防守，加大查险排险力度，坚决避免大江大河堤防决口、大型和重点中型水库垮坝。要科学调度防洪工程，细化蓄滞洪区运用准备。要针对南水北调、西气东输、公路铁路等重要基础设施，以及城市地下空间、桥涵隧道等重点部位，进一步排查风险隐患，落实应急措施，保障安全运行。会议强调，要全力开展抢险救援救灾，加强统筹部署和超前预置。解放军、武警部队、消防、央企等各方力量，要时刻保持应急状态、听从统一调度，确保快速出动、高效救援。要及时下拨救灾资金、调运救灾物资，加快保险理赔，妥善安置受灾群众，做好群众就医、学生开学等需求保障。要抓紧抢修水利、电力、交通、通信等受损基础设施，组织带领受灾群众恢复生产、重建家园。要扎实做好农业防灾减灾工作，最大程度减少农业损失，保障国家粮食安全。要关心帮助受灾困难群众，防止因灾致贫返贫。要加强应急保障能力建设，提高城市防洪排涝能力，补齐病险水库、中小河流堤防、蓄滞洪区等防洪工程和农田排涝短板，用好自然灾害综合风险普查成果，强化基层应急基础和力量，不断提高全社会综合减灾能力。会议要求，各级党委和政府要认真贯彻落实党中央决策部署，切实担负起促一方发展、保一方平安的政治责任，国家防总要强化统筹协调，各级领导干部要靠前指挥，各有关方面要密切配合，凝聚合力。基层党组织和广大党员干部要充分发挥战斗堡垒和先锋模范作用，在防汛抗洪救灾一线奋勇争先、挺膺担当，全力保障人民群众生命财产安全。会议还研究了其他事项。\\n\\n\\n\\n\\n【我要纠错】责任编辑：王洋\\n\\n\\n\\n\\n相关稿件\\n\\n\\n\\n\\n\\n\\n\\n\\n\\n\\n\\n\\n\\n\\n\\n链接：\\n全国人大\\n|\\n全国政协\\n|\\n国家监察委员会\\n|\\n最高人民法院\\n|\\n最高人民检察院\\n\\n\\n\\n\\n国务院部门网站\\n|\\n地方政府网站\\n|\\n驻港澳机构网站\\n|\\n驻外机构\\n\\n\\n\\n\\n\\n\\n\\n\\n\\n\\n\\n\\n中国政府网\\n|\\n关于本网\\n|\\n网站声明\\n|\\n联系我们\\n|\\n网站纠错\\n\\n\\n主办单位：国务院办公厅\\u3000运行维护单位：中国政府网运行中心 \\n版权所有：中国政府网\\u3000中文域名：中国政府网.政务\\n\\n网站标识码bm01000001\\u3000京ICP备05070218号\\u3000京公网安备11010202000001号\\n\\n\\n\\n\\n\\n\\n国务院客户端\\n\\n\\n国务院客户端小程序\\n\\n\\n\\n\\n中国政府网微博、微信\\n\\n\\n\\n\\n\\n\\n\\n电脑版\\n客户端\\n小程序\\n微博\\n微信\\n邮箱\\n\\n\\n\\n\\n\\n\\n退出\\n注册\\n登录\\n网站纠错\\n\\n\\n\\n\\n主办单位：国务院办公厅\\u3000运行维护单位：中国政府网运行中心\\n版权所有：中国政府网\\u3000中文域名：中国政府网.政务\\n\\n网站标识码bm01000001\\n京ICP备05070218号\\u3000京公网安备11010202000001号\\n\\n\\n\\n\\n\\n\\n\\n中共中央政治局常务委员会召开会议\\u2002研究部署防汛抗洪救灾工作\\u2002中共中央总书记习近平主持会议\\n中共中央政治局常务委员会7月25日召开会议，研究部署防汛抗洪救灾工作。中共中央总书记习近平主持会议并发表重要讲话。\\n\\n\\n\\n\\n\\n\\n\\n\\n\\n\\n\\n\\n\\n\\n\\n'"
      ]
     },
     "execution_count": 66,
     "metadata": {},
     "output_type": "execute_result"
    }
   ],
   "source": [
    "docs[0].page_content"
   ]
  },
  {
   "cell_type": "code",
   "execution_count": 83,
   "id": "9fbdde6a-1851-4ff0-aa09-a5fd97d3a40f",
   "metadata": {},
   "outputs": [],
   "source": [
    "pdf_loader = PyMuPDFLoader(file_path=\"YOLOv9.pdf\")"
   ]
  },
  {
   "cell_type": "code",
   "execution_count": 84,
   "id": "2a2b5cf2-c2ae-4204-83c7-f8ced01ac077",
   "metadata": {},
   "outputs": [],
   "source": [
    "docs = pdf_loader.load()"
   ]
  },
  {
   "cell_type": "code",
   "execution_count": 85,
   "id": "bfa8a413-961d-443b-b677-1e2c6ca02a39",
   "metadata": {},
   "outputs": [
    {
     "data": {
      "text/plain": [
       "18"
      ]
     },
     "execution_count": 85,
     "metadata": {},
     "output_type": "execute_result"
    }
   ],
   "source": [
    "len(docs)"
   ]
  },
  {
   "cell_type": "code",
   "execution_count": 86,
   "id": "65aa2cd4-f893-4ac3-bab3-5a44f1c3b83b",
   "metadata": {},
   "outputs": [
    {
     "data": {
      "text/plain": [
       "{'source': 'YOLOv9.pdf',\n",
       " 'file_path': 'YOLOv9.pdf',\n",
       " 'page': 0,\n",
       " 'total_pages': 18,\n",
       " 'format': 'PDF 1.5',\n",
       " 'title': '',\n",
       " 'author': '',\n",
       " 'subject': '',\n",
       " 'keywords': '',\n",
       " 'creator': 'LaTeX with hyperref',\n",
       " 'producer': 'pdfTeX-1.40.25',\n",
       " 'creationDate': 'D:20240222020837Z',\n",
       " 'modDate': 'D:20240222020837Z',\n",
       " 'trapped': ''}"
      ]
     },
     "execution_count": 86,
     "metadata": {},
     "output_type": "execute_result"
    }
   ],
   "source": [
    "docs[0].metadata"
   ]
  },
  {
   "cell_type": "code",
   "execution_count": 87,
   "id": "a779268c-6648-4030-bd35-398bb1e7fd25",
   "metadata": {},
   "outputs": [
    {
     "name": "stdout",
     "output_type": "stream",
     "text": [
      "Figure 2. Visualization results of random initial weight output feature maps for different network architectures: (a) input image, (b)\n",
      "PlainNet, (c) ResNet, (d) CSPNet, and (e) proposed GELAN. From the figure, we can see that in different architectures, the information\n",
      "provided to the objective function to calculate the loss is lost to varying degrees, and our architecture can retain the most complete\n",
      "information and provide the most reliable gradient information for calculating the objective function.\n",
      "In deep networks, the phenomenon of input data losing\n",
      "information during the feedforward process is commonly\n",
      "known as information bottleneck [59], and its schematic di-\n",
      "agram is as shown in Figure 2. At present, the main meth-\n",
      "ods that can alleviate this phenomenon are as follows: (1)\n",
      "The use of reversible architectures [3, 16, 19]: this method\n",
      "mainly uses repeated input data and maintains the informa-\n",
      "tion of the input data in an explicit way; (2) The use of\n",
      "masked modeling [1, 6, 9, 27, 71, 73]: it mainly uses recon-\n",
      "struction loss and adopts an implicit way to maximize the\n",
      "extracted features and retain the input information; and (3)\n",
      "Introduction of the deep supervision concept [28,51,54,68]:\n",
      "it uses shallow features that have not lost too much impor-\n",
      "tant information to pre-establish a mapping from features\n",
      "to targets to ensure that important information can be trans-\n",
      "ferred to deeper layers. However, the above methods have\n",
      "different drawbacks in the training process and inference\n",
      "process. For example, a reversible architecture requires ad-\n",
      "ditional layers to combine repeatedly fed input data, which\n",
      "will significantly increase the inference cost. In addition,\n",
      "since the input data layer to the output layer cannot have a\n",
      "too deep path, this limitation will make it difficult to model\n",
      "high-order semantic information during the training pro-\n",
      "cess. As for masked modeling, its reconstruction loss some-\n",
      "times conflicts with the target loss. In addition, most mask\n",
      "mechanisms also produce incorrect associations with data.\n",
      "For the deep supervision mechanism, it will produce error\n",
      "accumulation, and if the shallow supervision loses informa-\n",
      "tion during the training process, the subsequent layers will\n",
      "not be able to retrieve the required information. The above\n",
      "phenomenon will be more significant on difficult tasks and\n",
      "small models.\n",
      "To address the above-mentioned issues, we propose a\n",
      "new concept, which is programmable gradient information\n",
      "(PGI). The concept is to generate reliable gradients through\n",
      "auxiliary reversible branch, so that the deep features can\n",
      "still maintain key characteristics for executing target task.\n",
      "The design of auxiliary reversible branch can avoid the se-\n",
      "mantic loss that may be caused by a traditional deep super-\n",
      "vision process that integrates multi-path features. In other\n",
      "words, we are programming gradient information propaga-\n",
      "tion at different semantic levels, and thereby achieving the\n",
      "best training results. The reversible architecture of PGI is\n",
      "built on auxiliary branch, so there is no additional cost.\n",
      "Since PGI can freely select loss function suitable for the\n",
      "target task, it also overcomes the problems encountered by\n",
      "mask modeling. The proposed PGI mechanism can be ap-\n",
      "plied to deep neural networks of various sizes and is more\n",
      "general than the deep supervision mechanism, which is only\n",
      "suitable for very deep neural networks.\n",
      "In this paper, we also designed generalized ELAN\n",
      "(GELAN) based on ELAN [65], the design of GELAN si-\n",
      "multaneously takes into account the number of parameters,\n",
      "computational complexity, accuracy and inference speed.\n",
      "This design allows users to arbitrarily choose appropriate\n",
      "computational blocks for different inference devices. We\n",
      "combined the proposed PGI and GELAN, and then de-\n",
      "signed a new generation of YOLO series object detection\n",
      "system, which we call YOLOv9. We used the MS COCO\n",
      "dataset to conduct experiments, and the experimental results\n",
      "verified that our proposed YOLOv9 achieved the top perfor-\n",
      "mance in all comparisons.\n",
      "We summarize the contributions of this paper as follows:\n",
      "1. We theoretically analyzed the existing deep neural net-\n",
      "work architecture from the perspective of reversible\n",
      "function, and through this process we successfully ex-\n",
      "plained many phenomena that were difficult to explain\n",
      "in the past. We also designed PGI and auxiliary re-\n",
      "versible branch based on this analysis and achieved ex-\n",
      "cellent results.\n",
      "2. The PGI we designed solves the problem that deep su-\n",
      "pervision can only be used for extremely deep neu-\n",
      "ral network architectures, and therefore allows new\n",
      "lightweight architectures to be truly applied in daily\n",
      "life.\n",
      "3. The GELAN we designed only uses conventional con-\n",
      "volution to achieve a higher parameter usage than the\n",
      "depth-wise convolution design that based on the most\n",
      "advanced technology, while showing great advantages\n",
      "of being light, fast, and accurate.\n",
      "4. Combining the proposed PGI and GELAN, the object\n",
      "detection performance of the YOLOv9 on MS COCO\n",
      "dataset greatly surpasses the existing real-time object\n",
      "detectors in all aspects.\n",
      "2\n",
      "\n"
     ]
    }
   ],
   "source": [
    "print(docs[1].page_content)"
   ]
  },
  {
   "cell_type": "code",
   "execution_count": 88,
   "id": "8820c528-0c63-4aae-aadc-ec59b2ef8f75",
   "metadata": {},
   "outputs": [],
   "source": [
    "word_loader = UnstructuredWordDocumentLoader(file_path=\"政府政务和城市治理.docx\", mode=\"single\")"
   ]
  },
  {
   "cell_type": "code",
   "execution_count": 98,
   "id": "71d1daf7-9925-451e-be44-7c6a206b83c8",
   "metadata": {},
   "outputs": [],
   "source": [
    "docs = word_loader.load()"
   ]
  },
  {
   "cell_type": "code",
   "execution_count": 100,
   "id": "2eb971b6-e602-4f50-80a6-110ee5ad34fd",
   "metadata": {},
   "outputs": [
    {
     "data": {
      "text/plain": [
       "1"
      ]
     },
     "execution_count": 100,
     "metadata": {},
     "output_type": "execute_result"
    }
   ],
   "source": [
    "len(docs)"
   ]
  },
  {
   "cell_type": "code",
   "execution_count": 102,
   "id": "536ad5df-fccb-4017-b4fe-55e478094287",
   "metadata": {},
   "outputs": [
    {
     "data": {
      "text/plain": [
       "{'source': '政府政务和城市治理.docx'}"
      ]
     },
     "execution_count": 102,
     "metadata": {},
     "output_type": "execute_result"
    }
   ],
   "source": [
    "docs[0].metadata"
   ]
  },
  {
   "cell_type": "code",
   "execution_count": 104,
   "id": "217d31dc-e7e6-4aa2-96e2-49ba59ee3f88",
   "metadata": {},
   "outputs": [
    {
     "name": "stdout",
     "output_type": "stream",
     "text": [
      "政府政务和城市治理\n",
      "\n",
      "课程大纲\n",
      "\n",
      "课次 模块 知识点 授课方式 第1次课 1，人工智能技术概论 1，人工智能技术流派； 2，计算机视觉核心技术梳理； 3，自然语言处理核心技术梳理； 4，CV大模型技术； 5，NLP大模型； 理论讲解 2，政府政务案例剖析 1，平安校园： 基于现有视频监控系统，植入AI识别算法，检测并追踪校园内的陌生人、学生危险动作（抽烟、打架、跳楼、持危险品等）、学生情绪（情绪亢奋、正常、抑郁）等，并及时上报，作出预警； 2，智慧农业： 将计算机视觉算法和无人机结合在一起，实现无人机巡航，应用于农产品品质检测、作物识别与分级、农副产品出厂质量监测、植物生长监测、病虫害的探测与防治、自动化收获等领域，为精细农业和农业生产自动化奠定了基础； 3，公众安防系统 动态人脸识别技术则通过摄像头等视觉传感设备在视频流中获得动态的多个人脸图像，从数据库中的大量图像中找到相似度最高的人脸图像，用于人群密集场所当中的布控，协助安全部门进行可疑人口排查、逃犯抓捕等情报研判任务； 4，智慧医疗 从国家层面采集足够的医疗影像数据，采用计算机视觉算法对医疗影像进行自动检测、分类与识别，实现了人眼无法企及的高效与精准，为医生提供了重要的临床决策支持，同时对患者来说，实现了不同级别医院的同质化医疗体验； 5，无人机+AI算法助理自然灾害预警 在雨季，采用无人机巡检，对山川，道路，河流，大堤等高危场景进行自动化监控和预警，捕捉潮汐变化，检测水位、水速、水深；评估泄洪方案，预估受灾范围和重建成本； 案例剖析 3，城市治理案例剖析 1，金山AI鑫眼城市监控平台 依托现有的视频监控，并为前端摄像头加入AI算法，可以动态感知城市里的人、车、事物，解决摄像头“看得见”，但“看不懂”的弊端； 2，早晚高峰交通拥堵预测 基于交通信息建立算法模型，精准预测各关键路段在某个时段的车辆平均通行时间，产出旅行时间预测算法，运用大数据手段缓解拥堵毒瘤对城市管理的影响，更好的帮助贵阳交通管理者提前制定管控方案，预防和削减拥堵，实现智慧出行； AIGC驱动城市治理 软通智慧提出\"物联网泛在感知，大数据险合汇聚，大模型理解推理\"的城市治理新范式，构建通用人工智能基础设施，通过AI能填补基层人力的不足，泛化感知提高城市治理效率，Plugin连接城市服务，自然语惠理解和生成给市民服务带来温度，使城市治理精准高效，城市服务方便快捷。 4，城市环境管理 城市环境管理是城市治理领域中的重要方面。通过AI技术，可以实现城市内垃圾的智能分类、垃圾桶的自动摆放等措施，从而实现垃圾分类的智能化和高效化。 5，城市渣土治理 为渣土车安装了北斗设备，通过北斗定位系统和天府星座卫星遥感技术，平台实时监测渣土车位置、速度、轨迹、载重等信息，通过AI大数据模型与工地、消纳场等数据进行对比分析，自动计算渣土运输量和消纳量，及时发现违规行为，为执法人员省去了近千次的渣土运输常规巡查工作量，节省了大量人力和物力 6，“e体+”智慧赋能社会治安防控 赋能社会治安防控体系，利用互联网、大数据、云计算、人工智能、区块链等技术，形成大数据“一张网”、治安防控“一盘棋”为破案打击工作提质增效注入强大动能，成效显著。 人工智能高空抛物识别 采用仰拍摄像头，通过人工智能机器视觉技术能够识别和分析高空抛物过程和轨迹。摄像头检测到高空抛物事件后，将会实时的通过云平台，第一时间通知物业等有关部门，向他们传送高空抛物事件的发生时间、地点，使得相关人员可以及时的救助被害者，挽救生命。还可通过抛物线的回归计算，能够准确的溯源高空抛物发生的楼层和窗户，协助公安机关进行调查取证，找出加害人，免去无辜业主的连带责任。 案例剖析\n",
      "\n",
      "课次 项目 知识点 授课方式 第2次课 1，大洋电机智慧质检平台 1，传统质检的痛点分析； 2，智慧质检的技术难度分析； 3，目标检测算法的比较和选择； 4，成本控制和实施运维策略优化； 案例剖析 2，平安慧眼 1，全域视频监控的架构难点； 2，视频中目标检测算法； 3，视频中实例分割算法； 4，视频中物体追踪算法； 5，海量视频数据的存储和调阅方案； 6，其它环节升级优化策略； 案例剖析 3，高速路无感通行引导综合解决方案 1，移动目标检测的难点分析； 2，视频中车辆检测算法； 3，视频中车牌识别算法； 4，小目标检测优化策略； 5，交通疏导策略优化； 案例剖析 4，前海人口分析 1，多源（运营商）数据的融合； 2，分布式计算平台的选型； 3，统一API网关接口管理； 案例剖析 5，5G 智慧能源管理大数据平台 1，多模态数据融合； 2，中心数据库的设计； 案例剖析 6，白云政数局12345热线智慧办理系统项目 1，数据并发的处理； 2，工单智能分类算法； 3，热点问题挖掘算法； 4，消息转发机制； 案例剖析\n"
     ]
    }
   ],
   "source": [
    "print(docs[0].page_content)"
   ]
  },
  {
   "cell_type": "code",
   "execution_count": 112,
   "id": "76361f46-97b0-4d42-8a58-ff5af755f972",
   "metadata": {},
   "outputs": [],
   "source": [
    "excel_loader = UnstructuredExcelLoader(file_path=\"students.xlsx\", mode=\"elements\")"
   ]
  },
  {
   "cell_type": "code",
   "execution_count": 113,
   "id": "73e8670c-8779-40f7-9260-8621aec94803",
   "metadata": {},
   "outputs": [],
   "source": [
    "docs = excel_loader.load()"
   ]
  },
  {
   "cell_type": "markdown",
   "id": "fe46ab03-023e-4467-bd4a-56260345f096",
   "metadata": {},
   "source": [
    "'<table border=\"1\" class=\"dataframe\">\\n  <tbody>\\n    <tr>\\n      <td>name</td>\\n      <td>age</td>\\n      <td>score</td>\\n    </tr>\\n    <tr>\\n      <td>Tom</td>\\n      <td>12</td>\\n      <td>66</td>\\n    </tr>\\n    <tr>\\n      <td>Jerry</td>\\n      <td>13</td>\\n      <td>77</td>\\n    </tr>\\n    <tr>\\n      <td>Jim</td>\\n      <td>11</td>\\n      <td>88</td>\\n    </tr>\\n  </tbody>\\n</table>'"
   ]
  },
  {
   "cell_type": "code",
   "execution_count": 119,
   "id": "982640ee-c9a6-480c-a97b-cf2334b28705",
   "metadata": {},
   "outputs": [
    {
     "data": {
      "text/plain": [
       "'<table border=\"1\" class=\"dataframe\">\\n  <tbody>\\n    <tr>\\n      <td>name</td>\\n      <td>age</td>\\n      <td>score</td>\\n    </tr>\\n    <tr>\\n      <td>Tom</td>\\n      <td>12</td>\\n      <td>66</td>\\n    </tr>\\n    <tr>\\n      <td>Jerry</td>\\n      <td>13</td>\\n      <td>77</td>\\n    </tr>\\n    <tr>\\n      <td>Jim</td>\\n      <td>11</td>\\n      <td>88</td>\\n    </tr>\\n  </tbody>\\n</table>'"
      ]
     },
     "execution_count": 119,
     "metadata": {},
     "output_type": "execute_result"
    }
   ],
   "source": [
    "docs[0].metadata[\"text_as_html\"]"
   ]
  },
  {
   "cell_type": "code",
   "execution_count": 120,
   "id": "9fb5802b-017c-4e62-8fa6-e514c25af553",
   "metadata": {},
   "outputs": [
    {
     "name": "stdout",
     "output_type": "stream",
     "text": [
      "\n",
      "\n",
      "\n",
      "name\n",
      "age\n",
      "score\n",
      "\n",
      "\n",
      "Tom\n",
      "12\n",
      "66\n",
      "\n",
      "\n",
      "Jerry\n",
      "13\n",
      "77\n",
      "\n",
      "\n",
      "Jim\n",
      "11\n",
      "88\n",
      "\n",
      "\n",
      "\n"
     ]
    }
   ],
   "source": [
    "print(docs[0].page_content)"
   ]
  },
  {
   "cell_type": "code",
   "execution_count": 122,
   "id": "d7fd3bf1-a18b-43a6-8819-f980ca3aca8d",
   "metadata": {},
   "outputs": [],
   "source": [
    "ppt_loader = UnstructuredPowerPointLoader(file_path=\"AIGC-智慧引擎队.pptx\", mode=\"single\")"
   ]
  },
  {
   "cell_type": "code",
   "execution_count": 125,
   "id": "3c0ef837-19c4-49d5-b736-17a72795b6a9",
   "metadata": {},
   "outputs": [],
   "source": [
    "docs = ppt_loader.load()"
   ]
  },
  {
   "cell_type": "code",
   "execution_count": 128,
   "id": "c92375d2-73bf-47e8-b43b-ab020a8b7788",
   "metadata": {},
   "outputs": [
    {
     "data": {
      "text/plain": [
       "{'source': 'AIGC-智慧引擎队.pptx'}"
      ]
     },
     "execution_count": 128,
     "metadata": {},
     "output_type": "execute_result"
    }
   ],
   "source": [
    "docs[0].metadata"
   ]
  },
  {
   "cell_type": "code",
   "execution_count": 130,
   "id": "974fb38b-6352-4da0-9d35-475590a4dfdd",
   "metadata": {},
   "outputs": [
    {
     "name": "stdout",
     "output_type": "stream",
     "text": [
      "\n",
      "\n",
      "\n",
      "\n",
      "办公助手\n",
      "\n",
      "智慧引擎队 （华润电力）\n",
      "\n",
      "2024-01-12\n",
      "\n",
      "\n",
      "\n",
      "智慧引擎队团队介绍 \n",
      "\n",
      "陈旖希\n",
      "\n",
      "燕志伟\n",
      "\n",
      "袁桂东\n",
      "\n",
      "夏彩莲\n",
      "\n",
      "华润电力\n",
      "\n",
      "华润电力\n",
      "\n",
      "华润电力\n",
      "\n",
      "华润数科\n",
      "\n",
      "香港中文大学   硕士  \n",
      "\n",
      "科数部IT平台建设资深经理 \n",
      "\n",
      "信息系统高级项目管理师 \n",
      "\n",
      "华润电力第一期优秀青马学员 \n",
      "\n",
      "华润电力第二期潜质人才班学员\n",
      "\n",
      "西安交通大学       博士\n",
      "\n",
      "University of Southern California \n",
      "\n",
      "   访问学者\n",
      "\n",
      "IBM PowerPC 架构应用大赛冠军\n",
      "\n",
      "河南省科技进步二等奖\n",
      "\n",
      "广东科学技术职院学院 大专\n",
      "\n",
      "开发维护资深经理 \n",
      "\n",
      "2019年度优秀员工\n",
      "\n",
      "华润电力技术委员会成员\n",
      "\n",
      "长安大学       学士\n",
      "\n",
      "华润数科高级咨询经理\n",
      "\n",
      "PMP 认证项目管理\n",
      "\n",
      "\n",
      "\n",
      "项目背景\n",
      "\n",
      "现实的 AIGC 工具箱\n",
      "\n",
      "理想 AIGC 工具流水线\n",
      "\n",
      "写材料-累\n",
      "\n",
      "交材料-急\n",
      "\n",
      " AIGC工具-杂\n",
      "\n",
      "全流程工具-缺\n",
      "\n",
      "（AIGC 办公助手）\n",
      "\n",
      "\n",
      "\n",
      "AIGC 办公助手-业务方案\n",
      "\n",
      "AIGC 办公助手提供 全流程 服务。通过 ModelScope AI 代理框架，在 后台整合 现有 AIGC 工具，一键完成 常见的文案生成。\n",
      "\n",
      "AI 办公助手\n",
      "\n",
      "虚拟演讲者\n",
      "\n",
      "PPT\n",
      "\n",
      "美工\n",
      "\n",
      "文档/文案\n",
      "\n",
      "PPT或方案讲述\n",
      "\n",
      "生成PPT\n",
      "\n",
      "文案配图\n",
      "\n",
      "文档编写\n",
      "\n",
      "策划\n",
      "\n",
      "制定文案框架\n",
      "\n",
      "\n",
      "\n",
      "AIGC工具箱\n",
      "\n",
      "文案\n",
      "\n",
      "策划\n",
      "\n",
      "美工\n",
      "\n",
      "PPT制作\n",
      "\n",
      "数字人\n",
      "\n",
      "ＡIGC  \n",
      "\n",
      "工具箱\n",
      "\n",
      "\n",
      "\n",
      "AIGC 办公助手-技术方案\n",
      "\n",
      "基于大语言模型，通过ModelScope-Agent开源框架创建办公助手，全自动完成办公任务。\n",
      "\n",
      "React\n",
      "\n",
      "前端\n",
      "\n",
      "长期记忆\n",
      "\n",
      "短期记忆\n",
      "\n",
      "工具搜索\n",
      "\n",
      "记忆\n",
      "\n",
      "反射\n",
      "\n",
      "代码解释器\n",
      "\n",
      "自我反思\n",
      "\n",
      "规划\n",
      "\n",
      "办公助手\n",
      "\n",
      "工具\n",
      "\n",
      "工具调用\n",
      "\n",
      "思维链\n",
      "\n",
      "子目标拆解\n",
      "\n",
      "行动\n",
      "\n",
      "更多\n",
      "\n",
      "LLM\n",
      "\n",
      "底层\n",
      "\n",
      "\n",
      "\n",
      "案例展示(1/4)-华润电力办公助手平台\n",
      "\n",
      "将AI应用于《华润电力数字化人才培养方案》案例展示\n",
      "\n",
      "\n",
      "\n",
      "案例展示（2/4）-任务规划及执行\n",
      "\n",
      "\n",
      "\n",
      "案例展示（3/4）-图片生成\n",
      "\n",
      "\n",
      "\n",
      "案例展示（4/4）-PPT生成\n",
      "\n",
      "将AI应用于《华润电力数字化人才培养方案》撰写及汇报，以下是最终汇报Demo\n",
      "\n",
      "\n",
      "\n",
      "一体化助手\n",
      "\n",
      "多Agent一站式服务，全方位支持文案输出\n",
      "\n",
      "全自动流程\n",
      "\n",
      "Agent自主规划任务，选择工具,实现全自动化\n",
      "\n",
      "即插即用-AIGC工具箱\n",
      "\n",
      "平台标准化对接方式，实现AI工具即插即用，实用性强,提高AI应用效率\n",
      "\n",
      ".\n",
      "\n",
      "服务定制化\n",
      "\n",
      "Prompt 定制,让我们更会提问\n",
      "\n",
      "AI Agent交互，让AI更懂用户\n",
      "\n",
      "文案风格定制，让输出方案更贴近实际应用\n",
      "\n",
      "项目成效\n",
      "\n",
      "40%\n",
      "\n",
      "增效\n",
      "\n",
      "18%\n",
      "\n",
      "提质\n",
      "\n",
      "备注：麻省理工的一项新研究支持流行观点：使用ChatGPT的写作者完成任务的时间减少了40%，输出质量提高了18%\n",
      "\n",
      "\n",
      "\n",
      "项目展望\n",
      "\n",
      "V1.0\n",
      "\n",
      "V2.0\n",
      "\n",
      "办公助手\n",
      "\n",
      "AI·重塑未来\n",
      "\n",
      "润AI\n",
      "\n",
      "AIGC工具集成\n",
      "\n",
      "AI办公一体化平台\n",
      "\n",
      "模板、格式、风格定制\n",
      "\n",
      "集成润工作，打造润AI \n",
      "\n",
      "     链接37.5万华润员工,提供 7*24小时办公助手\n",
      "\n",
      "打造华润生产力 = 员工 + Copilot\n",
      "\n",
      "企业定制大模型\n",
      "\n",
      "\n",
      "\n",
      "润AI展望\n",
      "\n",
      "\n"
     ]
    }
   ],
   "source": [
    "print(docs[0].page_content)"
   ]
  },
  {
   "cell_type": "code",
   "execution_count": 131,
   "id": "be108623-7531-43f0-b014-b77ee6d8a672",
   "metadata": {},
   "outputs": [],
   "source": [
    "from langchain_community.document_loaders import SQLDatabaseLoader"
   ]
  },
  {
   "cell_type": "code",
   "execution_count": null,
   "id": "ed61d3a6-6035-410f-8b7c-145a7f060e1d",
   "metadata": {},
   "outputs": [],
   "source": [
    "SQLDatabaseLoader()"
   ]
  },
  {
   "cell_type": "code",
   "execution_count": 132,
   "id": "914ea53a-7c4f-4b46-bef1-8deb9586564f",
   "metadata": {},
   "outputs": [],
   "source": [
    "from langchain_community.utilities import SQLDatabase"
   ]
  },
  {
   "cell_type": "code",
   "execution_count": 133,
   "id": "322ea875-46cd-4eee-a19a-abdefa236420",
   "metadata": {},
   "outputs": [],
   "source": [
    "from sqlalchemy import create_engine"
   ]
  },
  {
   "cell_type": "code",
   "execution_count": 134,
   "id": "49bfe6aa-657a-489d-89a2-49bd812c1edf",
   "metadata": {},
   "outputs": [],
   "source": [
    "engine = create_engine(url=\"sqlite:///students.db\")"
   ]
  },
  {
   "cell_type": "code",
   "execution_count": 135,
   "id": "9bafed54-73e5-4d27-b99c-1ac5df03e44a",
   "metadata": {},
   "outputs": [],
   "source": [
    "db = SQLDatabase(engine=engine)"
   ]
  },
  {
   "cell_type": "code",
   "execution_count": 139,
   "id": "c4860089-02ab-4b4f-8a2f-097edbf21dc6",
   "metadata": {},
   "outputs": [],
   "source": [
    "sql_loader = SQLDatabaseLoader(query=\"SELECT * FROM stu_score;\", db=db)"
   ]
  },
  {
   "cell_type": "code",
   "execution_count": 140,
   "id": "88c6618e-29ff-46e9-b205-2927c3af4ace",
   "metadata": {},
   "outputs": [],
   "source": [
    "docs = sql_loader.load()"
   ]
  },
  {
   "cell_type": "code",
   "execution_count": 146,
   "id": "f888b4c1-769d-400e-af38-c917bf6fb532",
   "metadata": {},
   "outputs": [
    {
     "name": "stdout",
     "output_type": "stream",
     "text": [
      "id: 1\n",
      "name: Tom\n",
      "age: 12\n",
      "score: 66\n"
     ]
    }
   ],
   "source": [
    "print(docs[0].page_content)"
   ]
  },
  {
   "cell_type": "markdown",
   "id": "9affff6a-dd75-42b3-9145-3c53baef553a",
   "metadata": {},
   "source": [
    "### DocumentLoader\n",
    "\n",
    "- 读取数据\n",
    "    - 各种格式解析\n",
    "- 返回结果\n",
    "  - list\n",
    "    - Document\n",
    "      - metadata (dict)\n",
    "      - page_content (str)"
   ]
  },
  {
   "cell_type": "code",
   "execution_count": 154,
   "id": "710ae01f-ee1b-4126-8257-0981c66d0836",
   "metadata": {},
   "outputs": [],
   "source": [
    "from langchain_core.documents import Document"
   ]
  },
  {
   "cell_type": "code",
   "execution_count": 156,
   "id": "470ab4c5-cb75-4469-adb1-c93d436855f7",
   "metadata": {},
   "outputs": [],
   "source": [
    "class MyDocumentLoader(object):\n",
    "    \n",
    "    def __init__(self, file_path):\n",
    "        self.file_path = file_path\n",
    "    \n",
    "    def load(self):\n",
    "        # 任意读取你的数据\n",
    "        docs = []\n",
    "        with open(file=self.file_path, mode=\"r\", encoding=\"utf8\") as f:\n",
    "            for idx, line in enumerate(f):\n",
    "                doc = Document(metadata=dict(file_name=self.file_path, \n",
    "                                            row_num=idx,\n",
    "                                            author=\"李晓华\"),\n",
    "                              page_content=line)\n",
    "                docs.append(doc)\n",
    "        return docs"
   ]
  },
  {
   "cell_type": "code",
   "execution_count": 157,
   "id": "5e073040-724d-4b0c-ac74-21865496ba6a",
   "metadata": {},
   "outputs": [],
   "source": [
    "my_loader = MyDocumentLoader(file_path=\"students.csv\")"
   ]
  },
  {
   "cell_type": "code",
   "execution_count": 158,
   "id": "4e973c2c-3b89-4bcf-8807-cb76195192c2",
   "metadata": {},
   "outputs": [],
   "source": [
    "docs = my_loader.load()"
   ]
  },
  {
   "cell_type": "code",
   "execution_count": 160,
   "id": "7006dbe4-b55b-411a-b59e-1792dc867c16",
   "metadata": {},
   "outputs": [
    {
     "data": {
      "text/plain": [
       "[Document(metadata={'file_name': 'students.csv', 'row_num': 0, 'author': '李晓华'}, page_content='name,age,score\\n'),\n",
       " Document(metadata={'file_name': 'students.csv', 'row_num': 1, 'author': '李晓华'}, page_content='Tom,12,77\\n'),\n",
       " Document(metadata={'file_name': 'students.csv', 'row_num': 2, 'author': '李晓华'}, page_content='Jerry,11,88\\n'),\n",
       " Document(metadata={'file_name': 'students.csv', 'row_num': 3, 'author': '李晓华'}, page_content='Jim,12,96')]"
      ]
     },
     "execution_count": 160,
     "metadata": {},
     "output_type": "execute_result"
    }
   ],
   "source": [
    "docs"
   ]
  },
  {
   "cell_type": "code",
   "execution_count": null,
   "id": "121b9fb2-c15d-414a-a30f-4a7f9db1e21d",
   "metadata": {},
   "outputs": [],
   "source": []
  }
 ],
 "metadata": {
  "kernelspec": {
   "display_name": "Python 3 (ipykernel)",
   "language": "python",
   "name": "python3"
  },
  "language_info": {
   "codemirror_mode": {
    "name": "ipython",
    "version": 3
   },
   "file_extension": ".py",
   "mimetype": "text/x-python",
   "name": "python",
   "nbconvert_exporter": "python",
   "pygments_lexer": "ipython3",
   "version": "3.12.4"
  }
 },
 "nbformat": 4,
 "nbformat_minor": 5
}
