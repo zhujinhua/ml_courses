{
 "cells": [
  {
   "cell_type": "code",
   "execution_count": 4,
   "id": "e733306b-e312-49e8-b18a-5ea13b9bd5cf",
   "metadata": {},
   "outputs": [],
   "source": [
    "import chromadb\n",
    "from chromadb import Client\n",
    "from chromadb import Settings"
   ]
  },
  {
   "cell_type": "code",
   "execution_count": 8,
   "id": "cc4fe5e0-a86b-4e01-8bde-643b454608c7",
   "metadata": {},
   "outputs": [],
   "source": [
    "# 配置连接信息\n",
    "setting = Settings(chroma_server_host=\"localhost\", \n",
    "                  chroma_server_http_port=8001)"
   ]
  },
  {
   "cell_type": "code",
   "execution_count": 7,
   "id": "6fa1973c-c9cc-4f8d-a207-c99a1d246a29",
   "metadata": {},
   "outputs": [],
   "source": [
    "db = Client(settings=setting)"
   ]
  },
  {
   "cell_type": "code",
   "execution_count": 9,
   "id": "1b445016-17af-417b-9e32-db667068d792",
   "metadata": {},
   "outputs": [],
   "source": [
    "# 获取 collection\n",
    "collection = db.get_or_create_collection(name=\"langchain\")"
   ]
  },
  {
   "cell_type": "code",
   "execution_count": 11,
   "id": "cd9ea9ba-9780-4f05-b1d6-14a273f2dac8",
   "metadata": {},
   "outputs": [],
   "source": [
    "from langchain_chroma import Chroma"
   ]
  },
  {
   "cell_type": "code",
   "execution_count": 12,
   "id": "8a1d9dca-fa8a-4781-bdfd-e0fe7bf4acf2",
   "metadata": {},
   "outputs": [],
   "source": [
    "store = Chroma(collection_name=\"langchain\", client=db)"
   ]
  },
  {
   "cell_type": "code",
   "execution_count": null,
   "id": "a6646894-42df-4104-844b-ea4fdf60dea1",
   "metadata": {},
   "outputs": [],
   "source": []
  }
 ],
 "metadata": {
  "kernelspec": {
   "display_name": "Python 3 (ipykernel)",
   "language": "python",
   "name": "python3"
  },
  "language_info": {
   "codemirror_mode": {
    "name": "ipython",
    "version": 3
   },
   "file_extension": ".py",
   "mimetype": "text/x-python",
   "name": "python",
   "nbconvert_exporter": "python",
   "pygments_lexer": "ipython3",
   "version": "3.12.4"
  }
 },
 "nbformat": 4,
 "nbformat_minor": 5
}
