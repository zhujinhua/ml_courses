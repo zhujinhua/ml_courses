{
 "cells": [
  {
   "cell_type": "code",
   "execution_count": 1,
   "id": "1dedc90a-3c63-4816-b98a-8936ac85ab03",
   "metadata": {
    "ExecutionIndicator": {
     "show": false
    },
    "execution": {
     "iopub.execute_input": "2024-08-15T13:16:24.316945Z",
     "iopub.status.busy": "2024-08-15T13:16:24.316616Z",
     "iopub.status.idle": "2024-08-15T13:16:24.895883Z",
     "shell.execute_reply": "2024-08-15T13:16:24.895388Z",
     "shell.execute_reply.started": "2024-08-15T13:16:24.316924Z"
    },
    "tags": []
   },
   "outputs": [],
   "source": [
    "from langchain_community.chat_models import ChatTongyi\n",
    "from langchain_community.embeddings import DashScopeEmbeddings"
   ]
  },
  {
   "cell_type": "code",
   "execution_count": 31,
   "id": "19b489dd-da1d-4f8e-851b-74936669649b",
   "metadata": {
    "execution": {
     "iopub.execute_input": "2024-08-15T14:05:02.798033Z",
     "iopub.status.busy": "2024-08-15T14:05:02.797667Z",
     "iopub.status.idle": "2024-08-15T14:05:02.807142Z",
     "shell.execute_reply": "2024-08-15T14:05:02.806660Z",
     "shell.execute_reply.started": "2024-08-15T14:05:02.798005Z"
    }
   },
   "outputs": [
    {
     "data": {
      "text/plain": [
       "True"
      ]
     },
     "execution_count": 31,
     "metadata": {},
     "output_type": "execute_result"
    }
   ],
   "source": [
    "from dotenv import load_dotenv\n",
    "load_dotenv(dotenv_path='.qwen')"
   ]
  },
  {
   "cell_type": "code",
   "execution_count": 38,
   "id": "fa1bc20a-5c20-49d8-bce5-4979c3cbdb06",
   "metadata": {
    "ExecutionIndicator": {
     "show": true
    },
    "execution": {
     "iopub.execute_input": "2024-08-15T14:30:21.354932Z",
     "iopub.status.busy": "2024-08-15T14:30:21.354620Z",
     "iopub.status.idle": "2024-08-15T14:30:21.357874Z",
     "shell.execute_reply": "2024-08-15T14:30:21.357391Z",
     "shell.execute_reply.started": "2024-08-15T14:30:21.354912Z"
    },
    "tags": []
   },
   "outputs": [],
   "source": [
    "chat = ChatTongyi(model='qwen-long', top_p=0.8, temperature=0)"
   ]
  },
  {
   "cell_type": "code",
   "execution_count": 33,
   "id": "6b3736ad-e95e-4019-bd0c-7e4b0640e8ad",
   "metadata": {
    "execution": {
     "iopub.execute_input": "2024-08-15T14:05:12.338201Z",
     "iopub.status.busy": "2024-08-15T14:05:12.337873Z",
     "iopub.status.idle": "2024-08-15T14:05:16.639021Z",
     "shell.execute_reply": "2024-08-15T14:05:16.638506Z",
     "shell.execute_reply.started": "2024-08-15T14:05:12.338172Z"
    },
    "tags": []
   },
   "outputs": [
    {
     "data": {
      "text/plain": [
       "AIMessage(content=\"I'm Qwen, a large language model created by Alibaba Cloud. I'm designed to assist users in generating various types of text, such as articles, stories, poems, and answering questions by leveraging the vast amount of information I've been trained on. How can I assist you today?\", response_metadata={'model_name': 'qwen-long', 'finish_reason': 'stop', 'request_id': 'ed055a51-5df1-9117-bbdf-64c05b1e4287', 'token_usage': {'input_tokens': 4, 'output_tokens': 58, 'total_tokens': 62}}, id='run-4c580b4f-5b19-44b7-87a3-73816d28490f-0')"
      ]
     },
     "execution_count": 33,
     "metadata": {},
     "output_type": "execute_result"
    }
   ],
   "source": [
    "chat.invoke('who are you?')"
   ]
  },
  {
   "cell_type": "code",
   "execution_count": 8,
   "id": "0ad972d3-3c78-4d45-9a17-a07e6b84500c",
   "metadata": {
    "execution": {
     "iopub.execute_input": "2024-08-15T13:20:17.444922Z",
     "iopub.status.busy": "2024-08-15T13:20:17.444584Z",
     "iopub.status.idle": "2024-08-15T13:20:17.447654Z",
     "shell.execute_reply": "2024-08-15T13:20:17.447222Z",
     "shell.execute_reply.started": "2024-08-15T13:20:17.444901Z"
    }
   },
   "outputs": [],
   "source": [
    "from langchain_core.messages import SystemMessage\n",
    "from langchain_core.messages import HumanMessage\n",
    "from langchain_core.messages import AIMessage"
   ]
  },
  {
   "cell_type": "code",
   "execution_count": 9,
   "id": "79f3226b-b06f-4700-8835-343037148539",
   "metadata": {
    "execution": {
     "iopub.execute_input": "2024-08-15T13:21:12.149269Z",
     "iopub.status.busy": "2024-08-15T13:21:12.148940Z",
     "iopub.status.idle": "2024-08-15T13:21:12.152270Z",
     "shell.execute_reply": "2024-08-15T13:21:12.151507Z",
     "shell.execute_reply.started": "2024-08-15T13:21:12.149248Z"
    }
   },
   "outputs": [],
   "source": [
    "sys_msg = SystemMessage(\"You are a helpful assistant\")"
   ]
  },
  {
   "cell_type": "code",
   "execution_count": 10,
   "id": "a2764db6-c4a4-4a6d-b9f6-3b4b2924a6bd",
   "metadata": {
    "execution": {
     "iopub.execute_input": "2024-08-15T13:22:56.294414Z",
     "iopub.status.busy": "2024-08-15T13:22:56.294084Z",
     "iopub.status.idle": "2024-08-15T13:22:56.297277Z",
     "shell.execute_reply": "2024-08-15T13:22:56.296767Z",
     "shell.execute_reply.started": "2024-08-15T13:22:56.294393Z"
    }
   },
   "outputs": [],
   "source": [
    "usr_msg = HumanMessage('Give me the answer of 1 + 1 =?')\n",
    "messages = [sys_msg, usr_msg]"
   ]
  },
  {
   "cell_type": "code",
   "execution_count": 14,
   "id": "f4ac498f-5734-4cb3-b7c4-98ad9d6296da",
   "metadata": {
    "ExecutionIndicator": {
     "show": true
    },
    "execution": {
     "iopub.execute_input": "2024-08-15T13:25:43.667248Z",
     "iopub.status.busy": "2024-08-15T13:25:43.666901Z",
     "iopub.status.idle": "2024-08-15T13:25:44.507940Z",
     "shell.execute_reply": "2024-08-15T13:25:44.507468Z",
     "shell.execute_reply.started": "2024-08-15T13:25:43.667223Z"
    },
    "tags": []
   },
   "outputs": [],
   "source": [
    "result = chat.invoke(input=messages)"
   ]
  },
  {
   "cell_type": "code",
   "execution_count": 15,
   "id": "afc9c5f5-c8a9-4858-9302-1cc61f67ea9e",
   "metadata": {
    "execution": {
     "iopub.execute_input": "2024-08-15T13:25:46.556564Z",
     "iopub.status.busy": "2024-08-15T13:25:46.556209Z",
     "iopub.status.idle": "2024-08-15T13:25:46.560338Z",
     "shell.execute_reply": "2024-08-15T13:25:46.559743Z",
     "shell.execute_reply.started": "2024-08-15T13:25:46.556538Z"
    },
    "tags": []
   },
   "outputs": [
    {
     "data": {
      "text/plain": [
       "'1 + 1 = 2'"
      ]
     },
     "execution_count": 15,
     "metadata": {},
     "output_type": "execute_result"
    }
   ],
   "source": [
    "result.content"
   ]
  },
  {
   "cell_type": "code",
   "execution_count": 27,
   "id": "f8d52eef-f061-4c72-9d7c-c78b2a5e0417",
   "metadata": {
    "ExecutionIndicator": {
     "show": true
    },
    "execution": {
     "iopub.execute_input": "2024-08-15T13:43:26.705602Z",
     "iopub.status.busy": "2024-08-15T13:43:26.705270Z",
     "iopub.status.idle": "2024-08-15T13:43:26.708413Z",
     "shell.execute_reply": "2024-08-15T13:43:26.707944Z",
     "shell.execute_reply.started": "2024-08-15T13:43:26.705581Z"
    },
    "tags": []
   },
   "outputs": [],
   "source": [
    "from langchain_core.prompts import SystemMessagePromptTemplate\n",
    "from langchain_core.prompts import HumanMessagePromptTemplate\n",
    "from langchain_core.prompts import ChatPromptTemplate"
   ]
  },
  {
   "cell_type": "code",
   "execution_count": 17,
   "id": "b65b69ba-9011-43b3-be10-d0a631bbbc9e",
   "metadata": {
    "execution": {
     "iopub.execute_input": "2024-08-15T13:37:01.215860Z",
     "iopub.status.busy": "2024-08-15T13:37:01.215537Z",
     "iopub.status.idle": "2024-08-15T13:37:01.218551Z",
     "shell.execute_reply": "2024-08-15T13:37:01.218093Z",
     "shell.execute_reply.started": "2024-08-15T13:37:01.215840Z"
    }
   },
   "outputs": [],
   "source": [
    "role = {'English teacher': 'How to say I am blue in a long sentence',\n",
    "        'Math teacheer': '1 + 1 = ?'\n",
    "       }"
   ]
  },
  {
   "cell_type": "code",
   "execution_count": 21,
   "id": "ce43f4ee-c830-4952-82b0-2e0e170dd4c6",
   "metadata": {
    "ExecutionIndicator": {
     "show": true
    },
    "execution": {
     "iopub.execute_input": "2024-08-15T13:38:21.649464Z",
     "iopub.status.busy": "2024-08-15T13:38:21.649105Z",
     "iopub.status.idle": "2024-08-15T13:38:21.652323Z",
     "shell.execute_reply": "2024-08-15T13:38:21.651852Z",
     "shell.execute_reply.started": "2024-08-15T13:38:21.649430Z"
    },
    "tags": []
   },
   "outputs": [],
   "source": [
    "sys_msg = SystemMessagePromptTemplate.from_template(f'You are an English teacher')\n",
    "content = role['English teacher']"
   ]
  },
  {
   "cell_type": "code",
   "execution_count": 22,
   "id": "5855d763-1210-4c52-83ca-42d13f569d07",
   "metadata": {
    "ExecutionIndicator": {
     "show": true
    },
    "execution": {
     "iopub.execute_input": "2024-08-15T13:38:24.645332Z",
     "iopub.status.busy": "2024-08-15T13:38:24.644982Z",
     "iopub.status.idle": "2024-08-15T13:38:24.648445Z",
     "shell.execute_reply": "2024-08-15T13:38:24.647819Z",
     "shell.execute_reply.started": "2024-08-15T13:38:24.645312Z"
    },
    "tags": []
   },
   "outputs": [],
   "source": [
    "usr_msg = HumanMessagePromptTemplate.from_template(f'Please answer the question of {content}')"
   ]
  },
  {
   "cell_type": "code",
   "execution_count": 24,
   "id": "b6e2fc9c-c0ff-4466-a8b2-233e60463749",
   "metadata": {
    "execution": {
     "iopub.execute_input": "2024-08-15T13:43:05.693523Z",
     "iopub.status.busy": "2024-08-15T13:43:05.693180Z",
     "iopub.status.idle": "2024-08-15T13:43:05.696381Z",
     "shell.execute_reply": "2024-08-15T13:43:05.695736Z",
     "shell.execute_reply.started": "2024-08-15T13:43:05.693503Z"
    }
   },
   "outputs": [],
   "source": [
    "messages = [sys_msg, usr_msg]"
   ]
  },
  {
   "cell_type": "code",
   "execution_count": 28,
   "id": "d4c7b08f-c8c6-4bab-ad78-e63fafce97d5",
   "metadata": {
    "ExecutionIndicator": {
     "show": true
    },
    "execution": {
     "iopub.execute_input": "2024-08-15T13:43:30.220669Z",
     "iopub.status.busy": "2024-08-15T13:43:30.220328Z",
     "iopub.status.idle": "2024-08-15T13:43:30.223635Z",
     "shell.execute_reply": "2024-08-15T13:43:30.223115Z",
     "shell.execute_reply.started": "2024-08-15T13:43:30.220651Z"
    },
    "tags": []
   },
   "outputs": [],
   "source": [
    "prompt = ChatPromptTemplate.from_messages(messages)"
   ]
  },
  {
   "cell_type": "code",
   "execution_count": 34,
   "id": "a9ad95e9-6916-404c-be89-4cd6194242d9",
   "metadata": {
    "execution": {
     "iopub.execute_input": "2024-08-15T14:24:41.856159Z",
     "iopub.status.busy": "2024-08-15T14:24:41.855837Z",
     "iopub.status.idle": "2024-08-15T14:24:41.859123Z",
     "shell.execute_reply": "2024-08-15T14:24:41.858623Z",
     "shell.execute_reply.started": "2024-08-15T14:24:41.856140Z"
    }
   },
   "outputs": [],
   "source": [
    "formatted_prompt = prompt.format()"
   ]
  },
  {
   "cell_type": "code",
   "execution_count": 40,
   "id": "1b0294b6-719a-4291-9c23-e12ca6e17def",
   "metadata": {
    "execution": {
     "iopub.execute_input": "2024-08-15T14:31:36.324734Z",
     "iopub.status.busy": "2024-08-15T14:31:36.324375Z",
     "iopub.status.idle": "2024-08-15T14:31:40.104364Z",
     "shell.execute_reply": "2024-08-15T14:31:40.103785Z",
     "shell.execute_reply.started": "2024-08-15T14:31:36.324710Z"
    }
   },
   "outputs": [
    {
     "data": {
      "text/plain": [
       "AIMessage(content='Sure, you can express \"I am blue\" in a longer, more descriptive sentence like this:\\n\\n\"Despite the bright sunshine and the cheerful company around me, I find myself feeling rather blue today, as a wave of melancholy thoughts has taken hold of my mood.\"', response_metadata={'model_name': 'qwen-long', 'finish_reason': 'stop', 'request_id': '71f1e4ee-03ee-9ca7-aa32-e354f9da8a6c', 'token_usage': {'input_tokens': 25, 'output_tokens': 54, 'total_tokens': 79}}, id='run-ec487f3f-7b04-4703-8ce7-1296155e8830-0')"
      ]
     },
     "execution_count": 40,
     "metadata": {},
     "output_type": "execute_result"
    }
   ],
   "source": [
    "chat.invoke(formatted_prompt)"
   ]
  },
  {
   "cell_type": "code",
   "execution_count": 30,
   "id": "1b6e568b-0e93-4ba3-8116-9f411b978df9",
   "metadata": {
    "execution": {
     "iopub.execute_input": "2024-08-15T13:44:21.567567Z",
     "iopub.status.busy": "2024-08-15T13:44:21.567153Z",
     "iopub.status.idle": "2024-08-15T13:44:21.570484Z",
     "shell.execute_reply": "2024-08-15T13:44:21.569965Z",
     "shell.execute_reply.started": "2024-08-15T13:44:21.567540Z"
    }
   },
   "outputs": [],
   "source": [
    "from langchain_core.output_parsers import StrOutputParser"
   ]
  },
  {
   "cell_type": "code",
   "execution_count": 36,
   "id": "28e952b9-0015-4a34-8d83-363c4a089496",
   "metadata": {
    "execution": {
     "iopub.execute_input": "2024-08-15T14:29:42.639448Z",
     "iopub.status.busy": "2024-08-15T14:29:42.639123Z",
     "iopub.status.idle": "2024-08-15T14:29:42.642303Z",
     "shell.execute_reply": "2024-08-15T14:29:42.641813Z",
     "shell.execute_reply.started": "2024-08-15T14:29:42.639426Z"
    }
   },
   "outputs": [],
   "source": [
    "output_parser = StrOutputParser()"
   ]
  },
  {
   "cell_type": "code",
   "execution_count": 41,
   "id": "06058578-3619-4cd7-a068-e9333714ad48",
   "metadata": {
    "ExecutionIndicator": {
     "show": true
    },
    "execution": {
     "iopub.execute_input": "2024-08-15T14:32:17.424685Z",
     "iopub.status.busy": "2024-08-15T14:32:17.424354Z",
     "iopub.status.idle": "2024-08-15T14:32:17.427441Z",
     "shell.execute_reply": "2024-08-15T14:32:17.426926Z",
     "shell.execute_reply.started": "2024-08-15T14:32:17.424664Z"
    },
    "tags": []
   },
   "outputs": [],
   "source": [
    "chain = chat | output_parser"
   ]
  },
  {
   "cell_type": "code",
   "execution_count": 43,
   "id": "5dc08fe2-72c4-4eff-bc2d-99664415e825",
   "metadata": {
    "ExecutionIndicator": {
     "show": true
    },
    "execution": {
     "iopub.execute_input": "2024-08-15T14:32:51.311551Z",
     "iopub.status.busy": "2024-08-15T14:32:51.311181Z",
     "iopub.status.idle": "2024-08-15T14:32:54.528425Z",
     "shell.execute_reply": "2024-08-15T14:32:54.527929Z",
     "shell.execute_reply.started": "2024-08-15T14:32:51.311530Z"
    },
    "tags": []
   },
   "outputs": [
    {
     "data": {
      "text/plain": [
       "'Sure, you can express \"I am blue\" in a longer, more descriptive sentence like this:\\n\\n\"Despite the bright sunshine and the cheerful company around me, I find myself feeling rather blue today, as a lingering sense of melancholy has settled over my thoughts and emotions.\"'"
      ]
     },
     "execution_count": 43,
     "metadata": {},
     "output_type": "execute_result"
    }
   ],
   "source": [
    "chain.invoke(input=formatted_prompt)"
   ]
  },
  {
   "cell_type": "code",
   "execution_count": null,
   "id": "fc8e0d06-5e72-4f0a-8ed2-16d7d206619f",
   "metadata": {},
   "outputs": [],
   "source": []
  }
 ],
 "metadata": {
  "kernelspec": {
   "display_name": "Python 3 (ipykernel)",
   "language": "python",
   "name": "python3"
  },
  "language_info": {
   "codemirror_mode": {
    "name": "ipython",
    "version": 3
   },
   "file_extension": ".py",
   "mimetype": "text/x-python",
   "name": "python",
   "nbconvert_exporter": "python",
   "pygments_lexer": "ipython3",
   "version": "3.10.14"
  }
 },
 "nbformat": 4,
 "nbformat_minor": 5
}
