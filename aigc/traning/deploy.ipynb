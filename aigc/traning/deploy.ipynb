{
 "cells": [
  {
   "cell_type": "code",
   "execution_count": 2,
   "id": "d910cd3d-997b-45e6-9baf-8e41cdb0a67a",
   "metadata": {
    "execution": {
     "iopub.execute_input": "2024-08-10T07:18:47.962507Z",
     "iopub.status.busy": "2024-08-10T07:18:47.962187Z",
     "iopub.status.idle": "2024-08-10T07:18:47.976410Z",
     "shell.execute_reply": "2024-08-10T07:18:47.975662Z",
     "shell.execute_reply.started": "2024-08-10T07:18:47.962488Z"
    },
    "tags": []
   },
   "outputs": [
    {
     "ename": "ModuleNotFoundError",
     "evalue": "No module named 'langchain_openai'",
     "output_type": "error",
     "traceback": [
      "\u001b[0;31m---------------------------------------------------------------------------\u001b[0m",
      "\u001b[0;31mModuleNotFoundError\u001b[0m                       Traceback (most recent call last)",
      "Cell \u001b[0;32mIn[2], line 1\u001b[0m\n\u001b[0;32m----> 1\u001b[0m \u001b[38;5;28;01mfrom\u001b[39;00m \u001b[38;5;21;01mlangchain_openai\u001b[39;00m \u001b[38;5;28;01mimport\u001b[39;00m ChatOpenAI\n",
      "\u001b[0;31mModuleNotFoundError\u001b[0m: No module named 'langchain_openai'"
     ]
    }
   ],
   "source": [
    "from langchain_openai import ChatOpenAI"
   ]
  },
  {
   "cell_type": "code",
   "execution_count": null,
   "id": "10879d15-8df3-495b-90f8-405fa80ba456",
   "metadata": {
    "execution": {
     "iopub.status.busy": "2024-08-10T07:12:03.245495Z",
     "iopub.status.idle": "2024-08-10T07:12:03.245915Z",
     "shell.execute_reply": "2024-08-10T07:12:03.245763Z",
     "shell.execute_reply.started": "2024-08-10T07:12:03.245747Z"
    }
   },
   "outputs": [],
   "source": [
    "base_url = 'http:localhost:8000/v1'\n",
    "api_key = 'xxx'"
   ]
  },
  {
   "cell_type": "code",
   "execution_count": null,
   "id": "1b72ef85-96e1-4c4d-acc6-4240b3f3b33b",
   "metadata": {
    "execution": {
     "iopub.status.busy": "2024-08-10T07:12:03.247094Z",
     "iopub.status.idle": "2024-08-10T07:12:03.247515Z",
     "shell.execute_reply": "2024-08-10T07:12:03.247415Z",
     "shell.execute_reply.started": "2024-08-10T07:12:03.247406Z"
    }
   },
   "outputs": [],
   "source": [
    "model = ChatOpenAI(\n",
    "    base_url=base_url,\n",
    "    api_key=api_key,\n",
    "    model=\"Qwen2-1.5B\",\n",
    ")"
   ]
  },
  {
   "cell_type": "code",
   "execution_count": null,
   "id": "f5d08728-c98d-4c91-a4c5-60627fc172a8",
   "metadata": {
    "execution": {
     "iopub.status.busy": "2024-08-10T07:12:03.251495Z",
     "iopub.status.idle": "2024-08-10T07:12:03.252062Z",
     "shell.execute_reply": "2024-08-10T07:12:03.251881Z",
     "shell.execute_reply.started": "2024-08-10T07:12:03.251863Z"
    }
   },
   "outputs": [],
   "source": [
    "result = model.invoke(input=\"今天星期几\")"
   ]
  },
  {
   "cell_type": "code",
   "execution_count": null,
   "id": "e0b913e3-e64b-403c-95ff-b94d1be20dc8",
   "metadata": {
    "execution": {
     "iopub.status.busy": "2024-08-10T07:12:03.253173Z",
     "iopub.status.idle": "2024-08-10T07:12:03.253744Z",
     "shell.execute_reply": "2024-08-10T07:12:03.253551Z",
     "shell.execute_reply.started": "2024-08-10T07:12:03.253535Z"
    }
   },
   "outputs": [],
   "source": [
    "result.content"
   ]
  },
  {
   "cell_type": "code",
   "execution_count": null,
   "id": "dce74714-6330-42f8-a0d2-a876c77c2a7c",
   "metadata": {},
   "outputs": [],
   "source": []
  }
 ],
 "metadata": {
  "kernelspec": {
   "display_name": "Python 3 (ipykernel)",
   "language": "python",
   "name": "python3"
  },
  "language_info": {
   "codemirror_mode": {
    "name": "ipython",
    "version": 3
   },
   "file_extension": ".py",
   "mimetype": "text/x-python",
   "name": "python",
   "nbconvert_exporter": "python",
   "pygments_lexer": "ipython3",
   "version": "3.10.14"
  }
 },
 "nbformat": 4,
 "nbformat_minor": 5
}
