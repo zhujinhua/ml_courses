{
 "cells": [
  {
   "cell_type": "markdown",
   "id": "ce818124-e2c0-4caa-bf17-655e72253261",
   "metadata": {},
   "source": [
    "### 1. 连接大模型"
   ]
  },
  {
   "cell_type": "code",
   "execution_count": 35,
   "id": "267fd360-2214-4acb-a707-cbe772c62a5a",
   "metadata": {},
   "outputs": [],
   "source": [
    "from utils import get_ernie_models\n",
    "from utils import get_qwen_models"
   ]
  },
  {
   "cell_type": "code",
   "execution_count": 36,
   "id": "93b7e2c3-3d07-4ab6-b2ee-86a8a5893cf4",
   "metadata": {
    "scrolled": true
   },
   "outputs": [],
   "source": [
    "llm, chat, embed = get_qwen_models()"
   ]
  },
  {
   "cell_type": "markdown",
   "id": "2663434c-1476-4fa7-96f6-56339aa112ae",
   "metadata": {},
   "source": [
    "### 2. 基本RAG系统的构成"
   ]
  },
  {
   "cell_type": "markdown",
   "id": "00d68ea7-8ec6-4283-9eb0-37157cca3343",
   "metadata": {},
   "source": [
    "### 2.1. 引入必要的库和包"
   ]
  },
  {
   "cell_type": "code",
   "execution_count": 37,
   "id": "44040d90-e9db-45bc-82b9-e5e1f5c37e50",
   "metadata": {},
   "outputs": [],
   "source": [
    "# 解析 Web 页面的库（用面向对象的方式来封装 HTML 页面）\n",
    "import bs4\n",
    "# hub 生态中心\n",
    "from langchain import hub\n",
    "# 引入 Chroma 向量库\n",
    "from langchain_chroma import Chroma\n",
    "# 在线加载网页\n",
    "from langchain_community.document_loaders import WebBaseLoader\n",
    "# 输出解析器\n",
    "from langchain_core.output_parsers import StrOutputParser\n",
    "# 可执行的占位符\n",
    "from langchain_core.runnables import RunnablePassthrough\n",
    "# 文档切分器\n",
    "from langchain_text_splitters import RecursiveCharacterTextSplitter"
   ]
  },
  {
   "cell_type": "markdown",
   "id": "2e7bae3c-3947-48f8-af96-12811e9dd17e",
   "metadata": {},
   "source": [
    "### 2.2 加载页面"
   ]
  },
  {
   "cell_type": "code",
   "execution_count": 38,
   "id": "00f9cf37-0328-489b-8e7e-e86cd863acf8",
   "metadata": {},
   "outputs": [],
   "source": [
    "# Load, chunk and index the contents of the blog.\n",
    "loader = WebBaseLoader(\n",
    "    web_paths=(\"https://lilianweng.github.io/posts/2023-06-23-agent/\",),\n",
    "    bs_kwargs=dict(\n",
    "        parse_only=bs4.SoupStrainer(\n",
    "            class_=(\"post-content\", \"post-title\", \"post-header\")\n",
    "        )\n",
    "    ),\n",
    ")"
   ]
  },
  {
   "cell_type": "code",
   "execution_count": 39,
   "id": "e501d1ef-39fe-49b5-bf1f-f90fc82689ee",
   "metadata": {},
   "outputs": [],
   "source": [
    "# 加载数据\n",
    "docs = loader.load()"
   ]
  },
  {
   "cell_type": "markdown",
   "id": "688d32ab-8d89-4075-906d-1e8ed0230dfb",
   "metadata": {},
   "source": [
    "### 2.3 文本分割"
   ]
  },
  {
   "cell_type": "code",
   "execution_count": 40,
   "id": "6a7e4a44-97bd-4da0-97ab-cb22c175f189",
   "metadata": {},
   "outputs": [],
   "source": [
    "# 递归式 字符级 文本 切分器\n",
    "\"\"\"\n",
    "    chunk_size: 建议段落大小\n",
    "\"\"\"\n",
    "text_splitter = RecursiveCharacterTextSplitter(chunk_size=500, chunk_overlap=200)\n",
    "splits = text_splitter.split_documents(docs)"
   ]
  },
  {
   "cell_type": "markdown",
   "id": "a7037f3d-b688-449d-842f-bcd640c848dc",
   "metadata": {},
   "source": [
    "### 2.4 向量化并入库"
   ]
  },
  {
   "cell_type": "code",
   "execution_count": 41,
   "id": "bc34df16-87eb-4ea0-82de-4683edefe6d4",
   "metadata": {},
   "outputs": [
    {
     "data": {
      "text/plain": [
       "142"
      ]
     },
     "execution_count": 41,
     "metadata": {},
     "output_type": "execute_result"
    }
   ],
   "source": [
    "len(splits)"
   ]
  },
  {
   "cell_type": "code",
   "execution_count": 42,
   "id": "9f786b9e-463b-4263-a5f3-b44898a09d94",
   "metadata": {},
   "outputs": [],
   "source": [
    "# 底层存储使用的 SQLite，没有指定存储位置的话，则在内存中建立临时库\n",
    "vectorstore = Chroma.from_documents(documents=splits[:6], embedding=embed)"
   ]
  },
  {
   "cell_type": "code",
   "execution_count": 43,
   "id": "f83642be-95dc-4b7b-91fd-972b559d36f1",
   "metadata": {},
   "outputs": [],
   "source": [
    "my_splits = splits[6:]"
   ]
  },
  {
   "cell_type": "code",
   "execution_count": 44,
   "id": "ebbd2684-4186-4407-a686-87bd50b968f9",
   "metadata": {},
   "outputs": [
    {
     "data": {
      "text/plain": [
       "136"
      ]
     },
     "execution_count": 44,
     "metadata": {},
     "output_type": "execute_result"
    }
   ],
   "source": [
    "len(my_splits)"
   ]
  },
  {
   "cell_type": "code",
   "execution_count": 45,
   "id": "d7f5a5c4-9822-40da-92b2-0fffc4635094",
   "metadata": {},
   "outputs": [],
   "source": [
    "for idx in range(23):\n",
    "    my_docs = my_splits[idx * 6: (idx + 1) * 6]\n",
    "    vectorstore.add_documents(documents=my_docs)"
   ]
  },
  {
   "cell_type": "markdown",
   "id": "02f9b247-074c-469e-9ca7-3ac235282c39",
   "metadata": {},
   "source": [
    "### 2.5 RAG系统搭建"
   ]
  },
  {
   "cell_type": "code",
   "execution_count": 46,
   "id": "6e786e93-7c41-453a-97ec-692b7c3efcef",
   "metadata": {},
   "outputs": [],
   "source": [
    "# 把向量操作封装为一个基本检索器\n",
    "retriever = vectorstore.as_retriever()"
   ]
  },
  {
   "cell_type": "code",
   "execution_count": 47,
   "id": "9c9373ca-b99f-43b5-bb25-3d81fa46aba8",
   "metadata": {},
   "outputs": [],
   "source": [
    "# prompt = hub.pull(\"rlm/rag-prompt\")"
   ]
  },
  {
   "cell_type": "code",
   "execution_count": 65,
   "id": "9c851c08-f193-4106-896d-64bd102cdb62",
   "metadata": {},
   "outputs": [],
   "source": [
    "from langchain_core.prompts import ChatPromptTemplate\n",
    "\n",
    "# RAG系统经典的 Prompt (A 增强的过程)\n",
    "prompt = ChatPromptTemplate.from_messages([\n",
    "  (\"human\", \"\"\"You are an assistant for question-answering tasks. \n",
    "Use the following pieces of retrieved context to answer the question. \n",
    "If you don't know the answer, just say that you don't know. \n",
    "如果上下文中没有出现跟问题相关的信息，请直接回答不知道即可！\n",
    "Use three sentences maximum and keep the answer concise.\n",
    "Question: {question} \n",
    "Context: {context} \n",
    "Answer:\"\"\")\n",
    "])"
   ]
  },
  {
   "cell_type": "code",
   "execution_count": 66,
   "id": "ba68cacf-75b5-4146-a9d4-b0c929d254e9",
   "metadata": {},
   "outputs": [
    {
     "name": "stdout",
     "output_type": "stream",
     "text": [
      "You are an assistant for question-answering tasks. \n",
      "Use the following pieces of retrieved context to answer the question. \n",
      "If you don't know the answer, just say that you don't know. \n",
      "如果上下文中没有出现跟问题相关的信息，请直接回答不知道即可！\n",
      "Use three sentences maximum and keep the answer concise.\n",
      "Question: 我是问题 \n",
      "Context: 我的参考上下文 \n",
      "Answer:\n"
     ]
    }
   ],
   "source": [
    "print(prompt.invoke(input={\"context\": \"我的参考上下文\", \"question\":\"我是问题\"}).messages[0].content)"
   ]
  },
  {
   "cell_type": "code",
   "execution_count": 67,
   "id": "91103473-b1bd-4119-91df-a35f44464a89",
   "metadata": {},
   "outputs": [],
   "source": [
    "# 把检索到的4条上下文的文本使用 \\n\\n 练成一个大的字符串\n",
    "def format_docs(docs):\n",
    "    return \"\\n\\n\".join(doc.page_content for doc in docs)"
   ]
  },
  {
   "cell_type": "code",
   "execution_count": 68,
   "id": "8a1feb3c-9f04-4df6-9973-3e2d4d089cd6",
   "metadata": {},
   "outputs": [],
   "source": [
    "# RAG 链\n",
    "rag_chain = (\n",
    "    {\"context\": retriever | format_docs, \n",
    "     \"question\": RunnablePassthrough()}\n",
    "    | prompt\n",
    "    | chat\n",
    "    | StrOutputParser()\n",
    ")"
   ]
  },
  {
   "cell_type": "code",
   "execution_count": 69,
   "id": "7694855c-405f-4172-9e03-b67334d91e1f",
   "metadata": {},
   "outputs": [
    {
     "data": {
      "text/plain": [
       "'Task Decomposition is a method of breaking down complex tasks into simpler, more manageable sub-tasks or steps. This can be achieved through various approaches, including using language models with specific prompts, employing task-specific instructions, or incorporating human input. The technique helps in understanding and executing complex activities by making them easier to process and solve.'"
      ]
     },
     "execution_count": 69,
     "metadata": {},
     "output_type": "execute_result"
    }
   ],
   "source": [
    "rag_chain.invoke(input=\"What is Task Decomposition?\")"
   ]
  },
  {
   "cell_type": "code",
   "execution_count": 70,
   "id": "e78b99cd-d895-42a2-83c9-6a1e032da02f",
   "metadata": {},
   "outputs": [
    {
     "data": {
      "text/plain": [
       "'中国的首都是北京。'"
      ]
     },
     "execution_count": 70,
     "metadata": {},
     "output_type": "execute_result"
    }
   ],
   "source": [
    "# 问一个无关问题，大模型不会回答\n",
    "rag_chain.invoke(input=\"中国的首都在哪里？\")"
   ]
  },
  {
   "cell_type": "code",
   "execution_count": 71,
   "id": "159eb0df-209a-47eb-b1bc-064611ec4580",
   "metadata": {},
   "outputs": [
    {
     "data": {
      "text/plain": [
       "AIMessage(content='中国的首都是北京。', response_metadata={'model_name': 'qwen-max', 'finish_reason': 'stop', 'request_id': 'd44ddc45-6e40-99d6-80b9-52acafbc8448', 'token_usage': {'input_tokens': 13, 'output_tokens': 5, 'total_tokens': 18}}, id='run-7fce99f3-da6b-4904-9356-1a97a4f64039-0')"
      ]
     },
     "execution_count": 71,
     "metadata": {},
     "output_type": "execute_result"
    }
   ],
   "source": [
    "chat.invoke(input=\"中国的首都在哪里？\")"
   ]
  },
  {
   "cell_type": "code",
   "execution_count": null,
   "id": "a40e2bad-8a84-411a-9a7f-d6d348b0a035",
   "metadata": {},
   "outputs": [],
   "source": []
  },
  {
   "cell_type": "code",
   "execution_count": null,
   "id": "7ef73e3e-79a3-41f6-b67b-cf748e328842",
   "metadata": {},
   "outputs": [],
   "source": []
  },
  {
   "cell_type": "code",
   "execution_count": null,
   "id": "99301adf-6020-40be-a0b2-4608e4716015",
   "metadata": {},
   "outputs": [],
   "source": []
  },
  {
   "cell_type": "code",
   "execution_count": null,
   "id": "1ff83d07-b81b-46a0-94d4-ce985c850fac",
   "metadata": {},
   "outputs": [],
   "source": []
  },
  {
   "cell_type": "code",
   "execution_count": null,
   "id": "a88a917e-0c16-4081-b1cb-b510ec2729dc",
   "metadata": {},
   "outputs": [],
   "source": []
  },
  {
   "cell_type": "code",
   "execution_count": null,
   "id": "35e70773-1923-4336-ba7c-c5b0665a2df4",
   "metadata": {},
   "outputs": [],
   "source": []
  },
  {
   "cell_type": "code",
   "execution_count": null,
   "id": "767bfd3d-121c-4e5e-8b40-4eac07ceaa76",
   "metadata": {},
   "outputs": [],
   "source": []
  },
  {
   "cell_type": "code",
   "execution_count": null,
   "id": "09814a8d-d73a-438b-a1f4-5e76dc633acf",
   "metadata": {},
   "outputs": [],
   "source": []
  },
  {
   "cell_type": "code",
   "execution_count": null,
   "id": "784621b9-7990-4d9b-a7b0-7a3915149aff",
   "metadata": {},
   "outputs": [],
   "source": []
  }
 ],
 "metadata": {
  "kernelspec": {
   "display_name": "Python 3 (ipykernel)",
   "language": "python",
   "name": "python3"
  },
  "language_info": {
   "codemirror_mode": {
    "name": "ipython",
    "version": 3
   },
   "file_extension": ".py",
   "mimetype": "text/x-python",
   "name": "python",
   "nbconvert_exporter": "python",
   "pygments_lexer": "ipython3",
   "version": "3.12.4"
  }
 },
 "nbformat": 4,
 "nbformat_minor": 5
}
