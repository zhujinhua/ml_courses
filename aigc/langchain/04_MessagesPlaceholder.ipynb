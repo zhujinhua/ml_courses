{
 "cells": [
  {
   "cell_type": "markdown",
   "id": "97c60c80-187a-410e-a591-b6583a54ad49",
   "metadata": {},
   "source": [
    "### 1. 连接大模型"
   ]
  },
  {
   "cell_type": "code",
   "execution_count": 1,
   "id": "3daed336-6f28-4432-abda-47fe194972f2",
   "metadata": {},
   "outputs": [],
   "source": [
    "from utils import get_qwen_models"
   ]
  },
  {
   "cell_type": "code",
   "execution_count": 3,
   "id": "6216208f-d8db-4f1c-9424-dc2225285db3",
   "metadata": {},
   "outputs": [],
   "source": [
    "llm, chat, embed = get_qwen_models()"
   ]
  },
  {
   "cell_type": "markdown",
   "id": "19c5a5b3-e96d-4b30-ba11-fa43ab4aa98c",
   "metadata": {},
   "source": [
    "### 2. MessagesPlaceholder"
   ]
  },
  {
   "cell_type": "code",
   "execution_count": 4,
   "id": "4608fba7-0b41-4698-8d2e-395505e670c0",
   "metadata": {},
   "outputs": [],
   "source": [
    "from langchain_core.prompts import ChatPromptTemplate\n",
    "from langchain_core.prompts import SystemMessagePromptTemplate\n",
    "from langchain_core.prompts import HumanMessagePromptTemplate\n",
    "from langchain_core.prompts import MessagesPlaceholder"
   ]
  },
  {
   "cell_type": "code",
   "execution_count": 5,
   "id": "69606e90-19a2-4663-8264-33afe0750c70",
   "metadata": {},
   "outputs": [],
   "source": [
    "from langchain_core.messages import SystemMessage\n",
    "from langchain_core.messages import HumanMessage\n",
    "from langchain_core.messages import AIMessage"
   ]
  },
  {
   "cell_type": "markdown",
   "id": "42993117-5a96-40a7-99ce-468b4d16eb98",
   "metadata": {},
   "source": [
    "### 3. 总结链 "
   ]
  },
  {
   "cell_type": "code",
   "execution_count": 6,
   "id": "c3f57b42-2a94-462b-b0ca-bcf5e78169be",
   "metadata": {},
   "outputs": [],
   "source": [
    "messages = [\n",
    "    SystemMessagePromptTemplate.from_template(template=\"你是一个文本摘要机器人，请使用不超过{num}个字的篇幅来总结以下的对话！\"),\n",
    "    MessagesPlaceholder(variable_name=\"context\"),\n",
    "    HumanMessagePromptTemplate.from_template(template=\"###请开始总结上面的对话\")  \n",
    "]"
   ]
  },
  {
   "cell_type": "code",
   "execution_count": 7,
   "id": "5fc7e08b-7919-4f93-8084-5bb274d84d9e",
   "metadata": {},
   "outputs": [
    {
     "data": {
      "text/plain": [
       "[SystemMessagePromptTemplate(prompt=PromptTemplate(input_variables=['num'], template='你是一个文本摘要机器人，请使用不超过{num}个字的篇幅来总结以下的对话！')),\n",
       " MessagesPlaceholder(variable_name='context'),\n",
       " HumanMessagePromptTemplate(prompt=PromptTemplate(input_variables=[], template='###请开始总结上面的对话'))]"
      ]
     },
     "execution_count": 7,
     "metadata": {},
     "output_type": "execute_result"
    }
   ],
   "source": [
    "messages"
   ]
  },
  {
   "cell_type": "code",
   "execution_count": 9,
   "id": "ccbe6c27-fd70-4193-83dc-81320cd7eb3d",
   "metadata": {},
   "outputs": [],
   "source": [
    "prompt = ChatPromptTemplate.from_messages(messages=messages)"
   ]
  },
  {
   "cell_type": "code",
   "execution_count": 10,
   "id": "5f86c64a-d4cc-4e91-9d99-2ef3b19d0237",
   "metadata": {},
   "outputs": [
    {
     "data": {
      "text/plain": [
       "ChatPromptTemplate(input_variables=['context', 'num'], input_types={'context': typing.List[typing.Union[langchain_core.messages.ai.AIMessage, langchain_core.messages.human.HumanMessage, langchain_core.messages.chat.ChatMessage, langchain_core.messages.system.SystemMessage, langchain_core.messages.function.FunctionMessage, langchain_core.messages.tool.ToolMessage]]}, messages=[SystemMessagePromptTemplate(prompt=PromptTemplate(input_variables=['num'], template='你是一个文本摘要机器人，请使用不超过{num}个字的篇幅来总结以下的对话！')), MessagesPlaceholder(variable_name='context'), HumanMessagePromptTemplate(prompt=PromptTemplate(input_variables=[], template='###请开始总结上面的对话'))])"
      ]
     },
     "execution_count": 10,
     "metadata": {},
     "output_type": "execute_result"
    }
   ],
   "source": [
    "prompt"
   ]
  },
  {
   "cell_type": "code",
   "execution_count": 13,
   "id": "8710038d-b43f-4b67-9147-0ba67f99f628",
   "metadata": {},
   "outputs": [],
   "source": [
    "user_msg = HumanMessage(content=\"如何学会开车？\")"
   ]
  },
  {
   "cell_type": "code",
   "execution_count": 18,
   "id": "3e1d40ce-5813-4c56-a6b7-bc7e1a08dc33",
   "metadata": {},
   "outputs": [
    {
     "data": {
      "text/plain": [
       "HumanMessage(content='如何学会开车？')"
      ]
     },
     "execution_count": 18,
     "metadata": {},
     "output_type": "execute_result"
    }
   ],
   "source": [
    "user_msg"
   ]
  },
  {
   "cell_type": "code",
   "execution_count": 14,
   "id": "5eb885ae-f530-46d6-8ed8-9d3c6caf808b",
   "metadata": {},
   "outputs": [],
   "source": [
    "ai_msg= chat.invoke(input=[user_msg])"
   ]
  },
  {
   "cell_type": "code",
   "execution_count": 17,
   "id": "ad4d7a1e-b52d-4d05-a127-b33111652daa",
   "metadata": {},
   "outputs": [
    {
     "name": "stdout",
     "output_type": "stream",
     "text": [
      "学习开车需要耐心、细心和系统的学习方法，以下是一些基本步骤和建议，帮助你开始学习过程：\n",
      "\n",
      "1. **理论学习**：\n",
      "   - **了解交通规则**：首先，熟悉当地的交通法规，可以通过阅读驾驶手册或参加在线课程来完成。了解交通标志、信号灯的含义，以及驾驶中的基本规则。\n",
      "   - **安全知识**：学习基本的安全驾驶知识，包括防御性驾驶技巧、应急处理方法（如爆胎、刹车失灵等）。\n",
      "\n",
      "2. **模拟练习**：\n",
      "   - 在正式上路之前，可以利用驾驶模拟器进行初步操作练习，这有助于熟悉车辆控制和基本驾驶动作，减少实际操作时的紧张感。\n",
      "\n",
      "3. **找一位好教练**：\n",
      "   - 选择一位有经验、耐心且资质合格的驾驶教练。专业的教练能提供正确的指导，及时纠正错误，确保学习过程既安全又高效。\n",
      "\n",
      "4. **基础操作练习**：\n",
      "   - 在空旷、安全的地方开始基础操作练习，如熟悉车辆各部件功能、起步、停车、换挡（如果是手动挡车）、转向、倒车等。\n",
      "\n",
      "5. **实际道路驾驶**：\n",
      "   - 在教练的陪同下，逐渐在不同道路条件下练习驾驶，包括市区道路、高速公路、夜间驾驶等，以适应各种驾驶环境。\n",
      "\n",
      "6. **观察与学习**：\n",
      "   - 在未开车时，作为乘客时注意观察其他司机的驾驶行为，学习他们的安全驾驶习惯，同时也要注意不良驾驶行为，避免自己犯同样的错误。\n",
      "\n",
      "7. **反复练习与复习**：\n",
      "   - 驾驶技能的掌握需要大量的实践。不断重复练习，尤其是对不熟练或感到困难的操作，直到能够自信、熟练地完成。\n",
      "\n",
      "8. **准备驾照考试**：\n",
      "   - 当你觉得自己准备充分后，可以报名参加驾驶考试，通常包括理论考试和实践考试。通过考试后，你将获得驾驶执照，成为合法的驾驶员。\n",
      "\n",
      "记住，安全总是第一位的。在学习过程中，保持冷静，遵循教练的指导，不要急于求成。随着时间的积累和经验的增加，你会越来越自信，成为一名合格的驾驶员。\n"
     ]
    }
   ],
   "source": [
    "print(ai_msg.content)"
   ]
  },
  {
   "cell_type": "code",
   "execution_count": 19,
   "id": "339dbcfd-bf7e-4904-8c89-1cbddcc8073a",
   "metadata": {},
   "outputs": [],
   "source": [
    "msgs = [user_msg, ai_msg]"
   ]
  },
  {
   "cell_type": "code",
   "execution_count": 20,
   "id": "92858bc2-c93a-4ff7-9820-156b2d2ca13e",
   "metadata": {},
   "outputs": [
    {
     "data": {
      "text/plain": [
       "[HumanMessage(content='如何学会开车？'),\n",
       " AIMessage(content='学习开车需要耐心、细心和系统的学习方法，以下是一些基本步骤和建议，帮助你开始学习过程：\\n\\n1. **理论学习**：\\n   - **了解交通规则**：首先，熟悉当地的交通法规，可以通过阅读驾驶手册或参加在线课程来完成。了解交通标志、信号灯的含义，以及驾驶中的基本规则。\\n   - **安全知识**：学习基本的安全驾驶知识，包括防御性驾驶技巧、应急处理方法（如爆胎、刹车失灵等）。\\n\\n2. **模拟练习**：\\n   - 在正式上路之前，可以利用驾驶模拟器进行初步操作练习，这有助于熟悉车辆控制和基本驾驶动作，减少实际操作时的紧张感。\\n\\n3. **找一位好教练**：\\n   - 选择一位有经验、耐心且资质合格的驾驶教练。专业的教练能提供正确的指导，及时纠正错误，确保学习过程既安全又高效。\\n\\n4. **基础操作练习**：\\n   - 在空旷、安全的地方开始基础操作练习，如熟悉车辆各部件功能、起步、停车、换挡（如果是手动挡车）、转向、倒车等。\\n\\n5. **实际道路驾驶**：\\n   - 在教练的陪同下，逐渐在不同道路条件下练习驾驶，包括市区道路、高速公路、夜间驾驶等，以适应各种驾驶环境。\\n\\n6. **观察与学习**：\\n   - 在未开车时，作为乘客时注意观察其他司机的驾驶行为，学习他们的安全驾驶习惯，同时也要注意不良驾驶行为，避免自己犯同样的错误。\\n\\n7. **反复练习与复习**：\\n   - 驾驶技能的掌握需要大量的实践。不断重复练习，尤其是对不熟练或感到困难的操作，直到能够自信、熟练地完成。\\n\\n8. **准备驾照考试**：\\n   - 当你觉得自己准备充分后，可以报名参加驾驶考试，通常包括理论考试和实践考试。通过考试后，你将获得驾驶执照，成为合法的驾驶员。\\n\\n记住，安全总是第一位的。在学习过程中，保持冷静，遵循教练的指导，不要急于求成。随着时间的积累和经验的增加，你会越来越自信，成为一名合格的驾驶员。', response_metadata={'model_name': 'qwen-max', 'finish_reason': 'stop', 'request_id': '1aaa78f7-571a-9f22-b562-36f352e1d04a', 'token_usage': {'input_tokens': 12, 'output_tokens': 455, 'total_tokens': 467}}, id='run-01dce805-4412-4c3a-92da-8da8d7424fb3-0')]"
      ]
     },
     "execution_count": 20,
     "metadata": {},
     "output_type": "execute_result"
    }
   ],
   "source": [
    "msgs"
   ]
  },
  {
   "cell_type": "code",
   "execution_count": 21,
   "id": "86b89c8c-2c0a-4099-9ab8-ad084da1547c",
   "metadata": {},
   "outputs": [],
   "source": [
    "chain = prompt | chat"
   ]
  },
  {
   "cell_type": "code",
   "execution_count": 23,
   "id": "45a09794-c57a-4fcd-a66f-33ee38949806",
   "metadata": {},
   "outputs": [],
   "source": [
    "result = chain.invoke(input={\"num\": 100, \"context\": [user_msg, ai_msg]})"
   ]
  },
  {
   "cell_type": "code",
   "execution_count": 25,
   "id": "2eb0c7cb-78e7-4a21-b385-528da393f8a7",
   "metadata": {},
   "outputs": [
    {
     "name": "stdout",
     "output_type": "stream",
     "text": [
      "学习开车需从理论到实践，步骤包括：1.学习交通规则与安全知识；2.利用模拟器初步练习；3.选择合格教练指导；4.基础操作熟练掌握；5.逐步进行实际道路驾驶训练；6.观察他人，学习良好驾驶习惯；7.持续练习，强化薄弱环节；8.准备并通过驾照考试。安全第一，耐心积累经验。\n"
     ]
    }
   ],
   "source": [
    "print(result.content)"
   ]
  },
  {
   "cell_type": "markdown",
   "id": "f0b4696f-bead-461a-a2a1-1722537a3ed7",
   "metadata": {},
   "source": [
    "### 4. FewShotChatMessagePromptTemplate"
   ]
  },
  {
   "cell_type": "code",
   "execution_count": 26,
   "id": "0cc142b0-eb6f-4d06-8a7c-f369a183abd4",
   "metadata": {},
   "outputs": [],
   "source": [
    "from langchain_core.prompts import ChatPromptTemplate\n",
    "from langchain_core.prompts import FewShotChatMessagePromptTemplate"
   ]
  },
  {
   "cell_type": "code",
   "execution_count": 64,
   "id": "4b942d18-5666-458e-88b5-2b18943d5b1d",
   "metadata": {},
   "outputs": [],
   "source": [
    "examples = [\n",
    "    {\"in\": \"1 * 1\", \"out\": \"2\"},\n",
    "    {\"in\": \"2 * 3\", \"out\": \"5\"},\n",
    "    {\"in\": \"5 * 4\", \"out\": \"9\"},\n",
    "    {\"in\": \"7 * 2\", \"out\": \"9\"},\n",
    "    {\"in\": \"4 * 2\", \"out\": \"6\"},\n",
    "    {\"in\": \"3 * 2\", \"out\": \"5\"}\n",
    "]"
   ]
  },
  {
   "cell_type": "code",
   "execution_count": 65,
   "id": "e5979db8-5ad1-49cf-8481-88c667151023",
   "metadata": {},
   "outputs": [],
   "source": [
    "example_prompt = ChatPromptTemplate.from_messages(\n",
    "    messages=[\n",
    "        (\"human\", \"{in}\"),\n",
    "        (\"ai\", \"{out}\")\n",
    "    ]\n",
    ")"
   ]
  },
  {
   "cell_type": "code",
   "execution_count": 66,
   "id": "0420468f-dc86-40fa-98f4-e51657a7ec23",
   "metadata": {},
   "outputs": [
    {
     "data": {
      "text/plain": [
       "ChatPromptTemplate(input_variables=['in', 'out'], messages=[HumanMessagePromptTemplate(prompt=PromptTemplate(input_variables=['in'], template='{in}')), AIMessagePromptTemplate(prompt=PromptTemplate(input_variables=['out'], template='{out}'))])"
      ]
     },
     "execution_count": 66,
     "metadata": {},
     "output_type": "execute_result"
    }
   ],
   "source": [
    "example_prompt"
   ]
  },
  {
   "cell_type": "code",
   "execution_count": 67,
   "id": "e7dd04b1-b722-4d99-b4bf-530e96e64b8d",
   "metadata": {},
   "outputs": [],
   "source": [
    "few_shot_prompt = FewShotChatMessagePromptTemplate(examples=examples, \n",
    "                                             example_prompt=example_prompt)"
   ]
  },
  {
   "cell_type": "code",
   "execution_count": 68,
   "id": "f88d8a43-d6d0-41be-bc3d-fad4bfb7b756",
   "metadata": {},
   "outputs": [],
   "source": [
    "final_prompt = ChatPromptTemplate.from_messages(\n",
    "            [\n",
    "                ('system', '请学习我给定的样例，并据此回答我提出的问题：\\n\"\"\"'),\n",
    "                few_shot_prompt,\n",
    "                ('human', '\"\"\"\\n{input}'),\n",
    "            ]\n",
    "        )"
   ]
  },
  {
   "cell_type": "code",
   "execution_count": 69,
   "id": "1745f98f-439e-4d5e-853b-7e39730bf622",
   "metadata": {},
   "outputs": [],
   "source": [
    "chain = final_prompt | chat"
   ]
  },
  {
   "cell_type": "code",
   "execution_count": 70,
   "id": "d63377bd-f5e8-4406-bc9b-0d7bb0eed3ba",
   "metadata": {},
   "outputs": [
    {
     "data": {
      "text/plain": [
       "AIMessage(content='11', response_metadata={'model_name': 'qwen-max', 'finish_reason': 'stop', 'request_id': '270e47c6-270c-91e3-8de5-035e55719423', 'token_usage': {'input_tokens': 124, 'output_tokens': 2, 'total_tokens': 126}}, id='run-39d1e6ce-2679-40b7-968b-92f67d645c72-0')"
      ]
     },
     "execution_count": 70,
     "metadata": {},
     "output_type": "execute_result"
    }
   ],
   "source": [
    "chain.invoke(input={\"input\":\"4 * 5\"})"
   ]
  },
  {
   "cell_type": "code",
   "execution_count": null,
   "id": "44ab74eb-9392-4e3d-a1c4-41b4db6a4c08",
   "metadata": {},
   "outputs": [],
   "source": []
  }
 ],
 "metadata": {
  "kernelspec": {
   "display_name": "Python 3 (ipykernel)",
   "language": "python",
   "name": "python3"
  },
  "language_info": {
   "codemirror_mode": {
    "name": "ipython",
    "version": 3
   },
   "file_extension": ".py",
   "mimetype": "text/x-python",
   "name": "python",
   "nbconvert_exporter": "python",
   "pygments_lexer": "ipython3",
   "version": "3.12.4"
  }
 },
 "nbformat": 4,
 "nbformat_minor": 5
}
