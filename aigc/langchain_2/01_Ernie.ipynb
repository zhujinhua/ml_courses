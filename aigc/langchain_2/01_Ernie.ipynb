{
 "cells": [
  {
   "cell_type": "markdown",
   "id": "5ce7a264-9277-4301-a4f5-0c7ddb7fdaa9",
   "metadata": {},
   "source": [
    "### 1. 引入必要的langchan集成包"
   ]
  },
  {
   "cell_type": "code",
   "execution_count": 3,
   "id": "373b5b4e-1ef1-400d-ade2-566321cae9fb",
   "metadata": {},
   "outputs": [],
   "source": [
    "# LLM 大语言模型（单轮对话版）\n",
    "from langchain_community.llms import QianfanLLMEndpoint\n",
    "# Chat 聊天版大模型（支持多轮对话）\n",
    "from langchain_community.chat_models import QianfanChatEndpoint\n",
    "# Embeddings 嵌入模型\n",
    "from langchain_community.embeddings import QianfanEmbeddingsEndpoint"
   ]
  },
  {
   "cell_type": "markdown",
   "id": "e0301b5b-b39c-4b18-809f-09e6eb01a55d",
   "metadata": {},
   "source": [
    "### 2. 连接大模型"
   ]
  },
  {
   "cell_type": "code",
   "execution_count": 4,
   "id": "4e7f1e24-bbf1-44b1-9c99-5710998feccc",
   "metadata": {},
   "outputs": [
    {
     "data": {
      "text/plain": [
       "True"
      ]
     },
     "execution_count": 4,
     "metadata": {},
     "output_type": "execute_result"
    }
   ],
   "source": [
    "from dotenv import load_dotenv\n",
    "load_dotenv(dotenv_path=\".ernie\")"
   ]
  },
  {
   "cell_type": "code",
   "execution_count": 5,
   "id": "3a9f497b-a66b-43fe-98f5-0f9416bf7c67",
   "metadata": {},
   "outputs": [],
   "source": [
    "llm = QianfanLLMEndpoint(model=\"ERNIE-Bot-turbo\", \n",
    "                         temperature=0.1, \n",
    "                         top_p=0.2)"
   ]
  },
  {
   "cell_type": "code",
   "execution_count": 6,
   "id": "c6df1f3d-5569-4e54-bee1-961d1982c4ab",
   "metadata": {},
   "outputs": [
    {
     "name": "stderr",
     "output_type": "stream",
     "text": [
      "[INFO][2024-08-17 09:19:26.669] oauth.py:228 [t:4244]: trying to refresh access_token for ak `66Cbfz***`\n",
      "[INFO][2024-08-17 09:19:27.004] oauth.py:243 [t:4244]: sucessfully refresh access_token\n"
     ]
    },
    {
     "data": {
      "text/plain": [
       "'您好，我是百度研发的知识增强大语言模型，中文名是文心一言，英文名是ERNIE Bot。我能够与人对话互动，回答问题，协助创作，高效便捷地帮助人们获取信息、知识和灵感。\\n\\n我可以做很多事情，比如回答各种类型的问题，提供各种信息，解释复杂概念，提供建议，等等。无论您有什么需要，希望在哪些方面获得帮助，我们都可以进行交流。'"
      ]
     },
     "execution_count": 6,
     "metadata": {},
     "output_type": "execute_result"
    }
   ],
   "source": [
    "llm.invoke(\"你是谁？\")"
   ]
  },
  {
   "cell_type": "code",
   "execution_count": 7,
   "id": "c48314a1-f9fa-44b0-b83a-b261de5a0f3a",
   "metadata": {},
   "outputs": [],
   "source": [
    "chat = QianfanChatEndpoint(model='ERNIE-Lite-8K', top_p=0.2, temperature=0.1)"
   ]
  },
  {
   "cell_type": "code",
   "execution_count": 9,
   "id": "58b605d7-7186-41a3-9456-84266fedc579",
   "metadata": {},
   "outputs": [
    {
     "data": {
      "text/plain": [
       "AIMessage(content='您好，我是百度研发的知识增强大语言模型，中文名是文心一言，英文名是ERNIE Bot。我能够与人对话互动，回答问题，协助创作，高效便捷地帮助人们获取信息、知识和灵感。\\n\\n如果您有任何问题或需要帮助，请随时告诉我，我将竭诚为您服务。', additional_kwargs={'finish_reason': '', 'request_id': 'as-hvap3jgymf', 'object': 'chat.completion', 'search_info': [], 'usage': {'prompt_tokens': 2, 'completion_tokens': 67, 'total_tokens': 69}}, response_metadata={'token_usage': {'prompt_tokens': 2, 'completion_tokens': 67, 'total_tokens': 69}, 'model_name': 'ERNIE-Lite-8K', 'finish_reason': 'stop', 'id': 'as-hvap3jgymf', 'object': 'chat.completion', 'created': 1723857667, 'result': '您好，我是百度研发的知识增强大语言模型，中文名是文心一言，英文名是ERNIE Bot。我能够与人对话互动，回答问题，协助创作，高效便捷地帮助人们获取信息、知识和灵感。\\n\\n如果您有任何问题或需要帮助，请随时告诉我，我将竭诚为您服务。', 'is_truncated': False, 'need_clear_history': False, 'usage': {'prompt_tokens': 2, 'completion_tokens': 67, 'total_tokens': 69}}, id='run-497aab3b-7895-4683-87c2-8bcef31ee352-0', usage_metadata={'input_tokens': 2, 'output_tokens': 67, 'total_tokens': 69})"
      ]
     },
     "execution_count": 9,
     "metadata": {},
     "output_type": "execute_result"
    }
   ],
   "source": [
    "chat.invoke(\"你是谁？\")"
   ]
  },
  {
   "cell_type": "code",
   "execution_count": 10,
   "id": "d1d14b87-2cee-4fad-933e-503c183f23d2",
   "metadata": {},
   "outputs": [],
   "source": [
    "embed = QianfanEmbeddingsEndpoint(model='bge-large-zh')"
   ]
  },
  {
   "cell_type": "code",
   "execution_count": 12,
   "id": "b2e1b3e3-f6bf-4a23-98b0-02d5dce25c24",
   "metadata": {
    "scrolled": true
   },
   "outputs": [],
   "source": [
    "result = embed.embed_query(\"你好\")"
   ]
  },
  {
   "cell_type": "code",
   "execution_count": null,
   "id": "2db9011b-2d1b-481c-908b-c7a4f83c33fc",
   "metadata": {},
   "outputs": [],
   "source": []
  }
 ],
 "metadata": {
  "kernelspec": {
   "display_name": "Python 3 (ipykernel)",
   "language": "python",
   "name": "python3"
  },
  "language_info": {
   "codemirror_mode": {
    "name": "ipython",
    "version": 3
   },
   "file_extension": ".py",
   "mimetype": "text/x-python",
   "name": "python",
   "nbconvert_exporter": "python",
   "pygments_lexer": "ipython3",
   "version": "3.12.4"
  }
 },
 "nbformat": 4,
 "nbformat_minor": 5
}
